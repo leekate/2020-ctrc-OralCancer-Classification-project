{
  "nbformat": 4,
  "nbformat_minor": 0,
  "metadata": {
    "accelerator": "GPU",
    "colab": {
      "name": "Number of images",
      "provenance": [],
      "collapsed_sections": [],
      "toc_visible": true,
      "include_colab_link": true
    },
    "kernelspec": {
      "display_name": "Python 3",
      "language": "python",
      "name": "python3"
    },
    "language_info": {
      "codemirror_mode": {
        "name": "ipython",
        "version": 3
      },
      "file_extension": ".py",
      "mimetype": "text/x-python",
      "name": "python",
      "nbconvert_exporter": "python",
      "pygments_lexer": "ipython3",
      "version": "3.8.3"
    }
  },
  "cells": [
    {
      "cell_type": "markdown",
      "metadata": {
        "id": "view-in-github",
        "colab_type": "text"
      },
      "source": [
        "<a href=\"https://colab.research.google.com/github/leekate/2020-ctrc-OralCancer-Classification-project/blob/master/Number_of_images.ipynb\" target=\"_parent\"><img src=\"https://colab.research.google.com/assets/colab-badge.svg\" alt=\"Open In Colab\"/></a>"
      ]
    },
    {
      "cell_type": "markdown",
      "metadata": {
        "id": "eaG0rSYYS4Fv",
        "outputId": "ebb04d27-2ce5-4f4c-df7f-d0980f974259"
      },
      "source": [
        "!pip uninstall keras\n",
        "!pip install Keras==2.2.4\n",
        "\n",
        "!pip uninstall tensorflow\n",
        "!pip install tensorflow==1.13.1"
      ]
    },
    {
      "cell_type": "code",
      "metadata": {
        "colab": {
          "base_uri": "https://localhost:8080/"
        },
        "id": "XjZvpxdttb44",
        "outputId": "fc343570-21d5-4e80-b600-c5481676eecc"
      },
      "source": [
        "from google.colab import drive\n",
        "drive.mount('/content/drive')"
      ],
      "execution_count": null,
      "outputs": [
        {
          "output_type": "stream",
          "text": [
            "Mounted at /content/drive\n"
          ],
          "name": "stdout"
        }
      ]
    },
    {
      "cell_type": "code",
      "metadata": {
        "id": "ATZ9jC5HiW_S"
      },
      "source": [
        ""
      ],
      "execution_count": null,
      "outputs": []
    },
    {
      "cell_type": "markdown",
      "metadata": {
        "id": "qs41ZPr1TMQX"
      },
      "source": [
        "## 원본 데이터 파일 갯수 확인"
      ]
    },
    {
      "cell_type": "code",
      "metadata": {
        "colab": {
          "base_uri": "https://localhost:8080/"
        },
        "id": "bDhNXLavtNVu",
        "outputId": "4d78845a-c630-4784-8298-1733e2145218"
      },
      "source": [
        "import os\n",
        "\n",
        "ori_length1= \"/content/drive/Shareddrives/CTRC/Original/train/1.Cancer\"\n",
        "ori_length2= \"/content/drive/Shareddrives/CTRC/Original/validation/1.Cancer\"\n",
        "ori_plus1= \"/content/drive/Shareddrives/CTRC/Original/test/1.Cancer\"\n",
        "\n",
        "ori_file_list1 = os.listdir(ori_length1)\n",
        "ori_file_list2 = os.listdir(ori_length2)\n",
        "ori_plus_list1 = os.listdir(ori_plus1)\n",
        "\n",
        "print(\"cancer\")\n",
        "print(len(ori_file_list1))\n",
        "print(len(ori_file_list2))\n",
        "print(len(ori_plus_list1))"
      ],
      "execution_count": null,
      "outputs": [
        {
          "output_type": "stream",
          "text": [
            "cancer\n",
            "124\n",
            "143\n",
            "143\n"
          ],
          "name": "stdout"
        }
      ]
    },
    {
      "cell_type": "code",
      "metadata": {
        "colab": {
          "base_uri": "https://localhost:8080/"
        },
        "id": "hn4xCaEUtNV7",
        "outputId": "8dbab3e0-57eb-45e6-b750-fc357f93c4f0"
      },
      "source": [
        "ori_length3= \"/content/drive/Shareddrives/CTRC/Original/train/2.Precancer\"\n",
        "ori_length4= \"/content/drive/Shareddrives/CTRC/Original/validation/2.Precancer\"\n",
        "ori_plus2= \"/content/drive/Shareddrives/CTRC/Original/test/2.Precancer\"\n",
        "\n",
        "ori_file_list3 = os.listdir(ori_length3)\n",
        "ori_file_list4 = os.listdir(ori_length4)\n",
        "ori_plus_list2 = os.listdir(ori_plus2)\n",
        "\n",
        "print(\"precancer\")\n",
        "print(len(ori_file_list3))\n",
        "print(len(ori_file_list4))\n",
        "print(len(ori_plus_list2))"
      ],
      "execution_count": null,
      "outputs": [
        {
          "output_type": "stream",
          "text": [
            "precancer\n",
            "46\n",
            "52\n",
            "52\n"
          ],
          "name": "stdout"
        }
      ]
    },
    {
      "cell_type": "code",
      "metadata": {
        "colab": {
          "base_uri": "https://localhost:8080/"
        },
        "id": "3DPAzN7ttNV9",
        "outputId": "0ae40f72-40da-40f2-8bb6-2af1160f0c2a"
      },
      "source": [
        "ori_length5 = \"/content/drive/Shareddrives/CTRC/Original/train/3.Inflammatory\"\n",
        "ori_length6 = \"/content/drive/Shareddrives/CTRC/Original/validation/3.Inflammatory\"\n",
        "ori_plus3= \"/content/drive/Shareddrives/CTRC/Original/test/3.Inflammatory\"\n",
        "\n",
        "ori_file_list5 = os.listdir(ori_length5)\n",
        "ori_file_list6 = os.listdir(ori_length6)\n",
        "ori_plus_list3 = os.listdir(ori_plus3)\n",
        "\n",
        "print(\"extra\")\n",
        "print(len(ori_file_list5))\n",
        "print(len(ori_file_list6))\n",
        "print(len(ori_plus_list3))"
      ],
      "execution_count": null,
      "outputs": [
        {
          "output_type": "stream",
          "text": [
            "extra\n",
            "79\n",
            "93\n",
            "93\n"
          ],
          "name": "stdout"
        }
      ]
    },
    {
      "cell_type": "code",
      "metadata": {
        "colab": {
          "base_uri": "https://localhost:8080/"
        },
        "id": "Tsu6PdcStNV_",
        "outputId": "bc885040-dbca-47a4-fbaa-a0186fc92b5b"
      },
      "source": [
        "ori_length7 = \"/content/drive/Shareddrives/CTRC/Original/train/4.Normal\"\n",
        "ori_length8 = \"/content/drive/Shareddrives/CTRC/Original/validation/4.Normal\"\n",
        "ori_plus4= \"/content/drive/Shareddrives/CTRC/Original/test/4.Normal\"\n",
        "\n",
        "ori_file_list7 = os.listdir(ori_length7)\n",
        "ori_file_list8 = os.listdir(ori_length8)\n",
        "ori_plus_list4 = os.listdir(ori_plus4)\n",
        "\n",
        "print(\"normal\")\n",
        "print(len(ori_file_list7))\n",
        "print(len(ori_file_list8))\n",
        "print(len(ori_plus_list4))"
      ],
      "execution_count": null,
      "outputs": [
        {
          "output_type": "stream",
          "text": [
            "normal\n",
            "455\n",
            "341\n",
            "341\n"
          ],
          "name": "stdout"
        }
      ]
    },
    {
      "cell_type": "code",
      "metadata": {
        "colab": {
          "base_uri": "https://localhost:8080/",
          "height": 204
        },
        "id": "CnWuxkL3tNWA",
        "outputId": "0d083c4c-ecf0-4d7c-a9c2-823c4a4e38e1"
      },
      "source": [
        "import pandas as pd\n",
        "\n",
        "#df = df_maker(3,4,0)  # 3X3 데이터 프레임 생성 0으로 채움\n",
        "col = [\"Train image\",\"Validation Image\",\"Test Image\",\"Total Image\"]\n",
        "ind = [\"Cancer\",\"Precancer\",\"Extra\",\"Normal\",\"TOTAL\"]\n",
        "#df.columns = col  # 컬럼 col 리스트로 덮어씌움\n",
        "#df.index = ind    # 인덱스 ind 리스트로 덮어씌움\n",
        "\n",
        "\n",
        "con = [\n",
        "       [len(ori_file_list1),len(ori_file_list2),len(ori_plus_list1),len(ori_plus_list1)+len(ori_file_list1)+len(ori_file_list2)], \n",
        "\n",
        "       [len(ori_file_list3),len(ori_file_list4),len(ori_plus_list2),len(ori_plus_list2)+len(ori_file_list3)+len(ori_file_list4)],\n",
        "\n",
        "       [len(ori_file_list5),len(ori_file_list6),len(ori_plus_list3),len(ori_plus_list3)+len(ori_file_list5)+len(ori_file_list6)],\n",
        "\n",
        "       [len(ori_file_list7),len(ori_file_list8),len(ori_plus_list4),len(ori_plus_list4)+len(ori_file_list7)+len(ori_file_list8)],\n",
        "\n",
        "        [len(ori_file_list1)+len(ori_file_list3)+len(ori_file_list5)+len(ori_file_list7),\n",
        "         len(ori_file_list2)+len(ori_file_list4)+len(ori_file_list6)+len(ori_file_list8),\n",
        "         len(ori_plus_list1)+len(ori_plus_list2)+len(ori_plus_list3)+len(ori_plus_list4),\n",
        "        len(ori_file_list1)+len(ori_file_list3)+len(ori_file_list5)+len(ori_file_list7)+len(ori_file_list2)+len(ori_file_list4)+len(ori_file_list6)+len(ori_file_list8)+len(ori_plus_list1)+len(ori_plus_list2)+len(ori_plus_list3)+len(ori_plus_list4)]\n",
        "       ]\n",
        "\n",
        "pd.DataFrame(con,columns=col, index=ind)"
      ],
      "execution_count": null,
      "outputs": [
        {
          "output_type": "execute_result",
          "data": {
            "text/html": [
              "<div>\n",
              "<style scoped>\n",
              "    .dataframe tbody tr th:only-of-type {\n",
              "        vertical-align: middle;\n",
              "    }\n",
              "\n",
              "    .dataframe tbody tr th {\n",
              "        vertical-align: top;\n",
              "    }\n",
              "\n",
              "    .dataframe thead th {\n",
              "        text-align: right;\n",
              "    }\n",
              "</style>\n",
              "<table border=\"1\" class=\"dataframe\">\n",
              "  <thead>\n",
              "    <tr style=\"text-align: right;\">\n",
              "      <th></th>\n",
              "      <th>Train image</th>\n",
              "      <th>Validation Image</th>\n",
              "      <th>Test Image</th>\n",
              "      <th>Total Image</th>\n",
              "    </tr>\n",
              "  </thead>\n",
              "  <tbody>\n",
              "    <tr>\n",
              "      <th>Cancer</th>\n",
              "      <td>124</td>\n",
              "      <td>143</td>\n",
              "      <td>143</td>\n",
              "      <td>410</td>\n",
              "    </tr>\n",
              "    <tr>\n",
              "      <th>Precancer</th>\n",
              "      <td>46</td>\n",
              "      <td>52</td>\n",
              "      <td>52</td>\n",
              "      <td>150</td>\n",
              "    </tr>\n",
              "    <tr>\n",
              "      <th>Extra</th>\n",
              "      <td>79</td>\n",
              "      <td>93</td>\n",
              "      <td>93</td>\n",
              "      <td>265</td>\n",
              "    </tr>\n",
              "    <tr>\n",
              "      <th>Normal</th>\n",
              "      <td>455</td>\n",
              "      <td>341</td>\n",
              "      <td>341</td>\n",
              "      <td>1137</td>\n",
              "    </tr>\n",
              "    <tr>\n",
              "      <th>TOTAL</th>\n",
              "      <td>704</td>\n",
              "      <td>629</td>\n",
              "      <td>629</td>\n",
              "      <td>1962</td>\n",
              "    </tr>\n",
              "  </tbody>\n",
              "</table>\n",
              "</div>"
            ],
            "text/plain": [
              "           Train image  Validation Image  Test Image  Total Image\n",
              "Cancer             124               143         143          410\n",
              "Precancer           46                52          52          150\n",
              "Extra               79                93          93          265\n",
              "Normal             455               341         341         1137\n",
              "TOTAL              704               629         629         1962"
            ]
          },
          "metadata": {
            "tags": []
          },
          "execution_count": 6
        }
      ]
    },
    {
      "cell_type": "markdown",
      "metadata": {
        "id": "iey8Fnt912HF"
      },
      "source": [
        "# 단순 증량 후 최종 파일 갯수 확인"
      ]
    },
    {
      "cell_type": "code",
      "metadata": {
        "colab": {
          "base_uri": "https://localhost:8080/"
        },
        "id": "mCzsyyBF5qxD",
        "outputId": "55fc7550-8f2a-417b-fbb2-75e4e15178c4"
      },
      "source": [
        "length1= \"/content/drive/Shareddrives/CTRC-OralDetect-Project/OriginDataGenerate/train/1.Cancer\"\n",
        "length2= \"/content/drive/Shareddrives/CTRC-OralDetect-Project/OriginDataGenerate/validation/1.Cancer\"\n",
        "plus1= \"/content/drive/Shareddrives/CTRC-OralDetect-Project/OriginDataGenerate/test/1.Cancer\"\n",
        "\n",
        "file_list1 = os.listdir(length1)\n",
        "file_list2 = os.listdir(length2)\n",
        "plus_list1 = os.listdir(plus1)\n",
        "\n",
        "print(\"cancer\")\n",
        "print(len(file_list1))\n",
        "print(len(file_list2))\n",
        "print(len(plus_list1))"
      ],
      "execution_count": null,
      "outputs": [
        {
          "output_type": "stream",
          "text": [
            "cancer\n",
            "496\n",
            "143\n",
            "143\n"
          ],
          "name": "stdout"
        }
      ]
    },
    {
      "cell_type": "code",
      "metadata": {
        "colab": {
          "base_uri": "https://localhost:8080/"
        },
        "id": "vP9b29_351jm",
        "outputId": "7bb97cc4-c36c-45c3-cfd1-2333e0e932b7"
      },
      "source": [
        "length3= \"/content/drive/Shareddrives/CTRC-OralDetect-Project/OriginDataGenerate/train/2.Precancer\"\n",
        "length4= \"/content/drive/Shareddrives/CTRC-OralDetect-Project/OriginDataGenerate/validation/2.Precancer\"\n",
        "plus2= \"/content/drive/Shareddrives/CTRC-OralDetect-Project/OriginDataGenerate/test/2.Precancer\"\n",
        "\n",
        "file_list3 = os.listdir(length3)\n",
        "file_list4 = os.listdir(length4)\n",
        "plus_list2 = os.listdir(plus2)\n",
        "\n",
        "print(\"precancer\")\n",
        "print(len(file_list3))\n",
        "print(len(file_list4))\n",
        "print(len(plus_list2))"
      ],
      "execution_count": null,
      "outputs": [
        {
          "output_type": "stream",
          "text": [
            "precancer\n",
            "184\n",
            "52\n",
            "52\n"
          ],
          "name": "stdout"
        }
      ]
    },
    {
      "cell_type": "code",
      "metadata": {
        "colab": {
          "base_uri": "https://localhost:8080/"
        },
        "id": "_f319fQE5_rT",
        "outputId": "896df3db-d298-4b2a-bda1-ef7a40f8bbb2"
      },
      "source": [
        "length5 = \"/content/drive/Shareddrives/CTRC-OralDetect-Project/OriginDataGenerate/train/3.Inflammatory\"\n",
        "length6 = \"/content/drive/Shareddrives/CTRC-OralDetect-Project/OriginDataGenerate/validation/3.Inflammatory\"\n",
        "plus3= \"/content/drive/Shareddrives/CTRC-OralDetect-Project/OriginDataGenerate/test/3.Inflammatory\"\n",
        "\n",
        "file_list5 = os.listdir(length5)\n",
        "file_list6 = os.listdir(length6)\n",
        "plus_list3 = os.listdir(plus3)\n",
        "\n",
        "print(\"extra\")\n",
        "print(len(file_list5))\n",
        "print(len(file_list6))\n",
        "print(len(plus_list3))"
      ],
      "execution_count": null,
      "outputs": [
        {
          "output_type": "stream",
          "text": [
            "extra\n",
            "316\n",
            "93\n",
            "93\n"
          ],
          "name": "stdout"
        }
      ]
    },
    {
      "cell_type": "code",
      "metadata": {
        "colab": {
          "base_uri": "https://localhost:8080/"
        },
        "id": "v7_lH9tm6HUw",
        "outputId": "fa0f306a-bc64-4e75-9f19-e835eda9eae8"
      },
      "source": [
        "length7 = \"/content/drive/Shareddrives/CTRC-OralDetect-Project/OriginDataGenerate/train/4.Normal\"\n",
        "length8 = \"/content/drive/Shareddrives/CTRC-OralDetect-Project/OriginDataGenerate/validation/4.Normal\"\n",
        "plus4= \"/content/drive/Shareddrives/CTRC-OralDetect-Project/OriginDataGenerate/test/4.Normal\"\n",
        "\n",
        "file_list7 = os.listdir(length7)\n",
        "file_list8 = os.listdir(length8)\n",
        "plus_list4 = os.listdir(plus4)\n",
        "\n",
        "print(\"normal\")\n",
        "print(len(file_list7))\n",
        "print(len(file_list8))\n",
        "print(len(plus_list4))"
      ],
      "execution_count": null,
      "outputs": [
        {
          "output_type": "stream",
          "text": [
            "normal\n",
            "1365\n",
            "341\n",
            "341\n"
          ],
          "name": "stdout"
        }
      ]
    },
    {
      "cell_type": "code",
      "metadata": {
        "id": "HFbhCcJZqyYF",
        "colab": {
          "base_uri": "https://localhost:8080/",
          "height": 197
        },
        "outputId": "4e2a9fcf-a8aa-46c2-c652-ace6d3a14412"
      },
      "source": [
        "import pandas as pd\n",
        "\n",
        "#df = df_maker(3,4,0)  # 3X3 데이터 프레임 생성 0으로 채움\n",
        "col = [\"Train image\",\"Validation Image\",\"Test Image\",\"Total Image\"]\n",
        "ind = [\"Cancer\",\"Precancer\",\"Extra\",\"Normal\",\"TOTAL\"]\n",
        "#df.columns = col  # 컬럼 col 리스트로 덮어씌움\n",
        "#df.index = ind    # 인덱스 ind 리스트로 덮어씌움\n",
        "\n",
        "\n",
        "con = [\n",
        "       [len(file_list1),len(file_list2),len(plus_list1),len(plus_list1)+len(file_list1)+len(file_list2)], \n",
        "       [len(file_list3),len(file_list4),len(plus_list2),len(plus_list2)+len(file_list3)+len(file_list4)],\n",
        "       [len(file_list5),len(file_list6),len(plus_list3),len(plus_list3)+len(file_list5)+len(file_list6)],\n",
        "       [len(file_list7),len(file_list8),len(plus_list4),len(plus_list4)+len(file_list7)+len(file_list8)],\n",
        "        [len(file_list1)+len(file_list3)+len(file_list5)+len(file_list7),\n",
        "         len(file_list2)+len(file_list4)+len(file_list6)+len(file_list8),\n",
        "         len(plus_list1)+len(plus_list2)+len(plus_list3)+len(plus_list4),\n",
        "        len(file_list1)+len(file_list3)+len(file_list5)+len(file_list7)+len(file_list2)+len(file_list4)+len(file_list6)+len(file_list8)+len(plus_list1)+len(plus_list2)+len(plus_list3)+len(plus_list4)]\n",
        "       ]\n",
        "\n",
        "pd.DataFrame(con,columns=col, index=ind)"
      ],
      "execution_count": null,
      "outputs": [
        {
          "output_type": "execute_result",
          "data": {
            "text/html": [
              "<div>\n",
              "<style scoped>\n",
              "    .dataframe tbody tr th:only-of-type {\n",
              "        vertical-align: middle;\n",
              "    }\n",
              "\n",
              "    .dataframe tbody tr th {\n",
              "        vertical-align: top;\n",
              "    }\n",
              "\n",
              "    .dataframe thead th {\n",
              "        text-align: right;\n",
              "    }\n",
              "</style>\n",
              "<table border=\"1\" class=\"dataframe\">\n",
              "  <thead>\n",
              "    <tr style=\"text-align: right;\">\n",
              "      <th></th>\n",
              "      <th>Train image</th>\n",
              "      <th>Validation Image</th>\n",
              "      <th>Test Image</th>\n",
              "      <th>Total Image</th>\n",
              "    </tr>\n",
              "  </thead>\n",
              "  <tbody>\n",
              "    <tr>\n",
              "      <th>Cancer</th>\n",
              "      <td>496</td>\n",
              "      <td>143</td>\n",
              "      <td>143</td>\n",
              "      <td>782</td>\n",
              "    </tr>\n",
              "    <tr>\n",
              "      <th>Precancer</th>\n",
              "      <td>184</td>\n",
              "      <td>52</td>\n",
              "      <td>52</td>\n",
              "      <td>288</td>\n",
              "    </tr>\n",
              "    <tr>\n",
              "      <th>Extra</th>\n",
              "      <td>316</td>\n",
              "      <td>93</td>\n",
              "      <td>93</td>\n",
              "      <td>502</td>\n",
              "    </tr>\n",
              "    <tr>\n",
              "      <th>Normal</th>\n",
              "      <td>1365</td>\n",
              "      <td>341</td>\n",
              "      <td>341</td>\n",
              "      <td>2047</td>\n",
              "    </tr>\n",
              "    <tr>\n",
              "      <th>TOTAL</th>\n",
              "      <td>2361</td>\n",
              "      <td>629</td>\n",
              "      <td>629</td>\n",
              "      <td>3619</td>\n",
              "    </tr>\n",
              "  </tbody>\n",
              "</table>\n",
              "</div>"
            ],
            "text/plain": [
              "           Train image  Validation Image  Test Image  Total Image\n",
              "Cancer             496               143         143          782\n",
              "Precancer          184                52          52          288\n",
              "Extra              316                93          93          502\n",
              "Normal            1365               341         341         2047\n",
              "TOTAL             2361               629         629         3619"
            ]
          },
          "metadata": {
            "tags": []
          },
          "execution_count": 47
        }
      ]
    },
    {
      "cell_type": "markdown",
      "metadata": {
        "id": "jjGu2HDfpERk"
      },
      "source": [
        "# 단순 증량+Contrast 후 최종 파일 갯수 확인"
      ]
    },
    {
      "cell_type": "code",
      "metadata": {
        "colab": {
          "base_uri": "https://localhost:8080/"
        },
        "id": "pFdMc_sLpERl",
        "outputId": "4044c891-b43f-4070-9dfa-f93c1f875926"
      },
      "source": [
        "length1= \"/content/drive/Shareddrives/CTRC-OralDetect-Project/Generate-Contrast/train/1.Cancer\"\n",
        "length2= \"/content/drive/Shareddrives/CTRC-OralDetect-Project/Generate-Contrast/validation/1.Cancer\"\n",
        "plus1= \"/content/drive/Shareddrives/CTRC-OralDetect-Project/Generate-Contrast/test/1.Cancer\"\n",
        "\n",
        "file_list1 = os.listdir(length1)\n",
        "file_list2 = os.listdir(length2)\n",
        "plus_list1 = os.listdir(plus1)\n",
        "\n",
        "print(\"cancer\")\n",
        "print(len(file_list1))\n",
        "print(len(file_list2))\n",
        "print(len(plus_list1))\n",
        "\n"
      ],
      "execution_count": null,
      "outputs": [
        {
          "output_type": "stream",
          "text": [
            "cancer\n",
            "496\n",
            "143\n",
            "143\n"
          ],
          "name": "stdout"
        }
      ]
    },
    {
      "cell_type": "code",
      "metadata": {
        "colab": {
          "base_uri": "https://localhost:8080/"
        },
        "id": "uuMFCfxLpERo",
        "outputId": "88e6d545-8c9a-49ac-fb01-577ddde7aa9b"
      },
      "source": [
        "length3= \"/content/drive/Shareddrives/CTRC-OralDetect-Project/Generate-Contrast/train/2.Precancer\"\n",
        "length4= \"/content/drive/Shareddrives/CTRC-OralDetect-Project/Generate-Contrast/validation/2.Precaner\"\n",
        "plus2= \"/content/drive/Shareddrives/CTRC-OralDetect-Project/Generate-Contrast/test/2.Precancer\"\n",
        "\n",
        "file_list3 = os.listdir(length3)\n",
        "file_list4 = os.listdir(length4)\n",
        "plus_list2 = os.listdir(plus2)\n",
        "\n",
        "print(\"precancer\")\n",
        "print(len(file_list3))\n",
        "print(len(file_list4))\n",
        "print(len(plus_list2))"
      ],
      "execution_count": null,
      "outputs": [
        {
          "output_type": "stream",
          "text": [
            "precancer\n",
            "184\n",
            "52\n",
            "52\n"
          ],
          "name": "stdout"
        }
      ]
    },
    {
      "cell_type": "code",
      "metadata": {
        "colab": {
          "base_uri": "https://localhost:8080/"
        },
        "id": "LWRFmvpdpERp",
        "outputId": "e066a099-014c-402f-a9dd-c2492bfd4d9e"
      },
      "source": [
        "length5 = \"/content/drive/Shareddrives/CTRC-OralDetect-Project/Generate-Contrast/train/3.Inflammatory\"\n",
        "length6 = \"/content/drive/Shareddrives/CTRC-OralDetect-Project/Generate-Contrast/validation/3.Inflammatory\"\n",
        "plus3= \"/content/drive/Shareddrives/CTRC-OralDetect-Project/Generate-Contrast/test/3.Inflammatory\"\n",
        "\n",
        "file_list5 = os.listdir(length5)\n",
        "file_list6 = os.listdir(length6)\n",
        "plus_list3 = os.listdir(plus3)\n",
        "\n",
        "print(\"extra\")\n",
        "print(len(file_list5))\n",
        "print(len(file_list6))\n",
        "print(len(plus_list3))"
      ],
      "execution_count": null,
      "outputs": [
        {
          "output_type": "stream",
          "text": [
            "extra\n",
            "316\n",
            "93\n",
            "93\n"
          ],
          "name": "stdout"
        }
      ]
    },
    {
      "cell_type": "code",
      "metadata": {
        "colab": {
          "base_uri": "https://localhost:8080/"
        },
        "id": "MsAek9PWpERp",
        "outputId": "b9653388-1a4b-4f49-ff8e-5097ac2ef55a"
      },
      "source": [
        "length7 = \"/content/drive/Shareddrives/CTRC-OralDetect-Project/Generate-Contrast/train/4.Normal\"\n",
        "length8 = \"/content/drive/Shareddrives/CTRC-OralDetect-Project/Generate-Contrast/validation/4.Normal\"\n",
        "plus4= \"/content/drive/Shareddrives/CTRC-OralDetect-Project/Generate-Contrast/test/4.Normal\"\n",
        "\n",
        "file_list7 = os.listdir(length7)\n",
        "file_list8 = os.listdir(length8)\n",
        "plus_list4 = os.listdir(plus4)\n",
        "\n",
        "print(\"normal\")\n",
        "print(len(file_list7))\n",
        "print(len(file_list8))\n",
        "print(len(plus_list4))"
      ],
      "execution_count": null,
      "outputs": [
        {
          "output_type": "stream",
          "text": [
            "normal\n",
            "1365\n",
            "341\n",
            "341\n"
          ],
          "name": "stdout"
        }
      ]
    },
    {
      "cell_type": "code",
      "metadata": {
        "colab": {
          "base_uri": "https://localhost:8080/",
          "height": 197
        },
        "id": "vMr9WJY0pERq",
        "outputId": "9a4b54e2-c3db-4de5-d657-06c0704d99ef"
      },
      "source": [
        "import pandas as pd\n",
        "\n",
        "#df = df_maker(3,4,0)  # 3X3 데이터 프레임 생성 0으로 채움\n",
        "col = [\"Train image\",\"Validation Image\",\"Test Image\",\"Total Image\"]\n",
        "ind = [\"Cancer\",\"Precancer\",\"Extra\",\"Normal\",\"TOTAL\"]\n",
        "#df.columns = col  # 컬럼 col 리스트로 덮어씌움\n",
        "#df.index = ind    # 인덱스 ind 리스트로 덮어씌움\n",
        "\n",
        "\n",
        "con = [\n",
        "       [len(file_list1),len(file_list2),len(plus_list1),len(plus_list1)+len(file_list1)+len(file_list2)], \n",
        "       [len(file_list3),len(file_list4),len(plus_list2),len(plus_list2)+len(file_list3)+len(file_list4)],\n",
        "       [len(file_list5),len(file_list6),len(plus_list3),len(plus_list3)+len(file_list5)+len(file_list6)],\n",
        "       [len(file_list7),len(file_list8),len(plus_list4),len(plus_list4)+len(file_list7)+len(file_list8)],\n",
        "        [len(file_list1)+len(file_list3)+len(file_list5)+len(file_list7),\n",
        "         len(file_list2)+len(file_list4)+len(file_list6)+len(file_list8),\n",
        "         len(plus_list1)+len(plus_list2)+len(plus_list3)+len(plus_list4),\n",
        "        len(file_list1)+len(file_list3)+len(file_list5)+len(file_list7)+len(file_list2)+len(file_list4)+len(file_list6)+len(file_list8)+len(plus_list1)+len(plus_list2)+len(plus_list3)+len(plus_list4)]\n",
        "       ]\n",
        "\n",
        "pd.DataFrame(con,columns=col, index=ind)"
      ],
      "execution_count": null,
      "outputs": [
        {
          "output_type": "execute_result",
          "data": {
            "text/html": [
              "<div>\n",
              "<style scoped>\n",
              "    .dataframe tbody tr th:only-of-type {\n",
              "        vertical-align: middle;\n",
              "    }\n",
              "\n",
              "    .dataframe tbody tr th {\n",
              "        vertical-align: top;\n",
              "    }\n",
              "\n",
              "    .dataframe thead th {\n",
              "        text-align: right;\n",
              "    }\n",
              "</style>\n",
              "<table border=\"1\" class=\"dataframe\">\n",
              "  <thead>\n",
              "    <tr style=\"text-align: right;\">\n",
              "      <th></th>\n",
              "      <th>Train image</th>\n",
              "      <th>Validation Image</th>\n",
              "      <th>Test Image</th>\n",
              "      <th>Total Image</th>\n",
              "    </tr>\n",
              "  </thead>\n",
              "  <tbody>\n",
              "    <tr>\n",
              "      <th>Cancer</th>\n",
              "      <td>496</td>\n",
              "      <td>143</td>\n",
              "      <td>143</td>\n",
              "      <td>782</td>\n",
              "    </tr>\n",
              "    <tr>\n",
              "      <th>Precancer</th>\n",
              "      <td>184</td>\n",
              "      <td>52</td>\n",
              "      <td>52</td>\n",
              "      <td>288</td>\n",
              "    </tr>\n",
              "    <tr>\n",
              "      <th>Extra</th>\n",
              "      <td>316</td>\n",
              "      <td>93</td>\n",
              "      <td>93</td>\n",
              "      <td>502</td>\n",
              "    </tr>\n",
              "    <tr>\n",
              "      <th>Normal</th>\n",
              "      <td>1365</td>\n",
              "      <td>341</td>\n",
              "      <td>341</td>\n",
              "      <td>2047</td>\n",
              "    </tr>\n",
              "    <tr>\n",
              "      <th>TOTAL</th>\n",
              "      <td>2361</td>\n",
              "      <td>629</td>\n",
              "      <td>629</td>\n",
              "      <td>3619</td>\n",
              "    </tr>\n",
              "  </tbody>\n",
              "</table>\n",
              "</div>"
            ],
            "text/plain": [
              "           Train image  Validation Image  Test Image  Total Image\n",
              "Cancer             496               143         143          782\n",
              "Precancer          184                52          52          288\n",
              "Extra              316                93          93          502\n",
              "Normal            1365               341         341         2047\n",
              "TOTAL             2361               629         629         3619"
            ]
          },
          "metadata": {
            "tags": []
          },
          "execution_count": 58
        }
      ]
    },
    {
      "cell_type": "code",
      "metadata": {
        "id": "LaeMhNZwp8Me"
      },
      "source": [
        ""
      ],
      "execution_count": null,
      "outputs": []
    }
  ]
}