{
  "nbformat": 4,
  "nbformat_minor": 0,
  "metadata": {
    "colab": {
      "name": "Oral_Detect_mask and SVM.ipynb",
      "provenance": [],
      "collapsed_sections": [],
      "toc_visible": true,
      "mount_file_id": "10k9TaaRUp_oQYYo4JOeSba5phq4oWnsn",
      "authorship_tag": "ABX9TyMnwUqBesBTGni3XNLsaLF5",
      "include_colab_link": true
    },
    "kernelspec": {
      "name": "python3",
      "display_name": "Python 3"
    },
    "accelerator": "GPU"
  },
  "cells": [
    {
      "cell_type": "markdown",
      "metadata": {
        "id": "view-in-github",
        "colab_type": "text"
      },
      "source": [
        "<a href=\"https://colab.research.google.com/github/leekate/2020-ctrc-OralCancer-Classification-project/blob/master/Oral_Detect_mask_and_SVM.ipynb\" target=\"_parent\"><img src=\"https://colab.research.google.com/assets/colab-badge.svg\" alt=\"Open In Colab\"/></a>"
      ]
    },
    {
      "cell_type": "markdown",
      "metadata": {
        "id": "FovxN0cOiiVW"
      },
      "source": [
        "# segmentation\n",
        "https://deep-eye.tistory.com/4"
      ]
    },
    {
      "cell_type": "markdown",
      "metadata": {
        "id": "mGVTDWFDqaNH"
      },
      "source": [
        "# mask detection\n",
        "http://machinelearningkorea.com/2019/09/13/open-image-dataset으로-보는-mask-rcnn-파이썬-치트코드/"
      ]
    },
    {
      "cell_type": "markdown",
      "metadata": {
        "id": "mxhZOyZSr2Zk"
      },
      "source": [
        "#  착용하는 마스크 검출 대신 구강암 검출\n",
        "https://electronicprogrammers.com/13\n",
        "\n",
        "1) opencv를 이용해서 이미지 불러오기\n",
        "\n",
        "\n",
        "2) 얼굴 검출을 통해서 얼굴 사진만을 데이터로 사용하기\n",
        "\n",
        "\n",
        "3) ImageNet (ResNet50)을 이용해서 이미지에서 특성을 추출하기\n",
        "\n",
        "4) 추출된 특성에서 주성분 분석을 통해서 Vector 만들기\n",
        "\n",
        "5) 해당 Vector를 이용해서 SVM 만들고 학습시키기\n"
      ]
    },
    {
      "cell_type": "code",
      "metadata": {
        "colab": {
          "base_uri": "https://localhost:8080/"
        },
        "id": "udgIP9HxsapI",
        "outputId": "7f987cc3-6151-46e0-e9a2-b2c19e158c30"
      },
      "source": [
        "import cv2\n",
        "import os \n",
        "\n",
        "nomral_ori=\"/content/drive/Shareddrives/CTRC-OralDetect-Project/Original/total/4.Normal\"\n",
        "\n",
        "file_list_ori = os.listdir(nomral_ori)\n",
        "# print (\"file_list: {}\".format(file_list))\n",
        "n=len(file_list_ori)\n",
        "print(\"n=%d\"%(n))\n",
        "# print(file_list[0])\n"
      ],
      "execution_count": 1,
      "outputs": [
        {
          "output_type": "stream",
          "text": [
            "n=1137\n"
          ],
          "name": "stdout"
        }
      ]
    },
    {
      "cell_type": "code",
      "metadata": {
        "id": "MtJMHbTRqlkX"
      },
      "source": [
        "# from google.colab.patches import cv2_imshow\n",
        "\n",
        "# for i in range(1137):\n",
        "#   img=cv2.imread(\"/content/drive/Shareddrives/CTRC-OralDetect-Project/Original/total/4.Normal/{}\".format(file_list_ori[i]))\n",
        "#   # 이미지 크기 변환\n",
        "#   img = cv2.resize(img, dsize=(320,320), interpolation=cv2.INTER_LINEAR)\n",
        "#   # 이미지 그레이스케일 변환\n",
        "#   img = cv2.cvtColor(img,cv2.COLOR_BGR2GRAY)\n",
        "\n",
        "#   cv2.imwrite('/content/drive/Shareddrives/CTRC-OralDetect-Project/Mask/normal_oral/{}'.format(file_list_ori[i]),img)\n",
        "#   cv2_imshow(img)\n",
        "#   cv2.waitKey(0)\n",
        "#   cv2.destroyAllWindows()"
      ],
      "execution_count": 2,
      "outputs": []
    },
    {
      "cell_type": "code",
      "metadata": {
        "colab": {
          "base_uri": "https://localhost:8080/"
        },
        "id": "pkbCMfcXxveA",
        "outputId": "5e8014bf-e45e-4193-91e7-0e90e0576de5"
      },
      "source": [
        "normal_oral=\"/content/drive/Shareddrives/CTRC-OralDetect-Project/Mask/normal_oral\"\n",
        "\n",
        "file_list_oral = os.listdir(normal_oral)\n",
        "# print (\"file_list: {}\".format(normal_oral))\n",
        "m=len(file_list_oral)\n",
        "print(\"n=%d\"%(m))"
      ],
      "execution_count": 3,
      "outputs": [
        {
          "output_type": "stream",
          "text": [
            "n=1137\n"
          ],
          "name": "stdout"
        }
      ]
    },
    {
      "cell_type": "code",
      "metadata": {
        "id": "MeWX7z6nyGZM"
      },
      "source": [
        "# import matplotlib.pyplot as plt\n",
        "# import numpy as np\n",
        "\n",
        "\n",
        "# rand_Idx=np.random.chioce(1137)\n",
        "# print(\"BGR image, Index: %d\" %rand_Idx)\n",
        "# plt.imshow(normal_oral[rand_Idx])"
      ],
      "execution_count": 4,
      "outputs": []
    },
    {
      "cell_type": "markdown",
      "metadata": {
        "id": "7mQZ80HC0Igb"
      },
      "source": [
        "다음은 암이 있는 경우"
      ]
    },
    {
      "cell_type": "code",
      "metadata": {
        "colab": {
          "base_uri": "https://localhost:8080/"
        },
        "id": "Tx5PbY6d0MC0",
        "outputId": "33f87f85-c5df-49eb-9cf9-b293a4304be3"
      },
      "source": [
        "import cv2\n",
        "import os \n",
        "\n",
        "cancer_ori=\"/content/drive/Shareddrives/CTRC-OralDetect-Project/Original/total/1.Cancer\"\n",
        "\n",
        "file_list = os.listdir(cancer_ori)\n",
        "# print (\"file_list: {}\".format(file_list))\n",
        "n=len(file_list)\n",
        "print(\"n=%d\"%(n))\n",
        "# print(file_list[0])"
      ],
      "execution_count": 5,
      "outputs": [
        {
          "output_type": "stream",
          "text": [
            "n=410\n"
          ],
          "name": "stdout"
        }
      ]
    },
    {
      "cell_type": "code",
      "metadata": {
        "id": "AxqvLnF50S5d"
      },
      "source": [
        "# from google.colab.patches import cv2_imshow\n",
        "\n",
        "# for i in range(1137):\n",
        "#   img=cv2.imread(\"/content/drive/Shareddrives/CTRC-OralDetect-Project/Original/total/1.Cancer/{}\".format(file_list[i]))\n",
        "#   # 이미지 크기 변환\n",
        "#   img = cv2.resize(img, dsize=(320,320), interpolation=cv2.INTER_LINEAR)\n",
        "#   # 이미지 그레이스케일 변환\n",
        "#   img = cv2.cvtColor(img,cv2.COLOR_BGR2GRAY)\n",
        "\n",
        "#   cv2.imwrite('/content/drive/Shareddrives/CTRC-OralDetect-Project/Mask/cancer_oral/{}'.format(file_list[i]),img)\n",
        "#   cv2_imshow(img)\n",
        "#   cv2.waitKey(0)\n",
        "#   cv2.destroyAllWindows()\n"
      ],
      "execution_count": 6,
      "outputs": []
    },
    {
      "cell_type": "code",
      "metadata": {
        "colab": {
          "base_uri": "https://localhost:8080/"
        },
        "id": "Djmx7rLc0mBz",
        "outputId": "7e7223f7-e852-4e98-c9ea-6542ae01bbfa"
      },
      "source": [
        "import cv2\n",
        "import os \n",
        "\n",
        "cancer_oral=\"/content/drive/Shareddrives/CTRC-OralDetect-Project/Mask/cancer_oral\"\n",
        "\n",
        "file_list = os.listdir(cancer_oral)\n",
        "# print (\"file_list: {}\".format(file_list))\n",
        "n=len(file_list)\n",
        "print(\"n=%d\"%(n))\n",
        "# print(file_list[0])"
      ],
      "execution_count": 7,
      "outputs": [
        {
          "output_type": "stream",
          "text": [
            "n=410\n"
          ],
          "name": "stdout"
        }
      ]
    },
    {
      "cell_type": "code",
      "metadata": {
        "id": "akFdVyKa0oMU"
      },
      "source": [
        "# import matplotlib.pyplot as plt\n",
        "\n",
        "# rand_Idx=np.random.chioce(410)\n",
        "# print(\"BGR image, Index: %d\" %rand_Idx)\n",
        "# plt.imshow(cancer_oral[rand_Idx])"
      ],
      "execution_count": 8,
      "outputs": []
    },
    {
      "cell_type": "markdown",
      "metadata": {
        "id": "RUB4qugS0zJ5"
      },
      "source": [
        "훈련/테스트 데이터로 분할 저장"
      ]
    },
    {
      "cell_type": "code",
      "metadata": {
        "id": "iqb5nPJ0xs3b"
      },
      "source": [
        "\n",
        "cancer_oral=\"/content/drive/Shareddrives/CTRC-OralDetect-Project/Mask/cancer_oral\"\n",
        "file_list_cancer = os.listdir(cancer_oral)\n",
        "normal_oral=\"/content/drive/Shareddrives/CTRC-OralDetect-Project/Mask/normal_oral\"\n",
        "file_list_normal = os.listdir(normal_oral)\n"
      ],
      "execution_count": 9,
      "outputs": []
    },
    {
      "cell_type": "code",
      "metadata": {
        "id": "2qyL5plI02de"
      },
      "source": [
        "def DataSplit(img,label,X_train,Y_train,X_test,Y_test):\n",
        "  length=len(img)\n",
        "  limit=int(0.7*length)\n",
        "\n",
        "  for i in range(limit):\n",
        "    X_train.append(img[i])\n",
        "    Y_train.append(label)\n",
        "\n",
        "  for i in range(limit,length):\n",
        "    X_test.append(img[i])\n",
        "    Y_test.append(label)\n"
      ],
      "execution_count": 10,
      "outputs": []
    },
    {
      "cell_type": "code",
      "metadata": {
        "id": "flmOiX6N326t"
      },
      "source": [
        "X_train=[]\n",
        "Y_train=[]\n",
        "X_test=[]\n",
        "Y_test=[]\n",
        "\n",
        "DataSplit(file_list_normal,-1,X_train,Y_train,X_test,Y_test)\n",
        "DataSplit(file_list_cancer,1,X_train,Y_train,X_test,Y_test)\n",
        "#SVM 사용 -> 정상 사진은 -1, 암 사진은 1로 label set"
      ],
      "execution_count": 11,
      "outputs": []
    },
    {
      "cell_type": "markdown",
      "metadata": {
        "id": "c2JZ5i-L4UT8"
      },
      "source": [
        "훈련 데이터 무작위로 재선정하기"
      ]
    },
    {
      "cell_type": "code",
      "metadata": {
        "id": "mrL4Yko34bwk"
      },
      "source": [
        "import random\n",
        "\n",
        "def DataShuffle(X,Y):\n",
        "  Idx_list= list(range(len(X)))\n",
        "  shuffle_list=random.sample(Idx_list,len(X))\n",
        "  \n",
        "  new_X=[]\n",
        "  new_Y=[]\n",
        "\n",
        "  for idx in shuffle_list:\n",
        "    new_X.append(X[idx])\n",
        "    new_Y.append(Y[idx])\n",
        "\n",
        "  return new_X, new_Y"
      ],
      "execution_count": 12,
      "outputs": []
    },
    {
      "cell_type": "code",
      "metadata": {
        "id": "FUqdNiru51UI"
      },
      "source": [
        "X_train,Y_train=DataShuffle(X_train,Y_train)\n",
        "X_test,Y_test=DataShuffle(X_test,Y_test)"
      ],
      "execution_count": 13,
      "outputs": []
    },
    {
      "cell_type": "code",
      "metadata": {
        "id": "HCsHgrZT6CRV"
      },
      "source": [
        "import numpy as np\n",
        "X_train=np.array(X_train)\n",
        "Y_train=np.array(Y_train)\n",
        "X_test=np.array(X_test)\n",
        "Y_test=np.array(Y_test)"
      ],
      "execution_count": 14,
      "outputs": []
    },
    {
      "cell_type": "markdown",
      "metadata": {
        "id": "DbVbR4b-6Owh"
      },
      "source": [
        "pre-trained model 불러오기"
      ]
    },
    {
      "cell_type": "code",
      "metadata": {
        "id": "qwXMebp86RcK",
        "colab": {
          "base_uri": "https://localhost:8080/"
        },
        "outputId": "aae75dc4-0fc2-4d09-d492-1716013bb6a7"
      },
      "source": [
        "from keras.applications.resnet50 import ResNet50\n",
        "import tensorflow\n",
        "\n",
        "model=ResNet50(weights='imagenet',\n",
        "               input_shape=(320,320,3),\n",
        "               include_top=False)"
      ],
      "execution_count": 15,
      "outputs": [
        {
          "output_type": "stream",
          "text": [
            "Downloading data from https://storage.googleapis.com/tensorflow/keras-applications/resnet/resnet50_weights_tf_dim_ordering_tf_kernels_notop.h5\n",
            "94773248/94765736 [==============================] - 0s 0us/step\n"
          ],
          "name": "stdout"
        }
      ]
    },
    {
      "cell_type": "code",
      "metadata": {
        "colab": {
          "base_uri": "https://localhost:8080/"
        },
        "id": "jecIXrDYzyC6",
        "outputId": "04117625-e46e-4909-8cc2-9256367ae61f"
      },
      "source": [
        "print(X_train[2])"
      ],
      "execution_count": 16,
      "outputs": [
        {
          "output_type": "stream",
          "text": [
            "nor_124.jpg\n"
          ],
          "name": "stdout"
        }
      ]
    },
    {
      "cell_type": "code",
      "metadata": {
        "colab": {
          "base_uri": "https://localhost:8080/"
        },
        "id": "-YS03Re6xADC",
        "outputId": "548e02e3-d65b-4917-9ebe-b95d89dc6288"
      },
      "source": [
        "print(\"X_train:  \",X_train)\n",
        "print(\"len(X_train):  \", len(X_train))\n",
        "print(\"X_train.shape:  \",X_train.shape)\n",
        "#X_train=np.array(X_train)\n",
        "\n",
        "print(\"===========================================================================================\")\n",
        "print(\"Y_train:  \",Y_train)\n",
        "print(\"len(Y_train):  \", len(Y_train))\n",
        "print(\"Y_train.shape:  \",Y_train.shape)\n",
        "\n",
        "print(\"===========================================================================================\")\n",
        "print(\"X_test:  \",X_test)\n",
        "print(\"len(X_test):  \", len(X_test))\n",
        "print(\"X_test.shape:  \",X_test.shape)\n",
        "\n",
        "print(\"===========================================================================================\")\n",
        "print(\"Y_test:  \",Y_test)\n",
        "print(\"len(Y_test):  \", len(Y_test))\n",
        "print(\"Y_test.shape:  \",Y_test.shape)\n"
      ],
      "execution_count": 17,
      "outputs": [
        {
          "output_type": "stream",
          "text": [
            "X_train:   ['nor_131.jpg' 'nor_308_2.jpg' 'nor_124.jpg' ... 'nor_308.jpg'\n",
            " 'nor_43.jpg' 'nor_306_1.jpg']\n",
            "len(X_train):   1082\n",
            "X_train.shape:   (1082,)\n",
            "===========================================================================================\n",
            "Y_train:   [-1 -1 -1 ... -1 -1 -1]\n",
            "len(Y_train):   1082\n",
            "Y_train.shape:   (1082,)\n",
            "===========================================================================================\n",
            "X_test:   ['can_329.jpg' 'nor_247.jpg' 'nor_393.jpg' 'nor_412.jpg' 'nor_250_5.jpg'\n",
            " 'nor_256.jpg' 'can_309.jpg' 'nor_383_1.jpg' 'nor_417.jpg' 'nor_400_1.jpg'\n",
            " 'nor_250.jpg' 'can_354.jpg' 'nor_380.jpg' 'nor_251_2.jpg' 'can_371.jpg'\n",
            " 'nor_234.jpg' 'nor_375_1.jpg' 'nor_239.jpg' 'nor_233_5.jpg' 'nor_369.jpg'\n",
            " 'can_310.jpg' 'nor_244_4.jpg' 'can_274.jpg' 'can_370.jpg' 'nor_379.jpg'\n",
            " 'nor_260.jpg' 'nor_254.jpg' 'can_315.jpg' 'nor_372_1.jpg' 'nor_378.jpg'\n",
            " 'nor_251_4.jpg' 'nor_246_5.jpg' 'nor_231.jpg' 'nor_233_6.jpg'\n",
            " 'can_374.jpg' 'nor_253.jpg' 'nor_356_1.jpg' 'can_304.jpg' 'nor_387_1.jpg'\n",
            " 'nor_230.jpg' 'can_312.jpg' 'can_382.jpg' 'nor_258_6.jpg' 'can_296.jpg'\n",
            " 'nor_249.jpg' 'nor_386_1.jpg' 'nor_235_4.jpg' 'nor_414_1.jpg'\n",
            " 'nor_237_3.jpg' 'nor_241_4.jpg' 'can_361.jpg' 'nor_259_2.jpg'\n",
            " 'nor_257_2.jpg' 'can_335.jpg' 'nor_250_6.jpg' 'can_278.jpg' 'nor_385.jpg'\n",
            " 'nor_242_2.jpg' 'nor_248.jpg' 'nor_265_1.jpg' 'can_334.jpg'\n",
            " 'nor_417_2.jpg' 'nor_259.jpg' 'nor_389.jpg' 'can_387.jpg' 'nor_245.jpg'\n",
            " 'nor_242_5.jpg' 'nor_405.jpg' 'nor_401_1.jpg' 'nor_239_6.jpg'\n",
            " 'can_376.jpg' 'nor_234_5.jpg' 'can_377.jpg' 'nor_383.jpg' 'can_275.jpg'\n",
            " 'can_306.jpg' 'nor_234_3.jpg' 'nor_397_1.jpg' 'nor_266_2.jpg'\n",
            " 'nor_251_5.jpg' 'nor_393_1.jpg' 'nor_406.jpg' 'nor_384.jpg' 'nor_408.jpg'\n",
            " 'can_319.jpg' 'can_341.jpg' 'can_349.jpg' 'nor_264_3.jpg' 'can_286.jpg'\n",
            " 'nor_240_4.jpg' 'nor_232_1.jpg' 'nor_406_1.jpg' 'nor_246.jpg'\n",
            " 'nor_358.jpg' 'nor_235.jpg' 'nor_374_1.jpg' 'nor_239_1.jpg'\n",
            " 'nor_252_1.jpg' 'can_317.jpg' 'nor_261_2.jpg' 'can_288.jpg' 'can_320.jpg'\n",
            " 'nor_247_2.jpg' 'nor_394.jpg' 'nor_366.jpg' 'nor_266.jpg' 'can_378.jpg'\n",
            " 'can_367_1.jpg' 'nor_385_2.jpg' 'nor_362_1.jpg' 'nor_244_1.jpg'\n",
            " 'nor_246_4.jpg' 'can_366.jpg' 'can_385.jpg' 'nor_243_5.jpg'\n",
            " 'nor_235_3.jpg' 'can_372.jpg' 'nor_263_1.jpg' 'nor_239_4.jpg'\n",
            " 'nor_260_2.jpg' 'can_333.jpg' 'can_369_2.jpg' 'nor_390.jpg' 'nor_236.jpg'\n",
            " 'can_345.jpg' 'nor_231_2.jpg' 'nor_388.jpg' 'nor_355.jpg' 'can_356.jpg'\n",
            " 'nor_364.jpg' 'nor_238_4.jpg' 'nor_241_7.jpg' 'nor_396_2.jpg'\n",
            " 'nor_413_2.jpg' 'nor_236_1.jpg' 'can_294.jpg' 'can_322.jpg' 'can_347.jpg'\n",
            " 'nor_361.jpg' 'nor_254_5.jpg' 'nor_363.jpg' 'nor_388_1.jpg'\n",
            " 'nor_249_1.jpg' 'nor_253_2.jpg' 'nor_244_5.jpg' 'nor_262_4.jpg'\n",
            " 'nor_259_3.jpg' 'nor_264_2.jpg' 'nor_355_1.jpg' 'nor_368.jpg'\n",
            " 'nor_262_2.jpg' 'can_287.jpg' 'nor_254_3.jpg' 'nor_412_1.jpg'\n",
            " 'nor_252.jpg' 'nor_258_3.jpg' 'nor_266_1.jpg' 'can_352.jpg' 'can_373.jpg'\n",
            " 'can_364.jpg' 'can_389_1.jpg' 'can_282.jpg' 'nor_357.jpg' 'nor_413.jpg'\n",
            " 'nor_233.jpg' 'nor_235_6.jpg' 'nor_410_1.jpg' 'nor_249_3.jpg'\n",
            " 'nor_251.jpg' 'can_357.jpg' 'nor_409.jpg' 'nor_241_3.jpg' 'nor_414_2.jpg'\n",
            " 'can_297.jpg' 'nor_415_1.jpg' 'can_390.jpg' 'nor_415_2.jpg'\n",
            " 'nor_253_4.jpg' 'nor_398_2.jpg' 'nor_234_6.jpg' 'nor_367.jpg'\n",
            " 'nor_255_3.jpg' 'can_369_1.jpg' 'nor_257_6.jpg' 'nor_399.jpg'\n",
            " 'nor_237_4.jpg' 'nor_392_1.jpg' 'nor_252_5.jpg' 'nor_255.jpg'\n",
            " 'can_276.jpg' 'nor_242.jpg' 'nor_243_3.jpg' 'can_338.jpg' 'nor_264_1.jpg'\n",
            " 'nor_374.jpg' 'nor_261_1.jpg' 'nor_237.jpg' 'can_337.jpg' 'nor_398.jpg'\n",
            " 'nor_252_3.jpg' 'nor_234_7.jpg' 'can_325.jpg' 'nor_361_1.jpg'\n",
            " 'nor_239_5.jpg' 'can_368.jpg' 'nor_253_1.jpg' 'nor_250_4.jpg'\n",
            " 'nor_385_1.jpg' 'nor_253_3.jpg' 'nor_382_1.jpg' 'nor_231_3.jpg'\n",
            " 'can_283.jpg' 'nor_263_5.jpg' 'can_301.jpg' 'nor_387.jpg' 'nor_256_3.jpg'\n",
            " 'nor_232_4.jpg' 'nor_238_3.jpg' 'can_355.jpg' 'can_336.jpg' 'can_318.jpg'\n",
            " 'nor_362.jpg' 'nor_234_4.jpg' 'nor_234_2.jpg' 'nor_237_5.jpg'\n",
            " 'nor_407.jpg' 'nor_360.jpg' 'can_359.jpg' 'can_305.jpg' 'nor_262_6.jpg'\n",
            " 'nor_243.jpg' 'nor_256_6.jpg' 'can_331.jpg' 'can_384.jpg' 'nor_236_2.jpg'\n",
            " 'nor_243_4.jpg' 'can_344.jpg' 'nor_254_1.jpg' 'nor_248_2.jpg'\n",
            " 'can_365.jpg' 'nor_262_3.jpg' 'can_381.jpg' 'nor_256_1.jpg'\n",
            " 'nor_415_3.jpg' 'nor_384_2.jpg' 'nor_260_1.jpg' 'nor_229_3.jpg'\n",
            " 'nor_384_1.jpg' 'nor_230_2.jpg' 'can_380_2.jpg' 'can_281.jpg'\n",
            " 'nor_411_2.jpg' 'nor_252_4.jpg' 'can_383.jpg' 'can_326.jpg' 'nor_402.jpg'\n",
            " 'nor_258_5.jpg' 'can_367_2.jpg' 'nor_241_2.jpg' 'can_280.jpg'\n",
            " 'nor_377.jpg' 'can_380_1.jpg' 'nor_233_2.jpg' 'nor_243_2.jpg'\n",
            " 'nor_255_4.jpg' 'nor_241_6.jpg' 'nor_243_1.jpg' 'nor_235_1.jpg'\n",
            " 'can_308.jpg' 'nor_373.jpg' 'can_302.jpg' 'nor_400.jpg' 'nor_395_1.jpg'\n",
            " 'nor_260_3.jpg' 'nor_256_2.jpg' 'can_323.jpg' 'nor_233_1.jpg'\n",
            " 'nor_240_2.jpg' 'nor_231_6.jpg' 'nor_248_1.jpg' 'can_346.jpg'\n",
            " 'nor_380_1.jpg' 'nor_233_3.jpg' 'can_313.jpg' 'can_303.jpg' 'can_295.jpg'\n",
            " 'nor_386.jpg' 'nor_265_5.jpg' 'nor_382_2.jpg' 'nor_401_2.jpg'\n",
            " 'nor_257_3.jpg' 'nor_415.jpg' 'nor_241_1.jpg' 'nor_248_3.jpg'\n",
            " 'nor_376.jpg' 'nor_234_1.jpg' 'nor_255_1.jpg' 'can_328.jpg' 'nor_232.jpg'\n",
            " 'nor_252_2.jpg' 'nor_390_1.jpg' 'nor_397.jpg' 'can_348.jpg' 'can_358.jpg'\n",
            " 'nor_391_1.jpg' 'can_291.jpg' 'can_285.jpg' 'can_391.jpg' 'nor_261.jpg'\n",
            " 'nor_258_1.jpg' 'nor_407_1.jpg' 'nor_244.jpg' 'nor_242_3.jpg'\n",
            " 'can_314.jpg' 'nor_416_2.jpg' 'can_332.jpg' 'nor_247_4.jpg' 'nor_263.jpg'\n",
            " 'nor_247_1.jpg' 'nor_386_2.jpg' 'nor_231_1.jpg' 'can_360.jpg'\n",
            " 'can_350.jpg' 'nor_232_3.jpg' 'can_330.jpg' 'nor_367_1.jpg'\n",
            " 'nor_244_3.jpg' 'can_375.jpg' 'nor_413_1.jpg' 'nor_236_3.jpg'\n",
            " 'nor_238.jpg' 'nor_233_4.jpg' 'nor_249_2.jpg' 'nor_258_4.jpg'\n",
            " 'nor_416_3.jpg' 'nor_391.jpg' 'nor_235_5.jpg' 'nor_229_4.jpg'\n",
            " 'can_343.jpg' 'nor_246_1.jpg' 'nor_231_5.jpg' 'nor_358_1.jpg'\n",
            " 'nor_396.jpg' 'nor_408_1.jpg' 'nor_372.jpg' 'nor_261_3.jpg'\n",
            " 'can_389_2.jpg' 'nor_257_4.jpg' 'nor_230_1.jpg' 'nor_245_3.jpg'\n",
            " 'nor_237_2.jpg' 'nor_394_1.jpg' 'nor_256_5.jpg' 'nor_359.jpg'\n",
            " 'nor_257_5.jpg' 'nor_258_2.jpg' 'can_277.jpg' 'can_7.jpg' 'can_353.jpg'\n",
            " 'nor_262_5.jpg' 'nor_366_1.jpg' 'nor_240.jpg' 'nor_251_3.jpg'\n",
            " 'nor_229_6.jpg' 'nor_229_5.jpg' 'nor_401.jpg' 'nor_262.jpg' 'nor_258.jpg'\n",
            " 'can_284.jpg' 'nor_230_3.jpg' 'nor_230_4.jpg' 'can_379.jpg'\n",
            " 'nor_263_4.jpg' 'nor_245_1.jpg' 'nor_416_1.jpg' 'can_311.jpg'\n",
            " 'nor_240_5.jpg' 'can_298.jpg' 'can_279.jpg' 'nor_257_1.jpg' 'nor_375.jpg'\n",
            " 'can_293.jpg' 'can_299.jpg' 'nor_240_3.jpg' 'nor_241.jpg' 'nor_397_2.jpg'\n",
            " 'nor_256_4.jpg' 'can_300.jpg' 'nor_247_3.jpg' 'nor_264_4.jpg'\n",
            " 'nor_417_1.jpg' 'can_316.jpg' 'nor_382.jpg' 'nor_395_2.jpg'\n",
            " 'nor_407_2.jpg' 'nor_410_2.jpg' 'nor_235_2.jpg' 'nor_411.jpg'\n",
            " 'can_363.jpg' 'nor_363_1.jpg' 'nor_232_2.jpg' 'nor_246_2.jpg'\n",
            " 'nor_245_4.jpg' 'nor_240_1.jpg' 'nor_403.jpg' 'can_340.jpg'\n",
            " 'nor_247_5.jpg' 'nor_395.jpg' 'nor_414.jpg' 'nor_404.jpg' 'nor_231_4.jpg'\n",
            " 'nor_416.jpg' 'nor_238_1.jpg' 'nor_250_3.jpg' 'can_362.jpg' 'can_289.jpg'\n",
            " 'nor_381.jpg' 'nor_229.jpg' 'nor_242_1.jpg' 'nor_257.jpg' 'nor_356.jpg'\n",
            " 'nor_238_2.jpg' 'nor_263_2.jpg' 'nor_410.jpg' 'can_292.jpg'\n",
            " 'nor_230_5.jpg' 'nor_259_1.jpg' 'nor_263_3.jpg' 'nor_262_1.jpg'\n",
            " 'can_321.jpg' 'nor_394_2.jpg' 'nor_232_5.jpg' 'can_307.jpg'\n",
            " 'nor_396_1.jpg' 'nor_259_4.jpg' 'nor_241_5.jpg' 'nor_237_1.jpg'\n",
            " 'nor_250_2.jpg' 'nor_251_1.jpg' 'nor_239_3.jpg' 'nor_254_2.jpg'\n",
            " 'nor_398_1.jpg' 'nor_264.jpg' 'can_327.jpg' 'can_386.jpg' 'can_388.jpg'\n",
            " 'nor_246_3.jpg' 'can_324.jpg' 'nor_399_1.jpg' 'nor_242_4.jpg'\n",
            " 'nor_244_2.jpg' 'can_339.jpg' 'nor_412_2.jpg' 'nor_255_2.jpg'\n",
            " 'can_342.jpg' 'nor_411_1.jpg' 'nor_254_4.jpg' 'can_351.jpg'\n",
            " 'nor_250_1.jpg' 'can_290.jpg' 'nor_245_2.jpg' 'nor_392.jpg'\n",
            " 'nor_363_2.jpg' 'nor_365.jpg' 'nor_239_2.jpg']\n",
            "len(X_test):   465\n",
            "X_test.shape:   (465,)\n",
            "===========================================================================================\n",
            "Y_test:   [ 1 -1 -1 -1 -1 -1  1 -1 -1 -1 -1  1 -1 -1  1 -1 -1 -1 -1 -1  1 -1  1  1\n",
            " -1 -1 -1  1 -1 -1 -1 -1 -1 -1  1 -1 -1  1 -1 -1  1  1 -1  1 -1 -1 -1 -1\n",
            " -1 -1  1 -1 -1  1 -1  1 -1 -1 -1 -1  1 -1 -1 -1  1 -1 -1 -1 -1 -1  1 -1\n",
            "  1 -1  1  1 -1 -1 -1 -1 -1 -1 -1 -1  1  1  1 -1  1 -1 -1 -1 -1 -1 -1 -1\n",
            " -1 -1  1 -1  1  1 -1 -1 -1 -1  1  1 -1 -1 -1 -1  1  1 -1 -1  1 -1 -1 -1\n",
            "  1  1 -1 -1  1 -1 -1 -1  1 -1 -1 -1 -1 -1 -1  1  1  1 -1 -1 -1 -1 -1 -1\n",
            " -1 -1 -1 -1 -1 -1 -1  1 -1 -1 -1 -1 -1  1  1  1  1  1 -1 -1 -1 -1 -1 -1\n",
            " -1  1 -1 -1 -1  1 -1  1 -1 -1 -1 -1 -1 -1  1 -1 -1 -1 -1 -1 -1  1 -1 -1\n",
            "  1 -1 -1 -1 -1  1 -1 -1 -1  1 -1 -1  1 -1 -1 -1 -1 -1 -1  1 -1  1 -1 -1\n",
            " -1 -1  1  1  1 -1 -1 -1 -1 -1 -1  1  1 -1 -1 -1  1  1 -1 -1  1 -1 -1  1\n",
            " -1  1 -1 -1 -1 -1 -1 -1 -1  1  1 -1 -1  1  1 -1 -1  1 -1  1 -1  1 -1 -1\n",
            " -1 -1 -1 -1  1 -1  1 -1 -1 -1 -1  1 -1 -1 -1 -1  1 -1 -1  1  1  1 -1 -1\n",
            " -1 -1 -1 -1 -1 -1 -1 -1 -1  1 -1 -1 -1 -1  1  1 -1  1  1  1 -1 -1 -1 -1\n",
            " -1  1 -1  1 -1 -1 -1 -1 -1  1  1 -1  1 -1 -1  1 -1 -1 -1 -1 -1 -1 -1 -1\n",
            " -1 -1  1 -1 -1 -1 -1 -1 -1 -1  1 -1 -1 -1 -1 -1 -1 -1 -1 -1  1  1  1 -1\n",
            " -1 -1 -1 -1 -1 -1 -1 -1  1 -1 -1  1 -1 -1 -1  1 -1  1  1 -1 -1  1  1 -1\n",
            " -1 -1 -1  1 -1 -1 -1  1 -1 -1 -1 -1 -1 -1  1 -1 -1 -1 -1 -1 -1  1 -1 -1\n",
            " -1 -1 -1 -1 -1 -1  1  1 -1 -1 -1 -1 -1 -1 -1 -1  1 -1 -1 -1 -1  1 -1 -1\n",
            "  1 -1 -1 -1 -1 -1 -1 -1 -1 -1 -1  1  1  1 -1  1 -1 -1 -1  1 -1 -1  1 -1\n",
            " -1  1 -1  1 -1 -1 -1 -1 -1]\n",
            "len(Y_test):   465\n",
            "Y_test.shape:   (465,)\n"
          ],
          "name": "stdout"
        }
      ]
    },
    {
      "cell_type": "code",
      "metadata": {
        "colab": {
          "base_uri": "https://localhost:8080/"
        },
        "id": "X4DsFHXwARXr",
        "outputId": "3a55a3e4-3b1b-4118-8784-9fb872ca331f"
      },
      "source": [
        "model.summary()"
      ],
      "execution_count": 19,
      "outputs": [
        {
          "output_type": "stream",
          "text": [
            "Model: \"resnet50\"\n",
            "__________________________________________________________________________________________________\n",
            "Layer (type)                    Output Shape         Param #     Connected to                     \n",
            "==================================================================================================\n",
            "input_1 (InputLayer)            [(None, 320, 320, 3) 0                                            \n",
            "__________________________________________________________________________________________________\n",
            "conv1_pad (ZeroPadding2D)       (None, 326, 326, 3)  0           input_1[0][0]                    \n",
            "__________________________________________________________________________________________________\n",
            "conv1_conv (Conv2D)             (None, 160, 160, 64) 9472        conv1_pad[0][0]                  \n",
            "__________________________________________________________________________________________________\n",
            "conv1_bn (BatchNormalization)   (None, 160, 160, 64) 256         conv1_conv[0][0]                 \n",
            "__________________________________________________________________________________________________\n",
            "conv1_relu (Activation)         (None, 160, 160, 64) 0           conv1_bn[0][0]                   \n",
            "__________________________________________________________________________________________________\n",
            "pool1_pad (ZeroPadding2D)       (None, 162, 162, 64) 0           conv1_relu[0][0]                 \n",
            "__________________________________________________________________________________________________\n",
            "pool1_pool (MaxPooling2D)       (None, 80, 80, 64)   0           pool1_pad[0][0]                  \n",
            "__________________________________________________________________________________________________\n",
            "conv2_block1_1_conv (Conv2D)    (None, 80, 80, 64)   4160        pool1_pool[0][0]                 \n",
            "__________________________________________________________________________________________________\n",
            "conv2_block1_1_bn (BatchNormali (None, 80, 80, 64)   256         conv2_block1_1_conv[0][0]        \n",
            "__________________________________________________________________________________________________\n",
            "conv2_block1_1_relu (Activation (None, 80, 80, 64)   0           conv2_block1_1_bn[0][0]          \n",
            "__________________________________________________________________________________________________\n",
            "conv2_block1_2_conv (Conv2D)    (None, 80, 80, 64)   36928       conv2_block1_1_relu[0][0]        \n",
            "__________________________________________________________________________________________________\n",
            "conv2_block1_2_bn (BatchNormali (None, 80, 80, 64)   256         conv2_block1_2_conv[0][0]        \n",
            "__________________________________________________________________________________________________\n",
            "conv2_block1_2_relu (Activation (None, 80, 80, 64)   0           conv2_block1_2_bn[0][0]          \n",
            "__________________________________________________________________________________________________\n",
            "conv2_block1_0_conv (Conv2D)    (None, 80, 80, 256)  16640       pool1_pool[0][0]                 \n",
            "__________________________________________________________________________________________________\n",
            "conv2_block1_3_conv (Conv2D)    (None, 80, 80, 256)  16640       conv2_block1_2_relu[0][0]        \n",
            "__________________________________________________________________________________________________\n",
            "conv2_block1_0_bn (BatchNormali (None, 80, 80, 256)  1024        conv2_block1_0_conv[0][0]        \n",
            "__________________________________________________________________________________________________\n",
            "conv2_block1_3_bn (BatchNormali (None, 80, 80, 256)  1024        conv2_block1_3_conv[0][0]        \n",
            "__________________________________________________________________________________________________\n",
            "conv2_block1_add (Add)          (None, 80, 80, 256)  0           conv2_block1_0_bn[0][0]          \n",
            "                                                                 conv2_block1_3_bn[0][0]          \n",
            "__________________________________________________________________________________________________\n",
            "conv2_block1_out (Activation)   (None, 80, 80, 256)  0           conv2_block1_add[0][0]           \n",
            "__________________________________________________________________________________________________\n",
            "conv2_block2_1_conv (Conv2D)    (None, 80, 80, 64)   16448       conv2_block1_out[0][0]           \n",
            "__________________________________________________________________________________________________\n",
            "conv2_block2_1_bn (BatchNormali (None, 80, 80, 64)   256         conv2_block2_1_conv[0][0]        \n",
            "__________________________________________________________________________________________________\n",
            "conv2_block2_1_relu (Activation (None, 80, 80, 64)   0           conv2_block2_1_bn[0][0]          \n",
            "__________________________________________________________________________________________________\n",
            "conv2_block2_2_conv (Conv2D)    (None, 80, 80, 64)   36928       conv2_block2_1_relu[0][0]        \n",
            "__________________________________________________________________________________________________\n",
            "conv2_block2_2_bn (BatchNormali (None, 80, 80, 64)   256         conv2_block2_2_conv[0][0]        \n",
            "__________________________________________________________________________________________________\n",
            "conv2_block2_2_relu (Activation (None, 80, 80, 64)   0           conv2_block2_2_bn[0][0]          \n",
            "__________________________________________________________________________________________________\n",
            "conv2_block2_3_conv (Conv2D)    (None, 80, 80, 256)  16640       conv2_block2_2_relu[0][0]        \n",
            "__________________________________________________________________________________________________\n",
            "conv2_block2_3_bn (BatchNormali (None, 80, 80, 256)  1024        conv2_block2_3_conv[0][0]        \n",
            "__________________________________________________________________________________________________\n",
            "conv2_block2_add (Add)          (None, 80, 80, 256)  0           conv2_block1_out[0][0]           \n",
            "                                                                 conv2_block2_3_bn[0][0]          \n",
            "__________________________________________________________________________________________________\n",
            "conv2_block2_out (Activation)   (None, 80, 80, 256)  0           conv2_block2_add[0][0]           \n",
            "__________________________________________________________________________________________________\n",
            "conv2_block3_1_conv (Conv2D)    (None, 80, 80, 64)   16448       conv2_block2_out[0][0]           \n",
            "__________________________________________________________________________________________________\n",
            "conv2_block3_1_bn (BatchNormali (None, 80, 80, 64)   256         conv2_block3_1_conv[0][0]        \n",
            "__________________________________________________________________________________________________\n",
            "conv2_block3_1_relu (Activation (None, 80, 80, 64)   0           conv2_block3_1_bn[0][0]          \n",
            "__________________________________________________________________________________________________\n",
            "conv2_block3_2_conv (Conv2D)    (None, 80, 80, 64)   36928       conv2_block3_1_relu[0][0]        \n",
            "__________________________________________________________________________________________________\n",
            "conv2_block3_2_bn (BatchNormali (None, 80, 80, 64)   256         conv2_block3_2_conv[0][0]        \n",
            "__________________________________________________________________________________________________\n",
            "conv2_block3_2_relu (Activation (None, 80, 80, 64)   0           conv2_block3_2_bn[0][0]          \n",
            "__________________________________________________________________________________________________\n",
            "conv2_block3_3_conv (Conv2D)    (None, 80, 80, 256)  16640       conv2_block3_2_relu[0][0]        \n",
            "__________________________________________________________________________________________________\n",
            "conv2_block3_3_bn (BatchNormali (None, 80, 80, 256)  1024        conv2_block3_3_conv[0][0]        \n",
            "__________________________________________________________________________________________________\n",
            "conv2_block3_add (Add)          (None, 80, 80, 256)  0           conv2_block2_out[0][0]           \n",
            "                                                                 conv2_block3_3_bn[0][0]          \n",
            "__________________________________________________________________________________________________\n",
            "conv2_block3_out (Activation)   (None, 80, 80, 256)  0           conv2_block3_add[0][0]           \n",
            "__________________________________________________________________________________________________\n",
            "conv3_block1_1_conv (Conv2D)    (None, 40, 40, 128)  32896       conv2_block3_out[0][0]           \n",
            "__________________________________________________________________________________________________\n",
            "conv3_block1_1_bn (BatchNormali (None, 40, 40, 128)  512         conv3_block1_1_conv[0][0]        \n",
            "__________________________________________________________________________________________________\n",
            "conv3_block1_1_relu (Activation (None, 40, 40, 128)  0           conv3_block1_1_bn[0][0]          \n",
            "__________________________________________________________________________________________________\n",
            "conv3_block1_2_conv (Conv2D)    (None, 40, 40, 128)  147584      conv3_block1_1_relu[0][0]        \n",
            "__________________________________________________________________________________________________\n",
            "conv3_block1_2_bn (BatchNormali (None, 40, 40, 128)  512         conv3_block1_2_conv[0][0]        \n",
            "__________________________________________________________________________________________________\n",
            "conv3_block1_2_relu (Activation (None, 40, 40, 128)  0           conv3_block1_2_bn[0][0]          \n",
            "__________________________________________________________________________________________________\n",
            "conv3_block1_0_conv (Conv2D)    (None, 40, 40, 512)  131584      conv2_block3_out[0][0]           \n",
            "__________________________________________________________________________________________________\n",
            "conv3_block1_3_conv (Conv2D)    (None, 40, 40, 512)  66048       conv3_block1_2_relu[0][0]        \n",
            "__________________________________________________________________________________________________\n",
            "conv3_block1_0_bn (BatchNormali (None, 40, 40, 512)  2048        conv3_block1_0_conv[0][0]        \n",
            "__________________________________________________________________________________________________\n",
            "conv3_block1_3_bn (BatchNormali (None, 40, 40, 512)  2048        conv3_block1_3_conv[0][0]        \n",
            "__________________________________________________________________________________________________\n",
            "conv3_block1_add (Add)          (None, 40, 40, 512)  0           conv3_block1_0_bn[0][0]          \n",
            "                                                                 conv3_block1_3_bn[0][0]          \n",
            "__________________________________________________________________________________________________\n",
            "conv3_block1_out (Activation)   (None, 40, 40, 512)  0           conv3_block1_add[0][0]           \n",
            "__________________________________________________________________________________________________\n",
            "conv3_block2_1_conv (Conv2D)    (None, 40, 40, 128)  65664       conv3_block1_out[0][0]           \n",
            "__________________________________________________________________________________________________\n",
            "conv3_block2_1_bn (BatchNormali (None, 40, 40, 128)  512         conv3_block2_1_conv[0][0]        \n",
            "__________________________________________________________________________________________________\n",
            "conv3_block2_1_relu (Activation (None, 40, 40, 128)  0           conv3_block2_1_bn[0][0]          \n",
            "__________________________________________________________________________________________________\n",
            "conv3_block2_2_conv (Conv2D)    (None, 40, 40, 128)  147584      conv3_block2_1_relu[0][0]        \n",
            "__________________________________________________________________________________________________\n",
            "conv3_block2_2_bn (BatchNormali (None, 40, 40, 128)  512         conv3_block2_2_conv[0][0]        \n",
            "__________________________________________________________________________________________________\n",
            "conv3_block2_2_relu (Activation (None, 40, 40, 128)  0           conv3_block2_2_bn[0][0]          \n",
            "__________________________________________________________________________________________________\n",
            "conv3_block2_3_conv (Conv2D)    (None, 40, 40, 512)  66048       conv3_block2_2_relu[0][0]        \n",
            "__________________________________________________________________________________________________\n",
            "conv3_block2_3_bn (BatchNormali (None, 40, 40, 512)  2048        conv3_block2_3_conv[0][0]        \n",
            "__________________________________________________________________________________________________\n",
            "conv3_block2_add (Add)          (None, 40, 40, 512)  0           conv3_block1_out[0][0]           \n",
            "                                                                 conv3_block2_3_bn[0][0]          \n",
            "__________________________________________________________________________________________________\n",
            "conv3_block2_out (Activation)   (None, 40, 40, 512)  0           conv3_block2_add[0][0]           \n",
            "__________________________________________________________________________________________________\n",
            "conv3_block3_1_conv (Conv2D)    (None, 40, 40, 128)  65664       conv3_block2_out[0][0]           \n",
            "__________________________________________________________________________________________________\n",
            "conv3_block3_1_bn (BatchNormali (None, 40, 40, 128)  512         conv3_block3_1_conv[0][0]        \n",
            "__________________________________________________________________________________________________\n",
            "conv3_block3_1_relu (Activation (None, 40, 40, 128)  0           conv3_block3_1_bn[0][0]          \n",
            "__________________________________________________________________________________________________\n",
            "conv3_block3_2_conv (Conv2D)    (None, 40, 40, 128)  147584      conv3_block3_1_relu[0][0]        \n",
            "__________________________________________________________________________________________________\n",
            "conv3_block3_2_bn (BatchNormali (None, 40, 40, 128)  512         conv3_block3_2_conv[0][0]        \n",
            "__________________________________________________________________________________________________\n",
            "conv3_block3_2_relu (Activation (None, 40, 40, 128)  0           conv3_block3_2_bn[0][0]          \n",
            "__________________________________________________________________________________________________\n",
            "conv3_block3_3_conv (Conv2D)    (None, 40, 40, 512)  66048       conv3_block3_2_relu[0][0]        \n",
            "__________________________________________________________________________________________________\n",
            "conv3_block3_3_bn (BatchNormali (None, 40, 40, 512)  2048        conv3_block3_3_conv[0][0]        \n",
            "__________________________________________________________________________________________________\n",
            "conv3_block3_add (Add)          (None, 40, 40, 512)  0           conv3_block2_out[0][0]           \n",
            "                                                                 conv3_block3_3_bn[0][0]          \n",
            "__________________________________________________________________________________________________\n",
            "conv3_block3_out (Activation)   (None, 40, 40, 512)  0           conv3_block3_add[0][0]           \n",
            "__________________________________________________________________________________________________\n",
            "conv3_block4_1_conv (Conv2D)    (None, 40, 40, 128)  65664       conv3_block3_out[0][0]           \n",
            "__________________________________________________________________________________________________\n",
            "conv3_block4_1_bn (BatchNormali (None, 40, 40, 128)  512         conv3_block4_1_conv[0][0]        \n",
            "__________________________________________________________________________________________________\n",
            "conv3_block4_1_relu (Activation (None, 40, 40, 128)  0           conv3_block4_1_bn[0][0]          \n",
            "__________________________________________________________________________________________________\n",
            "conv3_block4_2_conv (Conv2D)    (None, 40, 40, 128)  147584      conv3_block4_1_relu[0][0]        \n",
            "__________________________________________________________________________________________________\n",
            "conv3_block4_2_bn (BatchNormali (None, 40, 40, 128)  512         conv3_block4_2_conv[0][0]        \n",
            "__________________________________________________________________________________________________\n",
            "conv3_block4_2_relu (Activation (None, 40, 40, 128)  0           conv3_block4_2_bn[0][0]          \n",
            "__________________________________________________________________________________________________\n",
            "conv3_block4_3_conv (Conv2D)    (None, 40, 40, 512)  66048       conv3_block4_2_relu[0][0]        \n",
            "__________________________________________________________________________________________________\n",
            "conv3_block4_3_bn (BatchNormali (None, 40, 40, 512)  2048        conv3_block4_3_conv[0][0]        \n",
            "__________________________________________________________________________________________________\n",
            "conv3_block4_add (Add)          (None, 40, 40, 512)  0           conv3_block3_out[0][0]           \n",
            "                                                                 conv3_block4_3_bn[0][0]          \n",
            "__________________________________________________________________________________________________\n",
            "conv3_block4_out (Activation)   (None, 40, 40, 512)  0           conv3_block4_add[0][0]           \n",
            "__________________________________________________________________________________________________\n",
            "conv4_block1_1_conv (Conv2D)    (None, 20, 20, 256)  131328      conv3_block4_out[0][0]           \n",
            "__________________________________________________________________________________________________\n",
            "conv4_block1_1_bn (BatchNormali (None, 20, 20, 256)  1024        conv4_block1_1_conv[0][0]        \n",
            "__________________________________________________________________________________________________\n",
            "conv4_block1_1_relu (Activation (None, 20, 20, 256)  0           conv4_block1_1_bn[0][0]          \n",
            "__________________________________________________________________________________________________\n",
            "conv4_block1_2_conv (Conv2D)    (None, 20, 20, 256)  590080      conv4_block1_1_relu[0][0]        \n",
            "__________________________________________________________________________________________________\n",
            "conv4_block1_2_bn (BatchNormali (None, 20, 20, 256)  1024        conv4_block1_2_conv[0][0]        \n",
            "__________________________________________________________________________________________________\n",
            "conv4_block1_2_relu (Activation (None, 20, 20, 256)  0           conv4_block1_2_bn[0][0]          \n",
            "__________________________________________________________________________________________________\n",
            "conv4_block1_0_conv (Conv2D)    (None, 20, 20, 1024) 525312      conv3_block4_out[0][0]           \n",
            "__________________________________________________________________________________________________\n",
            "conv4_block1_3_conv (Conv2D)    (None, 20, 20, 1024) 263168      conv4_block1_2_relu[0][0]        \n",
            "__________________________________________________________________________________________________\n",
            "conv4_block1_0_bn (BatchNormali (None, 20, 20, 1024) 4096        conv4_block1_0_conv[0][0]        \n",
            "__________________________________________________________________________________________________\n",
            "conv4_block1_3_bn (BatchNormali (None, 20, 20, 1024) 4096        conv4_block1_3_conv[0][0]        \n",
            "__________________________________________________________________________________________________\n",
            "conv4_block1_add (Add)          (None, 20, 20, 1024) 0           conv4_block1_0_bn[0][0]          \n",
            "                                                                 conv4_block1_3_bn[0][0]          \n",
            "__________________________________________________________________________________________________\n",
            "conv4_block1_out (Activation)   (None, 20, 20, 1024) 0           conv4_block1_add[0][0]           \n",
            "__________________________________________________________________________________________________\n",
            "conv4_block2_1_conv (Conv2D)    (None, 20, 20, 256)  262400      conv4_block1_out[0][0]           \n",
            "__________________________________________________________________________________________________\n",
            "conv4_block2_1_bn (BatchNormali (None, 20, 20, 256)  1024        conv4_block2_1_conv[0][0]        \n",
            "__________________________________________________________________________________________________\n",
            "conv4_block2_1_relu (Activation (None, 20, 20, 256)  0           conv4_block2_1_bn[0][0]          \n",
            "__________________________________________________________________________________________________\n",
            "conv4_block2_2_conv (Conv2D)    (None, 20, 20, 256)  590080      conv4_block2_1_relu[0][0]        \n",
            "__________________________________________________________________________________________________\n",
            "conv4_block2_2_bn (BatchNormali (None, 20, 20, 256)  1024        conv4_block2_2_conv[0][0]        \n",
            "__________________________________________________________________________________________________\n",
            "conv4_block2_2_relu (Activation (None, 20, 20, 256)  0           conv4_block2_2_bn[0][0]          \n",
            "__________________________________________________________________________________________________\n",
            "conv4_block2_3_conv (Conv2D)    (None, 20, 20, 1024) 263168      conv4_block2_2_relu[0][0]        \n",
            "__________________________________________________________________________________________________\n",
            "conv4_block2_3_bn (BatchNormali (None, 20, 20, 1024) 4096        conv4_block2_3_conv[0][0]        \n",
            "__________________________________________________________________________________________________\n",
            "conv4_block2_add (Add)          (None, 20, 20, 1024) 0           conv4_block1_out[0][0]           \n",
            "                                                                 conv4_block2_3_bn[0][0]          \n",
            "__________________________________________________________________________________________________\n",
            "conv4_block2_out (Activation)   (None, 20, 20, 1024) 0           conv4_block2_add[0][0]           \n",
            "__________________________________________________________________________________________________\n",
            "conv4_block3_1_conv (Conv2D)    (None, 20, 20, 256)  262400      conv4_block2_out[0][0]           \n",
            "__________________________________________________________________________________________________\n",
            "conv4_block3_1_bn (BatchNormali (None, 20, 20, 256)  1024        conv4_block3_1_conv[0][0]        \n",
            "__________________________________________________________________________________________________\n",
            "conv4_block3_1_relu (Activation (None, 20, 20, 256)  0           conv4_block3_1_bn[0][0]          \n",
            "__________________________________________________________________________________________________\n",
            "conv4_block3_2_conv (Conv2D)    (None, 20, 20, 256)  590080      conv4_block3_1_relu[0][0]        \n",
            "__________________________________________________________________________________________________\n",
            "conv4_block3_2_bn (BatchNormali (None, 20, 20, 256)  1024        conv4_block3_2_conv[0][0]        \n",
            "__________________________________________________________________________________________________\n",
            "conv4_block3_2_relu (Activation (None, 20, 20, 256)  0           conv4_block3_2_bn[0][0]          \n",
            "__________________________________________________________________________________________________\n",
            "conv4_block3_3_conv (Conv2D)    (None, 20, 20, 1024) 263168      conv4_block3_2_relu[0][0]        \n",
            "__________________________________________________________________________________________________\n",
            "conv4_block3_3_bn (BatchNormali (None, 20, 20, 1024) 4096        conv4_block3_3_conv[0][0]        \n",
            "__________________________________________________________________________________________________\n",
            "conv4_block3_add (Add)          (None, 20, 20, 1024) 0           conv4_block2_out[0][0]           \n",
            "                                                                 conv4_block3_3_bn[0][0]          \n",
            "__________________________________________________________________________________________________\n",
            "conv4_block3_out (Activation)   (None, 20, 20, 1024) 0           conv4_block3_add[0][0]           \n",
            "__________________________________________________________________________________________________\n",
            "conv4_block4_1_conv (Conv2D)    (None, 20, 20, 256)  262400      conv4_block3_out[0][0]           \n",
            "__________________________________________________________________________________________________\n",
            "conv4_block4_1_bn (BatchNormali (None, 20, 20, 256)  1024        conv4_block4_1_conv[0][0]        \n",
            "__________________________________________________________________________________________________\n",
            "conv4_block4_1_relu (Activation (None, 20, 20, 256)  0           conv4_block4_1_bn[0][0]          \n",
            "__________________________________________________________________________________________________\n",
            "conv4_block4_2_conv (Conv2D)    (None, 20, 20, 256)  590080      conv4_block4_1_relu[0][0]        \n",
            "__________________________________________________________________________________________________\n",
            "conv4_block4_2_bn (BatchNormali (None, 20, 20, 256)  1024        conv4_block4_2_conv[0][0]        \n",
            "__________________________________________________________________________________________________\n",
            "conv4_block4_2_relu (Activation (None, 20, 20, 256)  0           conv4_block4_2_bn[0][0]          \n",
            "__________________________________________________________________________________________________\n",
            "conv4_block4_3_conv (Conv2D)    (None, 20, 20, 1024) 263168      conv4_block4_2_relu[0][0]        \n",
            "__________________________________________________________________________________________________\n",
            "conv4_block4_3_bn (BatchNormali (None, 20, 20, 1024) 4096        conv4_block4_3_conv[0][0]        \n",
            "__________________________________________________________________________________________________\n",
            "conv4_block4_add (Add)          (None, 20, 20, 1024) 0           conv4_block3_out[0][0]           \n",
            "                                                                 conv4_block4_3_bn[0][0]          \n",
            "__________________________________________________________________________________________________\n",
            "conv4_block4_out (Activation)   (None, 20, 20, 1024) 0           conv4_block4_add[0][0]           \n",
            "__________________________________________________________________________________________________\n",
            "conv4_block5_1_conv (Conv2D)    (None, 20, 20, 256)  262400      conv4_block4_out[0][0]           \n",
            "__________________________________________________________________________________________________\n",
            "conv4_block5_1_bn (BatchNormali (None, 20, 20, 256)  1024        conv4_block5_1_conv[0][0]        \n",
            "__________________________________________________________________________________________________\n",
            "conv4_block5_1_relu (Activation (None, 20, 20, 256)  0           conv4_block5_1_bn[0][0]          \n",
            "__________________________________________________________________________________________________\n",
            "conv4_block5_2_conv (Conv2D)    (None, 20, 20, 256)  590080      conv4_block5_1_relu[0][0]        \n",
            "__________________________________________________________________________________________________\n",
            "conv4_block5_2_bn (BatchNormali (None, 20, 20, 256)  1024        conv4_block5_2_conv[0][0]        \n",
            "__________________________________________________________________________________________________\n",
            "conv4_block5_2_relu (Activation (None, 20, 20, 256)  0           conv4_block5_2_bn[0][0]          \n",
            "__________________________________________________________________________________________________\n",
            "conv4_block5_3_conv (Conv2D)    (None, 20, 20, 1024) 263168      conv4_block5_2_relu[0][0]        \n",
            "__________________________________________________________________________________________________\n",
            "conv4_block5_3_bn (BatchNormali (None, 20, 20, 1024) 4096        conv4_block5_3_conv[0][0]        \n",
            "__________________________________________________________________________________________________\n",
            "conv4_block5_add (Add)          (None, 20, 20, 1024) 0           conv4_block4_out[0][0]           \n",
            "                                                                 conv4_block5_3_bn[0][0]          \n",
            "__________________________________________________________________________________________________\n",
            "conv4_block5_out (Activation)   (None, 20, 20, 1024) 0           conv4_block5_add[0][0]           \n",
            "__________________________________________________________________________________________________\n",
            "conv4_block6_1_conv (Conv2D)    (None, 20, 20, 256)  262400      conv4_block5_out[0][0]           \n",
            "__________________________________________________________________________________________________\n",
            "conv4_block6_1_bn (BatchNormali (None, 20, 20, 256)  1024        conv4_block6_1_conv[0][0]        \n",
            "__________________________________________________________________________________________________\n",
            "conv4_block6_1_relu (Activation (None, 20, 20, 256)  0           conv4_block6_1_bn[0][0]          \n",
            "__________________________________________________________________________________________________\n",
            "conv4_block6_2_conv (Conv2D)    (None, 20, 20, 256)  590080      conv4_block6_1_relu[0][0]        \n",
            "__________________________________________________________________________________________________\n",
            "conv4_block6_2_bn (BatchNormali (None, 20, 20, 256)  1024        conv4_block6_2_conv[0][0]        \n",
            "__________________________________________________________________________________________________\n",
            "conv4_block6_2_relu (Activation (None, 20, 20, 256)  0           conv4_block6_2_bn[0][0]          \n",
            "__________________________________________________________________________________________________\n",
            "conv4_block6_3_conv (Conv2D)    (None, 20, 20, 1024) 263168      conv4_block6_2_relu[0][0]        \n",
            "__________________________________________________________________________________________________\n",
            "conv4_block6_3_bn (BatchNormali (None, 20, 20, 1024) 4096        conv4_block6_3_conv[0][0]        \n",
            "__________________________________________________________________________________________________\n",
            "conv4_block6_add (Add)          (None, 20, 20, 1024) 0           conv4_block5_out[0][0]           \n",
            "                                                                 conv4_block6_3_bn[0][0]          \n",
            "__________________________________________________________________________________________________\n",
            "conv4_block6_out (Activation)   (None, 20, 20, 1024) 0           conv4_block6_add[0][0]           \n",
            "__________________________________________________________________________________________________\n",
            "conv5_block1_1_conv (Conv2D)    (None, 10, 10, 512)  524800      conv4_block6_out[0][0]           \n",
            "__________________________________________________________________________________________________\n",
            "conv5_block1_1_bn (BatchNormali (None, 10, 10, 512)  2048        conv5_block1_1_conv[0][0]        \n",
            "__________________________________________________________________________________________________\n",
            "conv5_block1_1_relu (Activation (None, 10, 10, 512)  0           conv5_block1_1_bn[0][0]          \n",
            "__________________________________________________________________________________________________\n",
            "conv5_block1_2_conv (Conv2D)    (None, 10, 10, 512)  2359808     conv5_block1_1_relu[0][0]        \n",
            "__________________________________________________________________________________________________\n",
            "conv5_block1_2_bn (BatchNormali (None, 10, 10, 512)  2048        conv5_block1_2_conv[0][0]        \n",
            "__________________________________________________________________________________________________\n",
            "conv5_block1_2_relu (Activation (None, 10, 10, 512)  0           conv5_block1_2_bn[0][0]          \n",
            "__________________________________________________________________________________________________\n",
            "conv5_block1_0_conv (Conv2D)    (None, 10, 10, 2048) 2099200     conv4_block6_out[0][0]           \n",
            "__________________________________________________________________________________________________\n",
            "conv5_block1_3_conv (Conv2D)    (None, 10, 10, 2048) 1050624     conv5_block1_2_relu[0][0]        \n",
            "__________________________________________________________________________________________________\n",
            "conv5_block1_0_bn (BatchNormali (None, 10, 10, 2048) 8192        conv5_block1_0_conv[0][0]        \n",
            "__________________________________________________________________________________________________\n",
            "conv5_block1_3_bn (BatchNormali (None, 10, 10, 2048) 8192        conv5_block1_3_conv[0][0]        \n",
            "__________________________________________________________________________________________________\n",
            "conv5_block1_add (Add)          (None, 10, 10, 2048) 0           conv5_block1_0_bn[0][0]          \n",
            "                                                                 conv5_block1_3_bn[0][0]          \n",
            "__________________________________________________________________________________________________\n",
            "conv5_block1_out (Activation)   (None, 10, 10, 2048) 0           conv5_block1_add[0][0]           \n",
            "__________________________________________________________________________________________________\n",
            "conv5_block2_1_conv (Conv2D)    (None, 10, 10, 512)  1049088     conv5_block1_out[0][0]           \n",
            "__________________________________________________________________________________________________\n",
            "conv5_block2_1_bn (BatchNormali (None, 10, 10, 512)  2048        conv5_block2_1_conv[0][0]        \n",
            "__________________________________________________________________________________________________\n",
            "conv5_block2_1_relu (Activation (None, 10, 10, 512)  0           conv5_block2_1_bn[0][0]          \n",
            "__________________________________________________________________________________________________\n",
            "conv5_block2_2_conv (Conv2D)    (None, 10, 10, 512)  2359808     conv5_block2_1_relu[0][0]        \n",
            "__________________________________________________________________________________________________\n",
            "conv5_block2_2_bn (BatchNormali (None, 10, 10, 512)  2048        conv5_block2_2_conv[0][0]        \n",
            "__________________________________________________________________________________________________\n",
            "conv5_block2_2_relu (Activation (None, 10, 10, 512)  0           conv5_block2_2_bn[0][0]          \n",
            "__________________________________________________________________________________________________\n",
            "conv5_block2_3_conv (Conv2D)    (None, 10, 10, 2048) 1050624     conv5_block2_2_relu[0][0]        \n",
            "__________________________________________________________________________________________________\n",
            "conv5_block2_3_bn (BatchNormali (None, 10, 10, 2048) 8192        conv5_block2_3_conv[0][0]        \n",
            "__________________________________________________________________________________________________\n",
            "conv5_block2_add (Add)          (None, 10, 10, 2048) 0           conv5_block1_out[0][0]           \n",
            "                                                                 conv5_block2_3_bn[0][0]          \n",
            "__________________________________________________________________________________________________\n",
            "conv5_block2_out (Activation)   (None, 10, 10, 2048) 0           conv5_block2_add[0][0]           \n",
            "__________________________________________________________________________________________________\n",
            "conv5_block3_1_conv (Conv2D)    (None, 10, 10, 512)  1049088     conv5_block2_out[0][0]           \n",
            "__________________________________________________________________________________________________\n",
            "conv5_block3_1_bn (BatchNormali (None, 10, 10, 512)  2048        conv5_block3_1_conv[0][0]        \n",
            "__________________________________________________________________________________________________\n",
            "conv5_block3_1_relu (Activation (None, 10, 10, 512)  0           conv5_block3_1_bn[0][0]          \n",
            "__________________________________________________________________________________________________\n",
            "conv5_block3_2_conv (Conv2D)    (None, 10, 10, 512)  2359808     conv5_block3_1_relu[0][0]        \n",
            "__________________________________________________________________________________________________\n",
            "conv5_block3_2_bn (BatchNormali (None, 10, 10, 512)  2048        conv5_block3_2_conv[0][0]        \n",
            "__________________________________________________________________________________________________\n",
            "conv5_block3_2_relu (Activation (None, 10, 10, 512)  0           conv5_block3_2_bn[0][0]          \n",
            "__________________________________________________________________________________________________\n",
            "conv5_block3_3_conv (Conv2D)    (None, 10, 10, 2048) 1050624     conv5_block3_2_relu[0][0]        \n",
            "__________________________________________________________________________________________________\n",
            "conv5_block3_3_bn (BatchNormali (None, 10, 10, 2048) 8192        conv5_block3_3_conv[0][0]        \n",
            "__________________________________________________________________________________________________\n",
            "conv5_block3_add (Add)          (None, 10, 10, 2048) 0           conv5_block2_out[0][0]           \n",
            "                                                                 conv5_block3_3_bn[0][0]          \n",
            "__________________________________________________________________________________________________\n",
            "conv5_block3_out (Activation)   (None, 10, 10, 2048) 0           conv5_block3_add[0][0]           \n",
            "==================================================================================================\n",
            "Total params: 23,587,712\n",
            "Trainable params: 23,534,592\n",
            "Non-trainable params: 53,120\n",
            "__________________________________________________________________________________________________\n"
          ],
          "name": "stdout"
        }
      ]
    },
    {
      "cell_type": "code",
      "metadata": {
        "colab": {
          "base_uri": "https://localhost:8080/",
          "height": 820
        },
        "id": "QnCVK9x761OI",
        "outputId": "be873d05-86df-4ee1-f85e-c2ac0efec0bc"
      },
      "source": [
        "X_train_predict=model.predict(X_train)\n",
        "X_train_predict.shape \n",
        "\n",
        "\n",
        "\n",
        "# X_train_predict = model.predict_classes(X_train)\n",
        "# X_train_predict.shape"
      ],
      "execution_count": 18,
      "outputs": [
        {
          "output_type": "stream",
          "text": [
            "WARNING:tensorflow:Model was constructed with shape (None, 320, 320, 3) for input KerasTensor(type_spec=TensorSpec(shape=(None, 320, 320, 3), dtype=tf.float32, name='input_1'), name='input_1', description=\"created by layer 'input_1'\"), but it was called on an input with incompatible shape (None, 1).\n"
          ],
          "name": "stdout"
        },
        {
          "output_type": "error",
          "ename": "ValueError",
          "evalue": "ignored",
          "traceback": [
            "\u001b[0;31m---------------------------------------------------------------------------\u001b[0m",
            "\u001b[0;31mValueError\u001b[0m                                Traceback (most recent call last)",
            "\u001b[0;32m<ipython-input-18-5db592c312c9>\u001b[0m in \u001b[0;36m<module>\u001b[0;34m()\u001b[0m\n\u001b[0;32m----> 1\u001b[0;31m \u001b[0mX_train_predict\u001b[0m\u001b[0;34m=\u001b[0m\u001b[0mmodel\u001b[0m\u001b[0;34m.\u001b[0m\u001b[0mpredict\u001b[0m\u001b[0;34m(\u001b[0m\u001b[0mX_train\u001b[0m\u001b[0;34m)\u001b[0m\u001b[0;34m\u001b[0m\u001b[0;34m\u001b[0m\u001b[0m\n\u001b[0m\u001b[1;32m      2\u001b[0m \u001b[0mX_train_predict\u001b[0m\u001b[0;34m.\u001b[0m\u001b[0mshape\u001b[0m \u001b[0;31m#320,320,3 데이터가 변화 ->\u001b[0m\u001b[0;34m\u001b[0m\u001b[0;34m\u001b[0m\u001b[0m\n",
            "\u001b[0;32m/usr/local/lib/python3.6/dist-packages/tensorflow/python/keras/engine/training.py\u001b[0m in \u001b[0;36mpredict\u001b[0;34m(self, x, batch_size, verbose, steps, callbacks, max_queue_size, workers, use_multiprocessing)\u001b[0m\n\u001b[1;32m   1627\u001b[0m           \u001b[0;32mfor\u001b[0m \u001b[0mstep\u001b[0m \u001b[0;32min\u001b[0m \u001b[0mdata_handler\u001b[0m\u001b[0;34m.\u001b[0m\u001b[0msteps\u001b[0m\u001b[0;34m(\u001b[0m\u001b[0;34m)\u001b[0m\u001b[0;34m:\u001b[0m\u001b[0;34m\u001b[0m\u001b[0;34m\u001b[0m\u001b[0m\n\u001b[1;32m   1628\u001b[0m             \u001b[0mcallbacks\u001b[0m\u001b[0;34m.\u001b[0m\u001b[0mon_predict_batch_begin\u001b[0m\u001b[0;34m(\u001b[0m\u001b[0mstep\u001b[0m\u001b[0;34m)\u001b[0m\u001b[0;34m\u001b[0m\u001b[0;34m\u001b[0m\u001b[0m\n\u001b[0;32m-> 1629\u001b[0;31m             \u001b[0mtmp_batch_outputs\u001b[0m \u001b[0;34m=\u001b[0m \u001b[0mself\u001b[0m\u001b[0;34m.\u001b[0m\u001b[0mpredict_function\u001b[0m\u001b[0;34m(\u001b[0m\u001b[0miterator\u001b[0m\u001b[0;34m)\u001b[0m\u001b[0;34m\u001b[0m\u001b[0;34m\u001b[0m\u001b[0m\n\u001b[0m\u001b[1;32m   1630\u001b[0m             \u001b[0;32mif\u001b[0m \u001b[0mdata_handler\u001b[0m\u001b[0;34m.\u001b[0m\u001b[0mshould_sync\u001b[0m\u001b[0;34m:\u001b[0m\u001b[0;34m\u001b[0m\u001b[0;34m\u001b[0m\u001b[0m\n\u001b[1;32m   1631\u001b[0m               \u001b[0mcontext\u001b[0m\u001b[0;34m.\u001b[0m\u001b[0masync_wait\u001b[0m\u001b[0;34m(\u001b[0m\u001b[0;34m)\u001b[0m\u001b[0;34m\u001b[0m\u001b[0;34m\u001b[0m\u001b[0m\n",
            "\u001b[0;32m/usr/local/lib/python3.6/dist-packages/tensorflow/python/eager/def_function.py\u001b[0m in \u001b[0;36m__call__\u001b[0;34m(self, *args, **kwds)\u001b[0m\n\u001b[1;32m    826\u001b[0m     \u001b[0mtracing_count\u001b[0m \u001b[0;34m=\u001b[0m \u001b[0mself\u001b[0m\u001b[0;34m.\u001b[0m\u001b[0mexperimental_get_tracing_count\u001b[0m\u001b[0;34m(\u001b[0m\u001b[0;34m)\u001b[0m\u001b[0;34m\u001b[0m\u001b[0;34m\u001b[0m\u001b[0m\n\u001b[1;32m    827\u001b[0m     \u001b[0;32mwith\u001b[0m \u001b[0mtrace\u001b[0m\u001b[0;34m.\u001b[0m\u001b[0mTrace\u001b[0m\u001b[0;34m(\u001b[0m\u001b[0mself\u001b[0m\u001b[0;34m.\u001b[0m\u001b[0m_name\u001b[0m\u001b[0;34m)\u001b[0m \u001b[0;32mas\u001b[0m \u001b[0mtm\u001b[0m\u001b[0;34m:\u001b[0m\u001b[0;34m\u001b[0m\u001b[0;34m\u001b[0m\u001b[0m\n\u001b[0;32m--> 828\u001b[0;31m       \u001b[0mresult\u001b[0m \u001b[0;34m=\u001b[0m \u001b[0mself\u001b[0m\u001b[0;34m.\u001b[0m\u001b[0m_call\u001b[0m\u001b[0;34m(\u001b[0m\u001b[0;34m*\u001b[0m\u001b[0margs\u001b[0m\u001b[0;34m,\u001b[0m \u001b[0;34m**\u001b[0m\u001b[0mkwds\u001b[0m\u001b[0;34m)\u001b[0m\u001b[0;34m\u001b[0m\u001b[0;34m\u001b[0m\u001b[0m\n\u001b[0m\u001b[1;32m    829\u001b[0m       \u001b[0mcompiler\u001b[0m \u001b[0;34m=\u001b[0m \u001b[0;34m\"xla\"\u001b[0m \u001b[0;32mif\u001b[0m \u001b[0mself\u001b[0m\u001b[0;34m.\u001b[0m\u001b[0m_experimental_compile\u001b[0m \u001b[0;32melse\u001b[0m \u001b[0;34m\"nonXla\"\u001b[0m\u001b[0;34m\u001b[0m\u001b[0;34m\u001b[0m\u001b[0m\n\u001b[1;32m    830\u001b[0m       \u001b[0mnew_tracing_count\u001b[0m \u001b[0;34m=\u001b[0m \u001b[0mself\u001b[0m\u001b[0;34m.\u001b[0m\u001b[0mexperimental_get_tracing_count\u001b[0m\u001b[0;34m(\u001b[0m\u001b[0;34m)\u001b[0m\u001b[0;34m\u001b[0m\u001b[0;34m\u001b[0m\u001b[0m\n",
            "\u001b[0;32m/usr/local/lib/python3.6/dist-packages/tensorflow/python/eager/def_function.py\u001b[0m in \u001b[0;36m_call\u001b[0;34m(self, *args, **kwds)\u001b[0m\n\u001b[1;32m    869\u001b[0m       \u001b[0;31m# This is the first call of __call__, so we have to initialize.\u001b[0m\u001b[0;34m\u001b[0m\u001b[0;34m\u001b[0m\u001b[0;34m\u001b[0m\u001b[0m\n\u001b[1;32m    870\u001b[0m       \u001b[0minitializers\u001b[0m \u001b[0;34m=\u001b[0m \u001b[0;34m[\u001b[0m\u001b[0;34m]\u001b[0m\u001b[0;34m\u001b[0m\u001b[0;34m\u001b[0m\u001b[0m\n\u001b[0;32m--> 871\u001b[0;31m       \u001b[0mself\u001b[0m\u001b[0;34m.\u001b[0m\u001b[0m_initialize\u001b[0m\u001b[0;34m(\u001b[0m\u001b[0margs\u001b[0m\u001b[0;34m,\u001b[0m \u001b[0mkwds\u001b[0m\u001b[0;34m,\u001b[0m \u001b[0madd_initializers_to\u001b[0m\u001b[0;34m=\u001b[0m\u001b[0minitializers\u001b[0m\u001b[0;34m)\u001b[0m\u001b[0;34m\u001b[0m\u001b[0;34m\u001b[0m\u001b[0m\n\u001b[0m\u001b[1;32m    872\u001b[0m     \u001b[0;32mfinally\u001b[0m\u001b[0;34m:\u001b[0m\u001b[0;34m\u001b[0m\u001b[0;34m\u001b[0m\u001b[0m\n\u001b[1;32m    873\u001b[0m       \u001b[0;31m# At this point we know that the initialization is complete (or less\u001b[0m\u001b[0;34m\u001b[0m\u001b[0;34m\u001b[0m\u001b[0;34m\u001b[0m\u001b[0m\n",
            "\u001b[0;32m/usr/local/lib/python3.6/dist-packages/tensorflow/python/eager/def_function.py\u001b[0m in \u001b[0;36m_initialize\u001b[0;34m(self, args, kwds, add_initializers_to)\u001b[0m\n\u001b[1;32m    724\u001b[0m     self._concrete_stateful_fn = (\n\u001b[1;32m    725\u001b[0m         self._stateful_fn._get_concrete_function_internal_garbage_collected(  # pylint: disable=protected-access\n\u001b[0;32m--> 726\u001b[0;31m             *args, **kwds))\n\u001b[0m\u001b[1;32m    727\u001b[0m \u001b[0;34m\u001b[0m\u001b[0m\n\u001b[1;32m    728\u001b[0m     \u001b[0;32mdef\u001b[0m \u001b[0minvalid_creator_scope\u001b[0m\u001b[0;34m(\u001b[0m\u001b[0;34m*\u001b[0m\u001b[0munused_args\u001b[0m\u001b[0;34m,\u001b[0m \u001b[0;34m**\u001b[0m\u001b[0munused_kwds\u001b[0m\u001b[0;34m)\u001b[0m\u001b[0;34m:\u001b[0m\u001b[0;34m\u001b[0m\u001b[0;34m\u001b[0m\u001b[0m\n",
            "\u001b[0;32m/usr/local/lib/python3.6/dist-packages/tensorflow/python/eager/function.py\u001b[0m in \u001b[0;36m_get_concrete_function_internal_garbage_collected\u001b[0;34m(self, *args, **kwargs)\u001b[0m\n\u001b[1;32m   2967\u001b[0m       \u001b[0margs\u001b[0m\u001b[0;34m,\u001b[0m \u001b[0mkwargs\u001b[0m \u001b[0;34m=\u001b[0m \u001b[0;32mNone\u001b[0m\u001b[0;34m,\u001b[0m \u001b[0;32mNone\u001b[0m\u001b[0;34m\u001b[0m\u001b[0;34m\u001b[0m\u001b[0m\n\u001b[1;32m   2968\u001b[0m     \u001b[0;32mwith\u001b[0m \u001b[0mself\u001b[0m\u001b[0;34m.\u001b[0m\u001b[0m_lock\u001b[0m\u001b[0;34m:\u001b[0m\u001b[0;34m\u001b[0m\u001b[0;34m\u001b[0m\u001b[0m\n\u001b[0;32m-> 2969\u001b[0;31m       \u001b[0mgraph_function\u001b[0m\u001b[0;34m,\u001b[0m \u001b[0m_\u001b[0m \u001b[0;34m=\u001b[0m \u001b[0mself\u001b[0m\u001b[0;34m.\u001b[0m\u001b[0m_maybe_define_function\u001b[0m\u001b[0;34m(\u001b[0m\u001b[0margs\u001b[0m\u001b[0;34m,\u001b[0m \u001b[0mkwargs\u001b[0m\u001b[0;34m)\u001b[0m\u001b[0;34m\u001b[0m\u001b[0;34m\u001b[0m\u001b[0m\n\u001b[0m\u001b[1;32m   2970\u001b[0m     \u001b[0;32mreturn\u001b[0m \u001b[0mgraph_function\u001b[0m\u001b[0;34m\u001b[0m\u001b[0;34m\u001b[0m\u001b[0m\n\u001b[1;32m   2971\u001b[0m \u001b[0;34m\u001b[0m\u001b[0m\n",
            "\u001b[0;32m/usr/local/lib/python3.6/dist-packages/tensorflow/python/eager/function.py\u001b[0m in \u001b[0;36m_maybe_define_function\u001b[0;34m(self, args, kwargs)\u001b[0m\n\u001b[1;32m   3359\u001b[0m \u001b[0;34m\u001b[0m\u001b[0m\n\u001b[1;32m   3360\u001b[0m           \u001b[0mself\u001b[0m\u001b[0;34m.\u001b[0m\u001b[0m_function_cache\u001b[0m\u001b[0;34m.\u001b[0m\u001b[0mmissed\u001b[0m\u001b[0;34m.\u001b[0m\u001b[0madd\u001b[0m\u001b[0;34m(\u001b[0m\u001b[0mcall_context_key\u001b[0m\u001b[0;34m)\u001b[0m\u001b[0;34m\u001b[0m\u001b[0;34m\u001b[0m\u001b[0m\n\u001b[0;32m-> 3361\u001b[0;31m           \u001b[0mgraph_function\u001b[0m \u001b[0;34m=\u001b[0m \u001b[0mself\u001b[0m\u001b[0;34m.\u001b[0m\u001b[0m_create_graph_function\u001b[0m\u001b[0;34m(\u001b[0m\u001b[0margs\u001b[0m\u001b[0;34m,\u001b[0m \u001b[0mkwargs\u001b[0m\u001b[0;34m)\u001b[0m\u001b[0;34m\u001b[0m\u001b[0;34m\u001b[0m\u001b[0m\n\u001b[0m\u001b[1;32m   3362\u001b[0m           \u001b[0mself\u001b[0m\u001b[0;34m.\u001b[0m\u001b[0m_function_cache\u001b[0m\u001b[0;34m.\u001b[0m\u001b[0mprimary\u001b[0m\u001b[0;34m[\u001b[0m\u001b[0mcache_key\u001b[0m\u001b[0;34m]\u001b[0m \u001b[0;34m=\u001b[0m \u001b[0mgraph_function\u001b[0m\u001b[0;34m\u001b[0m\u001b[0;34m\u001b[0m\u001b[0m\n\u001b[1;32m   3363\u001b[0m \u001b[0;34m\u001b[0m\u001b[0m\n",
            "\u001b[0;32m/usr/local/lib/python3.6/dist-packages/tensorflow/python/eager/function.py\u001b[0m in \u001b[0;36m_create_graph_function\u001b[0;34m(self, args, kwargs, override_flat_arg_shapes)\u001b[0m\n\u001b[1;32m   3204\u001b[0m             \u001b[0marg_names\u001b[0m\u001b[0;34m=\u001b[0m\u001b[0marg_names\u001b[0m\u001b[0;34m,\u001b[0m\u001b[0;34m\u001b[0m\u001b[0;34m\u001b[0m\u001b[0m\n\u001b[1;32m   3205\u001b[0m             \u001b[0moverride_flat_arg_shapes\u001b[0m\u001b[0;34m=\u001b[0m\u001b[0moverride_flat_arg_shapes\u001b[0m\u001b[0;34m,\u001b[0m\u001b[0;34m\u001b[0m\u001b[0;34m\u001b[0m\u001b[0m\n\u001b[0;32m-> 3206\u001b[0;31m             capture_by_value=self._capture_by_value),\n\u001b[0m\u001b[1;32m   3207\u001b[0m         \u001b[0mself\u001b[0m\u001b[0;34m.\u001b[0m\u001b[0m_function_attributes\u001b[0m\u001b[0;34m,\u001b[0m\u001b[0;34m\u001b[0m\u001b[0;34m\u001b[0m\u001b[0m\n\u001b[1;32m   3208\u001b[0m         \u001b[0mfunction_spec\u001b[0m\u001b[0;34m=\u001b[0m\u001b[0mself\u001b[0m\u001b[0;34m.\u001b[0m\u001b[0mfunction_spec\u001b[0m\u001b[0;34m,\u001b[0m\u001b[0;34m\u001b[0m\u001b[0;34m\u001b[0m\u001b[0m\n",
            "\u001b[0;32m/usr/local/lib/python3.6/dist-packages/tensorflow/python/framework/func_graph.py\u001b[0m in \u001b[0;36mfunc_graph_from_py_func\u001b[0;34m(name, python_func, args, kwargs, signature, func_graph, autograph, autograph_options, add_control_dependencies, arg_names, op_return_value, collections, capture_by_value, override_flat_arg_shapes)\u001b[0m\n\u001b[1;32m    988\u001b[0m         \u001b[0m_\u001b[0m\u001b[0;34m,\u001b[0m \u001b[0moriginal_func\u001b[0m \u001b[0;34m=\u001b[0m \u001b[0mtf_decorator\u001b[0m\u001b[0;34m.\u001b[0m\u001b[0munwrap\u001b[0m\u001b[0;34m(\u001b[0m\u001b[0mpython_func\u001b[0m\u001b[0;34m)\u001b[0m\u001b[0;34m\u001b[0m\u001b[0;34m\u001b[0m\u001b[0m\n\u001b[1;32m    989\u001b[0m \u001b[0;34m\u001b[0m\u001b[0m\n\u001b[0;32m--> 990\u001b[0;31m       \u001b[0mfunc_outputs\u001b[0m \u001b[0;34m=\u001b[0m \u001b[0mpython_func\u001b[0m\u001b[0;34m(\u001b[0m\u001b[0;34m*\u001b[0m\u001b[0mfunc_args\u001b[0m\u001b[0;34m,\u001b[0m \u001b[0;34m**\u001b[0m\u001b[0mfunc_kwargs\u001b[0m\u001b[0;34m)\u001b[0m\u001b[0;34m\u001b[0m\u001b[0;34m\u001b[0m\u001b[0m\n\u001b[0m\u001b[1;32m    991\u001b[0m \u001b[0;34m\u001b[0m\u001b[0m\n\u001b[1;32m    992\u001b[0m       \u001b[0;31m# invariant: `func_outputs` contains only Tensors, CompositeTensors,\u001b[0m\u001b[0;34m\u001b[0m\u001b[0;34m\u001b[0m\u001b[0;34m\u001b[0m\u001b[0m\n",
            "\u001b[0;32m/usr/local/lib/python3.6/dist-packages/tensorflow/python/eager/def_function.py\u001b[0m in \u001b[0;36mwrapped_fn\u001b[0;34m(*args, **kwds)\u001b[0m\n\u001b[1;32m    632\u001b[0m             \u001b[0mxla_context\u001b[0m\u001b[0;34m.\u001b[0m\u001b[0mExit\u001b[0m\u001b[0;34m(\u001b[0m\u001b[0;34m)\u001b[0m\u001b[0;34m\u001b[0m\u001b[0;34m\u001b[0m\u001b[0m\n\u001b[1;32m    633\u001b[0m         \u001b[0;32melse\u001b[0m\u001b[0;34m:\u001b[0m\u001b[0;34m\u001b[0m\u001b[0;34m\u001b[0m\u001b[0m\n\u001b[0;32m--> 634\u001b[0;31m           \u001b[0mout\u001b[0m \u001b[0;34m=\u001b[0m \u001b[0mweak_wrapped_fn\u001b[0m\u001b[0;34m(\u001b[0m\u001b[0;34m)\u001b[0m\u001b[0;34m.\u001b[0m\u001b[0m__wrapped__\u001b[0m\u001b[0;34m(\u001b[0m\u001b[0;34m*\u001b[0m\u001b[0margs\u001b[0m\u001b[0;34m,\u001b[0m \u001b[0;34m**\u001b[0m\u001b[0mkwds\u001b[0m\u001b[0;34m)\u001b[0m\u001b[0;34m\u001b[0m\u001b[0;34m\u001b[0m\u001b[0m\n\u001b[0m\u001b[1;32m    635\u001b[0m         \u001b[0;32mreturn\u001b[0m \u001b[0mout\u001b[0m\u001b[0;34m\u001b[0m\u001b[0;34m\u001b[0m\u001b[0m\n\u001b[1;32m    636\u001b[0m \u001b[0;34m\u001b[0m\u001b[0m\n",
            "\u001b[0;32m/usr/local/lib/python3.6/dist-packages/tensorflow/python/framework/func_graph.py\u001b[0m in \u001b[0;36mwrapper\u001b[0;34m(*args, **kwargs)\u001b[0m\n\u001b[1;32m    975\u001b[0m           \u001b[0;32mexcept\u001b[0m \u001b[0mException\u001b[0m \u001b[0;32mas\u001b[0m \u001b[0me\u001b[0m\u001b[0;34m:\u001b[0m  \u001b[0;31m# pylint:disable=broad-except\u001b[0m\u001b[0;34m\u001b[0m\u001b[0;34m\u001b[0m\u001b[0m\n\u001b[1;32m    976\u001b[0m             \u001b[0;32mif\u001b[0m \u001b[0mhasattr\u001b[0m\u001b[0;34m(\u001b[0m\u001b[0me\u001b[0m\u001b[0;34m,\u001b[0m \u001b[0;34m\"ag_error_metadata\"\u001b[0m\u001b[0;34m)\u001b[0m\u001b[0;34m:\u001b[0m\u001b[0;34m\u001b[0m\u001b[0;34m\u001b[0m\u001b[0m\n\u001b[0;32m--> 977\u001b[0;31m               \u001b[0;32mraise\u001b[0m \u001b[0me\u001b[0m\u001b[0;34m.\u001b[0m\u001b[0mag_error_metadata\u001b[0m\u001b[0;34m.\u001b[0m\u001b[0mto_exception\u001b[0m\u001b[0;34m(\u001b[0m\u001b[0me\u001b[0m\u001b[0;34m)\u001b[0m\u001b[0;34m\u001b[0m\u001b[0;34m\u001b[0m\u001b[0m\n\u001b[0m\u001b[1;32m    978\u001b[0m             \u001b[0;32melse\u001b[0m\u001b[0;34m:\u001b[0m\u001b[0;34m\u001b[0m\u001b[0;34m\u001b[0m\u001b[0m\n\u001b[1;32m    979\u001b[0m               \u001b[0;32mraise\u001b[0m\u001b[0;34m\u001b[0m\u001b[0;34m\u001b[0m\u001b[0m\n",
            "\u001b[0;31mValueError\u001b[0m: in user code:\n\n    /usr/local/lib/python3.6/dist-packages/tensorflow/python/keras/engine/training.py:1478 predict_function  *\n        return step_function(self, iterator)\n    /usr/local/lib/python3.6/dist-packages/tensorflow/python/keras/engine/training.py:1468 step_function  **\n        outputs = model.distribute_strategy.run(run_step, args=(data,))\n    /usr/local/lib/python3.6/dist-packages/tensorflow/python/distribute/distribute_lib.py:1259 run\n        return self._extended.call_for_each_replica(fn, args=args, kwargs=kwargs)\n    /usr/local/lib/python3.6/dist-packages/tensorflow/python/distribute/distribute_lib.py:2730 call_for_each_replica\n        return self._call_for_each_replica(fn, args, kwargs)\n    /usr/local/lib/python3.6/dist-packages/tensorflow/python/distribute/distribute_lib.py:3417 _call_for_each_replica\n        return fn(*args, **kwargs)\n    /usr/local/lib/python3.6/dist-packages/tensorflow/python/keras/engine/training.py:1461 run_step  **\n        outputs = model.predict_step(data)\n    /usr/local/lib/python3.6/dist-packages/tensorflow/python/keras/engine/training.py:1434 predict_step\n        return self(x, training=False)\n    /usr/local/lib/python3.6/dist-packages/tensorflow/python/keras/engine/base_layer.py:1012 __call__\n        outputs = call_fn(inputs, *args, **kwargs)\n    /usr/local/lib/python3.6/dist-packages/tensorflow/python/keras/engine/functional.py:425 call\n        inputs, training=training, mask=mask)\n    /usr/local/lib/python3.6/dist-packages/tensorflow/python/keras/engine/functional.py:560 _run_internal_graph\n        outputs = node.layer(*args, **kwargs)\n    /usr/local/lib/python3.6/dist-packages/tensorflow/python/keras/engine/base_layer.py:998 __call__\n        input_spec.assert_input_compatibility(self.input_spec, inputs, self.name)\n    /usr/local/lib/python3.6/dist-packages/tensorflow/python/keras/engine/input_spec.py:223 assert_input_compatibility\n        str(tuple(shape)))\n\n    ValueError: Input 0 of layer conv1_pad is incompatible with the layer: expected ndim=4, found ndim=2. Full shape received: (None, 1)\n"
          ]
        }
      ]
    },
    {
      "cell_type": "code",
      "metadata": {
        "id": "sedvSKCt7FDo"
      },
      "source": [
        "X_train_predict_reshape=X_train_predict.reshape(len(X_train_predict),-1) #주성분 분석을 위헤 1차원으로 변경\n",
        "X_train_predict_reshape.shape"
      ],
      "execution_count": null,
      "outputs": []
    },
    {
      "cell_type": "code",
      "metadata": {
        "id": "AVEyKyfL7Nf-"
      },
      "source": [
        "X_test_predict=model.predict(X_test)\n",
        "X_test_predict.shape"
      ],
      "execution_count": null,
      "outputs": []
    },
    {
      "cell_type": "code",
      "metadata": {
        "id": "bsTdzw037Utl"
      },
      "source": [
        "X_test_predict_reshape=X_test_predict.reshape(len(X_test_predict),-1)\n",
        "X_test_predict_reshape.shape"
      ],
      "execution_count": null,
      "outputs": []
    },
    {
      "cell_type": "markdown",
      "metadata": {
        "id": "IOSR77UH7m0P"
      },
      "source": [
        "주성분 분석:\n",
        "\n",
        "주성분: 그 방향으로 데이터들의 분산이 가장 큰 방향 벡터를 의미\n",
        "\n",
        "PCA:  데이터 하나하나에 대한 성분을 분석하는 것이 아닌 여러 데이터들이 모여 하나의 분포를 이룰 때 분포의 주성분을 분석하는 방법"
      ]
    },
    {
      "cell_type": "code",
      "metadata": {
        "id": "hQjKT4gr7mML"
      },
      "source": [
        "from sklearn.preprocessing import StandardScaler\n",
        "from sklearn.decomposition import PCA\n",
        "\n",
        "from sklearn import svm"
      ],
      "execution_count": null,
      "outputs": []
    },
    {
      "cell_type": "code",
      "metadata": {
        "id": "PhSA5g1D8rj9"
      },
      "source": [
        "#scale Transform\n",
        "sf=StandardScaler()\n",
        "sf.fit(X_train_predict_reshape)\n",
        "\n",
        "X_train_scaled=sf.transform(X_train_predict_reshape)\n",
        "X_test_scaled=sf.transform(X_test_predict_reshape)"
      ],
      "execution_count": null,
      "outputs": []
    },
    {
      "cell_type": "code",
      "metadata": {
        "id": "XLd1RaET9JAy"
      },
      "source": [
        "#reduce dimension\n",
        "pca=PCA(n_componets=32,whiten=True)\n",
        "pca=pca.fit(X_train_scaled)\n",
        "\n",
        "X_train_pca=pca.transform(X_train_scaled)\n",
        "X_test_pca=pca.transform(X_test_scaled)\n"
      ],
      "execution_count": null,
      "outputs": []
    },
    {
      "cell_type": "markdown",
      "metadata": {
        "id": "pnh35swP9dwt"
      },
      "source": [
        "학습시키기 SVM, 결과 보기"
      ]
    },
    {
      "cell_type": "code",
      "metadata": {
        "id": "-OzUMBRh9j84"
      },
      "source": [
        "from sklearn.svm import SVM\n",
        "\n",
        "svm=SVC(kernel='rbf',C=10,gamma=0.01).fit(X_train_pca,Y_train)"
      ],
      "execution_count": null,
      "outputs": []
    },
    {
      "cell_type": "code",
      "metadata": {
        "id": "oHwrRBMt9vyY"
      },
      "source": [
        "result=svm.predict(X_test_pca)"
      ],
      "execution_count": null,
      "outputs": []
    },
    {
      "cell_type": "markdown",
      "metadata": {
        "id": "EUskdzKT91gE"
      },
      "source": [
        "성능 측정"
      ]
    },
    {
      "cell_type": "code",
      "metadata": {
        "id": "XgXwCouq-ekq"
      },
      "source": [
        "acc=0.0\n",
        "tp=0.0\n",
        "fp=0.0\n",
        "\n",
        "tp_length=0.0\n",
        "fp_length=0.0\n",
        "\n",
        "for i in range(len(Y_test)):\n",
        "  if Y_test[i]==1:\n",
        "    tp_length+=1\n",
        "  else:\n",
        "    fp_length+=1\n",
        "\n",
        "  if Y_test[i]== result[i]:\n",
        "    acc+=1\n",
        "    if Y_test[i]==1:\n",
        "      tp+=1\n",
        "  else:\n",
        "    if Y_test[i]==1:\n",
        "      fp+=1\n",
        "\n",
        "\n",
        "acc/=len(Y_test)\n",
        "tp/=tp_length\n",
        "fp/=fp_length"
      ],
      "execution_count": null,
      "outputs": []
    },
    {
      "cell_type": "code",
      "metadata": {
        "id": "VFqOOzNw-beG"
      },
      "source": [
        "print(\"SVM accuracy: %.3f\" %acc)\n",
        "print(\"SVM True Positive Rate: %.3f\" %tp)\n",
        "print(\"SVM False Positive Rate: %.3f\" %fp)"
      ],
      "execution_count": null,
      "outputs": []
    },
    {
      "cell_type": "code",
      "metadata": {
        "id": "65FN7uFa92sB"
      },
      "source": [
        "from sklearn.metrics import confusion_matrix, classification_report, accuracy_score\n",
        "\n",
        "# 분류결과표 - 정답 : 행 / 예측 : 열\n",
        "#confusion_matrix(y_pred, y_test)\n",
        "confusion_matrix(result, Y_test)\n",
        "\n",
        "# 오분류표\n",
        "classification_report(result, Y_test)\n",
        "\n",
        "# 분류정확도\n",
        "accuracy_score(result, Y_test)"
      ],
      "execution_count": null,
      "outputs": []
    },
    {
      "cell_type": "code",
      "metadata": {
        "id": "7GE1jINgpQGQ"
      },
      "source": [
        ""
      ],
      "execution_count": null,
      "outputs": []
    }
  ]
}