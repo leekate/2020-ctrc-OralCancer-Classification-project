{
  "nbformat": 4,
  "nbformat_minor": 0,
  "metadata": {
    "colab": {
      "name": "폴더 내 이미지 갯수 파악.ipynb",
      "provenance": [],
      "authorship_tag": "ABX9TyOdlt9UPzw7ijLUetu+LGrj",
      "include_colab_link": true
    },
    "kernelspec": {
      "name": "python3",
      "display_name": "Python 3"
    }
  },
  "cells": [
    {
      "cell_type": "markdown",
      "metadata": {
        "id": "view-in-github",
        "colab_type": "text"
      },
      "source": [
        "<a href=\"https://colab.research.google.com/github/leekate/2020ctrc/blob/master/%ED%8F%B4%EB%8D%94_%EB%82%B4_%EC%9D%B4%EB%AF%B8%EC%A7%80_%EA%B0%AF%EC%88%98_%ED%8C%8C%EC%95%85.ipynb\" target=\"_parent\"><img src=\"https://colab.research.google.com/assets/colab-badge.svg\" alt=\"Open In Colab\"/></a>"
      ]
    },
    {
      "cell_type": "code",
      "metadata": {
        "id": "JS_H9okaGvhi"
      },
      "source": [
        "import os, shutil\r\n",
        "\r\n",
        "original_dataset_dir = 'C:/Users/user/Desktop/2020-LEEJIWOO/train'\r\n",
        "\r\n",
        "#소규모 데이터셋을 저장할 디렉터리\r\n",
        "base_dir = 'C:/Users/user/Desktop/2020-LEEJIWOO/Classification_small'\r\n",
        "\r\n",
        "#훈련, 검증, 테스트 분할을 위한 디렉터리\r\n",
        "train_dir = base_dir+ '/train'\r\n",
        "\r\n",
        "validation_dir = base_dir+ '/validation'\r\n",
        "\r\n",
        "test_dir = base_dir+ '/test'\r\n",
        "\r\n",
        "\r\n",
        "\r\n",
        "\r\n",
        "train_cancers_dir = train_dir+ '/Cancers'\r\n",
        "\r\n",
        "train_precancers_dir = train_dir+ '/Precancers'\r\n",
        "\r\n",
        "train_extra_dir = train_dir+ '/Extra'\r\n",
        "\r\n",
        "train_normals_dir = train_dir+ '/Normals'\r\n",
        "\r\n",
        "\r\n",
        "\r\n",
        "#검증용  사진 디렉터리\r\n",
        "validation_cancers_dir = validation_dir+ '/Cancers'\r\n",
        "\r\n",
        "validation_precancers_dir = validation_dir+ '/Precancers'\r\n",
        "\r\n",
        "validation_extra_dir = validation_dir+ '/Extra'\r\n",
        "\r\n",
        "validation_normals_dir = validation_dir+ '/Normals'\r\n",
        "\r\n",
        "\r\n",
        "\r\n",
        "#테스트용  사진 디렉터리\r\n",
        "test_cancers_dir = test_dir+ '/Cancers'\r\n",
        "\r\n",
        "test_precancers_dir = test_dir+'/Precancers'\r\n",
        "\r\n",
        "test_extra_dir = test_dir+ '/Extra'\r\n",
        "\r\n",
        "test_normals_dir = test_dir+ '/Normals'\r\n"
      ],
      "execution_count": null,
      "outputs": []
    },
    {
      "cell_type": "code",
      "metadata": {
        "id": "EEjHZZAxGw0F"
      },
      "source": [
        "\r\n",
        "\r\n",
        "length1= \"C:/Users/user/Desktop/2020-LEEJIWOO/Classification_small/train/Cancers\"\r\n",
        "length2= \"C:/Users/user/Desktop/2020-LEEJIWOO/Classification_small/validation/Cancers\"\r\n",
        "plus1= \"C:/Users/user/Desktop/2020-LEEJIWOO/Classification_small/test/Cancers\"\r\n",
        "\r\n",
        "file_list1 = os.listdir(length1)\r\n",
        "file_list2 = os.listdir(length2)\r\n",
        "plus_list1 = os.listdir(plus1)\r\n",
        "\r\n",
        "print(\"cancer\")\r\n",
        "print(len(file_list1))\r\n",
        "print(len(file_list2))\r\n",
        "print(len(plus_list1))"
      ],
      "execution_count": null,
      "outputs": []
    },
    {
      "cell_type": "code",
      "metadata": {
        "id": "QQEgVffkG0Pv"
      },
      "source": [
        "length3= \"C:/Users/user/Desktop/2020-LEEJIWOO/Classification_small/train/Precancers\"\r\n",
        "length4= \"C:/Users/user/Desktop/2020-LEEJIWOO/Classification_small/validation/Precancers\"\r\n",
        "plus2= \"C:/Users/user/Desktop/2020-LEEJIWOO/Classification_small/test/Precancers\"\r\n",
        "\r\n",
        "file_list3 = os.listdir(length3)\r\n",
        "file_list4 = os.listdir(length4)\r\n",
        "plus_list2 = os.listdir(plus2)\r\n",
        "\r\n",
        "print(\"precancer\")\r\n",
        "print(len(file_list3))\r\n",
        "print(len(file_list4))\r\n",
        "print(len(plus_list2))"
      ],
      "execution_count": null,
      "outputs": []
    },
    {
      "cell_type": "code",
      "metadata": {
        "id": "bT3ISWJzG0M4"
      },
      "source": [
        "length5 = \"C:/Users/user/Desktop/2020-LEEJIWOO/Classification_small/train/Extra\"\r\n",
        "length6 = \"C:/Users/user/Desktop/2020-LEEJIWOO/Classification_small/validation/Extra\"\r\n",
        "plus3= \"C:/Users/user/Desktop/2020-LEEJIWOO/Classification_small/test/Extra\"\r\n",
        "\r\n",
        "file_list5 = os.listdir(length5)\r\n",
        "file_list6 = os.listdir(length6)\r\n",
        "plus_list3 = os.listdir(plus3)\r\n",
        "\r\n",
        "print(\"extra\")\r\n",
        "print(len(file_list5))\r\n",
        "print(len(file_list6))\r\n",
        "print(len(plus_list3))"
      ],
      "execution_count": null,
      "outputs": []
    },
    {
      "cell_type": "code",
      "metadata": {
        "id": "N56syvuBG0KI"
      },
      "source": [
        "length7 = \"C:/Users/user/Desktop/2020-LEEJIWOO/Classification_small/train/Normals\"\r\n",
        "length8 = \"C:/Users/user/Desktop/2020-LEEJIWOO/Classification_small/validation/Normals\"\r\n",
        "plus4= \"C:/Users/user/Desktop/2020-LEEJIWOO/Classification_small/test/Normals\"\r\n",
        "\r\n",
        "file_list7 = os.listdir(length7)\r\n",
        "file_list8 = os.listdir(length8)\r\n",
        "plus_list4 = os.listdir(plus4)\r\n",
        "\r\n",
        "print(\"normal\")\r\n",
        "print(len(file_list7))\r\n",
        "print(len(file_list8))\r\n",
        "print(len(plus_list4))"
      ],
      "execution_count": null,
      "outputs": []
    },
    {
      "cell_type": "code",
      "metadata": {
        "id": "iEAcvJsCG0Fo"
      },
      "source": [
        "import pandas as pd\r\n",
        "\r\n",
        "#df = df_maker(3,4,0)  # 3X3 데이터 프레임 생성 0으로 채움\r\n",
        "col = [\"Train image\",\"Validation Image\",\"Test Image\",\"Total Image\"]\r\n",
        "ind = [\"Cancer\",\"Precancer\",\"Extra\",\"Normal\",\"TOTAL\"]\r\n",
        "#df.columns = col  # 컬럼 col 리스트로 덮어씌움\r\n",
        "#df.index = ind    # 인덱스 ind 리스트로 덮어씌움\r\n",
        "\r\n",
        "\r\n",
        "con = [\r\n",
        "       [len(file_list1),len(file_list2),len(plus_list1),len(plus_list1)+len(file_list1)+len(file_list2)], \r\n",
        "       [len(file_list3),len(file_list4),len(plus_list2),len(plus_list2)+len(file_list3)+len(file_list4)],\r\n",
        "       [len(file_list5),len(file_list6),len(plus_list3),len(plus_list3)+len(file_list5)+len(file_list6)],\r\n",
        "       [len(file_list7),len(file_list8),len(plus_list4),len(plus_list4)+len(file_list7)+len(file_list8)],\r\n",
        "        [len(file_list1)+len(file_list3)+len(file_list5)+len(file_list3),\r\n",
        "         len(file_list2)+len(file_list4)+len(file_list6)+len(file_list8),\r\n",
        "         len(plus_list1)+len(plus_list2)+len(plus_list3)+len(plus_list4),\r\n",
        "        len(file_list1)+len(file_list3)+len(file_list5)+len(file_list3)+len(file_list2)+len(file_list4)+len(file_list6)+len(file_list8)+len(plus_list1)+len(plus_list2)+len(plus_list3)+len(plus_list4)]\r\n",
        "       ]\r\n",
        "\r\n",
        "pd.DataFrame(con,columns=col, index=ind)"
      ],
      "execution_count": null,
      "outputs": []
    },
    {
      "cell_type": "code",
      "metadata": {
        "id": "fAYi1JI5G0BC"
      },
      "source": [
        ""
      ],
      "execution_count": null,
      "outputs": []
    }
  ]
}