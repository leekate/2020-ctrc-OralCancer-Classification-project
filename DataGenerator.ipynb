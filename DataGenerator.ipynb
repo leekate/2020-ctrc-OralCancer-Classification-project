{
  "nbformat": 4,
  "nbformat_minor": 0,
  "metadata": {
    "colab": {
      "name": "DataGenerator.ipynb",
      "provenance": [],
      "authorship_tag": "ABX9TyO0rlou5dcavQl1j1ecH+kr",
      "include_colab_link": true
    },
    "kernelspec": {
      "name": "python3",
      "display_name": "Python 3"
    }
  },
  "cells": [
    {
      "cell_type": "markdown",
      "metadata": {
        "id": "view-in-github",
        "colab_type": "text"
      },
      "source": [
        "<a href=\"https://colab.research.google.com/github/leekate/2020ctrc/blob/master/DataGenerator.ipynb\" target=\"_parent\"><img src=\"https://colab.research.google.com/assets/colab-badge.svg\" alt=\"Open In Colab\"/></a>"
      ]
    },
    {
      "cell_type": "code",
      "metadata": {
        "id": "FUUw29yMOr3O"
      },
      "source": [
        ""
      ],
      "execution_count": null,
      "outputs": []
    },
    {
      "cell_type": "markdown",
      "metadata": {
        "id": "knv0gyV5-tSR"
      },
      "source": [
        "# DataGenerate"
      ]
    },
    {
      "cell_type": "code",
      "metadata": {
        "id": "2NLB9Zbd7W3o"
      },
      "source": [
        "import os\r\n",
        "from tensorflow.keras.preprocessing.image import ImageDataGenerator,array_to_img,img_to_array, load_img\r\n",
        "import numpy as np\r\n",
        "\r\n",
        "np.random.seed(3)\r\n",
        "\r\n",
        "imageGenerator = ImageDataGenerator(rescale=1./255,\r\n",
        "                                    horizontal_flip=True,\r\n",
        "                                    vertical_flip=True,\r\n",
        "                                    rotation_range=40,\r\n",
        "                                    width_shift_range=0.2,\r\n",
        "                                    height_shift_range=0.2,\r\n",
        "                                    zoom_range=0.2)\r\n",
        "\r\n",
        "\r\n"
      ],
      "execution_count": null,
      "outputs": []
    },
    {
      "cell_type": "code",
      "metadata": {
        "id": "tiuay1Zy7aAy"
      },
      "source": [
        "import os\r\n",
        "import numpy as np\r\n",
        "from PIL import Image\r\n",
        "\r\n",
        "path1 = \"/content/drive/Shareddrives/CTRC/train/1.Cancer\"\r\n",
        "\r\n",
        "file_list = os.listdir(path1)\r\n",
        "\r\n",
        "print (\"file_list: {}\".format(file_list))\r\n",
        "\r\n",
        "n=len(file_list)\r\n",
        "print(\"n=%d\"%(n))\r\n",
        "print(file_list[0])\r\n",
        "\r\n",
        "\r\n",
        "\r\n",
        "np.random.seed(5)\r\n",
        "from keras.preprocessing.image import ImageDataGenerator, array_to_img, img_to_array, load_img\r\n",
        "\r\n",
        "for j in range(0,287):\r\n",
        "    \r\n",
        "    img = load_img('/content/drive/Shareddrives/CTRC/train/1.Cancer/{}'.format(file_list[j]))\r\n",
        "    x = img_to_array(img)\r\n",
        "    x = x.reshape((1,) + x.shape)\r\n",
        "\r\n",
        "    i = 0\r\n",
        "\r\n",
        "    for batch in imageGenerator.flow(x, \r\n",
        "                                     batch_size=1,\r\n",
        "                                     save_to_dir='/content/drive/Shareddrives/CTRC/DataGenerator_enhancement/train3/1.Cancer', \r\n",
        "                                     save_prefix='{}'.format(file_list[j]),\r\n",
        "                                     save_format='jpg'):\r\n",
        "\r\n",
        "        i += 1\r\n",
        "\r\n",
        "        if i >2: \r\n",
        "\r\n",
        "            break"
      ],
      "execution_count": null,
      "outputs": []
    },
    {
      "cell_type": "code",
      "metadata": {
        "id": "WZBM4jNZ7exO"
      },
      "source": [
        "import os\r\n",
        "import numpy as np\r\n",
        "from PIL import Image\r\n",
        "#path = 이미지resize할 file directory\r\n",
        "path2 = \"/content/drive/Shareddrives/CTRC/train/2.Precancer\"\r\n",
        "\r\n",
        "file_list = os.listdir(path2)\r\n",
        "\r\n",
        "print (\"file_list: {}\".format(file_list))\r\n",
        "\r\n",
        "n=len(file_list)\r\n",
        "print(\"n=%d\"%(n))\r\n",
        "print(file_list[0])\r\n",
        "\r\n",
        "\r\n",
        "np.random.seed(5)\r\n",
        "from keras.preprocessing.image import ImageDataGenerator, array_to_img, img_to_array, load_img\r\n",
        "\r\n",
        "\r\n",
        "\r\n",
        "for j in range(0,105):\r\n",
        "    \r\n",
        "    img = load_img('/content/drive/Shareddrives/CTRC/train/2.Precancer/{}'.format(file_list[j]))\r\n",
        "    x = img_to_array(img)\r\n",
        "    x = x.reshape((1,) + x.shape)\r\n",
        "\r\n",
        "    i = 0\r\n",
        "\r\n",
        "    for batch in imageGenerator.flow(x, batch_size=1, save_to_dir='/content/drive/Shareddrives/CTRC/DataGenerator_enhancement/train3/2.Precancer',\r\n",
        "                               save_prefix='{}'.format(file_list[j]), save_format='jpg'):\r\n",
        "\r\n",
        "        i += 1\r\n",
        "\r\n",
        "        if i >2: \r\n",
        "\r\n",
        "            break"
      ],
      "execution_count": null,
      "outputs": []
    },
    {
      "cell_type": "code",
      "metadata": {
        "id": "yeiFuszo7mQK"
      },
      "source": [
        "\r\n",
        "import os\r\n",
        "import numpy as np\r\n",
        "from PIL import Image\r\n",
        "#path = 이미지resize할 file directory\r\n",
        "path3 = \"/content/drive/Shareddrives/CTRC/train/3.Inflammatory\"\r\n",
        "\r\n",
        "file_list = os.listdir(path3)\r\n",
        "\r\n",
        "print (\"file_list: {}\".format(file_list))\r\n",
        "\r\n",
        "n=len(file_list)\r\n",
        "print(\"n=%d\"%(n))\r\n",
        "print(file_list[0])\r\n",
        "\r\n",
        "\r\n",
        "\r\n",
        "np.random.seed(5)\r\n",
        "from keras.preprocessing.image import ImageDataGenerator, array_to_img, img_to_array, load_img\r\n",
        "\r\n",
        "\r\n",
        "for j in range(0,185):\r\n",
        "    \r\n",
        "    img = load_img('/content/drive/Shareddrives/CTRC/train/3.Inflammatory/{}'.format(file_list[j]))\r\n",
        "    x = img_to_array(img)\r\n",
        "    x = x.reshape((1,) + x.shape)\r\n",
        "\r\n",
        "    i = 0\r\n",
        "\r\n",
        "    for batch in imageGenerator.flow(x, batch_size=1, save_to_dir='/content/drive/Shareddrives/CTRC/DataGenerator_enhancement/train3/3.Inflammatory',\r\n",
        "                               save_prefix='{}'.format(file_list[j]), save_format='jpg'):\r\n",
        "\r\n",
        "        i += 1\r\n",
        "\r\n",
        "        if i > 2: \r\n",
        "\r\n",
        "            break\r\n"
      ],
      "execution_count": null,
      "outputs": []
    },
    {
      "cell_type": "code",
      "metadata": {
        "id": "6nsFpLgn6lNl"
      },
      "source": [
        "\r\n",
        "\r\n",
        "\r\n",
        "import os\r\n",
        "import numpy as np\r\n",
        "from PIL import Image\r\n",
        "#path = 이미지resize할 file directory\r\n",
        "path4 = \"/content/drive/Shareddrives/CTRC/train/4.Normal\"\r\n",
        "\r\n",
        "file_list = os.listdir(path4)\r\n",
        "\r\n",
        "print (\"file_list: {}\".format(file_list))\r\n",
        "\r\n",
        "n=len(file_list)\r\n",
        "print(\"n=%d\"%(n))\r\n",
        "print(file_list[0])\r\n",
        "\r\n",
        "\r\n",
        "np.random.seed(5)\r\n",
        "from keras.preprocessing.image import ImageDataGenerator, array_to_img, img_to_array, load_img\r\n",
        "\r\n",
        "for j in range(0,796):\r\n",
        "    \r\n",
        "    img = load_img('/content/drive/Shareddrives/CTRC/train/4.Normal/{}'.format(file_list[j]))\r\n",
        "    x = img_to_array(img)\r\n",
        "    x = x.reshape((1,) + x.shape)\r\n",
        "\r\n",
        "    i = 0\r\n",
        "\r\n",
        "    for batch in imageGenerator.flow(x, batch_size=1, save_to_dir='/content/drive/Shareddrives/CTRC/DataGenerator_enhancement/train3/4.Normal',\r\n",
        "                               save_prefix='{}'.format(file_list[j]), save_format='jpg'):\r\n",
        "\r\n",
        "        i += 1\r\n",
        "\r\n",
        "        if i > 1: \r\n",
        "\r\n",
        "            break"
      ],
      "execution_count": null,
      "outputs": []
    }
  ]
}