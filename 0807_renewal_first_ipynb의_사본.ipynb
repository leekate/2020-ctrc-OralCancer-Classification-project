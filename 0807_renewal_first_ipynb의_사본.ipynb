{
  "nbformat": 4,
  "nbformat_minor": 0,
  "metadata": {
    "kernelspec": {
      "display_name": "Python 3",
      "language": "python",
      "name": "python3"
    },
    "language_info": {
      "codemirror_mode": {
        "name": "ipython",
        "version": 3
      },
      "file_extension": ".py",
      "mimetype": "text/x-python",
      "name": "python",
      "nbconvert_exporter": "python",
      "pygments_lexer": "ipython3",
      "version": "3.6.5"
    },
    "colab": {
      "name": "0807_renewal_first.ipynb의 사본",
      "provenance": [],
      "collapsed_sections": [
        "51XEp7KKNoSu"
      ],
      "toc_visible": true,
      "include_colab_link": true
    },
    "accelerator": "GPU"
  },
  "cells": [
    {
      "cell_type": "markdown",
      "metadata": {
        "id": "view-in-github",
        "colab_type": "text"
      },
      "source": [
        "<a href=\"https://colab.research.google.com/github/leekate/2020ctrc/blob/master/0807_renewal_first_ipynb%EC%9D%98_%EC%82%AC%EB%B3%B8.ipynb\" target=\"_parent\"><img src=\"https://colab.research.google.com/assets/colab-badge.svg\" alt=\"Open In Colab\"/></a>"
      ]
    },
    {
      "cell_type": "markdown",
      "metadata": {
        "id": "kBpq41JKVj6M",
        "colab_type": "text"
      },
      "source": [
        "# **MULTI_IMAGE_CLASSIFICATION**\n",
        "\n",
        "4가지의 이미지 분류\n",
        "\n",
        "기본적인 방법은 단일 이미지 분류와 같다. 대신, 다중 이미지 분류이기 때문에 카테고리의 변화가 있다.\n"
      ]
    },
    {
      "cell_type": "markdown",
      "metadata": {
        "id": "Gyxw6i29yifu",
        "colab_type": "text"
      },
      "source": [
        "## 1번 train"
      ]
    },
    {
      "cell_type": "code",
      "metadata": {
        "id": "Z7raZpBpWzvc",
        "colab_type": "code",
        "colab": {
          "base_uri": "https://localhost:8080/",
          "height": 127
        },
        "outputId": "2709bce5-f051-4324-c637-015358605199"
      },
      "source": [
        "from google.colab import drive\n",
        "drive.mount('/content/drive')"
      ],
      "execution_count": null,
      "outputs": [
        {
          "output_type": "stream",
          "text": [
            "Go to this URL in a browser: https://accounts.google.com/o/oauth2/auth?client_id=947318989803-6bn6qk8qdgf4n4g3pfee6491hc0brc4i.apps.googleusercontent.com&redirect_uri=urn%3aietf%3awg%3aoauth%3a2.0%3aoob&response_type=code&scope=email%20https%3a%2f%2fwww.googleapis.com%2fauth%2fdocs.test%20https%3a%2f%2fwww.googleapis.com%2fauth%2fdrive%20https%3a%2f%2fwww.googleapis.com%2fauth%2fdrive.photos.readonly%20https%3a%2f%2fwww.googleapis.com%2fauth%2fpeopleapi.readonly\n",
            "\n",
            "Enter your authorization code:\n",
            "··········\n",
            "Mounted at /content/drive\n"
          ],
          "name": "stdout"
        }
      ]
    },
    {
      "cell_type": "markdown",
      "metadata": {
        "id": "D6L9_lOxrLTr",
        "colab_type": "text"
      },
      "source": [
        "### 파일 읽어오기"
      ]
    },
    {
      "cell_type": "code",
      "metadata": {
        "id": "VlpQzeS_9yzx",
        "colab_type": "code",
        "colab": {
          "base_uri": "https://localhost:8080/",
          "height": 35
        },
        "outputId": "a5f4b861-7cb1-4283-f838-f95fdd01483e"
      },
      "source": [
        "'''!pip uninstall keras\n",
        "!pip install Keras==2.2.4\n",
        "\n",
        "!pip uninstall tensorflow\n",
        "!pip install tensorflow==1.13.1'''"
      ],
      "execution_count": null,
      "outputs": [
        {
          "output_type": "execute_result",
          "data": {
            "application/vnd.google.colaboratory.intrinsic+json": {
              "type": "string"
            },
            "text/plain": [
              "'!pip uninstall keras\\n!pip install Keras==2.2.4\\n\\n!pip uninstall tensorflow\\n!pip install tensorflow==1.13.1'"
            ]
          },
          "metadata": {
            "tags": []
          },
          "execution_count": 1
        }
      ]
    },
    {
      "cell_type": "code",
      "metadata": {
        "id": "CRnXICbbVj6Q",
        "colab_type": "code",
        "colab": {
          "base_uri": "https://localhost:8080/",
          "height": 478
        },
        "outputId": "83a25f75-fda8-49ac-c318-69b5cafcc483"
      },
      "source": [
        "from PIL import Image\n",
        "import os, glob, numpy as np\n",
        "from sklearn.model_selection import train_test_split\n",
        "\n",
        "caltech_dir = '/content/drive/My Drive/CTRC/train'\n",
        "categories = [\"1. Cancer\",\"2. Precancer\",\"3. Extra\",\"4. Normal\"]\n",
        "nb_classes = len(categories)\n",
        "\n",
        "image_w = 64\n",
        "image_h = 64\n",
        "\n",
        "pixels = image_h * image_w * 3\n",
        "\n",
        "X = []\n",
        "y = []\n",
        "\n",
        "\n",
        "#카테고리별로 돌면서 label 먼저 0으로 초기화\n",
        "#첫번째 idx에 1 넣어주기\n",
        "#1 0 0 0 이면 cancer\n",
        "#0 1 0 0 이면 precancer 이런식\n",
        "\n",
        "\n",
        "for idx, cat in enumerate(categories): #cat은 뭘까 \n",
        "    \n",
        "    #one-hot 돌리기.\n",
        "    label = [0 for i in range(nb_classes)]\n",
        "    label[idx] = 1\n",
        "\n",
        "    image_dir = caltech_dir + \"/\" + cat #cat은 뭘까\n",
        "    files = glob.glob(image_dir+\"/*.jpg\")\n",
        "    print(cat, \" 파일 길이 : \", len(files))\n",
        "    for i, f in enumerate(files):\n",
        "        img = Image.open(f)\n",
        "        img = img.convert(\"RGB\") #이미지 RGB값으로 바꿔주고\n",
        "        img = img.resize((image_w, image_h)) #resize하고\n",
        "        data = np.asarray(img) #그 값을 numpy 라이브러리를 이용해 저장\n",
        "\n",
        "        X.append(data)\n",
        "        y.append(label)\n",
        "\n",
        "        if i % 700 == 0:\n",
        "            print(cat, \" : \", f)\n",
        "\n",
        "X = np.array(X)\n",
        "y = np.array(y)\n",
        "\n",
        "\n",
        "X_train, X_test, y_train, y_test = train_test_split(X, y, test_size=0.3, random_state=321)\n",
        "\n",
        "xy = (X_train, X_test, y_train, y_test)\n",
        "np.save('/content/drive/My Drive/CTRC/train/multi_image_data.npy', xy)\n",
        "\n",
        "print(\"ok\", len(y))\n"
      ],
      "execution_count": null,
      "outputs": [
        {
          "output_type": "stream",
          "text": [
            "1. Cancer  파일 길이 :  412\n",
            "1. Cancer  :  /content/drive/My Drive/CTRC/train/1. Cancer/can_1.jpg\n",
            "2. Precancer  파일 길이 :  150\n",
            "2. Precancer  :  /content/drive/My Drive/CTRC/train/2. Precancer/precan_1.jpg\n",
            "3. Extra  파일 길이 :  265\n",
            "3. Extra  :  /content/drive/My Drive/CTRC/train/3. Extra/inf_1.jpg\n"
          ],
          "name": "stdout"
        },
        {
          "output_type": "error",
          "ename": "KeyboardInterrupt",
          "evalue": "ignored",
          "traceback": [
            "\u001b[0;31m---------------------------------------------------------------------------\u001b[0m",
            "\u001b[0;31mKeyboardInterrupt\u001b[0m                         Traceback (most recent call last)",
            "\u001b[0;32m<ipython-input-2-d26304168eec>\u001b[0m in \u001b[0;36m<module>\u001b[0;34m()\u001b[0m\n\u001b[1;32m     34\u001b[0m         \u001b[0mimg\u001b[0m \u001b[0;34m=\u001b[0m \u001b[0mImage\u001b[0m\u001b[0;34m.\u001b[0m\u001b[0mopen\u001b[0m\u001b[0;34m(\u001b[0m\u001b[0mf\u001b[0m\u001b[0;34m)\u001b[0m\u001b[0;34m\u001b[0m\u001b[0;34m\u001b[0m\u001b[0m\n\u001b[1;32m     35\u001b[0m         \u001b[0mimg\u001b[0m \u001b[0;34m=\u001b[0m \u001b[0mimg\u001b[0m\u001b[0;34m.\u001b[0m\u001b[0mconvert\u001b[0m\u001b[0;34m(\u001b[0m\u001b[0;34m\"RGB\"\u001b[0m\u001b[0;34m)\u001b[0m \u001b[0;31m#이미지 RGB값으로 바꿔주고\u001b[0m\u001b[0;34m\u001b[0m\u001b[0;34m\u001b[0m\u001b[0m\n\u001b[0;32m---> 36\u001b[0;31m         \u001b[0mimg\u001b[0m \u001b[0;34m=\u001b[0m \u001b[0mimg\u001b[0m\u001b[0;34m.\u001b[0m\u001b[0mresize\u001b[0m\u001b[0;34m(\u001b[0m\u001b[0;34m(\u001b[0m\u001b[0mimage_w\u001b[0m\u001b[0;34m,\u001b[0m \u001b[0mimage_h\u001b[0m\u001b[0;34m)\u001b[0m\u001b[0;34m)\u001b[0m \u001b[0;31m#resize하고\u001b[0m\u001b[0;34m\u001b[0m\u001b[0;34m\u001b[0m\u001b[0m\n\u001b[0m\u001b[1;32m     37\u001b[0m         \u001b[0mdata\u001b[0m \u001b[0;34m=\u001b[0m \u001b[0mnp\u001b[0m\u001b[0;34m.\u001b[0m\u001b[0masarray\u001b[0m\u001b[0;34m(\u001b[0m\u001b[0mimg\u001b[0m\u001b[0;34m)\u001b[0m \u001b[0;31m#그 값을 numpy 라이브러리를 이용해 저장\u001b[0m\u001b[0;34m\u001b[0m\u001b[0;34m\u001b[0m\u001b[0m\n\u001b[1;32m     38\u001b[0m \u001b[0;34m\u001b[0m\u001b[0m\n",
            "\u001b[0;32m/usr/local/lib/python3.6/dist-packages/PIL/Image.py\u001b[0m in \u001b[0;36mresize\u001b[0;34m(self, size, resample, box, reducing_gap)\u001b[0m\n\u001b[1;32m   1871\u001b[0m                 )\n\u001b[1;32m   1872\u001b[0m \u001b[0;34m\u001b[0m\u001b[0m\n\u001b[0;32m-> 1873\u001b[0;31m         \u001b[0;32mreturn\u001b[0m \u001b[0mself\u001b[0m\u001b[0;34m.\u001b[0m\u001b[0m_new\u001b[0m\u001b[0;34m(\u001b[0m\u001b[0mself\u001b[0m\u001b[0;34m.\u001b[0m\u001b[0mim\u001b[0m\u001b[0;34m.\u001b[0m\u001b[0mresize\u001b[0m\u001b[0;34m(\u001b[0m\u001b[0msize\u001b[0m\u001b[0;34m,\u001b[0m \u001b[0mresample\u001b[0m\u001b[0;34m,\u001b[0m \u001b[0mbox\u001b[0m\u001b[0;34m)\u001b[0m\u001b[0;34m)\u001b[0m\u001b[0;34m\u001b[0m\u001b[0;34m\u001b[0m\u001b[0m\n\u001b[0m\u001b[1;32m   1874\u001b[0m \u001b[0;34m\u001b[0m\u001b[0m\n\u001b[1;32m   1875\u001b[0m     \u001b[0;32mdef\u001b[0m \u001b[0mreduce\u001b[0m\u001b[0;34m(\u001b[0m\u001b[0mself\u001b[0m\u001b[0;34m,\u001b[0m \u001b[0mfactor\u001b[0m\u001b[0;34m,\u001b[0m \u001b[0mbox\u001b[0m\u001b[0;34m=\u001b[0m\u001b[0;32mNone\u001b[0m\u001b[0;34m)\u001b[0m\u001b[0;34m:\u001b[0m\u001b[0;34m\u001b[0m\u001b[0;34m\u001b[0m\u001b[0m\n",
            "\u001b[0;31mKeyboardInterrupt\u001b[0m: "
          ]
        }
      ]
    },
    {
      "cell_type": "code",
      "metadata": {
        "id": "4OaYbDlE1ujL",
        "colab_type": "code",
        "colab": {}
      },
      "source": [
        "\n",
        "from tensorflow.keras.preprocessing.image import array_to_img\n",
        "import numpy as np\n",
        "\n",
        "cls_index = ['1. Cancer', '2. Precancer','3. Extra','4. Normal']\n",
        "\n",
        "imgs = trainGen.next()\n",
        "arr = imgs[0][0]\n",
        "\n",
        "\n",
        "img = array_to_img(arr).resize((128, 128))"
      ],
      "execution_count": null,
      "outputs": []
    },
    {
      "cell_type": "markdown",
      "metadata": {
        "id": "XwYkZZtZrSb1",
        "colab_type": "text"
      },
      "source": [
        "### 학습하기"
      ]
    },
    {
      "cell_type": "markdown",
      "metadata": {
        "id": "05dG18BFVj68",
        "colab_type": "text"
      },
      "source": [
        "이제 numpy 데이터를 불러온다. 이거 가지고 학습!"
      ]
    },
    {
      "cell_type": "code",
      "metadata": {
        "id": "cOGSV6XKVj7B",
        "colab_type": "code",
        "colab": {
          "base_uri": "https://localhost:8080/",
          "height": 53
        },
        "outputId": "47586897-4287-44da-bf69-8e7c32a003a7"
      },
      "source": [
        "import os, glob, numpy as np\n",
        "\n",
        "from keras.models import Sequential\n",
        "from keras.layers import Conv2D, MaxPooling2D, Dense, Flatten, Dropout\n",
        "from keras.callbacks import EarlyStopping, ModelCheckpoint\n",
        "import matplotlib.pyplot as plt\n",
        "import keras.backend.tensorflow_backend as K\n",
        "\n",
        "\n",
        "import tensorflow as tf\n",
        "config = tf.compat.v1.ConfigProto()\n",
        "config.gpu_options.allow_growth = True\n",
        "session = tf.compat.v1.Session(config=config)\n",
        "\n",
        "X_train, X_test, y_train, y_test = np.load('/content/drive/My Drive/CTRC/train/multi_image_data.npy', allow_pickle=True)\n",
        "print(X_train.shape)\n",
        "print(X_train.shape[0])"
      ],
      "execution_count": null,
      "outputs": [
        {
          "output_type": "stream",
          "text": [
            "(1386, 64, 64, 3)\n",
            "1386\n"
          ],
          "name": "stdout"
        }
      ]
    },
    {
      "cell_type": "code",
      "metadata": {
        "id": "b3-RU4OeVj7W",
        "colab_type": "code",
        "colab": {}
      },
      "source": [
        "categories = [\"1. Cancer\",\"2. Precancer\",\"3. Extra\",\"4. Normal\"]\n",
        "nb_classes = len(categories)\n",
        "\n",
        "#일반화\n",
        "X_train = X_train.astype(float) / 255\n",
        "X_test = X_test.astype(float) / 255"
      ],
      "execution_count": null,
      "outputs": []
    },
    {
      "cell_type": "markdown",
      "metadata": {
        "id": "9352Bt6Inuk7",
        "colab_type": "text"
      },
      "source": [
        "### CNN 모델 만들기 (Conv2D 이용)"
      ]
    },
    {
      "cell_type": "code",
      "metadata": {
        "id": "mhc9w51LVj7s",
        "colab_type": "code",
        "colab": {}
      },
      "source": [
        "\n",
        "\n",
        "with K.tf.device('/device:GPU:0'):\n",
        "    model = Sequential()\n",
        "    model.add(Conv2D(32, (7,7), padding=\"same\", input_shape=X_train.shape[1:], activation='relu'))\n",
        "    model.add(MaxPooling2D(pool_size=(2,2)))\n",
        "    '''model.add(Dropout(0.25))'''\n",
        "    # 3X3 크기의 컨볼루션 레이어를 32개의 필터수를 처음에 생성\n",
        "    # 활성화 함수 relu\n",
        "    # (64,64,3)의 튜플 값 가진다\n",
        "    # Maxpooling2D를 통해 중요 값만 뽑아 작은 출력값 만든다\n",
        "\n",
        "    \n",
        "    model.add(Conv2D(64, (5,5), padding=\"same\", activation='relu'))\n",
        "    model.add(MaxPooling2D(pool_size=(2,2)))\n",
        "    '''model.add(Dropout(0.25))'''\n",
        "\n",
        "    model.add(Conv2D(128, (3,3), padding=\"same\", activation='relu'))\n",
        "    model.add(MaxPooling2D(pool_size=(2,2)))\n",
        "\n",
        "    model.add(Conv2D(256, (3,3), padding=\"same\", activation='relu'))\n",
        "    model.add(MaxPooling2D(pool_size=(2,2)))\n",
        "\n",
        "\n",
        "    model.add(Conv2D(512, (3,3), padding=\"same\", activation='relu'))\n",
        "    model.add(MaxPooling2D(pool_size=(2,2)))\n",
        "\n",
        "\n",
        "    model.add(Flatten()) \n",
        "    #CNN에서 컨볼루션 레이어나 맥스풀링을 거치면 주요 특징만 추출되어 학습됨\n",
        "    \n",
        "    #컨볼루션이나 맥스풀링은 주로 2차원을 다루지만\n",
        "    #전결합층에 전달을 하기 위해서는 1차원으로 바꿔야하는데\n",
        "    #이 때 Flatten사용\n",
        "    model.add(Dense(256, activation='relu'))\n",
        "    model.add(Dense(64, activation='relu'))\n",
        "    model.add(Dense(32, activation='relu'))\n",
        "    model.add(Dense(16, activation='relu'))\n",
        "    #model.add(Dropout(0.5))\n",
        "    model.add(Dense(nb_classes, activation='softmax'))\n",
        "\n",
        "    model.compile(loss='categorical_crossentropy', optimizer='adam', metrics=['accuracy'])\n",
        "    model_dir = './model'\n",
        "    \n",
        "    if not os.path.exists(model_dir):\n",
        "        os.mkdir(model_dir)\n",
        "    \n",
        "    model_path = model_dir + '/multi_img_classification.model'\n",
        "    checkpoint = ModelCheckpoint(filepath=model_path , monitor='val_loss', verbose=1, save_best_only=True)\n",
        "    early_stopping = EarlyStopping(monitor='val_loss', patience=6)\n",
        "    \n",
        "    "
      ],
      "execution_count": null,
      "outputs": []
    },
    {
      "cell_type": "code",
      "metadata": {
        "id": "LFPqoC_nVj8G",
        "colab_type": "code",
        "colab": {
          "base_uri": "https://localhost:8080/",
          "height": 719
        },
        "outputId": "142afcde-e8e6-4ee6-b659-88e477d04101"
      },
      "source": [
        "model.summary()"
      ],
      "execution_count": null,
      "outputs": [
        {
          "output_type": "stream",
          "text": [
            "_________________________________________________________________\n",
            "Layer (type)                 Output Shape              Param #   \n",
            "=================================================================\n",
            "conv2d_6 (Conv2D)            (None, 64, 64, 32)        4736      \n",
            "_________________________________________________________________\n",
            "max_pooling2d_6 (MaxPooling2 (None, 32, 32, 32)        0         \n",
            "_________________________________________________________________\n",
            "conv2d_7 (Conv2D)            (None, 32, 32, 64)        51264     \n",
            "_________________________________________________________________\n",
            "max_pooling2d_7 (MaxPooling2 (None, 16, 16, 64)        0         \n",
            "_________________________________________________________________\n",
            "conv2d_8 (Conv2D)            (None, 16, 16, 128)       73856     \n",
            "_________________________________________________________________\n",
            "max_pooling2d_8 (MaxPooling2 (None, 8, 8, 128)         0         \n",
            "_________________________________________________________________\n",
            "conv2d_9 (Conv2D)            (None, 8, 8, 256)         295168    \n",
            "_________________________________________________________________\n",
            "max_pooling2d_9 (MaxPooling2 (None, 4, 4, 256)         0         \n",
            "_________________________________________________________________\n",
            "conv2d_10 (Conv2D)           (None, 4, 4, 512)         1180160   \n",
            "_________________________________________________________________\n",
            "max_pooling2d_10 (MaxPooling (None, 2, 2, 512)         0         \n",
            "_________________________________________________________________\n",
            "flatten_2 (Flatten)          (None, 2048)              0         \n",
            "_________________________________________________________________\n",
            "dense_6 (Dense)              (None, 256)               524544    \n",
            "_________________________________________________________________\n",
            "dense_7 (Dense)              (None, 64)                16448     \n",
            "_________________________________________________________________\n",
            "dense_8 (Dense)              (None, 32)                2080      \n",
            "_________________________________________________________________\n",
            "dense_9 (Dense)              (None, 16)                528       \n",
            "_________________________________________________________________\n",
            "dense_10 (Dense)             (None, 4)                 68        \n",
            "=================================================================\n",
            "Total params: 2,148,852\n",
            "Trainable params: 2,148,852\n",
            "Non-trainable params: 0\n",
            "_________________________________________________________________\n"
          ],
          "name": "stdout"
        }
      ]
    },
    {
      "cell_type": "code",
      "metadata": {
        "id": "HUTFHQyDVj8f",
        "colab_type": "code",
        "colab": {
          "base_uri": "https://localhost:8080/",
          "height": 1000
        },
        "outputId": "231735e5-15f7-4036-f15e-c60358846fc3"
      },
      "source": [
        "history = model.fit(X_train, y_train, batch_size=16, epochs=40, \n",
        "                    validation_data=(X_test, y_test), callbacks=[checkpoint, early_stopping])"
      ],
      "execution_count": null,
      "outputs": [
        {
          "output_type": "stream",
          "text": [
            "Train on 1386 samples, validate on 594 samples\n",
            "Epoch 1/40\n",
            "1386/1386 [==============================] - 58s 42ms/step - loss: 1.2011 - acc: 0.5541 - val_loss: 1.0626 - val_acc: 0.5993\n",
            "\n",
            "Epoch 00001: val_loss improved from inf to 1.06262, saving model to ./model/multi_img_classification.model\n",
            "Epoch 2/40\n",
            "1386/1386 [==============================] - 57s 41ms/step - loss: 1.1136 - acc: 0.5758 - val_loss: 0.9919 - val_acc: 0.6263\n",
            "\n",
            "Epoch 00002: val_loss improved from 1.06262 to 0.99189, saving model to ./model/multi_img_classification.model\n",
            "Epoch 3/40\n",
            "1386/1386 [==============================] - 56s 40ms/step - loss: 1.1719 - acc: 0.5620 - val_loss: 1.0964 - val_acc: 0.5993\n",
            "\n",
            "Epoch 00003: val_loss did not improve from 0.99189\n",
            "Epoch 4/40\n",
            "1386/1386 [==============================] - 56s 40ms/step - loss: 1.0803 - acc: 0.5750 - val_loss: 0.9849 - val_acc: 0.5993\n",
            "\n",
            "Epoch 00004: val_loss improved from 0.99189 to 0.98494, saving model to ./model/multi_img_classification.model\n",
            "Epoch 5/40\n",
            "1386/1386 [==============================] - 56s 40ms/step - loss: 1.0238 - acc: 0.6169 - val_loss: 0.9164 - val_acc: 0.6397\n",
            "\n",
            "Epoch 00005: val_loss improved from 0.98494 to 0.91635, saving model to ./model/multi_img_classification.model\n",
            "Epoch 6/40\n",
            "1386/1386 [==============================] - 57s 41ms/step - loss: 0.9463 - acc: 0.6385 - val_loss: 0.8994 - val_acc: 0.6633\n",
            "\n",
            "Epoch 00006: val_loss improved from 0.91635 to 0.89938, saving model to ./model/multi_img_classification.model\n",
            "Epoch 7/40\n",
            "1386/1386 [==============================] - 57s 41ms/step - loss: 0.9286 - acc: 0.6328 - val_loss: 0.8267 - val_acc: 0.7104\n",
            "\n",
            "Epoch 00007: val_loss improved from 0.89938 to 0.82671, saving model to ./model/multi_img_classification.model\n",
            "Epoch 8/40\n",
            "1386/1386 [==============================] - 56s 41ms/step - loss: 0.8864 - acc: 0.6782 - val_loss: 0.8230 - val_acc: 0.7003\n",
            "\n",
            "Epoch 00008: val_loss improved from 0.82671 to 0.82303, saving model to ./model/multi_img_classification.model\n",
            "Epoch 9/40\n",
            "1386/1386 [==============================] - 56s 40ms/step - loss: 0.8280 - acc: 0.6955 - val_loss: 0.7683 - val_acc: 0.7340\n",
            "\n",
            "Epoch 00009: val_loss improved from 0.82303 to 0.76827, saving model to ./model/multi_img_classification.model\n",
            "Epoch 10/40\n",
            "1386/1386 [==============================] - 56s 40ms/step - loss: 0.8110 - acc: 0.7042 - val_loss: 0.8521 - val_acc: 0.6987\n",
            "\n",
            "Epoch 00010: val_loss did not improve from 0.76827\n",
            "Epoch 11/40\n",
            "1386/1386 [==============================] - 56s 41ms/step - loss: 0.7903 - acc: 0.7121 - val_loss: 0.7630 - val_acc: 0.7256\n",
            "\n",
            "Epoch 00011: val_loss improved from 0.76827 to 0.76302, saving model to ./model/multi_img_classification.model\n",
            "Epoch 12/40\n",
            "1386/1386 [==============================] - 57s 41ms/step - loss: 0.7504 - acc: 0.7186 - val_loss: 0.7328 - val_acc: 0.7424\n",
            "\n",
            "Epoch 00012: val_loss improved from 0.76302 to 0.73275, saving model to ./model/multi_img_classification.model\n",
            "Epoch 13/40\n",
            "1386/1386 [==============================] - 57s 41ms/step - loss: 0.7218 - acc: 0.7323 - val_loss: 0.9245 - val_acc: 0.6936\n",
            "\n",
            "Epoch 00013: val_loss did not improve from 0.73275\n",
            "Epoch 14/40\n",
            "1386/1386 [==============================] - 56s 41ms/step - loss: 0.6838 - acc: 0.7280 - val_loss: 0.8243 - val_acc: 0.7239\n",
            "\n",
            "Epoch 00014: val_loss did not improve from 0.73275\n",
            "Epoch 15/40\n",
            "1386/1386 [==============================] - 57s 41ms/step - loss: 0.6478 - acc: 0.7590 - val_loss: 0.7183 - val_acc: 0.7374\n",
            "\n",
            "Epoch 00015: val_loss improved from 0.73275 to 0.71833, saving model to ./model/multi_img_classification.model\n",
            "Epoch 16/40\n",
            "1386/1386 [==============================] - 56s 41ms/step - loss: 0.6068 - acc: 0.7590 - val_loss: 0.7267 - val_acc: 0.7441\n",
            "\n",
            "Epoch 00016: val_loss did not improve from 0.71833\n",
            "Epoch 17/40\n",
            "1386/1386 [==============================] - 56s 40ms/step - loss: 0.5631 - acc: 0.7771 - val_loss: 0.7973 - val_acc: 0.7037\n",
            "\n",
            "Epoch 00017: val_loss did not improve from 0.71833\n",
            "Epoch 18/40\n",
            "1386/1386 [==============================] - 56s 40ms/step - loss: 0.5274 - acc: 0.7980 - val_loss: 0.8243 - val_acc: 0.7239\n",
            "\n",
            "Epoch 00018: val_loss did not improve from 0.71833\n",
            "Epoch 19/40\n",
            "1386/1386 [==============================] - 57s 41ms/step - loss: 0.4865 - acc: 0.8175 - val_loss: 0.8663 - val_acc: 0.7576\n",
            "\n",
            "Epoch 00019: val_loss did not improve from 0.71833\n",
            "Epoch 20/40\n",
            "1386/1386 [==============================] - 56s 41ms/step - loss: 0.4034 - acc: 0.8528 - val_loss: 1.0694 - val_acc: 0.6852\n",
            "\n",
            "Epoch 00020: val_loss did not improve from 0.71833\n",
            "Epoch 21/40\n",
            "1386/1386 [==============================] - 56s 40ms/step - loss: 0.3890 - acc: 0.8521 - val_loss: 0.9856 - val_acc: 0.7003\n",
            "\n",
            "Epoch 00021: val_loss did not improve from 0.71833\n"
          ],
          "name": "stdout"
        }
      ]
    },
    {
      "cell_type": "code",
      "metadata": {
        "id": "rgRVQzrVD8Nh",
        "colab_type": "code",
        "colab": {
          "base_uri": "https://localhost:8080/",
          "height": 53
        },
        "outputId": "6993c76a-f64c-4bb2-d817-2e8da529e26f"
      },
      "source": [
        "print(\"정확도 : %.2f \" %(model.evaluate(X_test, y_test)[1]))"
      ],
      "execution_count": null,
      "outputs": [
        {
          "output_type": "stream",
          "text": [
            "594/594 [==============================] - 7s 12ms/step\n",
            "정확도 : 0.70 \n"
          ],
          "name": "stdout"
        }
      ]
    },
    {
      "cell_type": "code",
      "metadata": {
        "id": "gy1o_QPPVj9w",
        "colab_type": "code",
        "colab": {
          "base_uri": "https://localhost:8080/",
          "height": 279
        },
        "outputId": "32307f60-d8e6-4acb-de43-ae2d6c38c612"
      },
      "source": [
        "y_vloss = history.history['val_loss']\n",
        "y_loss = history.history['loss']\n",
        "\n",
        "x_len = np.arange(len(y_loss))\n",
        "\n",
        "plt.plot(x_len, y_vloss, marker='.', c='red', label='val_set_loss')\n",
        "plt.plot(x_len, y_loss, marker='.', c='blue', label='train_set_oss')\n",
        "plt.legend()\n",
        "plt.xlabel('epochs')\n",
        "plt.ylabel('loss')\n",
        "plt.grid()\n",
        "plt.show()"
      ],
      "execution_count": null,
      "outputs": [
        {
          "output_type": "display_data",
          "data": {
            "image/png": "[encoded data removed]",
            "text/plain": [
              "<Figure size 432x288 with 1 Axes>"
            ]
          },
          "metadata": {
            "tags": [],
            "needs_background": "light"
          }
        }
      ]
    },
    {
      "cell_type": "code",
      "metadata": {
        "id": "1afQMke0m4QJ",
        "colab_type": "code",
        "colab": {
          "base_uri": "https://localhost:8080/",
          "height": 295
        },
        "outputId": "1c17041b-1461-485b-a15b-5444f4e5690b"
      },
      "source": [
        "plt.clf() # 그래프를 초기화합니다.\n",
        "acc = history.history['acc']\n",
        "val_acc = history.history['val_acc']\n",
        "\n",
        "plt.plot(x_len, acc, 'bo', label='Training acc')\n",
        "plt.plot(x_len, val_acc, 'b', label='Validation acc')\n",
        "plt.title('Training and validation accuracy')\n",
        "plt.xlabel('Epochs')\n",
        "plt.ylabel('Accuracy')\n",
        "plt.legend()\n",
        "\n",
        "plt.show()"
      ],
      "execution_count": null,
      "outputs": [
        {
          "output_type": "display_data",
          "data": {
            "image/png": "[encoded data removed]",
            "text/plain": [
              "<Figure size 432x288 with 1 Axes>"
            ]
          },
          "metadata": {
            "tags": [],
            "needs_background": "light"
          }
        }
      ]
    },
    {
      "cell_type": "code",
      "metadata": {
        "id": "6p7M786fVj96",
        "colab_type": "code",
        "colab": {}
      },
      "source": [
        "from PIL import Image\n",
        "import os, glob, numpy as np\n",
        "from keras.models import load_model\n",
        "\n",
        "caltech_dir = \"/content/drive/My Drive/CTRC/train/multi_img_data/imgs_others_test\"\n",
        "image_w = 128\n",
        "image_h = 128\n",
        "\n",
        "pixels = image_h * image_w * 3\n"
      ],
      "execution_count": null,
      "outputs": []
    },
    {
      "cell_type": "code",
      "metadata": {
        "id": "HwkgwG4ypm69",
        "colab_type": "code",
        "colab": {}
      },
      "source": [
        "X = []\n",
        "'''filenames = []\n",
        "files = glob.glob(caltech_dir+\"/*.*\")\n",
        "for i, f in enumerate(files):\n",
        "    img = Image.open(f)         \n",
        "    img = img.convert(\"RGB\")\n",
        "    img = img.resize((128,128))\n",
        "    data = np.asarray(img)\n",
        "    filenames.append(f)\n",
        "    X.append(data)'''\n",
        "\n",
        "X = np.array(X)\n",
        "X = X.reshape(X.shape[0], 64,64,3)\n",
        "model = load_model( './model/multi_img_classification.model')"
      ],
      "execution_count": null,
      "outputs": []
    },
    {
      "cell_type": "markdown",
      "metadata": {
        "id": "RgPtq6jUXuqn",
        "colab_type": "text"
      },
      "source": [
        "f는 이미지가 있는 데이터 경로를 뜻합니다. \n",
        "\n",
        "위에서 files = glob.glob(caltech_dir+\"/*.*\")\n",
        "\n",
        "에서 가져오는 데이터를 (이미지 데이터들이 files라는 리스트 변수에 들어갑니다.)\n",
        "\n",
        "open해주는 것이죠.\n",
        "\n",
        " \n",
        "\n",
        "즉, files = glob.glob(caltech_dir+\"/*.*\") 의 경로는 지우님께서 사용하고 있는 local 환경에서\n",
        "\n",
        "image가 있는 경로로 맞춰주시면 됩니다.\n",
        "\n",
        "*github host 이수진"
      ]
    },
    {
      "cell_type": "markdown",
      "metadata": {
        "id": "hNWwG9IO10hB",
        "colab_type": "text"
      },
      "source": [
        "## 2번 모델 예측하기"
      ]
    },
    {
      "cell_type": "code",
      "metadata": {
        "id": "41r0xBMhwE92",
        "colab_type": "code",
        "colab": {
          "base_uri": "https://localhost:8080/",
          "height": 53
        },
        "outputId": "a7773b38-efb5-4d2b-fc45-dbf030992e62"
      },
      "source": [
        "'''#이 파일의 예측\n",
        "\n",
        "img=np.resize(img,(1,64,64,3))\n",
        "predictions_single = model.predict(img)\n",
        "\n",
        "print(predictions_single)'''"
      ],
      "execution_count": null,
      "outputs": [
        {
          "output_type": "execute_result",
          "data": {
            "application/vnd.google.colaboratory.intrinsic+json": {
              "type": "string"
            },
            "text/plain": [
              "'#이 파일의 예측\\n\\nimg=np.resize(img,(1,64,64,3))\\npredictions_single = model.predict(img)\\n\\nprint(predictions_single)'"
            ]
          },
          "metadata": {
            "tags": []
          },
          "execution_count": 38
        }
      ]
    },
    {
      "cell_type": "code",
      "metadata": {
        "id": "-DOmJ3CFv3eF",
        "colab_type": "code",
        "colab": {
          "base_uri": "https://localhost:8080/",
          "height": 35
        },
        "outputId": "8076239f-f1e2-49e8-f620-00cba921af6a"
      },
      "source": [
        "#훈련된 모델을 이용해 한 이미지에 대한 예측 만들기\n",
        "\n",
        "# 테스트 세트에서 이미지 하나를 선택합니다\n",
        "img=np.resize(img,(1,64,64,3))\n",
        "img = X_test[0]\n",
        "\n",
        "print(img.shape)\n"
      ],
      "execution_count": null,
      "outputs": [
        {
          "output_type": "stream",
          "text": [
            "(64, 64, 3)\n"
          ],
          "name": "stdout"
        }
      ]
    },
    {
      "cell_type": "markdown",
      "metadata": {
        "id": "Fgrt_-CQv1vI",
        "colab_type": "text"
      },
      "source": [
        "### 파일 비교해서 결과내기 "
      ]
    },
    {
      "cell_type": "code",
      "metadata": {
        "id": "jIg3c3a9po5X",
        "colab_type": "code",
        "colab": {
          "base_uri": "https://localhost:8080/",
          "height": 35
        },
        "outputId": "4c130737-3969-416d-dc9b-c9c3bce20d19"
      },
      "source": [
        "#해당 이미지 predict\n",
        "prediction = model.predict(X)\n",
        "np.set_printoptions(formatter={'float': lambda x: \"{0:0.3f}\".format(x)})\n",
        "cnt = 0\n",
        "\n",
        "\n",
        "print(X.shape)"
      ],
      "execution_count": null,
      "outputs": [
        {
          "output_type": "stream",
          "text": [
            "(0, 64, 64, 3)\n"
          ],
          "name": "stdout"
        }
      ]
    },
    {
      "cell_type": "code",
      "metadata": {
        "id": "27a5Kh3eEtY_",
        "colab_type": "code",
        "colab": {
          "base_uri": "https://localhost:8080/",
          "height": 899
        },
        "outputId": "59a27483-7ac5-4610-975e-0ff5d606b0a4"
      },
      "source": [
        "print(img)"
      ],
      "execution_count": null,
      "outputs": [
        {
          "output_type": "stream",
          "text": [
            "[[[0.702 0.333 0.204]\n",
            "  [0.702 0.329 0.212]\n",
            "  [0.710 0.333 0.216]\n",
            "  ...\n",
            "  [0.976 0.522 0.286]\n",
            "  [1.000 0.565 0.322]\n",
            "  [0.996 0.584 0.341]]\n",
            "\n",
            " [[0.710 0.337 0.208]\n",
            "  [0.706 0.333 0.216]\n",
            "  [0.710 0.337 0.220]\n",
            "  ...\n",
            "  [0.973 0.522 0.286]\n",
            "  [1.000 0.565 0.318]\n",
            "  [1.000 0.592 0.345]]\n",
            "\n",
            " [[0.710 0.337 0.204]\n",
            "  [0.710 0.337 0.212]\n",
            "  [0.706 0.341 0.220]\n",
            "  ...\n",
            "  [0.980 0.522 0.286]\n",
            "  [1.000 0.557 0.306]\n",
            "  [1.000 0.584 0.322]]\n",
            "\n",
            " ...\n",
            "\n",
            " [[0.996 0.706 0.412]\n",
            "  [1.000 0.698 0.408]\n",
            "  [1.000 0.702 0.412]\n",
            "  ...\n",
            "  [1.000 0.651 0.357]\n",
            "  [1.000 0.639 0.349]\n",
            "  [1.000 0.624 0.329]]\n",
            "\n",
            " [[0.996 0.682 0.396]\n",
            "  [1.000 0.678 0.392]\n",
            "  [1.000 0.686 0.404]\n",
            "  ...\n",
            "  [0.996 0.635 0.341]\n",
            "  [0.996 0.631 0.337]\n",
            "  [1.000 0.624 0.329]]\n",
            "\n",
            " [[0.996 0.675 0.388]\n",
            "  [1.000 0.678 0.396]\n",
            "  [0.996 0.682 0.408]\n",
            "  ...\n",
            "  [0.996 0.635 0.349]\n",
            "  [1.000 0.635 0.345]\n",
            "  [1.000 0.620 0.329]]]\n"
          ],
          "name": "stdout"
        }
      ]
    },
    {
      "cell_type": "code",
      "metadata": {
        "id": "G6v7snWUbwSw",
        "colab_type": "code",
        "colab": {}
      },
      "source": [
        "\n",
        "from tensorflow.keras.preprocessing.image import array_to_img\n",
        "import numpy as np\n",
        "\n",
        "cls_index = ['1. Cancer', '2. Precancer','3. Extra','4. Normal']\n",
        "\n",
        "imgs = trainGen.next()\n",
        "arr = imgs[0][0]\n",
        "\n",
        "\n",
        "img = array_to_img(arr).resize((128, 128))"
      ],
      "execution_count": null,
      "outputs": []
    },
    {
      "cell_type": "code",
      "metadata": {
        "id": "atilE7sX0yGz",
        "colab_type": "code",
        "colab": {
          "base_uri": "https://localhost:8080/",
          "height": 199
        },
        "outputId": "a5c51e56-78c2-449b-ab2e-ff2068d12538"
      },
      "source": [
        "\n",
        "result = model.predict_classes(arr.reshape(1,64,64,3))\n",
        "\n",
        "print(result)\n",
        "print('예측: {}'.format(cls_index[result[0]]))\n",
        "print(\"Label:\" + str(y_test[0]) )\n",
        "img\n",
        "\n",
        "\n",
        "# np.argmax: 다차원 배열의 경우에 차원에 따라 가장 큰 값의 인덱스들을 반환\n",
        "# format: 문자열에 포함된 대괄호 개수 보다 format안에 들어 있는 값의 수가 적으면 에러"
      ],
      "execution_count": null,
      "outputs": [
        {
          "output_type": "stream",
          "text": [
            "[3]\n",
            "예측: 4. Normal\n",
            "Label:[0 0 0 1]\n"
          ],
          "name": "stdout"
        },
        {
          "output_type": "execute_result",
          "data": {
            "image/png": "[encoded data removed]",
            "text/plain": [
              "<PIL.Image.Image image mode=RGB size=128x128 at 0x7F54A76D7F28>"
            ]
          },
          "metadata": {
            "tags": []
          },
          "execution_count": 61
        }
      ]
    },
    {
      "cell_type": "markdown",
      "metadata": {
        "id": "BlL_l93Cm1E0",
        "colab_type": "text"
      },
      "source": [
        "### 혼동 행렬 실패"
      ]
    },
    {
      "cell_type": "code",
      "metadata": {
        "id": "lNe4UrkDWLRQ",
        "colab_type": "code",
        "colab": {
          "base_uri": "https://localhost:8080/",
          "height": 197
        },
        "outputId": "4e899f27-bf14-4d23-9677-6a6fc09e89d6"
      },
      "source": [
        "'''import numpy as np\n",
        "import matplotlib.pyplot as plt\n",
        "\n",
        "from sklearn import svm, datasets\n",
        "from sklearn.model_selection import train_test_split\n",
        "from sklearn.metrics import plot_confusion_matrix\n",
        "\n",
        "\n",
        "# Plot non-normalized confusion matrix\n",
        "titles_options = [(\"Confusion matrix, without normalization\", None),\n",
        "                  (\"Normalized confusion matrix\", 'true')]\n",
        "classifier = svm.SVC(kernel='linear', C=0.01).fit(X_train, y_train)\n",
        "\n",
        "\n",
        "for title, normalize in titles_options:\n",
        "    disp = plot_confusion_matrix(classifier, X_test, y_test,\n",
        "                                 display_labels=[\"1. Cancer\",\"2. Precancer\",\"3. Extra\",\"4. Normal\"],\n",
        "                                 cmap=plt.cm.Blues,\n",
        "                                 normalize=normalize)\n",
        "    disp.ax_.set_title(title)\n",
        "\n",
        "    print(title)\n",
        "    print(disp.confusion_matrix)\n",
        "\n",
        "plt.show()'''"
      ],
      "execution_count": null,
      "outputs": [
        {
          "output_type": "execute_result",
          "data": {
            "application/vnd.google.colaboratory.intrinsic+json": {
              "type": "string"
            },
            "text/plain": [
              "'import numpy as np\\nimport matplotlib.pyplot as plt\\n\\nfrom sklearn import svm, datasets\\nfrom sklearn.model_selection import train_test_split\\nfrom sklearn.metrics import plot_confusion_matrix\\n\\n\\n# Plot non-normalized confusion matrix\\ntitles_options = [(\"Confusion matrix, without normalization\", None),\\n                  (\"Normalized confusion matrix\", \\'true\\')]\\nclassifier = svm.SVC(kernel=\\'linear\\', C=0.01).fit(X_train, y_train)\\n\\n\\nfor title, normalize in titles_options:\\n    disp = plot_confusion_matrix(classifier, X_test, y_test,\\n                                 display_labels=[\"1. Cancer\",\"2. Precancer\",\"3. Extra\",\"4. Normal\"],\\n                                 cmap=plt.cm.Blues,\\n                                 normalize=normalize)\\n    disp.ax_.set_title(title)\\n\\n    print(title)\\n    print(disp.confusion_matrix)\\n\\nplt.show()'"
            ]
          },
          "metadata": {
            "tags": []
          },
          "execution_count": 50
        }
      ]
    },
    {
      "cell_type": "code",
      "metadata": {
        "id": "vs-_0_LCNI7L",
        "colab_type": "code",
        "colab": {
          "base_uri": "https://localhost:8080/",
          "height": 143
        },
        "outputId": "0f7107f9-72f1-4df9-f6f1-a27e6549551f"
      },
      "source": [
        "'''from sklearn.metrics import confusion_matrix\n",
        "\n",
        "y_predicted = logit.predict(x_test)\n",
        "cm = confusion_matrix(y_test, result)\n",
        "\n",
        "plt.clf()\n",
        "plt.imshow(cm, interpolation='nearest', cmap=plt.cm.Wistia)\n",
        "classNames = [\"1. Cancer\",\"2. Precancer\",\"3. Extra\",\"4. Normal\"]\n",
        "plt.title('Confusion Matrix - Test Data')\n",
        "plt.ylabel('True label')\n",
        "plt.xlabel('Predicted label')\n",
        "tick_marks = np.arange(len(classNames))\n",
        "plt.xticks(tick_marks, classNames, rotation=45)\n",
        "plt.yticks(tick_marks, classNames)\n",
        "\n",
        "for i in range(4):\n",
        "    for j in range(4):\n",
        "        plt.show()'''"
      ],
      "execution_count": null,
      "outputs": [
        {
          "output_type": "execute_result",
          "data": {
            "application/vnd.google.colaboratory.intrinsic+json": {
              "type": "string"
            },
            "text/plain": [
              "'from sklearn.metrics import confusion_matrix\\n\\ny_predicted = logit.predict(x_test)\\ncm = confusion_matrix(y_test, result)\\n\\nplt.clf()\\nplt.imshow(cm, interpolation=\\'nearest\\', cmap=plt.cm.Wistia)\\nclassNames = [\"1. Cancer\",\"2. Precancer\",\"3. Extra\",\"4. Normal\"]\\nplt.title(\\'Confusion Matrix - Test Data\\')\\nplt.ylabel(\\'True label\\')\\nplt.xlabel(\\'Predicted label\\')\\ntick_marks = np.arange(len(classNames))\\nplt.xticks(tick_marks, classNames, rotation=45)\\nplt.yticks(tick_marks, classNames)\\n\\nfor i in range(4):\\n    for j in range(4):\\n        plt.show()'"
            ]
          },
          "metadata": {
            "tags": []
          },
          "execution_count": 54
        }
      ]
    },
    {
      "cell_type": "code",
      "metadata": {
        "id": "fS7lxc2aoKkA",
        "colab_type": "code",
        "colab": {
          "base_uri": "https://localhost:8080/",
          "height": 35
        },
        "outputId": "c92165c8-cb86-4b11-cbca-5f10a24fb10f"
      },
      "source": [
        "'''print(plot_confusion_matrix(img))'''"
      ],
      "execution_count": null,
      "outputs": [
        {
          "output_type": "execute_result",
          "data": {
            "application/vnd.google.colaboratory.intrinsic+json": {
              "type": "string"
            },
            "text/plain": [
              "'print(plot_confusion_matrix(img))'"
            ]
          },
          "metadata": {
            "tags": []
          },
          "execution_count": 40
        }
      ]
    },
    {
      "cell_type": "code",
      "metadata": {
        "id": "6Vi1Ab7trBI4",
        "colab_type": "code",
        "colab": {
          "base_uri": "https://localhost:8080/",
          "height": 143
        },
        "outputId": "6c6ce285-0c0f-43ad-d1f0-387e934dd70f"
      },
      "source": [
        "'''print(y_test)'''"
      ],
      "execution_count": null,
      "outputs": [
        {
          "output_type": "stream",
          "text": [
            "[[0 0 0 1]\n",
            " [0 0 0 1]\n",
            " [0 0 0 1]\n",
            " ...\n",
            " [1 0 0 0]\n",
            " [0 1 0 0]\n",
            " [1 0 0 0]]\n"
          ],
          "name": "stdout"
        }
      ]
    },
    {
      "cell_type": "code",
      "metadata": {
        "id": "oWAyfOA6b1c6",
        "colab_type": "code",
        "colab": {
          "base_uri": "https://localhost:8080/",
          "height": 125
        },
        "outputId": "146b9038-6e71-4d4a-dddf-aa076f379d1e"
      },
      "source": [
        "'''import seaborn as sns\n",
        "import matplotlib.pyplot as plt     \n",
        "\n",
        "\n",
        "cm = confusion_matrix(result[0], y_test[0])\n",
        "\n",
        "ax= plt.subplot()\n",
        "sns.heatmap(cm, annot=True, ax = ax)\n",
        " #annot=True to annotate cells\n",
        "\n",
        "# labels, title and ticks\n",
        "ax.set_xlabel('Predicted labels')\n",
        "ax.set_ylabel('True labels')\n",
        "ax.set_title('Confusion Matrix')\n",
        "ax.xaxis.set_ticklabels([\"1. Cancer\",\"2. Precancer\",\"3. Extra\",\"4. Normal\"])\n",
        "ax.yaxis.set_ticklabels([\"1. Cancer\",\"2. Precancer\",\"3. Extra\",\"4. Normal\"])'''"
      ],
      "execution_count": null,
      "outputs": [
        {
          "output_type": "execute_result",
          "data": {
            "application/vnd.google.colaboratory.intrinsic+json": {
              "type": "string"
            },
            "text/plain": [
              "'import seaborn as sns\\nimport matplotlib.pyplot as plt     \\n\\n\\ncm = confusion_matrix(result[0], y_test[0])\\n\\nax= plt.subplot()\\nsns.heatmap(cm, annot=True, ax = ax)\\n #annot=True to annotate cells\\n\\n# labels, title and ticks\\nax.set_xlabel(\\'Predicted labels\\')\\nax.set_ylabel(\\'True labels\\')\\nax.set_title(\\'Confusion Matrix\\')\\nax.xaxis.set_ticklabels([\"1. Cancer\",\"2. Precancer\",\"3. Extra\",\"4. Normal\"])\\nax.yaxis.set_ticklabels([\"1. Cancer\",\"2. Precancer\",\"3. Extra\",\"4. Normal\"])'"
            ]
          },
          "metadata": {
            "tags": []
          },
          "execution_count": 51
        }
      ]
    },
    {
      "cell_type": "code",
      "metadata": {
        "id": "JuMPNk5ok248",
        "colab_type": "code",
        "colab": {}
      },
      "source": [
        "'''#선배코드\n",
        "from sklearn.metrics import confusion_matrix\n",
        "\n",
        "def plot_confusion_matrix(cls_pred):\n",
        "\n",
        "    cls_true = data.valid.cls\n",
        "\n",
        "    cm = confusion_matrix(y_true=cls_true, y_pred=cls_pred)\n",
        "    \n",
        "    print(cm)\n",
        "\n",
        "    plt.matshow(cm)\n",
        "\n",
        "    plt.colorbar()\n",
        "    tick_marks = np.arange(num_classes)\n",
        "    plt.xticks(tick_marks, range(num_classes))\n",
        "    plt.yticks(tick_marks, range(num_classes))\n",
        "    plt.xlabel('Predicted')\n",
        "    plt.ylabel('True')\n",
        "    \n",
        "\n",
        "    plt.show()'''"
      ],
      "execution_count": null,
      "outputs": []
    },
    {
      "cell_type": "code",
      "metadata": {
        "id": "vy1TtAzzmvkB",
        "colab_type": "code",
        "colab": {
          "base_uri": "https://localhost:8080/",
          "height": 125
        },
        "outputId": "6e33ff93-b5cc-41b0-8b70-94b9e7ca4b82"
      },
      "source": [
        "'''import matplotlib.pyplot as plt\n",
        "import seaborn as sns\n",
        "import pandas as pd\n",
        "import matplotlib.pyplot as plt \n",
        "#%matplotlib inlinesns.set(font_scale=2)  #혼동행렬 폰트 크기! 1이면 너무 작다.\n",
        "\n",
        "array= img\n",
        "df_cm= pd.DataFrame(array,index = [ i for i in '1. Cancer,2. Precancer,3. Extra,4. Normal'],columns=[i for i in  \"1. Cancer, 2. Precancer,3. Extra,4. Normal\"])\n",
        "plt.figure(figsize=(10,7))\n",
        "#plt.tittle(\"confusion matrix\")\n",
        "sns.heatmap(df_cm,annot=True)\n",
        "\n",
        "\n",
        "#array = img\n",
        "cm= pd.DataFrame(array,index = [ \"1. Cancer\",\"2. Precancer\",\"3. Extra\",\"4. Normal\"],  columns=[\"1. Cancer\",\"2. Precancer\",\"3. Extra\",\"4. Normal\"] )\n",
        "plt.figure(figsize=(10, 7))\n",
        "plt.title('confusion matrix without confusion')\n",
        "conf_ma=sns.heatmap(cm, annot=True)\n",
        "\n",
        "print(conf_ma)'''"
      ],
      "execution_count": null,
      "outputs": [
        {
          "output_type": "execute_result",
          "data": {
            "application/vnd.google.colaboratory.intrinsic+json": {
              "type": "string"
            },
            "text/plain": [
              "'import matplotlib.pyplot as plt\\nimport seaborn as sns\\nimport pandas as pd\\nimport matplotlib.pyplot as plt \\n#%matplotlib inlinesns.set(font_scale=2)  #혼동행렬 폰트 크기! 1이면 너무 작다.\\n\\narray= img\\ndf_cm= pd.DataFrame(array,index = [ i for i in \\'1. Cancer,2. Precancer,3. Extra,4. Normal\\'],columns=[i for i in  \"1. Cancer, 2. Precancer,3. Extra,4. Normal\"])\\nplt.figure(figsize=(10,7))\\n#plt.tittle(\"confusion matrix\")\\nsns.heatmap(df_cm,annot=True)\\n\\n\\n#array = img\\ncm= pd.DataFrame(array,index = [ \"1. Cancer\",\"2. Precancer\",\"3. Extra\",\"4. Normal\"],  columns=[\"1. Cancer\",\"2. Precancer\",\"3. Extra\",\"4. Normal\"] )\\nplt.figure(figsize=(10, 7))\\nplt.title(\\'confusion matrix without confusion\\')\\nconf_ma=sns.heatmap(cm, annot=True)\\n\\nprint(conf_ma)'"
            ]
          },
          "metadata": {
            "tags": []
          },
          "execution_count": 52
        }
      ]
    },
    {
      "cell_type": "code",
      "metadata": {
        "id": "PVS3MJIpco9N",
        "colab_type": "code",
        "colab": {}
      },
      "source": [
        ""
      ],
      "execution_count": null,
      "outputs": []
    },
    {
      "cell_type": "code",
      "metadata": {
        "id": "AAX_dBsxdwEw",
        "colab_type": "code",
        "colab": {
          "base_uri": "https://localhost:8080/",
          "height": 109
        },
        "outputId": "26067e1f-ffda-4fad-da59-cf84bba34142"
      },
      "source": [
        "\n",
        "!pip install hmmlearn==0.1.1"
      ],
      "execution_count": null,
      "outputs": [
        {
          "output_type": "stream",
          "text": [
            "Processing /root/.cache/pip/wheels/56/ab/ad/6356405fc02d541c101b7d723ebfaf94b33f7dbad4e0154e7f/hmmlearn-0.1.1-cp36-cp36m-linux_x86_64.whl\n",
            "Requirement already satisfied: Cython in /usr/local/lib/python3.6/dist-packages (from hmmlearn==0.1.1) (0.29.21)\n",
            "Installing collected packages: hmmlearn\n",
            "Successfully installed hmmlearn-0.1.1\n"
          ],
          "name": "stdout"
        }
      ]
    },
    {
      "cell_type": "code",
      "metadata": {
        "id": "2ugPso-UYBtz",
        "colab_type": "code",
        "colab": {
          "base_uri": "https://localhost:8080/",
          "height": 412
        },
        "outputId": "9bf66ffc-b2a5-44e1-b0c7-7090edf2d74e"
      },
      "source": [
        "from sklearn.metrics import confusion_matrix\n",
        "from sklearn.linear_model import LogisticRegression\n",
        "logit = LogisticRegression(random_state= 0)\n",
        "logit.fit(X_train, y_train)\n",
        "\n",
        "y_predicted = logit.predict(X_test)\n",
        "cm = confusion_matrix(y_test, y_predicted)\n",
        "\n",
        "plt.clf()\n",
        "plt.imshow(cm, interpolation='nearest', cmap=plt.cm.Wistia)\n",
        "classNames = ['1. Cancer,2. Precancer,3. Extra,4. Normal']\n",
        "plt.title(' Confusion Matrix - Test Data')\n",
        "plt.ylabel('True label')\n",
        "plt.xlabel('Predicted label')\n",
        "tick_marks = np.arange(len(classNames))\n",
        "plt.xticks(tick_marks, classNames, rotation=45)\n",
        "plt.yticks(tick_marks, classNames)\n",
        "s = ['1. Cancer,2. Precancer,3. Extra,4. Normal', '1. Cancer,2. Precancer,3. Extra,4. Normal']\n",
        "for i in range(4):\n",
        "    for j in range(4):\n",
        "        plt.text(j,i, str(s[i][j])+\" = \"+str(cm[i][j]))\n",
        "plt.show()"
      ],
      "execution_count": null,
      "outputs": [
        {
          "output_type": "error",
          "ename": "ValueError",
          "evalue": "ignored",
          "traceback": [
            "\u001b[0;31m---------------------------------------------------------------------------\u001b[0m",
            "\u001b[0;31mValueError\u001b[0m                                Traceback (most recent call last)",
            "\u001b[0;32m<ipython-input-66-9db53f06539e>\u001b[0m in \u001b[0;36m<module>\u001b[0;34m()\u001b[0m\n\u001b[1;32m      2\u001b[0m \u001b[0;32mfrom\u001b[0m \u001b[0msklearn\u001b[0m\u001b[0;34m.\u001b[0m\u001b[0mlinear_model\u001b[0m \u001b[0;32mimport\u001b[0m \u001b[0mLogisticRegression\u001b[0m\u001b[0;34m\u001b[0m\u001b[0;34m\u001b[0m\u001b[0m\n\u001b[1;32m      3\u001b[0m \u001b[0mlogit\u001b[0m \u001b[0;34m=\u001b[0m \u001b[0mLogisticRegression\u001b[0m\u001b[0;34m(\u001b[0m\u001b[0mrandom_state\u001b[0m\u001b[0;34m=\u001b[0m \u001b[0;36m0\u001b[0m\u001b[0;34m)\u001b[0m\u001b[0;34m\u001b[0m\u001b[0;34m\u001b[0m\u001b[0m\n\u001b[0;32m----> 4\u001b[0;31m \u001b[0mlogit\u001b[0m\u001b[0;34m.\u001b[0m\u001b[0mfit\u001b[0m\u001b[0;34m(\u001b[0m\u001b[0mX_train\u001b[0m\u001b[0;34m,\u001b[0m \u001b[0my_train\u001b[0m\u001b[0;34m)\u001b[0m\u001b[0;34m\u001b[0m\u001b[0;34m\u001b[0m\u001b[0m\n\u001b[0m\u001b[1;32m      5\u001b[0m \u001b[0;34m\u001b[0m\u001b[0m\n\u001b[1;32m      6\u001b[0m \u001b[0my_predicted\u001b[0m \u001b[0;34m=\u001b[0m \u001b[0mlogit\u001b[0m\u001b[0;34m.\u001b[0m\u001b[0mpredict\u001b[0m\u001b[0;34m(\u001b[0m\u001b[0mX_test\u001b[0m\u001b[0;34m)\u001b[0m\u001b[0;34m\u001b[0m\u001b[0;34m\u001b[0m\u001b[0m\n",
            "\u001b[0;32m/usr/local/lib/python3.6/dist-packages/sklearn/linear_model/_logistic.py\u001b[0m in \u001b[0;36mfit\u001b[0;34m(self, X, y, sample_weight)\u001b[0m\n\u001b[1;32m   1525\u001b[0m \u001b[0;34m\u001b[0m\u001b[0m\n\u001b[1;32m   1526\u001b[0m         X, y = check_X_y(X, y, accept_sparse='csr', dtype=_dtype, order=\"C\",\n\u001b[0;32m-> 1527\u001b[0;31m                          accept_large_sparse=solver != 'liblinear')\n\u001b[0m\u001b[1;32m   1528\u001b[0m         \u001b[0mcheck_classification_targets\u001b[0m\u001b[0;34m(\u001b[0m\u001b[0my\u001b[0m\u001b[0;34m)\u001b[0m\u001b[0;34m\u001b[0m\u001b[0;34m\u001b[0m\u001b[0m\n\u001b[1;32m   1529\u001b[0m         \u001b[0mself\u001b[0m\u001b[0;34m.\u001b[0m\u001b[0mclasses_\u001b[0m \u001b[0;34m=\u001b[0m \u001b[0mnp\u001b[0m\u001b[0;34m.\u001b[0m\u001b[0munique\u001b[0m\u001b[0;34m(\u001b[0m\u001b[0my\u001b[0m\u001b[0;34m)\u001b[0m\u001b[0;34m\u001b[0m\u001b[0;34m\u001b[0m\u001b[0m\n",
            "\u001b[0;32m/usr/local/lib/python3.6/dist-packages/sklearn/utils/validation.py\u001b[0m in \u001b[0;36mcheck_X_y\u001b[0;34m(X, y, accept_sparse, accept_large_sparse, dtype, order, copy, force_all_finite, ensure_2d, allow_nd, multi_output, ensure_min_samples, ensure_min_features, y_numeric, warn_on_dtype, estimator)\u001b[0m\n\u001b[1;32m    753\u001b[0m                     \u001b[0mensure_min_features\u001b[0m\u001b[0;34m=\u001b[0m\u001b[0mensure_min_features\u001b[0m\u001b[0;34m,\u001b[0m\u001b[0;34m\u001b[0m\u001b[0;34m\u001b[0m\u001b[0m\n\u001b[1;32m    754\u001b[0m                     \u001b[0mwarn_on_dtype\u001b[0m\u001b[0;34m=\u001b[0m\u001b[0mwarn_on_dtype\u001b[0m\u001b[0;34m,\u001b[0m\u001b[0;34m\u001b[0m\u001b[0;34m\u001b[0m\u001b[0m\n\u001b[0;32m--> 755\u001b[0;31m                     estimator=estimator)\n\u001b[0m\u001b[1;32m    756\u001b[0m     \u001b[0;32mif\u001b[0m \u001b[0mmulti_output\u001b[0m\u001b[0;34m:\u001b[0m\u001b[0;34m\u001b[0m\u001b[0;34m\u001b[0m\u001b[0m\n\u001b[1;32m    757\u001b[0m         y = check_array(y, 'csr', force_all_finite=True, ensure_2d=False,\n",
            "\u001b[0;32m/usr/local/lib/python3.6/dist-packages/sklearn/utils/validation.py\u001b[0m in \u001b[0;36mcheck_array\u001b[0;34m(array, accept_sparse, accept_large_sparse, dtype, order, copy, force_all_finite, ensure_2d, allow_nd, ensure_min_samples, ensure_min_features, warn_on_dtype, estimator)\u001b[0m\n\u001b[1;32m    572\u001b[0m         \u001b[0;32mif\u001b[0m \u001b[0;32mnot\u001b[0m \u001b[0mallow_nd\u001b[0m \u001b[0;32mand\u001b[0m \u001b[0marray\u001b[0m\u001b[0;34m.\u001b[0m\u001b[0mndim\u001b[0m \u001b[0;34m>=\u001b[0m \u001b[0;36m3\u001b[0m\u001b[0;34m:\u001b[0m\u001b[0;34m\u001b[0m\u001b[0;34m\u001b[0m\u001b[0m\n\u001b[1;32m    573\u001b[0m             raise ValueError(\"Found array with dim %d. %s expected <= 2.\"\n\u001b[0;32m--> 574\u001b[0;31m                              % (array.ndim, estimator_name))\n\u001b[0m\u001b[1;32m    575\u001b[0m \u001b[0;34m\u001b[0m\u001b[0m\n\u001b[1;32m    576\u001b[0m         \u001b[0;32mif\u001b[0m \u001b[0mforce_all_finite\u001b[0m\u001b[0;34m:\u001b[0m\u001b[0;34m\u001b[0m\u001b[0;34m\u001b[0m\u001b[0m\n",
            "\u001b[0;31mValueError\u001b[0m: Found array with dim 4. Estimator expected <= 2."
          ]
        }
      ]
    },
    {
      "cell_type": "markdown",
      "metadata": {
        "id": "t65UiztwX7Cv",
        "colab_type": "text"
      },
      "source": [
        "### 혼동행렬 성공\n"
      ]
    }
  ]
}