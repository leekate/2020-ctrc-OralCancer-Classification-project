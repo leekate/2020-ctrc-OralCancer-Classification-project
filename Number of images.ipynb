{
 "cells": [
  {
   "cell_type": "code",
   "execution_count": 7,
   "metadata": {},
   "outputs": [],
   "source": [
    "import os\n",
    "\n",
    "train_path = 'C:/leejiwoo/train2'\n",
    "validation_path = 'C:/leejiwoo/validation2'\n",
    "test_path = 'C:/leejiwoo/test2'\n",
    "\n",
    "\n",
    "train_cancers_dir = train_path+ '/1.Cancer'\n",
    "\n",
    "train_precancers_dir = train_path+ '/2.Precancer'\n",
    "\n",
    "train_extra_dir = train_path+ '/3.Inflammatory'\n",
    "\n",
    "train_normals_dir = train_path+ '/4.Normal'\n",
    "\n",
    "\n",
    "\n",
    "#검증용  사진 디렉터리\n",
    "validation_cancers_dir = validation_path+ '/1.Cancer'\n",
    "\n",
    "validation_precancers_dir = validation_path+ '/2.Precancer'\n",
    "\n",
    "validation_extra_dir = validation_path+ '/3.Inflammatory'\n",
    "\n",
    "validation_normals_dir = validation_path+ '/4.Normal'\n",
    "\n",
    "\n",
    "\n",
    "#테스트용  사진 디렉터리\n",
    "test_cancers_dir = test_path+ '/1.Cancer'\n",
    "\n",
    "test_precancers_dir = test_path+'/2.Precancer'\n",
    "\n",
    "test_extra_dir = test_path+ '/3.Inflammatory'\n",
    "\n",
    "test_normals_dir = test_path+ '/4.Normal'"
   ]
  },
  {
   "cell_type": "code",
   "execution_count": 8,
   "metadata": {},
   "outputs": [
    {
     "name": "stdout",
     "output_type": "stream",
     "text": [
      "cancer\n",
      "984\n",
      "82\n",
      "82\n"
     ]
    }
   ],
   "source": [
    "\n",
    "length1= \"C:/leejiwoo/train2/1.Cancer\"\n",
    "length2= \"C:/leejiwoo/validation2/1.Cancer\"\n",
    "plus1= \"C:/leejiwoo/test2/1.Cancer\"\n",
    "\n",
    "file_list1 = os.listdir(length1)\n",
    "file_list2 = os.listdir(length2)\n",
    "plus_list1 = os.listdir(plus1)\n",
    "\n",
    "print(\"cancer\")\n",
    "print(len(file_list1))\n",
    "print(len(file_list2))\n",
    "print(len(plus_list1))"
   ]
  },
  {
   "cell_type": "code",
   "execution_count": 9,
   "metadata": {},
   "outputs": [
    {
     "name": "stdout",
     "output_type": "stream",
     "text": [
      "precancer\n",
      "360\n",
      "30\n",
      "30\n"
     ]
    }
   ],
   "source": [
    "\n",
    "length3= \"C:/leejiwoo/train2/2.Precancer\"\n",
    "length4= \"C:/leejiwoo/validation2/2.Precancer\"\n",
    "plus2= \"C:/leejiwoo/test2/2.Precancer\"\n",
    "\n",
    "file_list3 = os.listdir(length3)\n",
    "file_list4 = os.listdir(length4)\n",
    "plus_list2 = os.listdir(plus2)\n",
    "\n",
    "print(\"precancer\")\n",
    "print(len(file_list3))\n",
    "print(len(file_list4))\n",
    "print(len(plus_list2))"
   ]
  },
  {
   "cell_type": "code",
   "execution_count": 4,
   "metadata": {},
   "outputs": [
    {
     "name": "stdout",
     "output_type": "stream",
     "text": [
      "extra\n",
      "636\n",
      "53\n",
      "53\n"
     ]
    }
   ],
   "source": [
    "length5 = \"C:/leejiwoo/train2/3.Inflammatory\"\n",
    "length6 = \"C:/leejiwoo/validation2/3.Inflammatory\"\n",
    "plus3= \"C:/leejiwoo/test2/3.Inflammatory\"\n",
    "\n",
    "file_list5 = os.listdir(length5)\n",
    "file_list6 = os.listdir(length6)\n",
    "plus_list3 = os.listdir(plus3)\n",
    "\n",
    "print(\"extra\")\n",
    "print(len(file_list5))\n",
    "print(len(file_list6))\n",
    "print(len(plus_list3))"
   ]
  },
  {
   "cell_type": "code",
   "execution_count": 10,
   "metadata": {},
   "outputs": [
    {
     "name": "stdout",
     "output_type": "stream",
     "text": [
      "normal\n",
      "2058\n",
      "2058\n",
      "2058\n"
     ]
    }
   ],
   "source": [
    "\n",
    "length7 = \"C:/leejiwoo/train2/4.Normal\"\n",
    "length8 = \"C:/leejiwoo/train2/4.Normal\"\n",
    "plus4= \"C:/leejiwoo/train2/4.Normal\"\n",
    "\n",
    "file_list7 = os.listdir(length7)\n",
    "file_list8 = os.listdir(length8)\n",
    "plus_list4 = os.listdir(plus4)\n",
    "\n",
    "print(\"normal\")\n",
    "print(len(file_list7))\n",
    "print(len(file_list8))\n",
    "print(len(plus_list4))"
   ]
  },
  {
   "cell_type": "code",
   "execution_count": 12,
   "metadata": {},
   "outputs": [
    {
     "data": {
      "text/html": [
       "<div>\n",
       "<style scoped>\n",
       "    .dataframe tbody tr th:only-of-type {\n",
       "        vertical-align: middle;\n",
       "    }\n",
       "\n",
       "    .dataframe tbody tr th {\n",
       "        vertical-align: top;\n",
       "    }\n",
       "\n",
       "    .dataframe thead th {\n",
       "        text-align: right;\n",
       "    }\n",
       "</style>\n",
       "<table border=\"1\" class=\"dataframe\">\n",
       "  <thead>\n",
       "    <tr style=\"text-align: right;\">\n",
       "      <th></th>\n",
       "      <th>Train image</th>\n",
       "      <th>Validation Image</th>\n",
       "      <th>Test Image</th>\n",
       "      <th>Total Image</th>\n",
       "    </tr>\n",
       "  </thead>\n",
       "  <tbody>\n",
       "    <tr>\n",
       "      <th>Cancer</th>\n",
       "      <td>984</td>\n",
       "      <td>82</td>\n",
       "      <td>82</td>\n",
       "      <td>1148</td>\n",
       "    </tr>\n",
       "    <tr>\n",
       "      <th>Precancer</th>\n",
       "      <td>360</td>\n",
       "      <td>30</td>\n",
       "      <td>30</td>\n",
       "      <td>420</td>\n",
       "    </tr>\n",
       "    <tr>\n",
       "      <th>Inflammatory</th>\n",
       "      <td>636</td>\n",
       "      <td>53</td>\n",
       "      <td>53</td>\n",
       "      <td>742</td>\n",
       "    </tr>\n",
       "    <tr>\n",
       "      <th>Normal</th>\n",
       "      <td>2058</td>\n",
       "      <td>2058</td>\n",
       "      <td>2058</td>\n",
       "      <td>6174</td>\n",
       "    </tr>\n",
       "    <tr>\n",
       "      <th>TOTAL</th>\n",
       "      <td>2340</td>\n",
       "      <td>2223</td>\n",
       "      <td>2223</td>\n",
       "      <td>6786</td>\n",
       "    </tr>\n",
       "  </tbody>\n",
       "</table>\n",
       "</div>"
      ],
      "text/plain": [
       "              Train image  Validation Image  Test Image  Total Image\n",
       "Cancer                984                82          82         1148\n",
       "Precancer             360                30          30          420\n",
       "Inflammatory          636                53          53          742\n",
       "Normal               2058              2058        2058         6174\n",
       "TOTAL                2340              2223        2223         6786"
      ]
     },
     "execution_count": 12,
     "metadata": {},
     "output_type": "execute_result"
    }
   ],
   "source": [
    "\n",
    "import pandas as pd\n",
    "\n",
    "#df = df_maker(3,4,0)  # 3X3 데이터 프레임 생성 0으로 채움\n",
    "col = [\"Train image\",\"Validation Image\",\"Test Image\",\"Total Image\"]\n",
    "ind = [\"Cancer\",\"Precancer\",\"Inflammatory\",\"Normal\",\"TOTAL\"]\n",
    "#df.columns = col  # 컬럼 col 리스트로 덮어씌움\n",
    "#df.index = ind    # 인덱스 ind 리스트로 덮어씌움\n",
    "\n",
    "\n",
    "con = [\n",
    "       [len(file_list1),len(file_list2),len(plus_list1),len(plus_list1)+len(file_list1)+len(file_list2)], \n",
    "       [len(file_list3),len(file_list4),len(plus_list2),len(plus_list2)+len(file_list3)+len(file_list4)],\n",
    "       [len(file_list5),len(file_list6),len(plus_list3),len(plus_list3)+len(file_list5)+len(file_list6)],\n",
    "       [len(file_list7),len(file_list8),len(plus_list4),len(plus_list4)+len(file_list7)+len(file_list8)],\n",
    "        [len(file_list1)+len(file_list3)+len(file_list5)+len(file_list3),\n",
    "         len(file_list2)+len(file_list4)+len(file_list6)+len(file_list8),\n",
    "         len(plus_list1)+len(plus_list2)+len(plus_list3)+len(plus_list4),\n",
    "        len(file_list1)+len(file_list3)+len(file_list5)+len(file_list3)+len(file_list2)+len(file_list4)+len(file_list6)+len(file_list8)+len(plus_list1)+len(plus_list2)+len(plus_list3)+len(plus_list4)]\n",
    "       ]\n",
    "\n",
    "pd.DataFrame(con,columns=col, index=ind)"
   ]
  },
  {
   "cell_type": "code",
   "execution_count": null,
   "metadata": {},
   "outputs": [],
   "source": []
  }
 ],
 "metadata": {
  "kernelspec": {
   "display_name": "Python 3",
   "language": "python",
   "name": "python3"
  },
  "language_info": {
   "codemirror_mode": {
    "name": "ipython",
    "version": 3
   },
   "file_extension": ".py",
   "mimetype": "text/x-python",
   "name": "python",
   "nbconvert_exporter": "python",
   "pygments_lexer": "ipython3",
   "version": "3.7.9"
  }
 },
 "nbformat": 4,
 "nbformat_minor": 4
}
