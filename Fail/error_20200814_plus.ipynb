{
  "nbformat": 4,
  "nbformat_minor": 0,
  "metadata": {
    "kernelspec": {
      "display_name": "Python 3",
      "language": "python",
      "name": "python3"
    },
    "language_info": {
      "codemirror_mode": {
        "name": "ipython",
        "version": 3
      },
      "file_extension": ".py",
      "mimetype": "text/x-python",
      "name": "python",
      "nbconvert_exporter": "python",
      "pygments_lexer": "ipython3",
      "version": "3.6.5"
    },
    "colab": {
      "name": "20200814_plus.ipynb",
      "provenance": [],
      "collapsed_sections": [
        "lXf8Dpe1KeHg",
        "3ArNio6RRgTe"
      ],
      "toc_visible": true,
      "include_colab_link": true
    },
    "accelerator": "GPU"
  },
  "cells": [
    {
      "cell_type": "markdown",
      "metadata": {
        "id": "view-in-github",
        "colab_type": "text"
      },
      "source": [
        "<a href=\"https://colab.research.google.com/github/leekate/2020ctrc/blob/master/error_20200814_plus.ipynb\" target=\"_parent\"><img src=\"https://colab.research.google.com/assets/colab-badge.svg\" alt=\"Open In Colab\"/></a>"
      ]
    },
    {
      "cell_type": "markdown",
      "metadata": {
        "id": "kBpq41JKVj6M",
        "colab_type": "text"
      },
      "source": [
        "# **MULTI_IMAGE_CLASSIFICATION**\n",
        "\n",
        "4가지의 이미지 분류\n",
        "\n",
        "기본적인 방법은 단일 이미지 분류와 같다. 대신, 다중 이미지 분류이기 때문에 카테고리의 변화가 있다.\n"
      ]
    },
    {
      "cell_type": "markdown",
      "metadata": {
        "id": "Gyxw6i29yifu",
        "colab_type": "text"
      },
      "source": [
        "## 1번 train"
      ]
    },
    {
      "cell_type": "code",
      "metadata": {
        "id": "Z7raZpBpWzvc",
        "colab_type": "code",
        "colab": {
          "base_uri": "https://localhost:8080/",
          "height": 125
        },
        "outputId": "5589f846-75f9-487a-d7a6-a3decf480ef4"
      },
      "source": [
        "from google.colab import drive\n",
        "drive.mount('/content/drive')"
      ],
      "execution_count": 1,
      "outputs": [
        {
          "output_type": "stream",
          "text": [
            "Go to this URL in a browser: https://accounts.google.com/o/oauth2/auth?client_id=947318989803-6bn6qk8qdgf4n4g3pfee6491hc0brc4i.apps.googleusercontent.com&redirect_uri=urn%3aietf%3awg%3aoauth%3a2.0%3aoob&scope=email%20https%3a%2f%2fwww.googleapis.com%2fauth%2fdocs.test%20https%3a%2f%2fwww.googleapis.com%2fauth%2fdrive%20https%3a%2f%2fwww.googleapis.com%2fauth%2fdrive.photos.readonly%20https%3a%2f%2fwww.googleapis.com%2fauth%2fpeopleapi.readonly&response_type=code\n",
            "\n",
            "Enter your authorization code:\n",
            "··········\n",
            "Mounted at /content/drive\n"
          ],
          "name": "stdout"
        }
      ]
    },
    {
      "cell_type": "markdown",
      "metadata": {
        "id": "D6L9_lOxrLTr",
        "colab_type": "text"
      },
      "source": [
        "### 파일 읽어오기"
      ]
    },
    {
      "cell_type": "code",
      "metadata": {
        "id": "VlpQzeS_9yzx",
        "colab_type": "code",
        "colab": {
          "base_uri": "https://localhost:8080/",
          "height": 52
        },
        "outputId": "9077dbba-5a45-4839-e88a-1e5a8dbf7a73"
      },
      "source": [
        "'''!pip uninstall keras\n",
        "!pip install Keras==2.2.4\n",
        "\n",
        "!pip uninstall tensorflow\n",
        "!pip install tensorflow==1.13.1'''"
      ],
      "execution_count": 1,
      "outputs": [
        {
          "output_type": "execute_result",
          "data": {
            "application/vnd.google.colaboratory.intrinsic+json": {
              "type": "string"
            },
            "text/plain": [
              "'!pip uninstall keras\\n!pip install Keras==2.2.4\\n\\n!pip uninstall tensorflow\\n!pip install tensorflow==1.13.1'"
            ]
          },
          "metadata": {
            "tags": []
          },
          "execution_count": 1
        }
      ]
    },
    {
      "cell_type": "code",
      "metadata": {
        "id": "nC2ngZOO4Q3a",
        "colab_type": "code",
        "colab": {}
      },
      "source": [
        "import os\n",
        "from tensorflow.keras.preprocessing.image import ImageDataGenerator,array_to_img,img_to_array, load_img\n",
        "import numpy as np\n",
        "\n",
        "np.random.seed(3)\n",
        "\n",
        "imageGenerator = ImageDataGenerator(rescale=1./255,\n",
        "                                    rotation_range=20,\n",
        "                                    width_shift_range=0.1,\n",
        "                                    height_shift_range=0.1,\n",
        "                                    brightness_range=[.2,.2],\n",
        "                                    horizontal_flip=True)\n",
        "                                    #validation_split=.2\n",
        "\n",
        "\n",
        "\n",
        "\n"
      ],
      "execution_count": 15,
      "outputs": []
    },
    {
      "cell_type": "code",
      "metadata": {
        "id": "kbGbl1hvFX_c",
        "colab_type": "code",
        "colab": {
          "base_uri": "https://localhost:8080/",
          "height": 52
        },
        "outputId": "15ee9fe3-8d74-4b83-ebcf-0abcc9de1670"
      },
      "source": [
        "#데이터가 충분하면 나누기\n",
        "trainGen = imageGenerator.flow_from_directory('/content/drive/My Drive/CTRC/train',\n",
        "                                              target_size=(64,64),\n",
        "                                              subset='training')\n",
        "\n",
        "validationGen = imageGenerator.flow_from_directory('/content/drive/My Drive/CTRC/validation',\n",
        "                                                  target_size=(64,64),\n",
        "                                                  subset='validation')\n"
      ],
      "execution_count": 16,
      "outputs": [
        {
          "output_type": "stream",
          "text": [
            "Found 11909 images belonging to 4 classes.\n",
            "Found 0 images belonging to 4 classes.\n"
          ],
          "name": "stdout"
        }
      ]
    },
    {
      "cell_type": "code",
      "metadata": {
        "id": "HUXM1JyVFX9D",
        "colab_type": "code",
        "colab": {}
      },
      "source": [
        ""
      ],
      "execution_count": null,
      "outputs": []
    },
    {
      "cell_type": "markdown",
      "metadata": {
        "id": "lXf8Dpe1KeHg",
        "colab_type": "text"
      },
      "source": [
        "### 데이터 부풀리기"
      ]
    },
    {
      "cell_type": "markdown",
      "metadata": {
        "id": "MXjtASprMCzx",
        "colab_type": "text"
      },
      "source": [
        "\n",
        "\n",
        "*   rotation_range = 90: \n",
        "지정된 각도 범위내에서 임의로 원본이미지를 회전시킵니다. 단위는 도이며, 정수형입니다. 예를 들어 90이라면 0도에서 90도 사이에 임의의 각도로 회전시킵니다. \n",
        "*   width_shift_range = 0.1: \n",
        "지정된 수평방향 이동 범위내에서 임의로 원본이미지를 이동시킵니다. 수치는 전체 넓이의 비율(실수)로 나타냅니다. 예를 들어 0.1이고 전체 넓이가 100이면, 10픽셀 내외로 좌우 이동시킵니다\n",
        "\n",
        "*   height_shift_range = 0.1: \n",
        "지정된 수직방향 이동 범위내에서 임의로 원본이미지를 이동시킵니다. 수치는 전체 높이의 비율(실수)로 나타냅니다. 예를 들어 0.1이고 전체 높이가 100이면, 10픽셀 내외로 상하 이동시킵니다.\n",
        "*   shear_range = 0.5:\n",
        "밀림 강도 범위내에서 임의로 원본이미지를 변형시킵니다. 수치는 시계반대방향으로 밀림 강도를 라디안으로 나타냅니다. 예를 들어 0.5이라면, 0.5 라이안내외로 시계반대방향으로 변형시킵니다.\n",
        "\n",
        "*   zoom_range = 0.3:\n",
        "지정된 확대/축소 범위내에서 임의로 원본이미지를 확대/축소합니다. “1-수치”부터 “1+수치”사이 범위로 확대/축소를 합니다. 예를 들어 0.3이라면, 0.7배에서 1.3배 크기 변화를 시킵니다.\n",
        "*   horizontal_flip = True:\n",
        "수평방향으로 뒤집기를 합니다.\n",
        "*   vertical_flip = True:\n",
        "수직방향으로 뒤집기를 합니다.\n",
        "\n",
        "\n",
        "\n",
        "\n"
      ]
    },
    {
      "cell_type": "markdown",
      "metadata": {
        "id": "lPGhbtSmDVDT",
        "colab_type": "text"
      },
      "source": [
        "1. Cancer"
      ]
    },
    {
      "cell_type": "code",
      "metadata": {
        "id": "nqK1bkW6-FlV",
        "colab_type": "code",
        "colab": {
          "base_uri": "https://localhost:8080/",
          "height": 54
        },
        "outputId": "724ccdaa-4ef5-46c2-b6cb-5ed7ae7a7dee"
      },
      "source": [
        "import os\n",
        "import numpy as np\n",
        "from PIL import Image\n",
        "#path = 이미지resize할 file directory\n",
        "path1 = \"/content/drive/My Drive/CTRC/validation/1. Cancer\"\n",
        "\n",
        "file_list = os.listdir(path1)\n",
        "\n",
        "print (\"file_list: {}\".format(file_list))"
      ],
      "execution_count": 12,
      "outputs": [
        {
          "output_type": "stream",
          "text": [
            "file_list: ['can_124.jpg', 'can_131.jpg', 'can_123.jpg', 'can_122.jpg', 'can_121.jpg', 'can_111.jpg', 'can_112.jpg', 'can_113.jpg', 'can_114.jpg', 'can_115.jpg', 'can_117.jpg', 'can_12.jpg', 'can_120.jpg', 'can_119.jpg', 'can_116.jpg', 'can_110.jpg', 'can_11.jpg', 'can_109.jpg', 'can_118.jpg', 'can_108.jpg', 'can_104.jpg', 'can_103.jpg', 'can_107.jpg', 'can_105.jpg', 'can_106.jpg', 'can_101.jpg', 'can_100.jpg', 'can_102.jpg', 'can_10.jpg', 'can_1.jpg', 'can_212.jpg', 'can_181.jpg', 'can_205.jpg', 'can_206.jpg', 'can_204.jpg', 'can_203.jpg', 'can_195.jpg', 'can_196.jpg', 'can_194.jpg', 'can_202.jpg', 'can_201.jpg', 'can_193.jpg', 'can_200.jpg', 'can_20.jpg', 'can_178.jpg', 'can_2.jpg', 'can_192.jpg', 'can_191.jpg', 'can_199.jpg', 'can_197.jpg', 'can_198.jpg', 'can_190.jpg', 'can_19.jpg', 'can_188.jpg', 'can_189.jpg', 'can_182.jpg', 'can_177.jpg', 'can_187.jpg', 'can_180.jpg', 'can_186.jpg', 'can_185.jpg', 'can_17_1.jpg', 'can_18.jpg', 'can_179.jpg', 'can_184.jpg', 'can_174.jpg', 'can_183.jpg', 'can_173.jpg', 'can_172.jpg', 'can_171.jpg', 'can_170.jpg', 'can_176.jpg', 'can_166.jpg', 'can_164.jpg', 'can_167.jpg', 'can_17.jpg', 'can_160.jpg', 'can_162.jpg', 'can_163.jpg', 'can_161.jpg', 'can_168.jpg', 'can_15_1.jpg', 'can_16.jpg', 'can_175.jpg', 'can_159.jpg', 'can_158.jpg', 'can_157.jpg', 'can_142.jpg', 'can_143.jpg', 'can_145.jpg', 'can_144.jpg', 'can_154.jpg', 'can_169.jpg', 'can_155.jpg', 'can_153.jpg', 'can_152.jpg', 'can_151.jpg', 'can_150.jpg', 'can_15.jpg', 'can_165.jpg', 'can_141.jpg', 'can_140.jpg', 'can_148.jpg', 'can_147.jpg', 'can_146.jpg', 'can_14.jpg', 'can_139.jpg', 'can_137.jpg', 'can_138.jpg', 'can_156.jpg', 'can_127.jpg', 'can_128.jpg', 'can_13.jpg', 'can_130.jpg', 'can_125.jpg', 'can_129.jpg', 'can_136.jpg', 'can_135.jpg', 'can_134.jpg', 'can_133.jpg', 'can_132.jpg', 'can_149.jpg', 'can_245.jpg', 'can_244.jpg', 'can_239.jpg', 'can_242.jpg', 'can_237.jpg', 'can_238.jpg', 'can_274.jpg', 'can_241.jpg', 'can_236.jpg', 'can_235.jpg', 'can_240.jpg', 'can_234.jpg', 'can_231.jpg', 'can_233.jpg', 'can_232.jpg', 'can_251.jpg', 'can_230.jpg', 'can_224.jpg', 'can_23.jpg', 'can_22_1.jpg', 'can_221.jpg', 'can_223.jpg', 'can_222.jpg', 'can_229.jpg', 'can_228.jpg', 'can_243.jpg', 'can_220.jpg', 'can_225.jpg', 'can_226.jpg', 'can_227.jpg', 'can_22.jpg', 'can_219.jpg', 'can_218.jpg', 'can_217.jpg', 'can_24.jpg', 'can_216.jpg', 'can_208.jpg', 'can_21.jpg', 'can_210.jpg', 'can_211.jpg', 'can_209.jpg', 'can_215.jpg', 'can_214.jpg', 'can_207.jpg', 'can_213.jpg', 'can_31.jpg', 'can_309.jpg', 'can_37.jpg', 'can_308.jpg', 'can_304.jpg', 'can_30.jpg', 'can_300.jpg', 'can_302.jpg', 'can_303.jpg', 'can_301.jpg', 'can_306.jpg', 'can_307.jpg', 'can_305.jpg', 'can_36.jpg', 'can_3.jpg', 'can_299.jpg', 'can_298.jpg', 'can_292.jpg', 'can_291.jpg', 'can_297.jpg', 'can_343.jpg', 'can_296.jpg', 'can_294.jpg', 'can_290.jpg', 'can_289.jpg', 'can_29.jpg', 'can_295.jpg', 'can_293.jpg', 'can_288.jpg', 'can_34.jpg', 'can_287.jpg', 'can_286.jpg', 'can_284.jpg', 'can_279.jpg', 'can_280.jpg', 'can_281.jpg', 'can_282.jpg', 'can_285.jpg', 'can_283.jpg', 'can_334.jpg', 'can_277.jpg', 'can_278.jpg', 'can_275.jpg', 'can_273.jpg', 'can_276.jpg', 'can_272.jpg', 'can_268.jpg', 'can_269.jpg', 'can_271.jpg', 'can_321.jpg', 'can_267.jpg', 'can_27.jpg', 'can_270.jpg', 'can_266.jpg', 'can_265.jpg', 'can_264.jpg', 'can_263.jpg', 'can_262.jpg', 'can_261.jpg', 'can_26.jpg', 'can_252.jpg', 'can_253.jpg', 'can_249.jpg', 'can_25.jpg', 'can_250.jpg', 'can_259.jpg', 'can_256.jpg', 'can_258.jpg', 'can_257.jpg', 'can_28.jpg', 'can_248.jpg', 'can_254.jpg', 'can_255.jpg', 'can_247.jpg', 'can_246.jpg', 'can_342.jpg', 'can_40_1.jpg', 'can_345.jpg', 'can_341.jpg', 'can_344.jpg', 'can_339.jpg', 'can_340.jpg', 'can_338.jpg', 'can_337.jpg', 'can_336.jpg', 'can_333.jpg', 'can_335.jpg', 'can_332.jpg', 'can_40.jpg', 'can_327.jpg', 'can_328.jpg', 'can_329.jpg', 'can_326.jpg', 'can_331.jpg', 'can_33.jpg', 'can_325.jpg', 'can_330.jpg', 'can_32_1.jpg', 'can_324.jpg', 'can_323.jpg', 'can_322.jpg', 'can_319.jpg', 'can_37_1.jpg', 'can_315.jpg', 'can_316.jpg', 'can_32.jpg', 'can_314.jpg', 'can_320.jpg', 'can_312.jpg', 'can_313.jpg', 'can_311.jpg', 'can_310.jpg', 'can_318.jpg', 'can_58.jpg', 'can_54.jpg', 'can_57.jpg', 'can_56.jpg', 'can_53_2.jpg', 'can_53_1.jpg', 'can_52.jpg', 'can_47_1.jpg', 'can_48.jpg', 'can_5.jpg', 'can_44.jpg', 'can_47.jpg', 'can_46.jpg', 'can_51.jpg', 'can_43.jpg', 'can_50.jpg', 'can_41.jpg', 'can_4.jpg', 'can_393.jpg', 'can_390.jpg', 'can_391_1.jpg', 'can_391_2.jpg', 'can_392.jpg', 'can_388.jpg', 'can_39.jpg', 'can_389.jpg', 'can_386.jpg', 'can_387.jpg', 'can_62.jpg', 'can_385.jpg', 'can_378.jpg', 'can_379.jpg', 'can_38.jpg', 'can_380.jpg', 'can_381.jpg', 'can_382_1.jpg', 'can_382_2.jpg', 'can_384.jpg', 'can_55.jpg', 'can_377.jpg', 'can_383.jpg', 'can_376.jpg', 'can_53.jpg', 'can_371_1.jpg', 'can_370.jpg', 'can_371_2.jpg', 'can_373.jpg', 'can_372.jpg', 'can_374.jpg', 'can_369_2.jpg', 'can_375.jpg', 'can_368.jpg', 'can_369_1.jpg', 'can_367.jpg', 'can_49.jpg', 'can_363.jpg', 'can_364.jpg', 'can_366.jpg', 'can_365.jpg', 'can_358.jpg', 'can_359.jpg', 'can_361.jpg', 'can_362.jpg', 'can_360.jpg', 'can_45.jpg', 'can_357.jpg', 'can_356.jpg', 'can_355.jpg', 'can_351.jpg', 'can_353.jpg', 'can_354.jpg', 'can_350.jpg', 'can_352.jpg', 'can_42.jpg', 'can_347.jpg', 'can_35.jpg', 'can_349.jpg', 'can_346.jpg', 'can_348.jpg', 'can_99.jpg', 'can_97_1.jpg', 'can_96.jpg', 'can_97.jpg', 'can_98.jpg', 'can_92.jpg', 'can_93.jpg', 'can_95.jpg', 'can_94.jpg', 'can_91.jpg', 'can_90.jpg', 'can_83.jpg', 'can_85.jpg', 'can_86.jpg', 'can_87.jpg', 'can_9.jpg', 'can_82.jpg', 'can_84.jpg', 'can_81.jpg', 'can_89.jpg', 'can_88.jpg', 'can_80.jpg', 'can_8.jpg', 'can_75.jpg', 'can_77.jpg', 'can_78.jpg', 'can_79.jpg', 'can_72.jpg', 'can_73.jpg', 'can_74.jpg', 'can_76.jpg', 'can_70.jpg', 'can_71.jpg', 'can_7.jpg', 'can_63.jpg', 'can_64.jpg', 'can_67.jpg', 'can_65.jpg', 'can_66.jpg', 'can_61_1.jpg', 'can_68.jpg', 'can_61.jpg', 'can_69.jpg', 'can_60_1.jpg', 'can_67_2.jpg', 'can_67_1.jpg', 'can_60.jpg', 'can_59_2.jpg', 'can_6.jpg', 'can_59_1.jpg', 'can_59.jpg', 'can_260.jpg', 'can_317.jpg']\n"
          ],
          "name": "stdout"
        }
      ]
    },
    {
      "cell_type": "code",
      "metadata": {
        "id": "mjt2R1Oo-W5v",
        "colab_type": "code",
        "colab": {
          "base_uri": "https://localhost:8080/",
          "height": 52
        },
        "outputId": "60a7bf2b-ef00-478f-c946-15348113d9cf"
      },
      "source": [
        "n=len(file_list)\n",
        "print(\"n=%d\"%(n))\n",
        "print(file_list[0])"
      ],
      "execution_count": 13,
      "outputs": [
        {
          "output_type": "stream",
          "text": [
            "n=412\n",
            "can_124.jpg\n"
          ],
          "name": "stdout"
        }
      ]
    },
    {
      "cell_type": "code",
      "metadata": {
        "id": "djuHu0ik-dXD",
        "colab_type": "code",
        "colab": {
          "base_uri": "https://localhost:8080/",
          "height": 105
        },
        "outputId": "55713825-e636-49ce-c613-2f64c8927c2b"
      },
      "source": [
        "np.random.seed(5)\n",
        "from keras.preprocessing.image import ImageDataGenerator, array_to_img, img_to_array, load_img\n",
        "\n",
        "# 데이터셋 불러오기\n",
        "'''train_datagen = ImageDataGenerator(rescale=1./255, rotation_range=15,width_shift_range=0.1, height_shift_range=0.1,\n",
        "                                  shear_range=0.5, zoom_range=[0.8, 2.0], horizontal_flip=True, vertical_flip=True, fill_mode='nearest')'''\n",
        "\n",
        "#데이터가 충분하지 않아서\n",
        "'''\n",
        "testGen = imageGenerator.flow_from_directory('/content/drive/My Drive/CTRC/train', target_size=(64, 64))\n",
        "'''\n",
        "\n",
        "\n",
        "#데이터가 충분하면 나누기\n",
        "trainGen = imageGenerator.flow_from_directory('/content/drive/My Drive/CTRC/train',\n",
        "                                              target_size=(64,64),\n",
        "                                              subset='training')\n",
        "\n",
        "validationGen = imageGenerator.flow_from_directory('/content/drive/My Drive/CTRC/validation',\n",
        "                                                  target_size=(64,64),\n",
        "                                                  subset='validation')\n",
        "\n",
        "\n",
        "\n",
        "for j in range(n):\n",
        "    \n",
        "    img = load_img('/content/drive/My Drive/CTRC/validation/1. Cancer/{}'.format(file_list[j]))\n",
        "    x = img_to_array(img)\n",
        "    x = x.reshape((1,) + x.shape)\n",
        "\n",
        "    i = 0\n",
        "\n",
        "    for batch in imageGenerator.flow(x, batch_size=1, \n",
        "                                              save_to_dir='/content/drive/My Drive/CTRC/train/1. Cancer', \n",
        "                                              save_prefix='{}'.format(file_list[j]), save_format='jpg'):\n",
        "\n",
        "        i += 1\n",
        "\n",
        "        if i > 5: \n",
        "\n",
        "            break\n",
        "\n",
        "\n",
        "\n",
        "\n",
        "'''\n",
        "  for batch in imageGenerator.flow(x, batch_size=1,\n",
        "                              save_to_dir=saveDir,\n",
        "                              save_format='jpg'):\n",
        "        i += 1'''"
      ],
      "execution_count": 14,
      "outputs": [
        {
          "output_type": "stream",
          "text": [
            "Using TensorFlow backend.\n"
          ],
          "name": "stderr"
        },
        {
          "output_type": "stream",
          "text": [
            "Found 33 images belonging to 4 classes.\n",
            "Found 0 images belonging to 4 classes.\n"
          ],
          "name": "stdout"
        },
        {
          "output_type": "execute_result",
          "data": {
            "application/vnd.google.colaboratory.intrinsic+json": {
              "type": "string"
            },
            "text/plain": [
              "\"\\n  for batch in imageGenerator.flow(x, batch_size=1,\\n                              save_to_dir=saveDir,\\n                              save_format='jpg'):\\n        i += 1\""
            ]
          },
          "metadata": {
            "tags": []
          },
          "execution_count": 14
        }
      ]
    },
    {
      "cell_type": "markdown",
      "metadata": {
        "id": "Zn9l8z9J_PFQ",
        "colab_type": "text"
      },
      "source": [
        "2. Precancer\n"
      ]
    },
    {
      "cell_type": "code",
      "metadata": {
        "id": "ZWk-j42J_MQr",
        "colab_type": "code",
        "colab": {
          "base_uri": "https://localhost:8080/",
          "height": 90
        },
        "outputId": "c8691a46-59c9-4906-f713-f253f919b6e1"
      },
      "source": [
        "import os\n",
        "import numpy as np\n",
        "from PIL import Image\n",
        "#path = 이미지resize할 file directory\n",
        "path2 = \"/content/drive/My Drive/CTRC/validation/2. Precancer\"\n",
        "\n",
        "file_list = os.listdir(path2)\n",
        "\n",
        "print (\"file_list: {}\".format(file_list))\n",
        "\n",
        "n=len(file_list)\n",
        "print(\"n=%d\"%(n))\n",
        "print(file_list[0])"
      ],
      "execution_count": 17,
      "outputs": [
        {
          "output_type": "stream",
          "text": [
            "file_list: ['precan_124.jpg', 'precan_126.jpg', 'precan_125.jpg', 'precan_130.jpg', 'precan_25.jpg', 'precan_121.jpg', 'precan_120.jpg', 'precan_119.jpg', 'precan_115.jpg', 'precan_116.jpg', 'precan_17.jpg', 'precan_118.jpg', 'precan_111.jpg', 'precan_112.jpg', 'precan_113.jpg', 'precan_114.jpg', 'precan_110.jpg', 'precan_117.jpg', 'precan_11.jpg', 'precan_109.jpg', 'precan_14.jpg', 'precan_107.jpg', 'precan_100.jpg', 'precan_101.jpg', 'precan_102.jpg', 'precan_104.jpg', 'precan_103.jpg', 'precan_106.jpg', 'precan_10.jpg', 'precan_105.jpg', 'precan_123.jpg', 'precan_122.jpg', 'precan_12.jpg', 'precan_108.jpg', 'precan_1.jpg', 'precan_37.jpg', 'precan_3.jpg', 'precan_31.jpg', 'precan_32.jpg', 'precan_33.jpg', 'precan_34.jpg', 'precan_36.jpg', 'precan_4.jpg', 'precan_35.jpg', 'precan_28.jpg', 'precan_29.jpg', 'precan_24.jpg', 'precan_27.jpg', 'precan_23.jpg', 'precan_39.jpg', 'precan_2.jpg', 'precan_20.jpg', 'precan_22.jpg', 'precan_18.jpg', 'precan_19.jpg', 'precan_21.jpg', 'precan_145.jpg', 'precan_147.jpg', 'precan_15.jpg', 'precan_16.jpg', 'precan_146.jpg', 'precan_144.jpg', 'precan_30.jpg', 'precan_141.jpg', 'precan_143.jpg', 'precan_136.jpg', 'precan_137.jpg', 'precan_138.jpg', 'precan_139.jpg', 'precan_140.jpg', 'precan_135.jpg', 'precan_142.jpg', 'precan_26.jpg', 'precan_134.jpg', 'precan_133.jpg', 'precan_132.jpg', 'precan_127.jpg', 'precan_128.jpg', 'precan_13.jpg', 'precan_129.jpg', 'precan_131.jpg', 'precan_83.jpg', 'precan_82.jpg', 'precan_99.jpg', 'precan_81_1.jpg', 'precan_98.jpg', 'precan_92.jpg', 'precan_94.jpg', 'precan_95.jpg', 'precan_93.jpg', 'precan_97.jpg', 'precan_77.jpg', 'precan_91.jpg', 'precan_90.jpg', 'precan_9.jpg', 'precan_96.jpg', 'precan_89.jpg', 'precan_88.jpg', 'precan_87.jpg', 'precan_84.jpg', 'precan_80.jpg', 'precan_75.jpg', 'precan_86.jpg', 'precan_76.jpg', 'precan_8.jpg', 'precan_81.jpg', 'precan_78.jpg', 'precan_79.jpg', 'precan_85.jpg', 'precan_73_1.jpg', 'precan_75_1.jpg', 'precan_74.jpg', 'precan_72.jpg', 'precan_67.jpg', 'precan_68.jpg', 'precan_7.jpg', 'precan_71.jpg', 'precan_66.jpg', 'precan_65.jpg', 'precan_73.jpg', 'precan_70.jpg', 'precan_63.jpg', 'precan_64.jpg', 'precan_62.jpg', 'precan_61.jpg', 'precan_59.jpg', 'precan_57.jpg', 'precan_6.jpg', 'precan_60.jpg', 'precan_69.jpg', 'precan_54.jpg', 'precan_56.jpg', 'precan_58.jpg', 'precan_55.jpg', 'precan_52.jpg', 'precan_53.jpg', 'precan_51.jpg', 'precan_5.jpg', 'precan_45.jpg', 'precan_46.jpg', 'precan_47.jpg', 'precan_48.jpg', 'precan_44.jpg', 'precan_50.jpg', 'precan_49.jpg', 'precan_43.jpg', 'precan_42.jpg', 'precan_40.jpg', 'precan_38.jpg', 'precan_41.jpg']\n",
            "n=150\n",
            "precan_124.jpg\n"
          ],
          "name": "stdout"
        }
      ]
    },
    {
      "cell_type": "code",
      "metadata": {
        "id": "ELEVzorm_RnA",
        "colab_type": "code",
        "colab": {
          "base_uri": "https://localhost:8080/",
          "height": 52
        },
        "outputId": "ae2c19c5-69b8-4c2a-83c7-e962a3c6f803"
      },
      "source": [
        "np.random.seed(5)\n",
        "from keras.preprocessing.image import ImageDataGenerator, array_to_img, img_to_array, load_img\n",
        "\n",
        "\n",
        "#데이터가 충분하면 나누기\n",
        "trainGen = imageGenerator.flow_from_directory('/content/drive/My Drive/CTRC/train/2. Precancer',\n",
        "                                              target_size=(64,64),\n",
        "                                              subset='training')\n",
        "\n",
        "validationGen = imageGenerator.flow_from_directory('/content/drive/My Drive/CTRC/validation/2. Precancer',\n",
        "                                                  target_size=(64,64),\n",
        "                                                  subset='validation')\n",
        "\n",
        "\n",
        "\n",
        "for j in range(n):\n",
        "    \n",
        "    img = load_img('/content/drive/My Drive/CTRC/validation/2. Precancer/{}'.format(file_list[j]))\n",
        "    x = img_to_array(img)\n",
        "    x = x.reshape((1,) + x.shape)\n",
        "\n",
        "    i = 0\n",
        "\n",
        "    for batch in imageGenerator.flow(x, batch_size=1, save_to_dir='/content/drive/My Drive/CTRC/train/2. Precancer',\n",
        "                               save_prefix='{}'.format(file_list[j]), save_format='jpg'):\n",
        "\n",
        "        i += 1\n",
        "\n",
        "        if i >5: \n",
        "\n",
        "            break"
      ],
      "execution_count": 18,
      "outputs": [
        {
          "output_type": "stream",
          "text": [
            "Found 0 images belonging to 0 classes.\n",
            "Found 0 images belonging to 0 classes.\n"
          ],
          "name": "stdout"
        }
      ]
    },
    {
      "cell_type": "markdown",
      "metadata": {
        "id": "MEdhTRFuDXt6",
        "colab_type": "text"
      },
      "source": [
        "3. Extra"
      ]
    },
    {
      "cell_type": "code",
      "metadata": {
        "id": "BM2DjGJPDZke",
        "colab_type": "code",
        "colab": {
          "base_uri": "https://localhost:8080/",
          "height": 90
        },
        "outputId": "b951d4ab-4a4e-4666-da49-a7ed27654f3c"
      },
      "source": [
        "import os\n",
        "import numpy as np\n",
        "from PIL import Image\n",
        "#path = 이미지resize할 file directory\n",
        "path3 = \"/content/drive/My Drive/CTRC/validation/3. Extra\"\n",
        "\n",
        "file_list = os.listdir(path3)\n",
        "\n",
        "print (\"file_list: {}\".format(file_list))\n",
        "\n",
        "n=len(file_list)\n",
        "print(\"n=%d\"%(n))\n",
        "print(file_list[0])"
      ],
      "execution_count": 21,
      "outputs": [
        {
          "output_type": "stream",
          "text": [
            "file_list: ['inf_117.jpg', 'inf_113.jpg', 'inf_114.jpg', 'inf_112.jpg', 'inf_116.jpg', 'inf_111.jpg', 'inf_111_1.jpg', 'inf_109.jpg', 'inf_108_1.jpg', 'inf_115.jpg', 'inf_108.jpg', 'inf_107.jpg', 'inf_106.jpg', 'inf_103.jpg', 'inf_104.jpg', 'inf_105.jpg', 'inf_102.jpg', 'inf_1.jpg', 'inf_100.jpg', 'inf_196.jpg', 'inf_203.jpg', 'inf_189.jpg', 'inf_190.jpg', 'inf_191.jpg', 'inf_195.jpg', 'inf_18.jpg', 'inf_19.jpg', 'inf_194.jpg', 'inf_188.jpg', 'inf_187.jpg', 'inf_186.jpg', 'inf_193.jpg', 'inf_192.jpg', 'inf_185.jpg', 'inf_184.jpg', 'inf_16.jpg', 'inf_177.jpg', 'inf_178.jpg', 'inf_179.jpg', 'inf_180.jpg', 'inf_183.jpg', 'inf_175.jpg', 'inf_182.jpg', 'inf_15.jpg', 'inf_181.jpg', 'inf_176.jpg', 'inf_174.jpg', 'inf_172.jpg', 'inf_173.jpg', 'inf_171.jpg', 'inf_168.jpg', 'inf_169.jpg', 'inf_167.jpg', 'inf_13_1.jpg', 'inf_170.jpg', 'inf_17.jpg', 'inf_164.jpg', 'inf_165.jpg', 'inf_166.jpg', 'inf_163.jpg', 'inf_162.jpg', 'inf_161.jpg', 'inf_13.jpg', 'inf_154.jpg', 'inf_156.jpg', 'inf_155.jpg', 'inf_157.jpg', 'inf_160.jpg', 'inf_152.jpg', 'inf_153.jpg', 'inf_151.jpg', 'inf_159.jpg', 'inf_158.jpg', 'inf_150.jpg', 'inf_11_1.jpg', 'inf_14_1.jpg', 'inf_144.jpg', 'inf_145.jpg', 'inf_147.jpg', 'inf_148.jpg', 'inf_146.jpg', 'inf_149.jpg', 'inf_143.jpg', 'inf_142.jpg', 'inf_110.jpg', 'inf_140.jpg', 'inf_141.jpg', 'inf_14.jpg', 'inf_133.jpg', 'inf_137.jpg', 'inf_136.jpg', 'inf_135.jpg', 'inf_139.jpg', 'inf_11.jpg', 'inf_138.jpg', 'inf_132.jpg', 'inf_134.jpg', 'inf_131.jpg', 'inf_129.jpg', 'inf_130.jpg', 'inf_101.jpg', 'inf_128.jpg', 'inf_123.jpg', 'inf_124.jpg', 'inf_125.jpg', 'inf_127.jpg', 'inf_12.jpg', 'inf_120.jpg', 'inf_121.jpg', 'inf_122.jpg', 'inf_126.jpg', 'inf_10.jpg', 'inf_119.jpg', 'inf_118.jpg', 'inf_232.jpg', 'inf_23.jpg', 'inf_230.jpg', 'inf_228.jpg', 'inf_25_2.jpg', 'inf_227.jpg', 'inf_229.jpg', 'inf_220.jpg', 'inf_221.jpg', 'inf_222.jpg', 'inf_223.jpg', 'inf_226.jpg', 'inf_225_2.jpg', 'inf_219_1.jpg', 'inf_219_2.jpg', 'inf_225_1.jpg', 'inf_249.jpg', 'inf_218.jpg', 'inf_224.jpg', 'inf_217.jpg', 'inf_216.jpg', 'inf_211_2.jpg', 'inf_211_1.jpg', 'inf_212.jpg', 'inf_213.jpg', 'inf_214.jpg', 'inf_215.jpg', 'inf_22.jpg', 'inf_210.jpg', 'inf_21.jpg', 'inf_208.jpg', 'inf_209.jpg', 'inf_207.jpg', 'inf_20.jpg', 'inf_200.jpg', 'inf_202.jpg', 'inf_201.jpg', 'inf_206.jpg', 'inf_205.jpg', 'inf_197.jpg', 'inf_198.jpg', 'inf_199.jpg', 'inf_2.jpg', 'inf_204.jpg', 'inf_70.jpg', 'inf_7.jpg', 'inf_64.jpg', 'inf_66.jpg', 'inf_6_1.jpg', 'inf_63.jpg', 'inf_65.jpg', 'inf_62.jpg', 'inf_68.jpg', 'inf_61.jpg', 'inf_60.jpg', 'inf_67.jpg', 'inf_6.jpg', 'inf_97.jpg', 'inf_57.jpg', 'inf_5_1.jpg', 'inf_58.jpg', 'inf_53.jpg', 'inf_54.jpg', 'inf_55.jpg', 'inf_56.jpg', 'inf_94.jpg', 'inf_52.jpg', 'inf_51.jpg', 'inf_50.jpg', 'inf_47.jpg', 'inf_87.jpg', 'inf_5.jpg', 'inf_43.jpg', 'inf_44.jpg', 'inf_45.jpg', 'inf_48.jpg', 'inf_46.jpg', 'inf_45_1.jpg', 'inf_49.jpg', 'inf_42.jpg', 'inf_41.jpg', 'inf_77.jpg', 'inf_40.jpg', 'inf_39.jpg', 'inf_37.jpg', 'inf_38.jpg', 'inf_4.jpg', 'inf_35.jpg', 'inf_36.jpg', 'inf_34.jpg', 'inf_32.jpg', 'inf_31.jpg', 'inf_25.jpg', 'inf_25_1.jpg', 'inf_27.jpg', 'inf_28.jpg', 'inf_29.jpg', 'inf_74.jpg', 'inf_33.jpg', 'inf_73.jpg', 'inf_30.jpg', 'inf_24_1.jpg', 'inf_248.jpg', 'inf_3.jpg', 'inf_247.jpg', 'inf_69.jpg', 'inf_246.jpg', 'inf_24.jpg', 'inf_240.jpg', 'inf_241.jpg', 'inf_242.jpg', 'inf_59.jpg', 'inf_245.jpg', 'inf_23_1.jpg', 'inf_238.jpg', 'inf_239.jpg', 'inf_244.jpg', 'inf_237.jpg', 'inf_243.jpg', 'inf_26.jpg', 'inf_236.jpg', 'inf_231.jpg', 'inf_233.jpg', 'inf_234.jpg', 'inf_235_1.jpg', 'inf_235_2.jpg', 'inf_99.jpg', 'inf_98.jpg', 'inf_93.jpg', 'inf_92.jpg', 'inf_91.jpg', 'inf_9.jpg', 'inf_90.jpg', 'inf_88.jpg', 'inf_96.jpg', 'inf_89.jpg', 'inf_95.jpg', 'inf_85.jpg', 'inf_86.jpg', 'inf_84.jpg', 'inf_8.jpg', 'inf_83.jpg', 'inf_79.jpg', 'inf_82.jpg', 'inf_78.jpg', 'inf_76.jpg', 'inf_75.jpg', 'inf_81.jpg', 'inf_71.jpg', 'inf_72.jpg', 'inf_80.jpg']\n",
            "n=265\n",
            "inf_117.jpg\n"
          ],
          "name": "stdout"
        }
      ]
    },
    {
      "cell_type": "code",
      "metadata": {
        "id": "7rGQ0gGbDeIa",
        "colab_type": "code",
        "colab": {
          "base_uri": "https://localhost:8080/",
          "height": 52
        },
        "outputId": "da42c0d8-bc6f-487b-867f-d6912872fe16"
      },
      "source": [
        "np.random.seed(5)\n",
        "from keras.preprocessing.image import ImageDataGenerator, array_to_img, img_to_array, load_img\n",
        "\n",
        "\n",
        "#데이터가 충분하면 나누기\n",
        "trainGen = imageGenerator.flow_from_directory('/content/drive/My Drive/CTRC/train/3. Extra',\n",
        "                                              target_size=(64,64),\n",
        "                                              subset='training')\n",
        "\n",
        "validationGen = imageGenerator.flow_from_directory('/content/drive/My Drive/CTRC/validation/3. Extra',\n",
        "                                                  target_size=(64,64),\n",
        "                                                  subset='validation')\n",
        "\n",
        "\n",
        "\n",
        "for j in range(n):\n",
        "    \n",
        "    img = load_img('/content/drive/My Drive/CTRC/validation/3. Extra/{}'.format(file_list[j]))\n",
        "    x = img_to_array(img)\n",
        "    x = x.reshape((1,) + x.shape)\n",
        "\n",
        "    i = 0\n",
        "\n",
        "    for batch in imageGenerator.flow(x, batch_size=1, save_to_dir='/content/drive/My Drive/CTRC/train/3. Extra',\n",
        "                               save_prefix='{}'.format(file_list[j]), save_format='jpg'):\n",
        "\n",
        "        i += 1\n",
        "\n",
        "        if i > 5: \n",
        "\n",
        "            break"
      ],
      "execution_count": 22,
      "outputs": [
        {
          "output_type": "stream",
          "text": [
            "Found 0 images belonging to 0 classes.\n",
            "Found 0 images belonging to 0 classes.\n"
          ],
          "name": "stdout"
        }
      ]
    },
    {
      "cell_type": "markdown",
      "metadata": {
        "id": "F347m1zsDpIO",
        "colab_type": "text"
      },
      "source": [
        "4. Normal"
      ]
    },
    {
      "cell_type": "code",
      "metadata": {
        "id": "5Es_QupIDoyN",
        "colab_type": "code",
        "colab": {
          "base_uri": "https://localhost:8080/",
          "height": 90
        },
        "outputId": "3a29d03b-41b0-43b9-e037-27b2a900dd4a"
      },
      "source": [
        "import os\n",
        "import numpy as np\n",
        "from PIL import Image\n",
        "#path = 이미지resize할 file directory\n",
        "path4 = \"/content/drive/My Drive/CTRC/validation/4. Normal\"\n",
        "\n",
        "file_list = os.listdir(path4)\n",
        "\n",
        "print (\"file_list: {}\".format(file_list))\n",
        "\n",
        "n=len(file_list)\n",
        "print(\"n=%d\"%(n))\n",
        "print(file_list[0])"
      ],
      "execution_count": 24,
      "outputs": [
        {
          "output_type": "stream",
          "text": [
            "file_list: ['nor_101_1.jpg', 'nor_101.jpg', 'nor_100.jpg', 'nor_10.jpg', 'nor_129.jpg', 'nor_13.jpg', 'nor_128.jpg', 'nor_122.jpg', 'nor_123.jpg', 'nor_127.jpg', 'nor_126_1.jpg', 'nor_119.jpg', 'nor_120.jpg', 'nor_121.jpg', 'nor_12.jpg', 'nor_118_1.jpg', 'nor_126.jpg', 'nor_118.jpg', 'nor_125.jpg', 'nor_117.jpg', 'nor_112.jpg', 'nor_116.jpg', 'nor_111.jpg', 'nor_115.jpg', 'nor_11.jpg', 'nor_109.jpg', 'nor_114.jpg', 'nor_108.jpg', 'nor_107.jpg', 'nor_106.jpg', 'nor_105.jpg', 'nor_1.jpg', 'nor_104.jpg', 'nor_103.jpg', 'nor_189.jpg', 'nor_19.jpg', 'nor_190.jpg', 'nor_192.jpg', 'nor_184.jpg', 'nor_185.jpg', 'nor_186.jpg', 'nor_187.jpg', 'nor_183.jpg', 'nor_191.jpg', 'nor_124.jpg', 'nor_182.jpg', 'nor_181.jpg', 'nor_179.jpg', 'nor_113.jpg', 'nor_172.jpg', 'nor_173.jpg', 'nor_175.jpg', 'nor_177.jpg', 'nor_176.jpg', 'nor_174.jpg', 'nor_180.jpg', 'nor_18.jpg', 'nor_171.jpg', 'nor_110.jpg', 'nor_170.jpg', 'nor_167.jpg', 'nor_17.jpg', 'nor_162.jpg', 'nor_163.jpg', 'nor_164.jpg', 'nor_165.jpg', 'nor_166.jpg', 'nor_161.jpg', 'nor_169.jpg', 'nor_102.jpg', 'nor_168.jpg', 'nor_16.jpg', 'nor_160.jpg', 'nor_159.jpg', 'nor_154.jpg', 'nor_157.jpg', 'nor_153.jpg', 'nor_153_1.jpg', 'nor_155.jpg', 'nor_151.jpg', 'nor_152.jpg', 'nor_150.jpg', 'nor_15.jpg', 'nor_149.jpg', 'nor_149_1.jpg', 'nor_148.jpg', 'nor_143.jpg', 'nor_144.jpg', 'nor_145.jpg', 'nor_147.jpg', 'nor_14.jpg', 'nor_140.jpg', 'nor_141.jpg', 'nor_142.jpg', 'nor_146.jpg', 'nor_139.jpg', 'nor_138.jpg', 'nor_136.jpg', 'nor_135.jpg', 'nor_137.jpg', 'nor_131.jpg', 'nor_132.jpg', 'nor_134.jpg', 'nor_133.jpg', 'nor_130.jpg', 'nor_212_2.JPG', 'nor_211_1.JPG', 'nor_211_3.JPG', 'nor_211_2.JPG', 'nor_212_1.JPG', 'nor_210_3.JPG', 'nor_210_4.JPG', 'nor_211.JPG', 'nor_210_2.JPG', 'nor_188.jpg', 'nor_212.JPG', 'nor_210_1.JPG', 'nor_211_4.JPG', 'nor_178.jpg', 'nor_210.JPG', 'nor_209_1.JPG', 'nor_209_2.JPG', 'nor_209_3.JPG', 'nor_209_4.JPG', 'nor_21.jpg', 'nor_207.jpg', 'nor_208.jpg', 'nor_209.JPG', 'nor_204.jpg', 'nor_205.jpg', 'nor_158.jpg', 'nor_203.jpg', 'nor_200.jpg', 'nor_202.jpg', 'nor_156_1.jpg', 'nor_2.jpg', 'nor_20.jpg', 'nor_201.jpg', 'nor_196.jpg', 'nor_197.jpg', 'nor_198.jpg', 'nor_199.jpg', 'nor_195.jpg', 'nor_194.jpg', 'nor_156.jpg', 'nor_193.jpg', 'nor_218_2.JPG', 'nor_219_4.JPG', 'nor_219_5.JPG', 'nor_218_1.JPG', 'nor_218.JPG', 'nor_60.jpg', 'nor_216_3.JPG', 'nor_216_4.JPG', 'nor_217_3.JPG', 'nor_217_2.JPG', 'nor_216_1.JPG', 'nor_216_2.JPG', 'nor_216.JPG', 'nor_215_3.JPG', 'nor_217_1.JPG', 'nor_215_2.JPG', 'nor_217.JPG', 'nor_215_1.JPG', 'nor_215.JPG', 'nor_214_4.JPG', 'nor_214_1.JPG', 'nor_53.jpg', 'nor_213_4.JPG', 'nor_214.JPG', 'nor_214_3.JPG', 'nor_213_1.JPG', 'nor_213_2.JPG', 'nor_213_3.JPG', 'nor_213.JPG', 'nor_214_2.JPG', 'nor_212_3.JPG', 'nor_206.jpg', 'nor_222_4.JPG', 'nor_223_4.JPG', 'nor_222_3.JPG', 'nor_223_3.JPG', 'nor_222_2.JPG', 'nor_222_1.JPG', 'nor_87.jpg', 'nor_222.JPG', 'nor_219_1.JPG', 'nor_219_2.JPG', 'nor_219_3.JPG', 'nor_221_7.JPG', 'nor_221_6.JPG', 'nor_86.jpg', 'nor_221_5.JPG', 'nor_221_4.JPG', 'nor_84.jpg', 'nor_221_3.JPG', 'nor_221_2.JPG', 'nor_83.jpg', 'nor_221_1.JPG', 'nor_218_4.JPG', 'nor_218_5.JPG', 'nor_219.JPG', 'nor_218_3.JPG', 'nor_221.JPG', 'nor_220_4.JPG', 'nor_80.jpg', 'nor_220_3.JPG', 'nor_220_2.JPG', 'nor_64.jpg', 'nor_220_1.JPG', 'nor_22.jpg', 'nor_220.JPG', 'nor_61.jpg', 'nor_235.JPG', 'nor_235_1.JPG', 'nor_235_2.JPG', 'nor_237.JPG', 'nor_234_5.JPG', 'nor_235_6.JPG', 'nor_234_4.JPG', 'nor_234_3.JPG', 'nor_234.JPG', 'nor_234_1.JPG', 'nor_233_6.JPG', 'nor_233_4.JPG', 'nor_233_5.JPG', 'nor_234_2.JPG', 'nor_233_3.JPG', 'nor_233_2.JPG', 'nor_233.JPG', 'nor_233_1.JPG', 'nor_232_4.JPG', 'nor_232.JPG', 'nor_231_5.JPG', 'nor_232_1.JPG', 'nor_232_3.JPG', 'nor_232_2.JPG', 'nor_231_2.JPG', 'nor_231_3.JPG', 'nor_231_4.JPG', 'nor_231_1.JPG', 'nor_230_3.JPG', 'nor_230_4.JPG', 'nor_231.JPG', 'nor_229_2.JPG', 'nor_229_3.JPG', 'nor_230.JPG', 'nor_229_4.JPG', 'nor_23.jpg', 'nor_230_2.JPG', 'nor_230_1.JPG', 'nor_229_1.JPG', 'nor_229.JPG', 'nor_228_4.JPG', 'nor_227_4.JPG', 'nor_228.JPG', 'nor_228_1.JPG', 'nor_228_3.JPG', 'nor_227_1.JPG', 'nor_227_2.JPG', 'nor_227_3.JPG', 'nor_227.JPG', 'nor_96.jpg', 'nor_228_2.JPG', 'nor_226_5.JPG', 'nor_226_4.JPG', 'nor_226_3.JPG', 'nor_226.JPG', 'nor_90.jpg', 'nor_225_2.JPG', 'nor_225_4.JPG', 'nor_225_1.JPG', 'nor_225_3.JPG', 'nor_226_2.JPG', 'nor_226_1.JPG', 'nor_225.JPG', 'nor_224_5.JPG', 'nor_89.jpg', 'nor_224_4.JPG', 'nor_224_3.JPG', 'nor_223_1.JPG', 'nor_223_2.JPG', 'nor_224_2.JPG', 'nor_223.JPG', 'nor_88.jpg', 'nor_224_1.JPG', 'nor_224.JPG', 'nor_222_6.JPG', 'nor_222_5.JPG', 'nor_244_1.JPG', 'nor_242_4.JPG', 'nor_242_3.JPG', 'nor_242_2.JPG', 'nor_240_6.JPG', 'nor_241.JPG', 'nor_241_1.JPG', 'nor_241_2.JPG', 'nor_242.JPG', 'nor_241_3.JPG', 'nor_242_1.JPG', 'nor_240_5.JPG', 'nor_240_4.JPG', 'nor_240_3.JPG', 'nor_24.jpg', 'nor_240.JPG', 'nor_240_2.JPG', 'nor_239_5.JPG', 'nor_239_4.JPG', 'nor_239_6.JPG', 'nor_239_7.JPG', 'nor_239_3.JPG', 'nor_240_1.JPG', 'nor_239_1.JPG', 'nor_239_2.JPG', 'nor_239.JPG', 'nor_238_3.JPG', 'nor_238_2.JPG', 'nor_238_4.JPG', 'nor_238_1.JPG', 'nor_238_6.JPG', 'nor_238_5.JPG', 'nor_237_4.JPG', 'nor_237_5.JPG', 'nor_238.JPG', 'nor_237_3.JPG', 'nor_237_2.JPG', 'nor_237_1.JPG', 'nor_235_3.JPG', 'nor_235_4.JPG', 'nor_235_5.JPG', 'nor_257_2.JPG', 'nor_257_1.JPG', 'nor_257_3.JPG', 'nor_256_4.JPG', 'nor_257.JPG', 'nor_256_5.JPG', 'nor_256_2.JPG', 'nor_256_3.JPG', 'nor_256.JPG', 'nor_256_1.JPG', 'nor_255_6.JPG', 'nor_255_1.JPG', 'nor_255_2.JPG', 'nor_255_3.JPG', 'nor_255_5.JPG', 'nor_255.JPG', 'nor_254_3.JPG', 'nor_255_4.JPG', 'nor_254_1.JPG', 'nor_254_2.JPG', 'nor_253_3.JPG', 'nor_254.JPG', 'nor_253_2.JPG', 'nor_252_4.JPG', 'nor_252_5.JPG', 'nor_253_1.JPG', 'nor_253.JPG', 'nor_252_3.JPG', 'nor_252_2.JPG', 'nor_252_1.JPG', 'nor_251_5.JPG', 'nor_251_4.JPG', 'nor_252.JPG', 'nor_251_1.JPG', 'nor_251.JPG', 'nor_251_3.JPG', 'nor_251_2.JPG', 'nor_250_1.JPG', 'nor_250_3.JPG', 'nor_250_2.JPG', 'nor_250_4.JPG', 'nor_250.JPG', 'nor_25.jpg', 'nor_249_5.JPG', 'nor_249_4.JPG', 'nor_248_5.JPG', 'nor_249.JPG', 'nor_249_1.JPG', 'nor_249_3.JPG', 'nor_249_2.JPG', 'nor_248_2.JPG', 'nor_248_3.JPG', 'nor_248_4.JPG', 'nor_248_1.JPG', 'nor_247_5.JPG', 'nor_248.JPG', 'nor_247_4.JPG', 'nor_246_3.JPG', 'nor_246_4.JPG', 'nor_246_5.JPG', 'nor_246_6.JPG', 'nor_246_7.JPG', 'nor_247_1.JPG', 'nor_247.JPG', 'nor_247_3.JPG', 'nor_247_2.JPG', 'nor_246_2.JPG', 'nor_246_1.JPG', 'nor_246.JPG', 'nor_245_5.JPG', 'nor_245_1.JPG', 'nor_245_3.JPG', 'nor_245_2.JPG', 'nor_244_5.JPG', 'nor_244_4.JPG', 'nor_245.JPG', 'nor_244_6.JPG', 'nor_245_4.JPG', 'nor_244_3.JPG', 'nor_244_2.JPG', 'nor_243.JPG', 'nor_243_1.JPG', 'nor_243_2.JPG', 'nor_243_3.JPG', 'nor_243_4.JPG', 'nor_244.JPG', 'nor_242_5.JPG', 'nor_263_6.JPG', 'nor_264.JPG', 'nor_264_1.JPG', 'nor_263_3.JPG', 'nor_262_5.JPG', 'nor_263.JPG', 'nor_263_5.JPG', 'nor_262_6.JPG', 'nor_263_2.JPG', 'nor_262_1.JPG', 'nor_262_2.JPG', 'nor_262_4.JPG', 'nor_262_3.JPG', 'nor_263_1.JPG', 'nor_261_6.JPG', 'nor_262.JPG', 'nor_261_5.JPG', 'nor_261_2.JPG', 'nor_261_1.JPG', 'nor_260_4.JPG', 'nor_261_4.JPG', 'nor_261_3.JPG', 'nor_260_1.JPG', 'nor_260_2.JPG', 'nor_260_3.JPG', 'nor_261.JPG', 'nor_260.JPG', 'nor_26.jpg', 'nor_259_5.JPG', 'nor_258.JPG', 'nor_258_1.JPG', 'nor_258_3.JPG', 'nor_259.JPG', 'nor_259_2.JPG', 'nor_259_1.JPG', 'nor_258_2.JPG', 'nor_259_4.JPG', 'nor_257_5.JPG', 'nor_259_3.JPG', 'nor_257_4.JPG', 'nor_271_3.JPG', 'nor_270_1.JPG', 'nor_270.JPG', 'nor_268_4.JPG', 'nor_269_1.JPG', 'nor_27.jpg', 'nor_269_2.JPG', 'nor_269_4.JPG', 'nor_269_3.JPG', 'nor_268_1.JPG', 'nor_268_2.JPG', 'nor_269.JPG', 'nor_268_3.JPG', 'nor_267_6.JPG', 'nor_268.JPG', 'nor_267_5.JPG', 'nor_267_1.JPG', 'nor_267_2.JPG', 'nor_267_4.JPG', 'nor_266_3.JPG', 'nor_267.JPG', 'nor_267_3.JPG', 'nor_266_1.JPG', 'nor_266.JPG', 'nor_266_2.JPG', 'nor_265_3.JPG', 'nor_265_2.JPG', 'nor_265_1.JPG', 'nor_264_2.JPG', 'nor_264_4.JPG', 'nor_265.JPG', 'nor_264_3.JPG', 'nor_263_4.JPG', 'nor_285_3.JPG', 'nor_286_2.JPG', 'nor_286_1.JPG', 'nor_286.JPG', 'nor_287.JPG', 'nor_286_3.JPG', 'nor_285_1.JPG', 'nor_285_2.JPG', 'nor_285_4.JPG', 'nor_284_2.JPG', 'nor_285.JPG', 'nor_284_3.JPG', 'nor_283_3.JPG', 'nor_284_1.JPG', 'nor_281_5.JPG', 'nor_282.JPG', 'nor_282_1.JPG', 'nor_283.JPG', 'nor_283_1.JPG', 'nor_283_2.JPG', 'nor_284.JPG', 'nor_281_4.JPG', 'nor_281_3.JPG', 'nor_281_2.JPG', 'nor_28.jpg', 'nor_280.JPG', 'nor_280_1.JPG', 'nor_280_2.JPG', 'nor_281_1.JPG', 'nor_279_2.JPG', 'nor_279_3.JPG', 'nor_279_4.JPG', 'nor_281.JPG', 'nor_279_1.JPG', 'nor_279.JPG', 'nor_278_1.JPG', 'nor_277_3.JPG', 'nor_277_2.JPG', 'nor_278.JPG', 'nor_276_3.JPG', 'nor_276_4.JPG', 'nor_276_5.JPG', 'nor_277.JPG', 'nor_277_1.JPG', 'nor_277_4.JPG', 'nor_276_2.JPG', 'nor_276_1.JPG', 'nor_276.JPG', 'nor_275.JPG', 'nor_274_3.JPG', 'nor_275_1.JPG', 'nor_275_2.JPG', 'nor_274_4.JPG', 'nor_275_4.JPG', 'nor_274_2.JPG', 'nor_274_1.JPG', 'nor_275_3.JPG', 'nor_274.JPG', 'nor_273_5.JPG', 'nor_273.JPG', 'nor_273_1.JPG', 'nor_273_2.JPG', 'nor_273_3.JPG', 'nor_273_4.JPG', 'nor_272_3.JPG', 'nor_272_4.JPG', 'nor_272_5.JPG', 'nor_272_1.JPG', 'nor_272_2.JPG', 'nor_272.JPG', 'nor_271_1.JPG', 'nor_271_4.JPG', 'nor_270_4.JPG', 'nor_270_3.JPG', 'nor_270_5.JPG', 'nor_271.JPG', 'nor_271_2.JPG', 'nor_270_2.JPG', 'nor_295_1.JPG', 'nor_295_2.JPG', 'nor_295_3.JPG', 'nor_296_3.JPG', 'nor_295.JPG', 'nor_294_5.JPG', 'nor_293_2.JPG', 'nor_293_3.JPG', 'nor_294.JPG', 'nor_294_1.JPG', 'nor_294_4.JPG', 'nor_294_3.JPG', 'nor_293.JPG', 'nor_293_1.JPG', 'nor_292_3.JPG', 'nor_294_2.JPG', 'nor_292_2.JPG', 'nor_292_1.JPG', 'nor_291_1.JPG', 'nor_291_2.JPG', 'nor_292.JPG', 'nor_290_3.JPG', 'nor_290_4.JPG', 'nor_290_5.JPG', 'nor_291.JPG', 'nor_290_1.JPG', 'nor_291_4.JPG', 'nor_290.JPG', 'nor_291_3.JPG', 'nor_290_2.JPG', 'nor_288_2.JPG', 'nor_289_1.JPG', 'nor_288.JPG', 'nor_288_1.JPG', 'nor_289.JPG', 'nor_29.jpg', 'nor_287_3.JPG', 'nor_287_2.JPG', 'nor_289_3.JPG', 'nor_289_2.JPG', 'nor_287_1.JPG', 'nor_312_1.JPG', 'nor_310_4.JPG', 'nor_310_5.JPG', 'nor_311.JPG', 'nor_310_3.JPG', 'nor_312.JPG', 'nor_310_2.JPG', 'nor_311_4.JPG', 'nor_310_1.JPG', 'nor_309_2.JPG', 'nor_309_4.JPG', 'nor_31.jpg', 'nor_310.JPG', 'nor_309_1.JPG', 'nor_309.JPG', 'nor_309_3.JPG', 'nor_308_3.JPG', 'nor_308_1.JPG', 'nor_308_2.JPG', 'nor_306_2.JPG', 'nor_306_3.JPG', 'nor_306_5.JPG', 'nor_307_3.JPG', 'nor_306_4.JPG', 'nor_307_1.JPG', 'nor_307.JPG', 'nor_308.JPG', 'nor_306_1.JPG', 'nor_307_2.JPG', 'nor_306.JPG', 'nor_305_4.JPG', 'nor_304_3.JPG', 'nor_304_2.JPG', 'nor_305.JPG', 'nor_304_4.JPG', 'nor_305_1.JPG', 'nor_305_2.JPG', 'nor_304_1.JPG', 'nor_305_3.JPG', 'nor_304.JPG', 'nor_303_4.JPG', 'nor_303_3.JPG', 'nor_302_1.JPG', 'nor_302_3.JPG', 'nor_302_4.JPG', 'nor_303.JPG', 'nor_302_2.JPG', 'nor_302.JPG', 'nor_303_2.JPG', 'nor_301_4.JPG', 'nor_303_1.JPG', 'nor_301_3.JPG', 'nor_301_2.JPG', 'nor_300_3.JPG', 'nor_300_4.JPG', 'nor_301.JPG', 'nor_301_1.JPG', 'nor_30.jpg', 'nor_300.JPG', 'nor_300_1.JPG', 'nor_300_2.JPG', 'nor_3.jpg', 'nor_299_3.JPG', 'nor_299_2.JPG', 'nor_298_4.JPG', 'nor_299_1.JPG', 'nor_297_4.JPG', 'nor_298.JPG', 'nor_298_1.JPG', 'nor_298_2.JPG', 'nor_298_3.JPG', 'nor_297_3.JPG', 'nor_299.JPG', 'nor_297_2.JPG', 'nor_297_1.JPG', 'nor_297.JPG', 'nor_295_4.JPG', 'nor_296_1.JPG', 'nor_296_2.JPG', 'nor_296.JPG', 'nor_296_4.JPG', 'nor_321_3.JPG', 'nor_321_2.JPG', 'nor_319_4.JPG', 'nor_319_3.JPG', 'nor_319_1.JPG', 'nor_319.JPG', 'nor_319_2.JPG', 'nor_318_5.JPG', 'nor_318_4.JPG', 'nor_318_6.JPG', 'nor_318_3.JPG', 'nor_318_2.JPG', 'nor_318.JPG', 'nor_318_1.JPG', 'nor_317_4.JPG', 'nor_316_4.JPG', 'nor_316_2.JPG', 'nor_317.JPG', 'nor_317_1.JPG', 'nor_317_3.JPG', 'nor_317_2.JPG', 'nor_316_1.JPG', 'nor_316_3.JPG', 'nor_316.JPG', 'nor_315_3.JPG', 'nor_315_2.JPG', 'nor_315_1.JPG', 'nor_314_1.JPG', 'nor_314.JPG', 'nor_314_2.JPG', 'nor_314_3.JPG', 'nor_315.JPG', 'nor_313_3.JPG', 'nor_313_2.JPG', 'nor_313_1.JPG', 'nor_314_4.JPG', 'nor_312_4.JPG', 'nor_313.JPG', 'nor_312_3.JPG', 'nor_311_1.JPG', 'nor_311_2.JPG', 'nor_311_3.JPG', 'nor_312_2.JPG', 'nor_351_1.jpg', 'nor_351.jpg', 'nor_346_3.jpg', 'nor_346_1.jpg', 'nor_346.jpg', 'nor_347.jpg', 'nor_347_1.jpg', 'nor_347_2.jpg', 'nor_350.jpg', 'nor_346_2.jpg', 'nor_35.jpg', 'nor_349_1.jpg', 'nor_348.jpg', 'nor_349.jpg', 'nor_345_1.jpg', 'nor_345_2.jpg', 'nor_345.jpg', 'nor_343.jpg', 'nor_341_2.jpg', 'nor_343_1.jpg', 'nor_342.jpg', 'nor_342_2.jpg', 'nor_342_1.jpg', 'nor_341_1.jpg', 'nor_344_1.jpg', 'nor_344.jpg', 'nor_341.jpg', 'nor_340_1.jpg', 'nor_340.jpg', 'nor_338.jpg', 'nor_337.jpg', 'nor_339.jpg', 'nor_339_1.jpg', 'nor_34.jpg', 'nor_336_1.jpg', 'nor_336_2.jpg', 'nor_336.jpg', 'nor_339_2.jpg', 'nor_335_3.jpg', 'nor_335_2.jpg', 'nor_333.jpg', 'nor_333_1.jpg', 'nor_334.jpg', 'nor_334_1.jpg', 'nor_333_2.jpg', 'nor_334_2.jpg', 'nor_335.jpg', 'nor_332.jpg', 'nor_335_1.jpg', 'nor_331_2.jpg', 'nor_330_3.jpg', 'nor_331.jpg', 'nor_329_3.jpg', 'nor_330.jpg', 'nor_33.jpg', 'nor_330_2.jpg', 'nor_330_1.jpg', 'nor_331_1.jpg', 'nor_329_1.jpg', 'nor_329_2.jpg', 'nor_329.jpg', 'nor_328.jpg', 'nor_326.jpg', 'nor_327_1.jpg', 'nor_327_2.jpg', 'nor_326_2.jpg', 'nor_326_1.jpg', 'nor_327.jpg', 'nor_328_2.jpg', 'nor_328_1.jpg', 'nor_325_2.jpg', 'nor_325_1.jpg', 'nor_324_1.jpg', 'nor_323_2.jpg', 'nor_325.jpg', 'nor_322_3.JPG', 'nor_323.jpg', 'nor_324.jpg', 'nor_323_1.jpg', 'nor_322_2.JPG', 'nor_322.JPG', 'nor_322_1.JPG', 'nor_321_4.JPG', 'nor_32.jpg', 'nor_320.JPG', 'nor_320_2.JPG', 'nor_320_1.JPG', 'nor_321.JPG', 'nor_320_3.JPG', 'nor_321_1.JPG', 'nor_375.JPG', 'nor_371_1.jpg', 'nor_372.jpg', 'nor_371.jpg', 'nor_368_1.jpg', 'nor_368.jpg', 'nor_368_2.jpg', 'nor_369.jpg', 'nor_370.jpg', 'nor_366_1.jpg', 'nor_367.jpg', 'nor_367_1.jpg', 'nor_37.jpg', 'nor_366.jpg', 'nor_365.jpg', 'nor_360_1.jpg', 'nor_360.jpg', 'nor_361.jpg', 'nor_363_1.jpg', 'nor_362.jpg', 'nor_361_1.jpg', 'nor_363.jpg', 'nor_36.jpg', 'nor_364.jpg', 'nor_359_2.jpg', 'nor_359_1.jpg', 'nor_356_1.jpg', 'nor_356_2.jpg', 'nor_357.jpg', 'nor_358_1.jpg', 'nor_357_2.jpg', 'nor_358.jpg', 'nor_357_1.jpg', 'nor_359.jpg', 'nor_356.jpg', 'nor_358_2.jpg', 'nor_355.jpg', 'nor_351_2.jpg', 'nor_353.jpg', 'nor_352.jpg', 'nor_353_2.jpg', 'nor_354_1.jpg', 'nor_354.jpg', 'nor_353_1.jpg', 'nor_354_2.jpg', 'nor_419_1.jpg', 'nor_419_2.jpg', 'nor_421.jpg', 'nor_419.jpg', 'nor_418_2.jpg', 'nor_416_2.jpg', 'nor_417_1.jpg', 'nor_417.jpg', 'nor_418_1.jpg', 'nor_415_1.jpg', 'nor_416.jpg', 'nor_415_2.jpg', 'nor_416_1.jpg', 'nor_418.jpg', 'nor_417_2.jpg', 'nor_415.jpg', 'nor_414.jpg', 'nor_410.jpg', 'nor_412_2.jpg', 'nor_412_1.jpg', 'nor_411_1.jpg', 'nor_412.jpg', 'nor_413.jpg', 'nor_411.jpg', 'nor_413_1.jpg', 'nor_41.jpg', 'nor_408.jpg', 'nor_409.jpg', 'nor_405.jpg', 'nor_406_1.jpg', 'nor_405_1.jpg', 'nor_406.jpg', 'nor_407.jpg', 'nor_406_2.jpg', 'nor_403_2.jpg', 'nor_404_1.jpg', 'nor_404.jpg', 'nor_403_1.jpg', 'nor_40.jpg', 'nor_400.jpg', 'nor_400_2.jpg', 'nor_401.jpg', 'nor_401_1.jpg', 'nor_401_2.jpg', 'nor_402_2.jpg', 'nor_403.jpg', 'nor_400_1.jpg', 'nor_402_1.jpg', 'nor_402.jpg', 'nor_4.jpg', 'nor_399_2.jpg', 'nor_399_1.jpg', 'nor_397_1.jpg', 'nor_398.jpg', 'nor_397.jpg', 'nor_399.jpg', 'nor_396.jpg', 'nor_395_1.jpg', 'nor_396_1.jpg', 'nor_395.jpg', 'nor_398_1.jpg', 'nor_394.jpg', 'nor_390_1.jpg', 'nor_390.jpg', 'nor_392_1.jpg', 'nor_393.jpg', 'nor_393_1.jpg', 'nor_391_1.jpg', 'nor_392.jpg', 'nor_391_2.jpg', 'nor_391.jpg', 'nor_390_2.jpg', 'nor_388.jpg', 'nor_389_1.jpg', 'nor_387_1.jpg', 'nor_387_2.jpg', 'nor_388_1.jpg', 'nor_389.jpg', 'nor_387.jpg', 'nor_39.jpg', 'nor_389_2.jpg', 'nor_386.jpg', 'nor_385_1.jpg', 'nor_385.jpg', 'nor_382.jpg', 'nor_384.jpg', 'nor_383.jpg', 'nor_381.jpg', 'nor_380_1.jpg', 'nor_379.jpg', 'nor_380.jpg', 'nor_38.jpg', 'nor_379_1.jpg', 'nor_378.jpg', 'nor_372_1.jpg', 'nor_373.jpg', 'nor_374.jpg', 'nor_376.JPG', 'nor_377_1.jpg', 'nor_377.jpg', 'nor_432_1.jpg', 'nor_432.jpg', 'nor_431.jpg', 'nor_431_3.jpg', 'nor_429_2.jpg', 'nor_43.jpg', 'nor_430.jpg', 'nor_430_1.jpg', 'nor_430_2.jpg', 'nor_430_3.jpg', 'nor_429_1.jpg', 'nor_431_2.jpg', 'nor_431_1.jpg', 'nor_429.jpg', 'nor_428.jpg', 'nor_428_2.jpg', 'nor_428_1.jpg', 'nor_427_3.jpg', 'nor_428_3.jpg', 'nor_427.jpg', 'nor_427_1.jpg', 'nor_427_2.jpg', 'nor_426_3.jpg', 'nor_426_4.jpg', 'nor_426_2.jpg', 'nor_425_3.jpg', 'nor_425_2.jpg', 'nor_425_4.jpg', 'nor_425_1.jpg', 'nor_426_1.jpg', 'nor_426.jpg', 'nor_424_2.jpg', 'nor_425.jpg', 'nor_424_1.jpg', 'nor_424.jpg', 'nor_421_3.jpg', 'nor_421_2.jpg', 'nor_422_2.jpg', 'nor_423.jpg', 'nor_422_3.jpg', 'nor_423_2.jpg', 'nor_422_1.jpg', 'nor_423_1.jpg', 'nor_422_4.jpg', 'nor_422.jpg', 'nor_42.jpg', 'nor_420_3.jpg', 'nor_420_1.jpg', 'nor_420_2.jpg', 'nor_420.jpg', 'nor_421_1.jpg', 'nor_455_1.jpg', 'nor_455.jpg', 'nor_45.jpg', 'nor_449.jpg', 'nor_446_3.jpg', 'nor_447.jpg', 'nor_448.jpg', 'nor_446.jpg', 'nor_445.jpg', 'nor_446_1.jpg', 'nor_444.jpg', 'nor_446_2.jpg', 'nor_443_1.jpg', 'nor_443_2.jpg', 'nor_443.jpg', 'nor_442.jpg', 'nor_441_2.jpg', 'nor_441_3.jpg', 'nor_442_2.jpg', 'nor_440_1.jpg', 'nor_441.jpg', 'nor_441_1.jpg', 'nor_440.jpg', 'nor_442_1.jpg', 'nor_44.jpg', 'nor_43_1.jpg', 'nor_439_1.jpg', 'nor_437.JPG', 'nor_436_3.jpg', 'nor_436_2.jpg', 'nor_435_2.jpg', 'nor_435_3.jpg', 'nor_436.jpg', 'nor_436_1.jpg', 'nor_439.jpg', 'nor_438.JPG', 'nor_435_1.jpg', 'nor_435.jpg', 'nor_433_1.jpg', 'nor_433_2.jpg', 'nor_433_3.jpg', 'nor_434.jpg', 'nor_434_3.jpg', 'nor_432_3.jpg', 'nor_433.jpg', 'nor_432_2.jpg', 'nor_434_2.jpg', 'nor_434_1.jpg', 'nor_93.jpg', 'nor_9.jpg', 'nor_85.jpg', 'nor_82.jpg', 'nor_82_1.jpg', 'nor_92.jpg', 'nor_91.jpg', 'nor_81.jpg', 'nor_8.jpg', 'nor_79.jpg', 'nor_78.jpg', 'nor_77.jpg', 'nor_70.jpg', 'nor_71.jpg', 'nor_72.jpg', 'nor_73.jpg', 'nor_76.jpg', 'nor_68.jpg', 'nor_69.jpg', 'nor_7.jpg', 'nor_75.jpg', 'nor_74.jpg', 'nor_67.jpg', 'nor_66.jpg', 'nor_58.jpg', 'nor_6.jpg', 'nor_63.jpg', 'nor_65.jpg', 'nor_54.jpg', 'nor_56.jpg', 'nor_57.jpg', 'nor_52.jpg', 'nor_51.jpg', 'nor_50.jpg', 'nor_5.jpg', 'nor_475.jpg', 'nor_49.jpg', 'nor_48.jpg', 'nor_472.jpg', 'nor_471.jpg', 'nor_473.jpg', 'nor_474.jpg', 'nor_476.jpg', 'nor_470.jpg', 'nor_47.jpg', 'nor_478.jpg', 'nor_477.jpg', 'nor_469.jpg', 'nor_466.jpg', 'nor_467.jpg', 'nor_468.jpg', 'nor_464.jpg', 'nor_465.jpg', 'nor_462_1.jpg', 'nor_463_1.jpg', 'nor_463.jpg', 'nor_462.jpg', 'nor_461.jpg', 'nor_459_1.jpg', 'nor_46.jpg', 'nor_458_1.jpg', 'nor_459.jpg', 'nor_460.jpg', 'nor_457_2.jpg', 'nor_458.jpg', 'nor_457_1.jpg', 'nor_456.jpg', 'nor_457.jpg', 'nor_455_2.jpg', 'nor_452.jpg', 'nor_450.jpg', 'nor_451_2.jpg', 'nor_453.jpg', 'nor_454.jpg', 'nor_451_1.jpg', 'nor_451.jpg', 'nor_99.jpg', 'nor_98.jpg', 'nor_98_1.jpg', 'nor_97.jpg', 'nor_99_1.jpg', 'nor_95.jpg', 'nor_95_1.jpg', 'nor_93_1.jpg', 'nor_94_1.jpg', 'nor_94.jpg']\n",
            "n=1153\n",
            "nor_101_1.jpg\n"
          ],
          "name": "stdout"
        }
      ]
    },
    {
      "cell_type": "code",
      "metadata": {
        "id": "o9Y99gTdDvQY",
        "colab_type": "code",
        "colab": {
          "base_uri": "https://localhost:8080/",
          "height": 52
        },
        "outputId": "76fc5776-64e0-4601-c33b-c849a8b1fcd3"
      },
      "source": [
        "np.random.seed(5)\n",
        "from keras.preprocessing.image import ImageDataGenerator, array_to_img, img_to_array, load_img\n",
        "\n",
        "\n",
        "#데이터가 충분하면 나누기\n",
        "trainGen = imageGenerator.flow_from_directory('/content/drive/My Drive/CTRC/train/4. Normal',\n",
        "                                              target_size=(64,64),\n",
        "                                              subset='training')\n",
        "\n",
        "validationGen = imageGenerator.flow_from_directory('/content/drive/My Drive/CTRC/validation/4. Normal',\n",
        "                                                  target_size=(64,64),\n",
        "                                                  subset='validation')\n",
        "\n",
        "\n",
        "\n",
        "for j in range(n):\n",
        "    \n",
        "    img = load_img('/content/drive/My Drive/CTRC/validation/4. Normal/{}'.format(file_list[j]))\n",
        "    x = img_to_array(img)\n",
        "    x = x.reshape((1,) + x.shape)\n",
        "\n",
        "    i = 0\n",
        "\n",
        "    for batch in imageGenerator.flow(x, batch_size=1, save_to_dir='/content/drive/My Drive/CTRC/train/4. Normal',\n",
        "                               save_prefix='{}'.format(file_list[j]), save_format='jpg'):\n",
        "\n",
        "        i += 1\n",
        "\n",
        "        if i > 5: \n",
        "\n",
        "            break"
      ],
      "execution_count": 25,
      "outputs": [
        {
          "output_type": "stream",
          "text": [
            "Found 0 images belonging to 0 classes.\n",
            "Found 0 images belonging to 0 classes.\n"
          ],
          "name": "stdout"
        }
      ]
    },
    {
      "cell_type": "code",
      "metadata": {
        "id": "dh4dUStp8mH1",
        "colab_type": "code",
        "colab": {}
      },
      "source": [
        "categories = [\"1. Cancer\",\"2. Precancer\",\"3. Extra\",\"4. Normal\"]\n",
        "nb_classes = len(categories)\n"
      ],
      "execution_count": 26,
      "outputs": []
    },
    {
      "cell_type": "markdown",
      "metadata": {
        "id": "3ArNio6RRgTe",
        "colab_type": "text"
      },
      "source": [
        "## 폴더 내 이미지 개수 확인하기"
      ]
    },
    {
      "cell_type": "code",
      "metadata": {
        "id": "8XvzMI44RjGh",
        "colab_type": "code",
        "colab": {
          "base_uri": "https://localhost:8080/",
          "height": 34
        },
        "outputId": "4b36ab8c-b9ad-4077-8edb-f3515be87d07"
      },
      "source": [
        "#코드 추가해서 확인하기\n",
        "\n",
        "import os\n",
        "\n",
        "path, dirs, files = next(os.walk(\"/content/drive/My Drive/CTRC/train/4. Normal\"))\n",
        "file_count = len(files)\n",
        "\n",
        "file_count"
      ],
      "execution_count": 27,
      "outputs": [
        {
          "output_type": "execute_result",
          "data": {
            "text/plain": [
              "6917"
            ]
          },
          "metadata": {
            "tags": []
          },
          "execution_count": 27
        }
      ]
    },
    {
      "cell_type": "code",
      "metadata": {
        "id": "a7mC-hEeTsAw",
        "colab_type": "code",
        "colab": {
          "base_uri": "https://localhost:8080/",
          "height": 34
        },
        "outputId": "8d75401e-053e-4fa1-c084-3d548345c2df"
      },
      "source": [
        "import os\n",
        "\n",
        "path, dirs, files = next(os.walk(\"/content/drive/My Drive/CTRC/train/3. Extra\"))\n",
        "file_count = len(files)\n",
        "\n",
        "file_count"
      ],
      "execution_count": 28,
      "outputs": [
        {
          "output_type": "execute_result",
          "data": {
            "text/plain": [
              "1589"
            ]
          },
          "metadata": {
            "tags": []
          },
          "execution_count": 28
        }
      ]
    },
    {
      "cell_type": "code",
      "metadata": {
        "id": "W29rppybTr-8",
        "colab_type": "code",
        "colab": {
          "base_uri": "https://localhost:8080/",
          "height": 34
        },
        "outputId": "59e747e9-e1c2-4261-a8aa-9c3ca3621cf1"
      },
      "source": [
        "import os\n",
        "\n",
        "path, dirs, files = next(os.walk(\"/content/drive/My Drive/CTRC/train/2. Precancer\"))\n",
        "file_count = len(files)\n",
        "\n",
        "file_count"
      ],
      "execution_count": 29,
      "outputs": [
        {
          "output_type": "execute_result",
          "data": {
            "text/plain": [
              "899"
            ]
          },
          "metadata": {
            "tags": []
          },
          "execution_count": 29
        }
      ]
    },
    {
      "cell_type": "code",
      "metadata": {
        "id": "U_eyxexgT4V9",
        "colab_type": "code",
        "colab": {
          "base_uri": "https://localhost:8080/",
          "height": 34
        },
        "outputId": "d1391bb4-2641-45d8-991d-5f65b43790d4"
      },
      "source": [
        "import os\n",
        "\n",
        "path, dirs, files = next(os.walk(\"/content/drive/My Drive/CTRC/train/1. Cancer\"))\n",
        "file_count = len(files)\n",
        "\n",
        "file_count"
      ],
      "execution_count": 30,
      "outputs": [
        {
          "output_type": "execute_result",
          "data": {
            "text/plain": [
              "2504"
            ]
          },
          "metadata": {
            "tags": []
          },
          "execution_count": 30
        }
      ]
    },
    {
      "cell_type": "markdown",
      "metadata": {
        "id": "9352Bt6Inuk7",
        "colab_type": "text"
      },
      "source": [
        "## CNN 모델 만들기 (Conv2D 이용)"
      ]
    },
    {
      "cell_type": "code",
      "metadata": {
        "id": "mhc9w51LVj7s",
        "colab_type": "code",
        "colab": {
          "base_uri": "https://localhost:8080/",
          "height": 90
        },
        "outputId": "f291a9f8-821f-486a-c48c-4340b08e154e"
      },
      "source": [
        "#import keras.backend.tensorflow_backend as K\n",
        "import tensorflow.keras.backend as K\n",
        "import os, glob, numpy as np\n",
        "\n",
        "import tensorflow.compat.v1 as tf\n",
        "tf.disable_v2_behavior()\n",
        "\n",
        "from keras.models import Sequential\n",
        "from keras.layers import Conv2D, MaxPooling2D, Dense, Flatten, Dropout\n",
        "from keras.callbacks import EarlyStopping, ModelCheckpoint\n",
        "import matplotlib.pyplot as plt\n",
        "\n",
        "#with device('/device:GPU:0'):\n",
        "model = Sequential()\n",
        "model.add(Conv2D(32, (7,7), padding=\"same\", input_shape=(64,64,3), activation='relu'))\n",
        "model.add(MaxPooling2D(pool_size=(2,2)))\n",
        "    #model.add(Dropout(0.25))\n",
        "    # 3X3 크기의 컨볼루션 레이어를 32개의 필터수를 처음에 생성\n",
        "    # 활성화 함수 relu\n",
        "    # (64,64,3)의 튜플 값 가진다\n",
        "    # Maxpooling2D를 통해 중요 값만 뽑아 작은 출력값 만든다\n",
        "\n",
        "    \n",
        "model.add(Conv2D(64, (5,5), padding=\"same\", activation='relu'))\n",
        "model.add(MaxPooling2D(pool_size=(2,2)))\n",
        "    #model.add(Dropout(0.25))\n",
        "\n",
        "model.add(Conv2D(128, (3,3), padding=\"same\", activation='relu'))\n",
        "model.add(MaxPooling2D(pool_size=(2,2)))\n",
        "\n",
        "model.add(Conv2D(256, (3,3), padding=\"same\", activation='relu'))\n",
        "model.add(MaxPooling2D(pool_size=(2,2)))\n",
        "\n",
        "\n",
        "model.add(Conv2D(512, (3,3), padding=\"same\", activation='relu'))\n",
        "model.add(MaxPooling2D(pool_size=(2,2)))\n",
        "\n",
        "\n",
        "model.add(Conv2D(512, (3,3), padding=\"same\", activation='relu'))\n",
        "model.add(MaxPooling2D(pool_size=(2,2)))\n",
        "\n",
        "model.add(Flatten()) \n",
        "    #CNN에서 컨볼루션 레이어나 맥스풀링을 거치면 주요 특징만 추출되어 학습됨\n",
        "    \n",
        "    #컨볼루션이나 맥스풀링은 주로 2차원을 다루지만\n",
        "    #전결합층에 전달을 하기 위해서는 1차원으로 바꿔야하는데\n",
        "    #이 때 Flatten사용\n",
        "model.add(Dense(256, activation='relu'))\n",
        "model.add(Dense(64, activation='relu'))\n",
        "model.add(Dense(32, activation='relu'))\n",
        "model.add(Dense(16, activation='relu'))\n",
        "model.add(Dense(16, activation='relu'))\n",
        "\n",
        "    #model.add(Dropout(0.5))\n",
        "model.add(Dense(7, activation='softmax'))\n",
        "\n",
        "model.compile(loss='categorical_crossentropy', optimizer='adam', metrics=['accuracy'])\n",
        "\n",
        "    \n",
        "    "
      ],
      "execution_count": 12,
      "outputs": [
        {
          "output_type": "stream",
          "text": [
            "WARNING:tensorflow:From /usr/local/lib/python3.6/dist-packages/tensorflow/python/ops/resource_variable_ops.py:1666: calling BaseResourceVariable.__init__ (from tensorflow.python.ops.resource_variable_ops) with constraint is deprecated and will be removed in a future version.\n",
            "Instructions for updating:\n",
            "If using Keras pass *_constraint arguments to layers.\n"
          ],
          "name": "stdout"
        }
      ]
    },
    {
      "cell_type": "code",
      "metadata": {
        "id": "Uv0hb1smBlT4",
        "colab_type": "code",
        "colab": {
          "base_uri": "https://localhost:8080/",
          "height": 466
        },
        "outputId": "11e2a315-1261-41e8-d883-37a413deb9bf"
      },
      "source": [
        "'''!pip uninstall keras\n",
        "!pip install keras --upgrade'''"
      ],
      "execution_count": 39,
      "outputs": [
        {
          "output_type": "stream",
          "text": [
            "Uninstalling Keras-2.2.4:\n",
            "  Would remove:\n",
            "    /usr/local/lib/python3.6/dist-packages/Keras-2.2.4.dist-info/*\n",
            "    /usr/local/lib/python3.6/dist-packages/docs/*\n",
            "    /usr/local/lib/python3.6/dist-packages/keras/*\n",
            "  Would not remove (might be manually added):\n",
            "    /usr/local/lib/python3.6/dist-packages/docs/md_autogen.py\n",
            "    /usr/local/lib/python3.6/dist-packages/docs/update_docs.py\n",
            "Proceed (y/n)? y\n",
            "  Successfully uninstalled Keras-2.2.4\n",
            "Collecting keras\n",
            "  Downloading https://files.pythonhosted.org/packages/44/e1/dc0757b20b56c980b5553c1b5c4c32d378c7055ab7bfa92006801ad359ab/Keras-2.4.3-py2.py3-none-any.whl\n",
            "Requirement already satisfied, skipping upgrade: numpy>=1.9.1 in /usr/local/lib/python3.6/dist-packages (from keras) (1.18.5)\n",
            "Requirement already satisfied, skipping upgrade: scipy>=0.14 in /usr/local/lib/python3.6/dist-packages (from keras) (1.4.1)\n",
            "Requirement already satisfied, skipping upgrade: h5py in /usr/local/lib/python3.6/dist-packages (from keras) (2.10.0)\n",
            "Requirement already satisfied, skipping upgrade: pyyaml in /usr/local/lib/python3.6/dist-packages (from keras) (3.13)\n",
            "Requirement already satisfied, skipping upgrade: six in /usr/local/lib/python3.6/dist-packages (from h5py->keras) (1.15.0)\n",
            "Installing collected packages: keras\n",
            "Successfully installed keras-2.4.3\n"
          ],
          "name": "stdout"
        },
        {
          "output_type": "display_data",
          "data": {
            "application/vnd.colab-display-data+json": {
              "pip_warning": {
                "packages": [
                  "keras"
                ]
              }
            }
          },
          "metadata": {
            "tags": []
          }
        }
      ]
    },
    {
      "cell_type": "code",
      "metadata": {
        "id": "Zd_zEisaBlRb",
        "colab_type": "code",
        "colab": {
          "base_uri": "https://localhost:8080/",
          "height": 1000
        },
        "outputId": "0b494381-b603-41e4-dc8d-b5f2c46fc992"
      },
      "source": [
        "'''\n",
        "\n",
        "!pip uninstall tensorflow\n",
        "!pip install tensorflow==2.2'''"
      ],
      "execution_count": 2,
      "outputs": [
        {
          "output_type": "stream",
          "text": [
            "Uninstalling tensorflow-1.13.1:\n",
            "  Would remove:\n",
            "    /usr/local/bin/freeze_graph\n",
            "    /usr/local/bin/saved_model_cli\n",
            "    /usr/local/bin/tensorboard\n",
            "    /usr/local/bin/tf_upgrade_v2\n",
            "    /usr/local/bin/tflite_convert\n",
            "    /usr/local/bin/toco\n",
            "    /usr/local/bin/toco_from_protos\n",
            "    /usr/local/lib/python3.6/dist-packages/tensorflow-1.13.1.dist-info/*\n",
            "    /usr/local/lib/python3.6/dist-packages/tensorflow/*\n",
            "Proceed (y/n)? y\n",
            "  Successfully uninstalled tensorflow-1.13.1\n",
            "Collecting tensorflow==2.2\n",
            "\u001b[?25l  Downloading https://files.pythonhosted.org/packages/3d/be/679ce5254a8c8d07470efb4a4c00345fae91f766e64f1c2aece8796d7218/tensorflow-2.2.0-cp36-cp36m-manylinux2010_x86_64.whl (516.2MB)\n",
            "\u001b[K     |████████████████████████████████| 516.2MB 33kB/s \n",
            "\u001b[?25hRequirement already satisfied: opt-einsum>=2.3.2 in /usr/local/lib/python3.6/dist-packages (from tensorflow==2.2) (3.3.0)\n",
            "Collecting tensorboard<2.3.0,>=2.2.0\n",
            "\u001b[?25l  Downloading https://files.pythonhosted.org/packages/1d/74/0a6fcb206dcc72a6da9a62dd81784bfdbff5fedb099982861dc2219014fb/tensorboard-2.2.2-py3-none-any.whl (3.0MB)\n",
            "\u001b[K     |████████████████████████████████| 3.0MB 67kB/s \n",
            "\u001b[?25hRequirement already satisfied: protobuf>=3.8.0 in /usr/local/lib/python3.6/dist-packages (from tensorflow==2.2) (3.12.4)\n",
            "Requirement already satisfied: keras-preprocessing>=1.1.0 in /usr/local/lib/python3.6/dist-packages (from tensorflow==2.2) (1.1.2)\n",
            "Requirement already satisfied: google-pasta>=0.1.8 in /usr/local/lib/python3.6/dist-packages (from tensorflow==2.2) (0.2.0)\n",
            "Requirement already satisfied: gast==0.3.3 in /usr/local/lib/python3.6/dist-packages (from tensorflow==2.2) (0.3.3)\n",
            "Requirement already satisfied: termcolor>=1.1.0 in /usr/local/lib/python3.6/dist-packages (from tensorflow==2.2) (1.1.0)\n",
            "Requirement already satisfied: wrapt>=1.11.1 in /usr/local/lib/python3.6/dist-packages (from tensorflow==2.2) (1.12.1)\n",
            "Requirement already satisfied: grpcio>=1.8.6 in /usr/local/lib/python3.6/dist-packages (from tensorflow==2.2) (1.31.0)\n",
            "Requirement already satisfied: scipy==1.4.1; python_version >= \"3\" in /usr/local/lib/python3.6/dist-packages (from tensorflow==2.2) (1.4.1)\n",
            "Requirement already satisfied: h5py<2.11.0,>=2.10.0 in /usr/local/lib/python3.6/dist-packages (from tensorflow==2.2) (2.10.0)\n",
            "Collecting tensorflow-estimator<2.3.0,>=2.2.0\n",
            "\u001b[?25l  Downloading https://files.pythonhosted.org/packages/a4/f5/926ae53d6a226ec0fda5208e0e581cffed895ccc89e36ba76a8e60895b78/tensorflow_estimator-2.2.0-py2.py3-none-any.whl (454kB)\n",
            "\u001b[K     |████████████████████████████████| 460kB 54.3MB/s \n",
            "\u001b[?25hRequirement already satisfied: astunparse==1.6.3 in /usr/local/lib/python3.6/dist-packages (from tensorflow==2.2) (1.6.3)\n",
            "Requirement already satisfied: absl-py>=0.7.0 in /usr/local/lib/python3.6/dist-packages (from tensorflow==2.2) (0.9.0)\n",
            "Requirement already satisfied: wheel>=0.26; python_version >= \"3\" in /usr/local/lib/python3.6/dist-packages (from tensorflow==2.2) (0.34.2)\n",
            "Requirement already satisfied: six>=1.12.0 in /usr/local/lib/python3.6/dist-packages (from tensorflow==2.2) (1.15.0)\n",
            "Requirement already satisfied: numpy<2.0,>=1.16.0 in /usr/local/lib/python3.6/dist-packages (from tensorflow==2.2) (1.18.5)\n",
            "Requirement already satisfied: tensorboard-plugin-wit>=1.6.0 in /usr/local/lib/python3.6/dist-packages (from tensorboard<2.3.0,>=2.2.0->tensorflow==2.2) (1.7.0)\n",
            "Requirement already satisfied: google-auth-oauthlib<0.5,>=0.4.1 in /usr/local/lib/python3.6/dist-packages (from tensorboard<2.3.0,>=2.2.0->tensorflow==2.2) (0.4.1)\n",
            "Requirement already satisfied: google-auth<2,>=1.6.3 in /usr/local/lib/python3.6/dist-packages (from tensorboard<2.3.0,>=2.2.0->tensorflow==2.2) (1.17.2)\n",
            "Requirement already satisfied: requests<3,>=2.21.0 in /usr/local/lib/python3.6/dist-packages (from tensorboard<2.3.0,>=2.2.0->tensorflow==2.2) (2.23.0)\n",
            "Requirement already satisfied: werkzeug>=0.11.15 in /usr/local/lib/python3.6/dist-packages (from tensorboard<2.3.0,>=2.2.0->tensorflow==2.2) (1.0.1)\n",
            "Requirement already satisfied: markdown>=2.6.8 in /usr/local/lib/python3.6/dist-packages (from tensorboard<2.3.0,>=2.2.0->tensorflow==2.2) (3.2.2)\n",
            "Requirement already satisfied: setuptools>=41.0.0 in /usr/local/lib/python3.6/dist-packages (from tensorboard<2.3.0,>=2.2.0->tensorflow==2.2) (49.2.0)\n",
            "Requirement already satisfied: requests-oauthlib>=0.7.0 in /usr/local/lib/python3.6/dist-packages (from google-auth-oauthlib<0.5,>=0.4.1->tensorboard<2.3.0,>=2.2.0->tensorflow==2.2) (1.3.0)\n",
            "Requirement already satisfied: rsa<5,>=3.1.4; python_version >= \"3\" in /usr/local/lib/python3.6/dist-packages (from google-auth<2,>=1.6.3->tensorboard<2.3.0,>=2.2.0->tensorflow==2.2) (4.6)\n",
            "Requirement already satisfied: cachetools<5.0,>=2.0.0 in /usr/local/lib/python3.6/dist-packages (from google-auth<2,>=1.6.3->tensorboard<2.3.0,>=2.2.0->tensorflow==2.2) (4.1.1)\n",
            "Requirement already satisfied: pyasn1-modules>=0.2.1 in /usr/local/lib/python3.6/dist-packages (from google-auth<2,>=1.6.3->tensorboard<2.3.0,>=2.2.0->tensorflow==2.2) (0.2.8)\n",
            "Requirement already satisfied: certifi>=2017.4.17 in /usr/local/lib/python3.6/dist-packages (from requests<3,>=2.21.0->tensorboard<2.3.0,>=2.2.0->tensorflow==2.2) (2020.6.20)\n",
            "Requirement already satisfied: urllib3!=1.25.0,!=1.25.1,<1.26,>=1.21.1 in /usr/local/lib/python3.6/dist-packages (from requests<3,>=2.21.0->tensorboard<2.3.0,>=2.2.0->tensorflow==2.2) (1.24.3)\n",
            "Requirement already satisfied: chardet<4,>=3.0.2 in /usr/local/lib/python3.6/dist-packages (from requests<3,>=2.21.0->tensorboard<2.3.0,>=2.2.0->tensorflow==2.2) (3.0.4)\n",
            "Requirement already satisfied: idna<3,>=2.5 in /usr/local/lib/python3.6/dist-packages (from requests<3,>=2.21.0->tensorboard<2.3.0,>=2.2.0->tensorflow==2.2) (2.10)\n",
            "Requirement already satisfied: importlib-metadata; python_version < \"3.8\" in /usr/local/lib/python3.6/dist-packages (from markdown>=2.6.8->tensorboard<2.3.0,>=2.2.0->tensorflow==2.2) (1.7.0)\n",
            "Requirement already satisfied: oauthlib>=3.0.0 in /usr/local/lib/python3.6/dist-packages (from requests-oauthlib>=0.7.0->google-auth-oauthlib<0.5,>=0.4.1->tensorboard<2.3.0,>=2.2.0->tensorflow==2.2) (3.1.0)\n",
            "Requirement already satisfied: pyasn1>=0.1.3 in /usr/local/lib/python3.6/dist-packages (from rsa<5,>=3.1.4; python_version >= \"3\"->google-auth<2,>=1.6.3->tensorboard<2.3.0,>=2.2.0->tensorflow==2.2) (0.4.8)\n",
            "Requirement already satisfied: zipp>=0.5 in /usr/local/lib/python3.6/dist-packages (from importlib-metadata; python_version < \"3.8\"->markdown>=2.6.8->tensorboard<2.3.0,>=2.2.0->tensorflow==2.2) (3.1.0)\n",
            "Installing collected packages: tensorboard, tensorflow-estimator, tensorflow\n",
            "  Found existing installation: tensorboard 1.13.1\n",
            "    Uninstalling tensorboard-1.13.1:\n",
            "      Successfully uninstalled tensorboard-1.13.1\n",
            "  Found existing installation: tensorflow-estimator 1.13.0\n",
            "    Uninstalling tensorflow-estimator-1.13.0:\n",
            "      Successfully uninstalled tensorflow-estimator-1.13.0\n",
            "Successfully installed tensorboard-2.2.2 tensorflow-2.2.0 tensorflow-estimator-2.2.0\n"
          ],
          "name": "stdout"
        },
        {
          "output_type": "display_data",
          "data": {
            "application/vnd.colab-display-data+json": {
              "pip_warning": {
                "packages": [
                  "tensorflow",
                  "tensorflow_estimator"
                ]
              }
            }
          },
          "metadata": {
            "tags": []
          }
        }
      ]
    },
    {
      "cell_type": "code",
      "metadata": {
        "id": "LFPqoC_nVj8G",
        "colab_type": "code",
        "colab": {
          "base_uri": "https://localhost:8080/",
          "height": 834
        },
        "outputId": "6685cb7e-ebf1-4fdb-8036-8338b178a1c2"
      },
      "source": [
        "model.summary()"
      ],
      "execution_count": 13,
      "outputs": [
        {
          "output_type": "stream",
          "text": [
            "Model: \"sequential\"\n",
            "_________________________________________________________________\n",
            "Layer (type)                 Output Shape              Param #   \n",
            "=================================================================\n",
            "conv2d (Conv2D)              (None, 64, 64, 32)        4736      \n",
            "_________________________________________________________________\n",
            "max_pooling2d (MaxPooling2D) (None, 32, 32, 32)        0         \n",
            "_________________________________________________________________\n",
            "conv2d_1 (Conv2D)            (None, 32, 32, 64)        51264     \n",
            "_________________________________________________________________\n",
            "max_pooling2d_1 (MaxPooling2 (None, 16, 16, 64)        0         \n",
            "_________________________________________________________________\n",
            "conv2d_2 (Conv2D)            (None, 16, 16, 128)       73856     \n",
            "_________________________________________________________________\n",
            "max_pooling2d_2 (MaxPooling2 (None, 8, 8, 128)         0         \n",
            "_________________________________________________________________\n",
            "conv2d_3 (Conv2D)            (None, 8, 8, 256)         295168    \n",
            "_________________________________________________________________\n",
            "max_pooling2d_3 (MaxPooling2 (None, 4, 4, 256)         0         \n",
            "_________________________________________________________________\n",
            "conv2d_4 (Conv2D)            (None, 4, 4, 512)         1180160   \n",
            "_________________________________________________________________\n",
            "max_pooling2d_4 (MaxPooling2 (None, 2, 2, 512)         0         \n",
            "_________________________________________________________________\n",
            "conv2d_5 (Conv2D)            (None, 2, 2, 512)         2359808   \n",
            "_________________________________________________________________\n",
            "max_pooling2d_5 (MaxPooling2 (None, 1, 1, 512)         0         \n",
            "_________________________________________________________________\n",
            "flatten (Flatten)            (None, 512)               0         \n",
            "_________________________________________________________________\n",
            "dense (Dense)                (None, 256)               131328    \n",
            "_________________________________________________________________\n",
            "dense_1 (Dense)              (None, 64)                16448     \n",
            "_________________________________________________________________\n",
            "dense_2 (Dense)              (None, 32)                2080      \n",
            "_________________________________________________________________\n",
            "dense_3 (Dense)              (None, 16)                528       \n",
            "_________________________________________________________________\n",
            "dense_4 (Dense)              (None, 16)                272       \n",
            "_________________________________________________________________\n",
            "dense_5 (Dense)              (None, 7)                 119       \n",
            "=================================================================\n",
            "Total params: 4,115,767\n",
            "Trainable params: 4,115,767\n",
            "Non-trainable params: 0\n",
            "_________________________________________________________________\n"
          ],
          "name": "stdout"
        }
      ]
    },
    {
      "cell_type": "markdown",
      "metadata": {
        "id": "3D-yBz5VKRdO",
        "colab_type": "text"
      },
      "source": [
        "**model.fit_generator**\n",
        "\n",
        "- 첫번째 인자 : 훈련데이터셋을 제공할 제네레이터를 지정합니다.\n",
        "\n",
        "- steps_per_epoch : 한 epoch에 사용한 스텝 수를 지정합니다. 보통 총 45개의 훈련 샘플이 있고 배치사이즈가 3이므로 15 스텝으로 지정합니다.\n",
        "\n",
        "- epochs : 전체 훈련 데이터셋에 대해 학습 반복 횟수를 지정합니다. 100번을 반복적으로 학습시켜 보겠습니다.\n",
        "\n",
        "- validation_data : 검증데이터셋을 제공할 제네레이터를 지정합니다. 본 예제에서는 앞서 생성한 validation_generator으로 지정합니다.\n",
        "\n",
        "- validation_steps : 한 epoch 종료 시 마다 검증할 때 사용되는 검증 스텝 수를 지정합니다. 홍 15개의 검증 샘플이 있고 배치사이즈가 3이므로 5 스텝으로 지정합니다."
      ]
    },
    {
      "cell_type": "code",
      "metadata": {
        "id": "HUTFHQyDVj8f",
        "colab_type": "code",
        "colab": {
          "base_uri": "https://localhost:8080/",
          "height": 427
        },
        "outputId": "aab263d1-9f97-4a45-f3a4-65bda97e54a9"
      },
      "source": [
        "\n",
        "#steps_per_epoch는 한 세대마다 몇 번 생성기로부터 데이터를 얻을지를 나타내는 값입니다.\n",
        "\n",
        "hist=model.fit_generator(trainGen,steps_per_epoch=40, epochs=100, \n",
        "               validation_data=validationGen) \n",
        "               #validation_steps=5\n",
        "\n",
        "            "
      ],
      "execution_count": 18,
      "outputs": [
        {
          "output_type": "stream",
          "text": [
            "Epoch 1/100\n"
          ],
          "name": "stdout"
        },
        {
          "output_type": "error",
          "ename": "ValueError",
          "evalue": "ignored",
          "traceback": [
            "\u001b[0;31m---------------------------------------------------------------------------\u001b[0m",
            "\u001b[0;31mValueError\u001b[0m                                Traceback (most recent call last)",
            "\u001b[0;32m<ipython-input-18-1b78b06e4e08>\u001b[0m in \u001b[0;36m<module>\u001b[0;34m()\u001b[0m\n\u001b[1;32m      3\u001b[0m \u001b[0;34m\u001b[0m\u001b[0m\n\u001b[1;32m      4\u001b[0m hist=model.fit_generator(trainGen,steps_per_epoch=40, epochs=100, \n\u001b[0;32m----> 5\u001b[0;31m                validation_data=validationGen) \n\u001b[0m\u001b[1;32m      6\u001b[0m                \u001b[0;31m#validation_steps=5\u001b[0m\u001b[0;34m\u001b[0m\u001b[0;34m\u001b[0m\u001b[0;34m\u001b[0m\u001b[0m\n\u001b[1;32m      7\u001b[0m \u001b[0;34m\u001b[0m\u001b[0m\n",
            "\u001b[0;32m/usr/local/lib/python3.6/dist-packages/tensorflow/python/util/deprecation.py\u001b[0m in \u001b[0;36mnew_func\u001b[0;34m(*args, **kwargs)\u001b[0m\n\u001b[1;32m    322\u001b[0m               \u001b[0;34m'in a future version'\u001b[0m \u001b[0;32mif\u001b[0m \u001b[0mdate\u001b[0m \u001b[0;32mis\u001b[0m \u001b[0;32mNone\u001b[0m \u001b[0;32melse\u001b[0m \u001b[0;34m(\u001b[0m\u001b[0;34m'after %s'\u001b[0m \u001b[0;34m%\u001b[0m \u001b[0mdate\u001b[0m\u001b[0;34m)\u001b[0m\u001b[0;34m,\u001b[0m\u001b[0;34m\u001b[0m\u001b[0;34m\u001b[0m\u001b[0m\n\u001b[1;32m    323\u001b[0m               instructions)\n\u001b[0;32m--> 324\u001b[0;31m       \u001b[0;32mreturn\u001b[0m \u001b[0mfunc\u001b[0m\u001b[0;34m(\u001b[0m\u001b[0;34m*\u001b[0m\u001b[0margs\u001b[0m\u001b[0;34m,\u001b[0m \u001b[0;34m**\u001b[0m\u001b[0mkwargs\u001b[0m\u001b[0;34m)\u001b[0m\u001b[0;34m\u001b[0m\u001b[0;34m\u001b[0m\u001b[0m\n\u001b[0m\u001b[1;32m    325\u001b[0m     return tf_decorator.make_decorator(\n\u001b[1;32m    326\u001b[0m         \u001b[0mfunc\u001b[0m\u001b[0;34m,\u001b[0m \u001b[0mnew_func\u001b[0m\u001b[0;34m,\u001b[0m \u001b[0;34m'deprecated'\u001b[0m\u001b[0;34m,\u001b[0m\u001b[0;34m\u001b[0m\u001b[0;34m\u001b[0m\u001b[0m\n",
            "\u001b[0;32m/usr/local/lib/python3.6/dist-packages/tensorflow/python/keras/engine/training_v1.py\u001b[0m in \u001b[0;36mfit_generator\u001b[0;34m(self, generator, steps_per_epoch, epochs, verbose, callbacks, validation_data, validation_steps, validation_freq, class_weight, max_queue_size, workers, use_multiprocessing, shuffle, initial_epoch)\u001b[0m\n\u001b[1;32m   1229\u001b[0m         \u001b[0muse_multiprocessing\u001b[0m\u001b[0;34m=\u001b[0m\u001b[0muse_multiprocessing\u001b[0m\u001b[0;34m,\u001b[0m\u001b[0;34m\u001b[0m\u001b[0;34m\u001b[0m\u001b[0m\n\u001b[1;32m   1230\u001b[0m         \u001b[0mshuffle\u001b[0m\u001b[0;34m=\u001b[0m\u001b[0mshuffle\u001b[0m\u001b[0;34m,\u001b[0m\u001b[0;34m\u001b[0m\u001b[0;34m\u001b[0m\u001b[0m\n\u001b[0;32m-> 1231\u001b[0;31m         initial_epoch=initial_epoch)\n\u001b[0m\u001b[1;32m   1232\u001b[0m \u001b[0;34m\u001b[0m\u001b[0m\n\u001b[1;32m   1233\u001b[0m   @deprecation.deprecated(\n",
            "\u001b[0;32m/usr/local/lib/python3.6/dist-packages/tensorflow/python/keras/engine/training_v1.py\u001b[0m in \u001b[0;36mfit\u001b[0;34m(self, x, y, batch_size, epochs, verbose, callbacks, validation_split, validation_data, shuffle, class_weight, sample_weight, initial_epoch, steps_per_epoch, validation_steps, validation_freq, max_queue_size, workers, use_multiprocessing, **kwargs)\u001b[0m\n\u001b[1;32m    783\u001b[0m         \u001b[0mmax_queue_size\u001b[0m\u001b[0;34m=\u001b[0m\u001b[0mmax_queue_size\u001b[0m\u001b[0;34m,\u001b[0m\u001b[0;34m\u001b[0m\u001b[0;34m\u001b[0m\u001b[0m\n\u001b[1;32m    784\u001b[0m         \u001b[0mworkers\u001b[0m\u001b[0;34m=\u001b[0m\u001b[0mworkers\u001b[0m\u001b[0;34m,\u001b[0m\u001b[0;34m\u001b[0m\u001b[0;34m\u001b[0m\u001b[0m\n\u001b[0;32m--> 785\u001b[0;31m         use_multiprocessing=use_multiprocessing)\n\u001b[0m\u001b[1;32m    786\u001b[0m \u001b[0;34m\u001b[0m\u001b[0m\n\u001b[1;32m    787\u001b[0m   def evaluate(self,\n",
            "\u001b[0;32m/usr/local/lib/python3.6/dist-packages/tensorflow/python/keras/engine/training_generator.py\u001b[0m in \u001b[0;36mfit\u001b[0;34m(self, model, x, y, batch_size, epochs, verbose, callbacks, validation_split, validation_data, shuffle, class_weight, sample_weight, initial_epoch, steps_per_epoch, validation_steps, validation_freq, max_queue_size, workers, use_multiprocessing)\u001b[0m\n\u001b[1;32m    588\u001b[0m         \u001b[0mshuffle\u001b[0m\u001b[0;34m=\u001b[0m\u001b[0mshuffle\u001b[0m\u001b[0;34m,\u001b[0m\u001b[0;34m\u001b[0m\u001b[0;34m\u001b[0m\u001b[0m\n\u001b[1;32m    589\u001b[0m         \u001b[0minitial_epoch\u001b[0m\u001b[0;34m=\u001b[0m\u001b[0minitial_epoch\u001b[0m\u001b[0;34m,\u001b[0m\u001b[0;34m\u001b[0m\u001b[0;34m\u001b[0m\u001b[0m\n\u001b[0;32m--> 590\u001b[0;31m         steps_name='steps_per_epoch')\n\u001b[0m\u001b[1;32m    591\u001b[0m \u001b[0;34m\u001b[0m\u001b[0m\n\u001b[1;32m    592\u001b[0m   def evaluate(self,\n",
            "\u001b[0;32m/usr/local/lib/python3.6/dist-packages/tensorflow/python/keras/engine/training_generator.py\u001b[0m in \u001b[0;36mmodel_iteration\u001b[0;34m(model, data, steps_per_epoch, epochs, verbose, callbacks, validation_data, validation_steps, validation_freq, class_weight, max_queue_size, workers, use_multiprocessing, shuffle, initial_epoch, mode, batch_size, steps_name, **kwargs)\u001b[0m\n\u001b[1;32m    254\u001b[0m \u001b[0;34m\u001b[0m\u001b[0m\n\u001b[1;32m    255\u001b[0m       \u001b[0mis_deferred\u001b[0m \u001b[0;34m=\u001b[0m \u001b[0;32mnot\u001b[0m \u001b[0mmodel\u001b[0m\u001b[0;34m.\u001b[0m\u001b[0m_is_compiled\u001b[0m\u001b[0;34m\u001b[0m\u001b[0;34m\u001b[0m\u001b[0m\n\u001b[0;32m--> 256\u001b[0;31m       \u001b[0mbatch_outs\u001b[0m \u001b[0;34m=\u001b[0m \u001b[0mbatch_function\u001b[0m\u001b[0;34m(\u001b[0m\u001b[0;34m*\u001b[0m\u001b[0mbatch_data\u001b[0m\u001b[0;34m)\u001b[0m\u001b[0;34m\u001b[0m\u001b[0;34m\u001b[0m\u001b[0m\n\u001b[0m\u001b[1;32m    257\u001b[0m       \u001b[0;32mif\u001b[0m \u001b[0;32mnot\u001b[0m \u001b[0misinstance\u001b[0m\u001b[0;34m(\u001b[0m\u001b[0mbatch_outs\u001b[0m\u001b[0;34m,\u001b[0m \u001b[0mlist\u001b[0m\u001b[0;34m)\u001b[0m\u001b[0;34m:\u001b[0m\u001b[0;34m\u001b[0m\u001b[0;34m\u001b[0m\u001b[0m\n\u001b[1;32m    258\u001b[0m         \u001b[0mbatch_outs\u001b[0m \u001b[0;34m=\u001b[0m \u001b[0;34m[\u001b[0m\u001b[0mbatch_outs\u001b[0m\u001b[0;34m]\u001b[0m\u001b[0;34m\u001b[0m\u001b[0;34m\u001b[0m\u001b[0m\n",
            "\u001b[0;32m/usr/local/lib/python3.6/dist-packages/tensorflow/python/keras/engine/training_v1.py\u001b[0m in \u001b[0;36mtrain_on_batch\u001b[0;34m(self, x, y, sample_weight, class_weight, reset_metrics)\u001b[0m\n\u001b[1;32m   1036\u001b[0m     x, y, sample_weights = self._standardize_user_data(\n\u001b[1;32m   1037\u001b[0m         \u001b[0mx\u001b[0m\u001b[0;34m,\u001b[0m \u001b[0my\u001b[0m\u001b[0;34m,\u001b[0m \u001b[0msample_weight\u001b[0m\u001b[0;34m=\u001b[0m\u001b[0msample_weight\u001b[0m\u001b[0;34m,\u001b[0m \u001b[0mclass_weight\u001b[0m\u001b[0;34m=\u001b[0m\u001b[0mclass_weight\u001b[0m\u001b[0;34m,\u001b[0m\u001b[0;34m\u001b[0m\u001b[0;34m\u001b[0m\u001b[0m\n\u001b[0;32m-> 1038\u001b[0;31m         extract_tensors_from_dataset=True)\n\u001b[0m\u001b[1;32m   1039\u001b[0m \u001b[0;34m\u001b[0m\u001b[0m\n\u001b[1;32m   1040\u001b[0m     \u001b[0;31m# If `self._distribution_strategy` is True, then we are in a replica context\u001b[0m\u001b[0;34m\u001b[0m\u001b[0;34m\u001b[0m\u001b[0;34m\u001b[0m\u001b[0m\n",
            "\u001b[0;32m/usr/local/lib/python3.6/dist-packages/tensorflow/python/keras/engine/training_v1.py\u001b[0m in \u001b[0;36m_standardize_user_data\u001b[0;34m(self, x, y, sample_weight, class_weight, batch_size, check_steps, steps_name, steps, validation_split, shuffle, extract_tensors_from_dataset)\u001b[0m\n\u001b[1;32m   2306\u001b[0m         \u001b[0mis_dataset\u001b[0m\u001b[0;34m=\u001b[0m\u001b[0mis_dataset\u001b[0m\u001b[0;34m,\u001b[0m\u001b[0;34m\u001b[0m\u001b[0;34m\u001b[0m\u001b[0m\n\u001b[1;32m   2307\u001b[0m         \u001b[0mclass_weight\u001b[0m\u001b[0;34m=\u001b[0m\u001b[0mclass_weight\u001b[0m\u001b[0;34m,\u001b[0m\u001b[0;34m\u001b[0m\u001b[0;34m\u001b[0m\u001b[0m\n\u001b[0;32m-> 2308\u001b[0;31m         batch_size=batch_size)\n\u001b[0m\u001b[1;32m   2309\u001b[0m \u001b[0;34m\u001b[0m\u001b[0m\n\u001b[1;32m   2310\u001b[0m   def _standardize_tensors(self, x, y, sample_weight, run_eagerly, dict_inputs,\n",
            "\u001b[0;32m/usr/local/lib/python3.6/dist-packages/tensorflow/python/keras/engine/training_v1.py\u001b[0m in \u001b[0;36m_standardize_tensors\u001b[0;34m(self, x, y, sample_weight, run_eagerly, dict_inputs, is_dataset, class_weight, batch_size)\u001b[0m\n\u001b[1;32m   2412\u001b[0m           \u001b[0;31m# Additional checks to avoid users mistakenly using improper loss fns.\u001b[0m\u001b[0;34m\u001b[0m\u001b[0;34m\u001b[0m\u001b[0;34m\u001b[0m\u001b[0m\n\u001b[1;32m   2413\u001b[0m           training_utils.check_loss_and_target_compatibility(\n\u001b[0;32m-> 2414\u001b[0;31m               y, self._feed_loss_fns, feed_output_shapes)\n\u001b[0m\u001b[1;32m   2415\u001b[0m \u001b[0;34m\u001b[0m\u001b[0m\n\u001b[1;32m   2416\u001b[0m       sample_weights, _, _ = training_utils.handle_partial_sample_weights(\n",
            "\u001b[0;32m/usr/local/lib/python3.6/dist-packages/tensorflow/python/keras/engine/training_utils.py\u001b[0m in \u001b[0;36mcheck_loss_and_target_compatibility\u001b[0;34m(targets, loss_fns, output_shapes)\u001b[0m\n\u001b[1;32m    808\u001b[0m           raise ValueError('A target array with shape ' + str(y.shape) +\n\u001b[1;32m    809\u001b[0m                            \u001b[0;34m' was passed for an output of shape '\u001b[0m \u001b[0;34m+\u001b[0m \u001b[0mstr\u001b[0m\u001b[0;34m(\u001b[0m\u001b[0mshape\u001b[0m\u001b[0;34m)\u001b[0m \u001b[0;34m+\u001b[0m\u001b[0;34m\u001b[0m\u001b[0;34m\u001b[0m\u001b[0m\n\u001b[0;32m--> 810\u001b[0;31m                            \u001b[0;34m' while using as loss `'\u001b[0m \u001b[0;34m+\u001b[0m \u001b[0mloss_name\u001b[0m \u001b[0;34m+\u001b[0m \u001b[0;34m'`. '\u001b[0m\u001b[0;34m\u001b[0m\u001b[0;34m\u001b[0m\u001b[0m\n\u001b[0m\u001b[1;32m    811\u001b[0m                            \u001b[0;34m'This loss expects targets to have the same shape '\u001b[0m\u001b[0;34m\u001b[0m\u001b[0;34m\u001b[0m\u001b[0m\n\u001b[1;32m    812\u001b[0m                            'as the output.')\n",
            "\u001b[0;31mValueError\u001b[0m: A target array with shape (32, 4) was passed for an output of shape (None, 7) while using as loss `categorical_crossentropy`. This loss expects targets to have the same shape as the output."
          ]
        }
      ]
    },
    {
      "cell_type": "code",
      "metadata": {
        "id": "GrVWxw20K-tG",
        "colab_type": "code",
        "colab": {}
      },
      "source": [
        ""
      ],
      "execution_count": null,
      "outputs": []
    },
    {
      "cell_type": "markdown",
      "metadata": {
        "id": "iChjU_PpLI4h",
        "colab_type": "text"
      },
      "source": [
        "## !!ERROR SOLUTION!!"
      ]
    },
    {
      "cell_type": "markdown",
      "metadata": {
        "id": "D8JCzkgVK3Iu",
        "colab_type": "text"
      },
      "source": [
        "## 성능 그래프"
      ]
    },
    {
      "cell_type": "code",
      "metadata": {
        "id": "gy1o_QPPVj9w",
        "colab_type": "code",
        "colab": {
          "base_uri": "https://localhost:8080/",
          "height": 279
        },
        "outputId": "32307f60-d8e6-4acb-de43-ae2d6c38c612"
      },
      "source": [
        "%matplotlib inline\n",
        "\n",
        "import matplotlib.pyplot as plt\n",
        "\n",
        "fig,loss_ax=plt.subplots()\n",
        "\n",
        "acc_ax=loss_ax.twinx()\n",
        "\n",
        "loss_ax.plot(hist.history['loss'],'y',label='train loss')\n",
        "\n",
        "loss_ax.plot(hist.history['val_loss'],'r',label='val_loss')\n"
      ],
      "execution_count": null,
      "outputs": [
        {
          "output_type": "display_data",
          "data": {
            "image/png": "[encoded data removed]",
            "text/plain": [
              "<Figure size 432x288 with 1 Axes>"
            ]
          },
          "metadata": {
            "tags": [],
            "needs_background": "light"
          }
        }
      ]
    },
    {
      "cell_type": "code",
      "metadata": {
        "id": "1afQMke0m4QJ",
        "colab_type": "code",
        "colab": {
          "base_uri": "https://localhost:8080/",
          "height": 295
        },
        "outputId": "1c17041b-1461-485b-a15b-5444f4e5690b"
      },
      "source": [
        "acc_ax.plot(hist.history['accuracy'],'b',label='train accuracy')\n",
        "\n",
        "acc_ax.plot(hist.history['val_accuracy'],'g',label='val accuracy')\n",
        "\n",
        "​\n",
        "\n",
        "loss_ax.set_xlabel('epoch')\n",
        "\n",
        "loss_ax.set_ylabel('loss')\n",
        "\n",
        "acc_ax.set_ylabel('accuracy')\n",
        "\n",
        "loss_ax.legend(loc='upper left')\n",
        "\n",
        "acc_ax.legend(loc='lower left')\n",
        "\n",
        "plt.show()"
      ],
      "execution_count": null,
      "outputs": [
        {
          "output_type": "display_data",
          "data": {
            "image/png": "[encoded data removed]",
            "text/plain": [
              "<Figure size 432x288 with 1 Axes>"
            ]
          },
          "metadata": {
            "tags": [],
            "needs_background": "light"
          }
        }
      ]
    },
    {
      "cell_type": "markdown",
      "metadata": {
        "id": "hNWwG9IO10hB",
        "colab_type": "text"
      },
      "source": [
        "## 2번 모델 평가하기"
      ]
    },
    {
      "cell_type": "code",
      "metadata": {
        "id": "b-UoPyim3o3w",
        "colab_type": "code",
        "colab": {}
      },
      "source": [
        "print(\"--Evaluate--\")\n",
        "\n",
        "scores=model.evaluate_generator(validationGen,steps=5)\n",
        "\n",
        "print(\"%s:%.2f%%\"%(model.metrics_names[1],scores[1]*100))\n",
        "\n",
        "​\n",
        "\n",
        "#모델구조와 모델의 가중치를 저장해줍니다.\n",
        "\n",
        "from keras.models import load_model\n",
        "\n",
        "model.save('project.h5')"
      ],
      "execution_count": null,
      "outputs": []
    },
    {
      "cell_type": "markdown",
      "metadata": {
        "id": "dQyZ1iPQOyu7",
        "colab_type": "text"
      },
      "source": [
        "## 3. 모델을 이용해 새로운 이미지를 분류해보자"
      ]
    },
    {
      "cell_type": "code",
      "metadata": {
        "id": "atilE7sX0yGz",
        "colab_type": "code",
        "colab": {
          "base_uri": "https://localhost:8080/",
          "height": 199
        },
        "outputId": "a5c51e56-78c2-449b-ab2e-ff2068d12538"
      },
      "source": [
        "#저장된 모델구조와 모델 가중치를 불러옵니다.\n",
        "\n",
        "from keras.models import load_model\n",
        "\n",
        "model=load_model('project.h5')\n",
        "\n",
        "​\n",
        "\n",
        "'''#새로운 이미지를 넣고 분류를 잘하는지 봅니다.\n",
        "\n",
        "validationGen=ImageDataGenerator(rescale=1./255)\n",
        "\n",
        "test_generator=test_datagen.flow_from_directory('/Users/KSJ/Desktop/yellow/test',\n",
        "                                                target_size=(64,64),\n",
        "                                                =4,\n",
        "                                                class_modebatch_size='categorical')\n",
        "'''\n",
        "\n",
        "validationGen = imageGenerator.flow_from_directory('/content/drive/My Drive/CTRC/validation',\n",
        "                                                  target_size=(64,64),\n",
        "                                                  batch_size=3,\n",
        "                                                   class_mode='categorical')\n",
        "\n",
        "\n",
        "\n",
        "print(\"--Predict--\")\n",
        "\n",
        "output=model.predict_generator(validationGen,steps=5)\n",
        "\n",
        "np.set_printoptions(formatter={'float':lambda x:\"{0:0.3f}\".format(x)})\n",
        "\n",
        "print(validationGen.class_indices)\n",
        "\n",
        "print(output)"
      ],
      "execution_count": null,
      "outputs": [
        {
          "output_type": "stream",
          "text": [
            "[3]\n",
            "예측: 4. Normal\n",
            "Label:[0 0 0 1]\n"
          ],
          "name": "stdout"
        },
        {
          "output_type": "execute_result",
          "data": {
            "image/png": "[encoded data removed]",
            "text/plain": [
              "<PIL.Image.Image image mode=RGB size=128x128 at 0x7F54A76D7F28>"
            ]
          },
          "metadata": {
            "tags": []
          },
          "execution_count": 61
        }
      ]
    },
    {
      "cell_type": "markdown",
      "metadata": {
        "id": "j2IJ8ebWrsIz",
        "colab_type": "text"
      },
      "source": [
        "## 3번 혼동 행렬"
      ]
    },
    {
      "cell_type": "code",
      "metadata": {
        "id": "fTO0zXZ-rxPW",
        "colab_type": "code",
        "colab": {}
      },
      "source": [
        "# 예측\n",
        "\n",
        "predicted_classes = model.predict_classes(X_test)"
      ],
      "execution_count": null,
      "outputs": []
    },
    {
      "cell_type": "code",
      "metadata": {
        "id": "hgKlqfCBrt8A",
        "colab_type": "code",
        "colab": {}
      },
      "source": [
        "from sklearn.metrics import confusion_matrix\n",
        "\n",
        "\n",
        "\n",
        "cm = confusion_matrix(y_test, predicted_classes)\n",
        "\n",
        "plt.figure(figsize = (14, 10))\n",
        "\n",
        "sns.heatmap(cm, annot = True)"
      ],
      "execution_count": null,
      "outputs": []
    }
  ]
}
