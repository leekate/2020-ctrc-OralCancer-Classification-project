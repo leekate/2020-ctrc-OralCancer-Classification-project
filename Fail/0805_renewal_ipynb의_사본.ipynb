{
  "nbformat": 4,
  "nbformat_minor": 0,
  "metadata": {
    "kernelspec": {
      "display_name": "Python 3",
      "language": "python",
      "name": "python3"
    },
    "language_info": {
      "codemirror_mode": {
        "name": "ipython",
        "version": 3
      },
      "file_extension": ".py",
      "mimetype": "text/x-python",
      "name": "python",
      "nbconvert_exporter": "python",
      "pygments_lexer": "ipython3",
      "version": "3.6.5"
    },
    "colab": {
      "name": "0805_renewal.ipynb의 사본",
      "provenance": [],
      "collapsed_sections": [],
      "toc_visible": true,
      "include_colab_link": true
    },
    "accelerator": "GPU"
  },
  "cells": [
    {
      "cell_type": "markdown",
      "metadata": {
        "id": "view-in-github",
        "colab_type": "text"
      },
      "source": [
        "<a href=\"https://colab.research.google.com/github/leekate/2020ctrc/blob/master/0805_renewal_ipynb%EC%9D%98_%EC%82%AC%EB%B3%B8.ipynb\" target=\"_parent\"><img src=\"https://colab.research.google.com/assets/colab-badge.svg\" alt=\"Open In Colab\"/></a>"
      ]
    },
    {
      "cell_type": "markdown",
      "metadata": {
        "id": "kBpq41JKVj6M",
        "colab_type": "text"
      },
      "source": [
        "# **MULTI_IMAGE_CLASSIFICATION**\n",
        "\n",
        "4가지의 이미지 분류\n",
        "\n",
        "기본적인 방법은 단일 이미지 분류와 같다. 대신, 다중 이미지 분류이기 때문에 카테고리의 변화가 있다.\n"
      ]
    },
    {
      "cell_type": "markdown",
      "metadata": {
        "id": "Gyxw6i29yifu",
        "colab_type": "text"
      },
      "source": [
        "## 1번 train"
      ]
    },
    {
      "cell_type": "code",
      "metadata": {
        "id": "Z7raZpBpWzvc",
        "colab_type": "code",
        "colab": {
          "base_uri": "https://localhost:8080/",
          "height": 34
        },
        "outputId": "d9d72bef-5567-4201-a597-9fed10606957"
      },
      "source": [
        "from google.colab import drive\n",
        "drive.mount('/content/drive')"
      ],
      "execution_count": null,
      "outputs": [
        {
          "output_type": "stream",
          "text": [
            "Drive already mounted at /content/drive; to attempt to forcibly remount, call drive.mount(\"/content/drive\", force_remount=True).\n"
          ],
          "name": "stdout"
        }
      ]
    },
    {
      "cell_type": "markdown",
      "metadata": {
        "id": "D6L9_lOxrLTr",
        "colab_type": "text"
      },
      "source": [
        "### 파일 읽어오기"
      ]
    },
    {
      "cell_type": "markdown",
      "metadata": {
        "id": "3mrA3lsLqGXB",
        "colab_type": "text"
      },
      "source": [
        "#### 코드 확인하기"
      ]
    },
    {
      "cell_type": "code",
      "metadata": {
        "id": "VlpQzeS_9yzx",
        "colab_type": "code",
        "colab": {
          "base_uri": "https://localhost:8080/",
          "height": 1000
        },
        "outputId": "119b74a5-92cf-478b-8138-d39f47176e50"
      },
      "source": [
        "!pip uninstall keras\n",
        "!pip install Keras==2.2.4\n",
        "\n",
        "!pip uninstall tensorflow\n",
        "!pip install tensorflow==1.13.1"
      ],
      "execution_count": null,
      "outputs": [
        {
          "output_type": "stream",
          "text": [
            "Uninstalling Keras-2.2.4:\n",
            "  Would remove:\n",
            "    /usr/local/lib/python3.6/dist-packages/Keras-2.2.4.dist-info/*\n",
            "    /usr/local/lib/python3.6/dist-packages/docs/*\n",
            "    /usr/local/lib/python3.6/dist-packages/keras/*\n",
            "  Would not remove (might be manually added):\n",
            "    /usr/local/lib/python3.6/dist-packages/docs/md_autogen.py\n",
            "    /usr/local/lib/python3.6/dist-packages/docs/update_docs.py\n",
            "Proceed (y/n)? y\n",
            "  Successfully uninstalled Keras-2.2.4\n",
            "Collecting Keras==2.2.4\n",
            "  Using cached https://files.pythonhosted.org/packages/5e/10/aa32dad071ce52b5502266b5c659451cfd6ffcbf14e6c8c4f16c0ff5aaab/Keras-2.2.4-py2.py3-none-any.whl\n",
            "Requirement already satisfied: numpy>=1.9.1 in /usr/local/lib/python3.6/dist-packages (from Keras==2.2.4) (1.18.5)\n",
            "Requirement already satisfied: scipy>=0.14 in /usr/local/lib/python3.6/dist-packages (from Keras==2.2.4) (1.4.1)\n",
            "Requirement already satisfied: six>=1.9.0 in /usr/local/lib/python3.6/dist-packages (from Keras==2.2.4) (1.15.0)\n",
            "Requirement already satisfied: keras-preprocessing>=1.0.5 in /usr/local/lib/python3.6/dist-packages (from Keras==2.2.4) (1.1.2)\n",
            "Requirement already satisfied: pyyaml in /usr/local/lib/python3.6/dist-packages (from Keras==2.2.4) (3.13)\n",
            "Requirement already satisfied: h5py in /usr/local/lib/python3.6/dist-packages (from Keras==2.2.4) (2.10.0)\n",
            "Requirement already satisfied: keras-applications>=1.0.6 in /usr/local/lib/python3.6/dist-packages (from Keras==2.2.4) (1.0.8)\n",
            "Installing collected packages: Keras\n",
            "Successfully installed Keras-2.2.4\n",
            "Uninstalling tensorflow-1.13.1:\n",
            "  Would remove:\n",
            "    /usr/local/bin/freeze_graph\n",
            "    /usr/local/bin/saved_model_cli\n",
            "    /usr/local/bin/tensorboard\n",
            "    /usr/local/bin/tf_upgrade_v2\n",
            "    /usr/local/bin/tflite_convert\n",
            "    /usr/local/bin/toco\n",
            "    /usr/local/bin/toco_from_protos\n",
            "    /usr/local/lib/python3.6/dist-packages/tensorflow-1.13.1.dist-info/*\n",
            "    /usr/local/lib/python3.6/dist-packages/tensorflow/*\n",
            "Proceed (y/n)? y\n",
            "  Successfully uninstalled tensorflow-1.13.1\n",
            "Collecting tensorflow==1.13.1\n",
            "  Using cached https://files.pythonhosted.org/packages/77/63/a9fa76de8dffe7455304c4ed635be4aa9c0bacef6e0633d87d5f54530c5c/tensorflow-1.13.1-cp36-cp36m-manylinux1_x86_64.whl\n",
            "Requirement already satisfied: gast>=0.2.0 in /usr/local/lib/python3.6/dist-packages (from tensorflow==1.13.1) (0.3.3)\n",
            "Requirement already satisfied: keras-preprocessing>=1.0.5 in /usr/local/lib/python3.6/dist-packages (from tensorflow==1.13.1) (1.1.2)\n",
            "Requirement already satisfied: numpy>=1.13.3 in /usr/local/lib/python3.6/dist-packages (from tensorflow==1.13.1) (1.18.5)\n",
            "Requirement already satisfied: tensorboard<1.14.0,>=1.13.0 in /usr/local/lib/python3.6/dist-packages (from tensorflow==1.13.1) (1.13.1)\n",
            "Requirement already satisfied: absl-py>=0.1.6 in /usr/local/lib/python3.6/dist-packages (from tensorflow==1.13.1) (0.9.0)\n",
            "Requirement already satisfied: tensorflow-estimator<1.14.0rc0,>=1.13.0 in /usr/local/lib/python3.6/dist-packages (from tensorflow==1.13.1) (1.13.0)\n",
            "Requirement already satisfied: wheel>=0.26 in /usr/local/lib/python3.6/dist-packages (from tensorflow==1.13.1) (0.34.2)\n",
            "Requirement already satisfied: six>=1.10.0 in /usr/local/lib/python3.6/dist-packages (from tensorflow==1.13.1) (1.15.0)\n",
            "Requirement already satisfied: protobuf>=3.6.1 in /usr/local/lib/python3.6/dist-packages (from tensorflow==1.13.1) (3.12.4)\n",
            "Requirement already satisfied: grpcio>=1.8.6 in /usr/local/lib/python3.6/dist-packages (from tensorflow==1.13.1) (1.30.0)\n",
            "Requirement already satisfied: termcolor>=1.1.0 in /usr/local/lib/python3.6/dist-packages (from tensorflow==1.13.1) (1.1.0)\n",
            "Requirement already satisfied: astor>=0.6.0 in /usr/local/lib/python3.6/dist-packages (from tensorflow==1.13.1) (0.8.1)\n",
            "Requirement already satisfied: keras-applications>=1.0.6 in /usr/local/lib/python3.6/dist-packages (from tensorflow==1.13.1) (1.0.8)\n",
            "Requirement already satisfied: werkzeug>=0.11.15 in /usr/local/lib/python3.6/dist-packages (from tensorboard<1.14.0,>=1.13.0->tensorflow==1.13.1) (1.0.1)\n",
            "Requirement already satisfied: markdown>=2.6.8 in /usr/local/lib/python3.6/dist-packages (from tensorboard<1.14.0,>=1.13.0->tensorflow==1.13.1) (3.2.2)\n",
            "Requirement already satisfied: mock>=2.0.0 in /usr/local/lib/python3.6/dist-packages (from tensorflow-estimator<1.14.0rc0,>=1.13.0->tensorflow==1.13.1) (4.0.2)\n",
            "Requirement already satisfied: setuptools in /usr/local/lib/python3.6/dist-packages (from protobuf>=3.6.1->tensorflow==1.13.1) (49.2.0)\n",
            "Requirement already satisfied: h5py in /usr/local/lib/python3.6/dist-packages (from keras-applications>=1.0.6->tensorflow==1.13.1) (2.10.0)\n",
            "Requirement already satisfied: importlib-metadata; python_version < \"3.8\" in /usr/local/lib/python3.6/dist-packages (from markdown>=2.6.8->tensorboard<1.14.0,>=1.13.0->tensorflow==1.13.1) (1.7.0)\n",
            "Requirement already satisfied: zipp>=0.5 in /usr/local/lib/python3.6/dist-packages (from importlib-metadata; python_version < \"3.8\"->markdown>=2.6.8->tensorboard<1.14.0,>=1.13.0->tensorflow==1.13.1) (3.1.0)\n",
            "Installing collected packages: tensorflow\n",
            "Successfully installed tensorflow-1.13.1\n"
          ],
          "name": "stdout"
        }
      ]
    },
    {
      "cell_type": "code",
      "metadata": {
        "id": "CRnXICbbVj6Q",
        "colab_type": "code",
        "colab": {
          "base_uri": "https://localhost:8080/",
          "height": 174
        },
        "outputId": "e65d3ee3-7fd3-4e8f-9d53-407b52b18878"
      },
      "source": [
        "from PIL import Image\n",
        "import os, glob, numpy as np\n",
        "from sklearn.model_selection import train_test_split\n",
        "\n",
        "caltech_dir = '/content/drive/My Drive/CTRC/train'\n",
        "categories = [\"1. Cancer\",\"2. Precancer\",\"3. Extra\",\"4. Normal\"]\n",
        "nb_classes = len(categories)\n",
        "\n",
        "image_w = 64\n",
        "image_h = 64\n",
        "\n",
        "pixels = image_h * image_w * 3\n",
        "\n",
        "X = []\n",
        "y = []\n",
        "\n",
        "\n",
        "#카테고리별로 돌면서 label 먼저 0으로 초기화\n",
        "#첫번째 idx에 1 넣어주기\n",
        "#1 0 0 0 이면 cancer\n",
        "#0 1 0 0 이면 precancer 이런식\n",
        "\n",
        "\n",
        "for idx, cat in enumerate(categories): #cat은 뭘까 \n",
        "    \n",
        "    #one-hot 돌리기.\n",
        "    label = [0 for i in range(nb_classes)]\n",
        "    label[idx] = 1\n",
        "\n",
        "    image_dir = caltech_dir + \"/\" + cat #cat은 뭘까\n",
        "    files = glob.glob(image_dir+\"/*.jpg\")\n",
        "    print(cat, \" 파일 길이 : \", len(files))\n",
        "    for i, f in enumerate(files):\n",
        "        img = Image.open(f)\n",
        "        img = img.convert(\"RGB\") #이미지 RGB값으로 바꿔주고\n",
        "        img = img.resize((image_w, image_h)) #resize하고\n",
        "        data = np.asarray(img) #그 값을 numpy 라이브러리를 이용해 저장\n",
        "\n",
        "        X.append(data)\n",
        "        y.append(label)\n",
        "\n",
        "        if i % 700 == 0:\n",
        "            print(cat, \" : \", f)\n",
        "\n",
        "X = np.array(X)\n",
        "y = np.array(y)\n",
        "\n",
        "\n",
        "X_train, X_test, y_train, y_test = train_test_split(X, y, test_size=0.3, random_state=321)\n",
        "\n",
        "xy = (X_train, X_test, y_train, y_test)\n",
        "np.save('/content/drive/My Drive/CTRC/train/multi_image_data.npy', xy)\n",
        "\n",
        "print(\"ok\", len(y))\n"
      ],
      "execution_count": null,
      "outputs": [
        {
          "output_type": "stream",
          "text": [
            "1. Cancer  파일 길이 :  412\n",
            "1. Cancer  :  /content/drive/My Drive/CTRC/train/1. Cancer/can_1.jpg\n",
            "2. Precancer  파일 길이 :  150\n",
            "2. Precancer  :  /content/drive/My Drive/CTRC/train/2. Precancer/precan_1.jpg\n",
            "3. Extra  파일 길이 :  265\n",
            "3. Extra  :  /content/drive/My Drive/CTRC/train/3. Extra/inf_1.jpg\n",
            "4. Normal  파일 길이 :  558\n",
            "4. Normal  :  /content/drive/My Drive/CTRC/train/4. Normal/nor_147.jpg\n",
            "ok 1385\n"
          ],
          "name": "stdout"
        }
      ]
    },
    {
      "cell_type": "markdown",
      "metadata": {
        "id": "XwYkZZtZrSb1",
        "colab_type": "text"
      },
      "source": [
        "### 학습하기"
      ]
    },
    {
      "cell_type": "markdown",
      "metadata": {
        "id": "05dG18BFVj68",
        "colab_type": "text"
      },
      "source": [
        "이제 numpy 데이터를 불러온다. 이거 가지고 학습!"
      ]
    },
    {
      "cell_type": "code",
      "metadata": {
        "id": "cOGSV6XKVj7B",
        "colab_type": "code",
        "colab": {
          "base_uri": "https://localhost:8080/",
          "height": 298
        },
        "outputId": "a41d8cc8-7abb-4d0f-cf51-c285ad65097d"
      },
      "source": [
        "import os, glob, numpy as np\n",
        "\n",
        "from keras.models import Sequential\n",
        "from keras.layers import Conv2D, MaxPooling2D, Dense, Flatten, Dropout\n",
        "from keras.callbacks import EarlyStopping, ModelCheckpoint\n",
        "import matplotlib.pyplot as plt\n",
        "import keras.backend.tensorflow_backend as K\n",
        "\n",
        "\n",
        "import tensorflow as tf\n",
        "config = tf.compat.v1.ConfigProto()\n",
        "config.gpu_options.allow_growth = True\n",
        "session = tf.compat.v1.Session(config=config)\n",
        "\n",
        "X_train, X_test, y_train, y_test = np.load('/content/drive/My Drive/CTRC/train/multi_image_data.npy', allow_pickle=True)\n",
        "print(X_train.shape)\n",
        "print(X_train.shape[0])"
      ],
      "execution_count": null,
      "outputs": [
        {
          "output_type": "stream",
          "text": [
            "Using TensorFlow backend.\n",
            "/usr/local/lib/python3.6/dist-packages/tensorflow/python/framework/dtypes.py:526: FutureWarning: Passing (type, 1) or '1type' as a synonym of type is deprecated; in a future version of numpy, it will be understood as (type, (1,)) / '(1,)type'.\n",
            "  _np_qint8 = np.dtype([(\"qint8\", np.int8, 1)])\n",
            "/usr/local/lib/python3.6/dist-packages/tensorflow/python/framework/dtypes.py:527: FutureWarning: Passing (type, 1) or '1type' as a synonym of type is deprecated; in a future version of numpy, it will be understood as (type, (1,)) / '(1,)type'.\n",
            "  _np_quint8 = np.dtype([(\"quint8\", np.uint8, 1)])\n",
            "/usr/local/lib/python3.6/dist-packages/tensorflow/python/framework/dtypes.py:528: FutureWarning: Passing (type, 1) or '1type' as a synonym of type is deprecated; in a future version of numpy, it will be understood as (type, (1,)) / '(1,)type'.\n",
            "  _np_qint16 = np.dtype([(\"qint16\", np.int16, 1)])\n",
            "/usr/local/lib/python3.6/dist-packages/tensorflow/python/framework/dtypes.py:529: FutureWarning: Passing (type, 1) or '1type' as a synonym of type is deprecated; in a future version of numpy, it will be understood as (type, (1,)) / '(1,)type'.\n",
            "  _np_quint16 = np.dtype([(\"quint16\", np.uint16, 1)])\n",
            "/usr/local/lib/python3.6/dist-packages/tensorflow/python/framework/dtypes.py:530: FutureWarning: Passing (type, 1) or '1type' as a synonym of type is deprecated; in a future version of numpy, it will be understood as (type, (1,)) / '(1,)type'.\n",
            "  _np_qint32 = np.dtype([(\"qint32\", np.int32, 1)])\n",
            "/usr/local/lib/python3.6/dist-packages/tensorflow/python/framework/dtypes.py:535: FutureWarning: Passing (type, 1) or '1type' as a synonym of type is deprecated; in a future version of numpy, it will be understood as (type, (1,)) / '(1,)type'.\n",
            "  np_resource = np.dtype([(\"resource\", np.ubyte, 1)])\n"
          ],
          "name": "stderr"
        },
        {
          "output_type": "stream",
          "text": [
            "(969, 64, 64, 3)\n",
            "969\n"
          ],
          "name": "stdout"
        }
      ]
    },
    {
      "cell_type": "code",
      "metadata": {
        "id": "b3-RU4OeVj7W",
        "colab_type": "code",
        "colab": {}
      },
      "source": [
        "categories = [\"1. Cancer\",\"2. Precancer\",\"3. Extra\",\"4. Normal\"]\n",
        "nb_classes = len(categories)\n",
        "\n",
        "#일반화\n",
        "X_train = X_train.astype(float) / 255\n",
        "X_test = X_test.astype(float) / 255"
      ],
      "execution_count": null,
      "outputs": []
    },
    {
      "cell_type": "markdown",
      "metadata": {
        "id": "9352Bt6Inuk7",
        "colab_type": "text"
      },
      "source": [
        "### CNN 모델 만들기 (Conv2D 이용)"
      ]
    },
    {
      "cell_type": "code",
      "metadata": {
        "id": "mhc9w51LVj7s",
        "colab_type": "code",
        "colab": {
          "base_uri": "https://localhost:8080/",
          "height": 91
        },
        "outputId": "1cc47268-7df5-4354-c3da-96c84219b48a"
      },
      "source": [
        "\n",
        "\n",
        "with K.tf.device('/device:GPU:0'):\n",
        "    model = Sequential()\n",
        "    model.add(Conv2D(32, (7,7), padding=\"same\", input_shape=X_train.shape[1:], activation='relu'))\n",
        "    model.add(MaxPooling2D(pool_size=(2,2)))\n",
        "    '''model.add(Dropout(0.25))'''\n",
        "    # 3X3 크기의 컨볼루션 레이어를 32개의 필터수를 처음에 생성\n",
        "    # 활성화 함수 relu\n",
        "    # (64,64,3)의 튜플 값 가진다\n",
        "    # Maxpooling2D를 통해 중요 값만 뽑아 작은 출력값 만든다\n",
        "\n",
        "    \n",
        "    model.add(Conv2D(64, (5,5), padding=\"same\", activation='relu'))\n",
        "    model.add(MaxPooling2D(pool_size=(2,2)))\n",
        "    '''model.add(Dropout(0.25))'''\n",
        "\n",
        "    model.add(Conv2D(128, (3,3), padding=\"same\", activation='relu'))\n",
        "    model.add(MaxPooling2D(pool_size=(2,2)))\n",
        "\n",
        "    model.add(Conv2D(256, (3,3), padding=\"same\", activation='relu'))\n",
        "    model.add(MaxPooling2D(pool_size=(2,2)))\n",
        "\n",
        "\n",
        "    model.add(Conv2D(512, (3,3), padding=\"same\", activation='relu'))\n",
        "    model.add(MaxPooling2D(pool_size=(2,2)))\n",
        "\n",
        "\n",
        "    model.add(Flatten()) \n",
        "    #CNN에서 컨볼루션 레이어나 맥스풀링을 거치면 주요 특징만 추출되어 학습됨\n",
        "    \n",
        "    #컨볼루션이나 맥스풀링은 주로 2차원을 다루지만\n",
        "    #전결합층에 전달을 하기 위해서는 1차원으로 바꿔야하는데\n",
        "    #이 때 Flatten사용\n",
        "    model.add(Dense(256, activation='relu'))\n",
        "    model.add(Dense(64, activation='relu'))\n",
        "    model.add(Dense(32, activation='relu'))\n",
        "    model.add(Dense(16, activation='relu'))\n",
        "    #model.add(Dropout(0.5))\n",
        "    model.add(Dense(nb_classes, activation='softmax'))\n",
        "\n",
        "    model.compile(loss='categorical_crossentropy', optimizer='adam', metrics=['accuracy'])\n",
        "    model_dir = './model'\n",
        "    \n",
        "    if not os.path.exists(model_dir):\n",
        "        os.mkdir(model_dir)\n",
        "    \n",
        "    model_path = model_dir + '/multi_img_classification.model'\n",
        "    checkpoint = ModelCheckpoint(filepath=model_path , monitor='val_loss', verbose=1, save_best_only=True)\n",
        "    early_stopping = EarlyStopping(monitor='val_loss', patience=6)\n",
        "    \n",
        "    "
      ],
      "execution_count": null,
      "outputs": [
        {
          "output_type": "stream",
          "text": [
            "WARNING:tensorflow:From /usr/local/lib/python3.6/dist-packages/tensorflow/python/framework/op_def_library.py:263: colocate_with (from tensorflow.python.framework.ops) is deprecated and will be removed in a future version.\n",
            "Instructions for updating:\n",
            "Colocations handled automatically by placer.\n"
          ],
          "name": "stdout"
        }
      ]
    },
    {
      "cell_type": "code",
      "metadata": {
        "id": "LFPqoC_nVj8G",
        "colab_type": "code",
        "colab": {
          "base_uri": "https://localhost:8080/",
          "height": 724
        },
        "outputId": "49b499ef-89b1-44c2-aea6-bcdcb8d8e6ed"
      },
      "source": [
        "model.summary()"
      ],
      "execution_count": null,
      "outputs": [
        {
          "output_type": "stream",
          "text": [
            "_________________________________________________________________\n",
            "Layer (type)                 Output Shape              Param #   \n",
            "=================================================================\n",
            "conv2d_1 (Conv2D)            (None, 64, 64, 32)        4736      \n",
            "_________________________________________________________________\n",
            "max_pooling2d_1 (MaxPooling2 (None, 32, 32, 32)        0         \n",
            "_________________________________________________________________\n",
            "conv2d_2 (Conv2D)            (None, 32, 32, 64)        51264     \n",
            "_________________________________________________________________\n",
            "max_pooling2d_2 (MaxPooling2 (None, 16, 16, 64)        0         \n",
            "_________________________________________________________________\n",
            "conv2d_3 (Conv2D)            (None, 16, 16, 128)       73856     \n",
            "_________________________________________________________________\n",
            "max_pooling2d_3 (MaxPooling2 (None, 8, 8, 128)         0         \n",
            "_________________________________________________________________\n",
            "conv2d_4 (Conv2D)            (None, 8, 8, 256)         295168    \n",
            "_________________________________________________________________\n",
            "max_pooling2d_4 (MaxPooling2 (None, 4, 4, 256)         0         \n",
            "_________________________________________________________________\n",
            "conv2d_5 (Conv2D)            (None, 4, 4, 512)         1180160   \n",
            "_________________________________________________________________\n",
            "max_pooling2d_5 (MaxPooling2 (None, 2, 2, 512)         0         \n",
            "_________________________________________________________________\n",
            "flatten_1 (Flatten)          (None, 2048)              0         \n",
            "_________________________________________________________________\n",
            "dense_1 (Dense)              (None, 256)               524544    \n",
            "_________________________________________________________________\n",
            "dense_2 (Dense)              (None, 64)                16448     \n",
            "_________________________________________________________________\n",
            "dense_3 (Dense)              (None, 32)                2080      \n",
            "_________________________________________________________________\n",
            "dense_4 (Dense)              (None, 16)                528       \n",
            "_________________________________________________________________\n",
            "dense_5 (Dense)              (None, 4)                 68        \n",
            "=================================================================\n",
            "Total params: 2,148,852\n",
            "Trainable params: 2,148,852\n",
            "Non-trainable params: 0\n",
            "_________________________________________________________________\n"
          ],
          "name": "stdout"
        }
      ]
    },
    {
      "cell_type": "code",
      "metadata": {
        "id": "HUTFHQyDVj8f",
        "colab_type": "code",
        "colab": {
          "base_uri": "https://localhost:8080/",
          "height": 1000
        },
        "outputId": "690149ae-57c4-43c3-ca74-e25f7c4964f6"
      },
      "source": [
        "history = model.fit(X_train, y_train, batch_size=32, epochs=40, \n",
        "                    validation_data=(X_test, y_test))  # callbacks=[checkpoint, early_stopping]"
      ],
      "execution_count": null,
      "outputs": [
        {
          "output_type": "stream",
          "text": [
            "Train on 969 samples, validate on 416 samples\n",
            "Epoch 1/40\n",
            "969/969 [==============================] - 30s 30ms/step - loss: 1.2048 - acc: 0.4995 - val_loss: 1.1884 - val_acc: 0.5168\n",
            "Epoch 2/40\n",
            "969/969 [==============================] - 30s 31ms/step - loss: 1.1902 - acc: 0.5201 - val_loss: 1.1979 - val_acc: 0.4519\n",
            "Epoch 3/40\n",
            "969/969 [==============================] - 30s 31ms/step - loss: 1.1957 - acc: 0.5098 - val_loss: 1.1165 - val_acc: 0.5409\n",
            "Epoch 4/40\n",
            "969/969 [==============================] - 29s 30ms/step - loss: 1.1282 - acc: 0.5542 - val_loss: 1.1126 - val_acc: 0.5649\n",
            "Epoch 5/40\n",
            "969/969 [==============================] - 30s 31ms/step - loss: 1.1072 - acc: 0.5676 - val_loss: 1.0519 - val_acc: 0.5817\n",
            "Epoch 6/40\n",
            "969/969 [==============================] - 30s 30ms/step - loss: 1.0681 - acc: 0.5831 - val_loss: 1.0284 - val_acc: 0.5913\n",
            "Epoch 7/40\n",
            "969/969 [==============================] - 30s 31ms/step - loss: 1.0065 - acc: 0.5975 - val_loss: 1.0695 - val_acc: 0.5865\n",
            "Epoch 8/40\n",
            "969/969 [==============================] - 29s 30ms/step - loss: 1.0131 - acc: 0.6078 - val_loss: 1.0650 - val_acc: 0.5817\n",
            "Epoch 9/40\n",
            "969/969 [==============================] - 29s 30ms/step - loss: 0.9954 - acc: 0.6130 - val_loss: 1.0171 - val_acc: 0.6178\n",
            "Epoch 10/40\n",
            "969/969 [==============================] - 30s 30ms/step - loss: 0.9124 - acc: 0.6357 - val_loss: 1.0652 - val_acc: 0.6034\n",
            "Epoch 11/40\n",
            "969/969 [==============================] - 29s 30ms/step - loss: 0.9071 - acc: 0.6419 - val_loss: 1.0035 - val_acc: 0.6274\n",
            "Epoch 12/40\n",
            "969/969 [==============================] - 29s 30ms/step - loss: 0.8861 - acc: 0.6347 - val_loss: 1.0043 - val_acc: 0.6250\n",
            "Epoch 13/40\n",
            "969/969 [==============================] - 30s 31ms/step - loss: 0.8745 - acc: 0.6440 - val_loss: 1.0797 - val_acc: 0.5938\n",
            "Epoch 14/40\n",
            "969/969 [==============================] - 29s 30ms/step - loss: 0.8185 - acc: 0.6656 - val_loss: 1.1800 - val_acc: 0.5577\n",
            "Epoch 15/40\n",
            "969/969 [==============================] - 29s 30ms/step - loss: 0.8224 - acc: 0.6687 - val_loss: 1.0465 - val_acc: 0.5889\n",
            "Epoch 16/40\n",
            "969/969 [==============================] - 30s 30ms/step - loss: 0.7751 - acc: 0.6801 - val_loss: 1.1120 - val_acc: 0.6250\n",
            "Epoch 17/40\n",
            "969/969 [==============================] - 29s 30ms/step - loss: 0.7763 - acc: 0.6883 - val_loss: 1.0642 - val_acc: 0.5625\n",
            "Epoch 18/40\n",
            "969/969 [==============================] - 29s 30ms/step - loss: 0.7221 - acc: 0.6966 - val_loss: 1.1769 - val_acc: 0.5457\n",
            "Epoch 19/40\n",
            "969/969 [==============================] - 29s 30ms/step - loss: 0.6850 - acc: 0.7183 - val_loss: 1.2177 - val_acc: 0.5769\n",
            "Epoch 20/40\n",
            "969/969 [==============================] - 29s 30ms/step - loss: 0.6122 - acc: 0.7626 - val_loss: 1.4107 - val_acc: 0.6034\n",
            "Epoch 21/40\n",
            "969/969 [==============================] - 30s 30ms/step - loss: 0.5647 - acc: 0.7781 - val_loss: 1.4331 - val_acc: 0.5817\n",
            "Epoch 22/40\n",
            "969/969 [==============================] - 29s 30ms/step - loss: 0.5266 - acc: 0.7874 - val_loss: 1.5312 - val_acc: 0.6082\n",
            "Epoch 23/40\n",
            "969/969 [==============================] - 29s 30ms/step - loss: 0.5573 - acc: 0.7936 - val_loss: 1.5334 - val_acc: 0.5721\n",
            "Epoch 24/40\n",
            "969/969 [==============================] - 30s 30ms/step - loss: 0.5069 - acc: 0.8029 - val_loss: 1.5906 - val_acc: 0.5769\n",
            "Epoch 25/40\n",
            "969/969 [==============================] - 29s 30ms/step - loss: 0.4321 - acc: 0.8380 - val_loss: 1.6856 - val_acc: 0.5769\n",
            "Epoch 26/40\n",
            "969/969 [==============================] - 29s 30ms/step - loss: 0.3746 - acc: 0.8504 - val_loss: 1.9052 - val_acc: 0.5457\n",
            "Epoch 27/40\n",
            "969/969 [==============================] - 29s 30ms/step - loss: 0.2898 - acc: 0.8896 - val_loss: 2.3035 - val_acc: 0.5745\n",
            "Epoch 28/40\n",
            "969/969 [==============================] - 29s 30ms/step - loss: 0.3368 - acc: 0.8793 - val_loss: 1.9611 - val_acc: 0.5601\n",
            "Epoch 29/40\n",
            "969/969 [==============================] - 29s 30ms/step - loss: 0.2725 - acc: 0.9112 - val_loss: 2.4235 - val_acc: 0.5409\n",
            "Epoch 30/40\n",
            "969/969 [==============================] - 29s 30ms/step - loss: 0.3448 - acc: 0.8689 - val_loss: 2.0001 - val_acc: 0.5120\n",
            "Epoch 31/40\n",
            "969/969 [==============================] - 29s 30ms/step - loss: 0.2629 - acc: 0.9040 - val_loss: 2.3447 - val_acc: 0.5312\n",
            "Epoch 32/40\n",
            "969/969 [==============================] - 29s 30ms/step - loss: 0.2435 - acc: 0.9092 - val_loss: 2.1426 - val_acc: 0.5769\n",
            "Epoch 33/40\n",
            "969/969 [==============================] - 30s 30ms/step - loss: 0.2204 - acc: 0.9164 - val_loss: 2.4681 - val_acc: 0.5312\n",
            "Epoch 34/40\n",
            "969/969 [==============================] - 30s 31ms/step - loss: 0.1405 - acc: 0.9432 - val_loss: 2.4538 - val_acc: 0.5433\n",
            "Epoch 35/40\n",
            "969/969 [==============================] - 30s 31ms/step - loss: 0.1120 - acc: 0.9577 - val_loss: 2.7320 - val_acc: 0.5841\n",
            "Epoch 36/40\n",
            "969/969 [==============================] - 29s 30ms/step - loss: 0.0890 - acc: 0.9639 - val_loss: 3.0610 - val_acc: 0.5745\n",
            "Epoch 37/40\n",
            "969/969 [==============================] - 30s 30ms/step - loss: 0.1229 - acc: 0.9556 - val_loss: 3.0548 - val_acc: 0.5288\n",
            "Epoch 38/40\n",
            "969/969 [==============================] - 30s 31ms/step - loss: 0.3167 - acc: 0.9020 - val_loss: 2.3389 - val_acc: 0.5625\n",
            "Epoch 39/40\n",
            "384/969 [==========>...................] - ETA: 15s - loss: 0.2133 - acc: 0.9323"
          ],
          "name": "stdout"
        }
      ]
    },
    {
      "cell_type": "code",
      "metadata": {
        "id": "gy1o_QPPVj9w",
        "colab_type": "code",
        "colab": {
          "base_uri": "https://localhost:8080/",
          "height": 279
        },
        "outputId": "08fd16a2-fd26-48fb-a387-235eb9c3c2dc"
      },
      "source": [
        "y_vloss = history.history['val_loss']\n",
        "y_loss = history.history['loss']\n",
        "\n",
        "x_len = np.arange(len(y_loss))\n",
        "\n",
        "plt.plot(x_len, y_vloss, marker='.', c='red', label='val_set_loss')\n",
        "plt.plot(x_len, y_loss, marker='.', c='blue', label='train_set_oss')\n",
        "plt.legend()\n",
        "plt.xlabel('epochs')\n",
        "plt.ylabel('loss')\n",
        "plt.grid()\n",
        "plt.show()"
      ],
      "execution_count": null,
      "outputs": [
        {
          "output_type": "display_data",
          "data": {
            "image/png": "[encoded data removed]",
            "text/plain": [
              "<Figure size 432x288 with 1 Axes>"
            ]
          },
          "metadata": {
            "tags": [],
            "needs_background": "light"
          }
        }
      ]
    },
    {
      "cell_type": "code",
      "metadata": {
        "id": "1afQMke0m4QJ",
        "colab_type": "code",
        "colab": {
          "base_uri": "https://localhost:8080/",
          "height": 295
        },
        "outputId": "f413b81d-7e8d-48ee-815b-2382e51bcda5"
      },
      "source": [
        "plt.clf() # 그래프를 초기화합니다.\n",
        "acc = history.history['acc']\n",
        "val_acc = history.history['val_acc']\n",
        "\n",
        "plt.plot(x_len, acc, 'bo', label='Training acc')\n",
        "plt.plot(x_len, val_acc, 'b', label='Validation acc')\n",
        "plt.title('Training and validation accuracy')\n",
        "plt.xlabel('Epochs')\n",
        "plt.ylabel('Accuracy')\n",
        "plt.legend()\n",
        "\n",
        "plt.show()"
      ],
      "execution_count": null,
      "outputs": [
        {
          "output_type": "display_data",
          "data": {
            "image/png": "[encoded data removed]",
            "text/plain": [
              "<Figure size 432x288 with 1 Axes>"
            ]
          },
          "metadata": {
            "tags": [],
            "needs_background": "light"
          }
        }
      ]
    },
    {
      "cell_type": "code",
      "metadata": {
        "id": "6p7M786fVj96",
        "colab_type": "code",
        "colab": {
          "base_uri": "https://localhost:8080/",
          "height": 35
        },
        "outputId": "d892cd63-1fd6-4fe2-dfc1-1f2f62792e87"
      },
      "source": [
        "from PIL import Image\n",
        "import os, glob, numpy as np\n",
        "from keras.models import load_model\n",
        "\n",
        "caltech_dir = \"/content/drive/My Drive/CTRC/train/multi_img_data/imgs_others_test\"\n",
        "image_w = 64\n",
        "image_h = 64\n",
        "\n",
        "pixels = image_h * image_w * 3\n"
      ],
      "execution_count": null,
      "outputs": [
        {
          "output_type": "stream",
          "text": [
            "(0, 64, 64, 3)\n"
          ],
          "name": "stdout"
        }
      ]
    },
    {
      "cell_type": "code",
      "metadata": {
        "id": "HwkgwG4ypm69",
        "colab_type": "code",
        "colab": {}
      },
      "source": [
        "X = []\n",
        "filenames = []\n",
        "files = glob.glob(caltech_dir+\"/*.*\")\n",
        "for i, f in enumerate(files):\n",
        "    img = Image.open(f)         \n",
        "    img = img.convert(\"RGB\")\n",
        "    img = img.resize((image_w, image_h))\n",
        "    data = np.asarray(img)\n",
        "    filenames.append(f)\n",
        "    X.append(data)\n",
        "\n",
        "X = np.array(X)\n",
        "X = X.reshape(X.shape[0], 64,64,3)\n",
        "model = load_model( './model/multi_img_classification.model')"
      ],
      "execution_count": null,
      "outputs": []
    },
    {
      "cell_type": "markdown",
      "metadata": {
        "id": "RgPtq6jUXuqn",
        "colab_type": "text"
      },
      "source": [
        "f는 이미지가 있는 데이터 경로를 뜻합니다. \n",
        "\n",
        "위에서 files = glob.glob(caltech_dir+\"/*.*\")\n",
        "\n",
        "에서 가져오는 데이터를 (이미지 데이터들이 files라는 리스트 변수에 들어갑니다.)\n",
        "\n",
        "open해주는 것이죠.\n",
        "\n",
        " \n",
        "\n",
        "즉, files = glob.glob(caltech_dir+\"/*.*\") 의 경로는 지우님께서 사용하고 있는 local 환경에서\n",
        "\n",
        "image가 있는 경로로 맞춰주시면 됩니다.\n",
        "\n",
        "*github host 이수진"
      ]
    },
    {
      "cell_type": "code",
      "metadata": {
        "id": "jIg3c3a9po5X",
        "colab_type": "code",
        "colab": {}
      },
      "source": [
        "#해당 이미지 predict\n",
        "prediction = model.predict(X)\n",
        "np.set_printoptions(formatter={'float': lambda x: \"{0:0.3f}\".format(x)})\n",
        "cnt = 0\n",
        "\n",
        "\n",
        "print(X.shape)"
      ],
      "execution_count": null,
      "outputs": []
    },
    {
      "cell_type": "code",
      "metadata": {
        "id": "aWuDDLgsj_a6",
        "colab_type": "code",
        "colab": {
          "base_uri": "https://localhost:8080/",
          "height": 35
        },
        "outputId": "b366c94f-e76e-4233-f9d2-9d79a181a931"
      },
      "source": [
        "'''import tensorflow as tf\n",
        "print(tf.__version__)'''"
      ],
      "execution_count": null,
      "outputs": [
        {
          "output_type": "stream",
          "text": [
            "1.13.1\n"
          ],
          "name": "stdout"
        }
      ]
    },
    {
      "cell_type": "markdown",
      "metadata": {
        "id": "Fgrt_-CQv1vI",
        "colab_type": "text"
      },
      "source": [
        "### 파일 비교해서 결과내기 "
      ]
    },
    {
      "cell_type": "code",
      "metadata": {
        "id": "-DOmJ3CFv3eF",
        "colab_type": "code",
        "colab": {
          "base_uri": "https://localhost:8080/",
          "height": 923
        },
        "outputId": "4801d42a-7949-4e4f-fb69-3f16409534f9"
      },
      "source": [
        "#훈련된 모델을 이용해 한 이미지에 대한 예측 만들기\n",
        "\n",
        "# 테스트 세트에서 이미지 하나를 선택합니다\n",
        "img = X_test[0]\n",
        "\n",
        "print(img.shape)\n",
        "print(img)"
      ],
      "execution_count": null,
      "outputs": [
        {
          "output_type": "stream",
          "text": [
            "(64, 64, 3)\n",
            "[[[0.278 0.169 0.184]\n",
            "  [0.282 0.161 0.180]\n",
            "  [0.282 0.165 0.180]\n",
            "  ...\n",
            "  [0.498 0.337 0.392]\n",
            "  [0.498 0.337 0.392]\n",
            "  [0.482 0.333 0.384]]\n",
            "\n",
            " [[0.294 0.173 0.196]\n",
            "  [0.298 0.173 0.196]\n",
            "  [0.294 0.173 0.188]\n",
            "  ...\n",
            "  [0.498 0.329 0.384]\n",
            "  [0.494 0.333 0.388]\n",
            "  [0.494 0.341 0.392]]\n",
            "\n",
            " [[0.310 0.180 0.208]\n",
            "  [0.325 0.192 0.220]\n",
            "  [0.322 0.188 0.208]\n",
            "  ...\n",
            "  [0.486 0.322 0.376]\n",
            "  [0.502 0.337 0.396]\n",
            "  [0.510 0.349 0.408]]\n",
            "\n",
            " ...\n",
            "\n",
            " [[0.380 0.180 0.169]\n",
            "  [0.380 0.180 0.169]\n",
            "  [0.380 0.180 0.169]\n",
            "  ...\n",
            "  [0.451 0.251 0.243]\n",
            "  [0.463 0.251 0.251]\n",
            "  [0.459 0.251 0.251]]\n",
            "\n",
            " [[0.373 0.180 0.165]\n",
            "  [0.376 0.180 0.169]\n",
            "  [0.376 0.180 0.173]\n",
            "  ...\n",
            "  [0.459 0.255 0.251]\n",
            "  [0.463 0.263 0.259]\n",
            "  [0.463 0.271 0.267]]\n",
            "\n",
            " [[0.369 0.180 0.169]\n",
            "  [0.369 0.180 0.173]\n",
            "  [0.369 0.176 0.173]\n",
            "  ...\n",
            "  [0.443 0.251 0.247]\n",
            "  [0.451 0.259 0.255]\n",
            "  [0.447 0.263 0.255]]]\n"
          ],
          "name": "stdout"
        }
      ]
    },
    {
      "cell_type": "code",
      "metadata": {
        "id": "41r0xBMhwE92",
        "colab_type": "code",
        "colab": {
          "base_uri": "https://localhost:8080/",
          "height": 35
        },
        "outputId": "5a6b1107-ee84-464c-8e10-e9a50e8b6021"
      },
      "source": [
        "#이 파일의 예측\n",
        "\n",
        "img=np.resize(img,(1,64,64,3))\n",
        "predictions_single = model.predict(img)\n",
        "\n",
        "print(predictions_single)"
      ],
      "execution_count": null,
      "outputs": [
        {
          "output_type": "stream",
          "text": [
            "[[0.004 0.002 0.011 0.983]]\n"
          ],
          "name": "stdout"
        }
      ]
    },
    {
      "cell_type": "code",
      "metadata": {
        "id": "W7Y70vXr4uHq",
        "colab_type": "code",
        "colab": {}
      },
      "source": [
        "import os\n",
        "from tensorflow.keras.preprocessing.image import ImageDataGenerator\n",
        "\n",
        "\n",
        "imageGenerator = ImageDataGenerator(rescale=1./255,\n",
        "                                    rotation_range=20,\n",
        "                                    width_shift_range=0.1,\n",
        "                                    height_shift_range=0.1,\n",
        "                                    brightness_range=[.2,.2],\n",
        "                                    horizontal_flip=True,\n",
        "                                    validation_split=.1)"
      ],
      "execution_count": null,
      "outputs": []
    },
    {
      "cell_type": "code",
      "metadata": {
        "id": "nC2ngZOO4Q3a",
        "colab_type": "code",
        "colab": {
          "base_uri": "https://localhost:8080/",
          "height": 124
        },
        "outputId": "e2926ac7-5736-4cdb-cfbd-9bda36102911"
      },
      "source": [
        "\n",
        "testGenerator = ImageDataGenerator(\n",
        "    rescale=1./255\n",
        ")\n",
        "\n",
        "#데이터가 충분하지 않아서\n",
        "'''\n",
        "testGen = imageGenerator.flow_from_directory('/content/drive/My Drive/CTRC/train', target_size=(64, 64))\n",
        "'''\n",
        "\n",
        "\n",
        "#데이터가 충분하면 나누기\n",
        "trainGen = imageGenerator.flow_from_directory('/content/drive/My Drive/CTRC/train'),\n",
        "                                              target_size=(64,64),\n",
        "                                              subset='training')\n",
        "\n",
        "validationGen = imageGenerator.flow_from_directory('/content/drive/My Drive/CTRC/train'),\n",
        "                                                  target_size=(64,64),\n",
        "                                                  subset='validation')"
      ],
      "execution_count": null,
      "outputs": [
        {
          "output_type": "stream",
          "text": [
            "Found 1797 images belonging to 4 classes.\n"
          ],
          "name": "stdout"
        },
        {
          "output_type": "execute_result",
          "data": {
            "application/vnd.google.colaboratory.intrinsic+json": {
              "type": "string"
            },
            "text/plain": [
              "\"trainGen = imageGenerator.flow_from_directory('/content/drive/My Drive/CTRC/train'),\\n                                              target_size=(64,64),\\n                                              subset='training')\\n\\nvalidationGen = imageGenerator.flow_from_directory('/content/drive/My Drive/CTRC/train'),\\n                                                  target_size=(64,64),\\n                                                  subset='validation')\""
            ]
          },
          "metadata": {
            "tags": []
          },
          "execution_count": 23
        }
      ]
    },
    {
      "cell_type": "code",
      "metadata": {
        "id": "4OaYbDlE1ujL",
        "colab_type": "code",
        "colab": {
          "base_uri": "https://localhost:8080/",
          "height": 285
        },
        "outputId": "5e65e5e8-74dc-4162-efbf-9f5b176b7579"
      },
      "source": [
        "\n",
        "from tensorflow.keras.preprocessing.image import array_to_img\n",
        "import numpy as np\n",
        "\n",
        "cls_index = ['1. Cancer', '2. Precancer','3. Extra','4. Normal']\n",
        "\n",
        "imgs = testGen.next()\n",
        "arr = imgs[0][0]\n",
        "\n",
        "\n",
        "img = array_to_img(arr).resize((128, 128))"
      ],
      "execution_count": null,
      "outputs": [
        {
          "output_type": "execute_result",
          "data": {
            "text/plain": [
              "<matplotlib.image.AxesImage at 0x7f38bc716240>"
            ]
          },
          "metadata": {
            "tags": []
          },
          "execution_count": 24
        },
        {
          "output_type": "display_data",
          "data": {
            "image/png": "[encoded data removed]",
            "text/plain": [
              "<Figure size 432x288 with 1 Axes>"
            ]
          },
          "metadata": {
            "tags": [],
            "needs_background": "light"
          }
        }
      ]
    },
    {
      "cell_type": "markdown",
      "metadata": {
        "id": "hNWwG9IO10hB",
        "colab_type": "text"
      },
      "source": [
        "## 2번 모델 예측하기"
      ]
    },
    {
      "cell_type": "code",
      "metadata": {
        "id": "27a5Kh3eEtY_",
        "colab_type": "code",
        "colab": {
          "base_uri": "https://localhost:8080/",
          "height": 35
        },
        "outputId": "3ee24154-7eaa-40b2-e447-6fe579b00a00"
      },
      "source": [
        "print(img)"
      ],
      "execution_count": null,
      "outputs": [
        {
          "output_type": "stream",
          "text": [
            "<PIL.Image.Image image mode=RGB size=128x128 at 0x7F38BDDF2F28>\n"
          ],
          "name": "stdout"
        }
      ]
    },
    {
      "cell_type": "code",
      "metadata": {
        "id": "atilE7sX0yGz",
        "colab_type": "code",
        "colab": {
          "base_uri": "https://localhost:8080/",
          "height": 304
        },
        "outputId": "497136a4-9365-4ad1-e5a4-93da54299335"
      },
      "source": [
        "\n",
        "result = model.predict_classes(arr.reshape(1,64,64,3))\n",
        "\n",
        "print('예측: {}'.format(cls_index[result[0]]))\n",
        "print(\"Label:\" + str(y_test[0]) )\n",
        "print(img)\n",
        "img\n",
        "\n",
        "\n",
        "# np.argmax: 다차원 배열의 경우에 차원에 따라 가장 큰 값의 인덱스들을 반환\n",
        "# format: 문자열에 포함된 대괄호 개수 보다 format안에 들어 있는 값의 수가 적으면 에러"
      ],
      "execution_count": null,
      "outputs": [
        {
          "output_type": "stream",
          "text": [
            "예측: 3. Extra\n",
            "<PIL.Image.Image image mode=RGB size=128x128 at 0x7F38BDDF2F28>\n"
          ],
          "name": "stdout"
        },
        {
          "output_type": "display_data",
          "data": {
            "image/png": "[encoded data removed]",
            "text/plain": [
              "<Figure size 432x288 with 1 Axes>"
            ]
          },
          "metadata": {
            "tags": [],
            "needs_background": "light"
          }
        }
      ]
    },
    {
      "cell_type": "code",
      "metadata": {
        "id": "QjoChHhca6Xn",
        "colab_type": "code",
        "colab": {
          "base_uri": "https://localhost:8080/",
          "height": 53
        },
        "outputId": "fd02b0b8-5607-4349-9026-70e9b91c7b3f"
      },
      "source": [
        "'''if np.max(y_test)==0:\n",
        "  print(cls_index[0])\n",
        "if np.max(y_test)==1:\n",
        "  print(cls_index[1])\n",
        "if np.max(y_test)==2:\n",
        "  print(cls_index[2])\n",
        "else:\n",
        "  print(cls_index[3])'''"
      ],
      "execution_count": null,
      "outputs": [
        {
          "output_type": "execute_result",
          "data": {
            "application/vnd.google.colaboratory.intrinsic+json": {
              "type": "string"
            },
            "text/plain": [
              "'if np.max(y_test)==0:\\n  print(cls_index[0])\\nif np.max(y_test)==1:\\n  print(cls_index[1])\\nif np.max(y_test)==2:\\n  print(cls_index[2])\\nelse:\\n  print(cls_index[3])'"
            ]
          },
          "metadata": {
            "tags": []
          },
          "execution_count": 98
        }
      ]
    },
    {
      "cell_type": "markdown",
      "metadata": {
        "id": "7jpV35HzquTx",
        "colab_type": "text"
      },
      "source": [
        "#### @@예측확률도 같이 보여주면 더 좋을 것"
      ]
    },
    {
      "cell_type": "code",
      "metadata": {
        "id": "GqWtJYrwq929",
        "colab_type": "code",
        "colab": {}
      },
      "source": [
        "print(predictions_single)"
      ],
      "execution_count": null,
      "outputs": []
    },
    {
      "cell_type": "markdown",
      "metadata": {
        "id": "51XEp7KKNoSu",
        "colab_type": "text"
      },
      "source": [
        "## 3번 validation data 예측하기"
      ]
    },
    {
      "cell_type": "markdown",
      "metadata": {
        "id": "AismZKljqMfm",
        "colab_type": "text"
      },
      "source": [
        "### 적용 방법 생각하기"
      ]
    },
    {
      "cell_type": "code",
      "metadata": {
        "id": "8tSrZ3M9NqSX",
        "colab_type": "code",
        "colab": {}
      },
      "source": [
        "caltech_dir = '/content/drive/My Drive/CTRC/test'\n",
        "categories = [\"1. Cancer\",\"2. Precancer\",\"3. Extra\",\"4. Normal\"]\n",
        "\n",
        "test=[]\n",
        "test = np.array(test)\n",
        "\n",
        "model = load_model( './model/multi_img_classification.model')\n",
        "predict = model.predict_classes(test)\n",
        "\n",
        "for i in range(len(test)):\n",
        "    print(name[i] + \" : , Predict : \"+ str(categories[predict[i]]))\n"
      ],
      "execution_count": null,
      "outputs": []
    },
    {
      "cell_type": "code",
      "metadata": {
        "id": "rTsMGuuVV8ca",
        "colab_type": "code",
        "colab": {}
      },
      "source": [
        "\n",
        "from tensorflow.keras.preprocessing.image import array_to_img\n",
        "import numpy as np\n",
        "\n",
        "cls_index = ['1. Cancer', '2. Precancer','3. Extra','4. Normal']\n",
        "\n",
        "val_imgs = validationGen.next()\n",
        "val_arr = val_imgs[0][0]\n",
        "\n",
        "\n",
        "img = array_to_img(arr).resize((128, 128))"
      ],
      "execution_count": null,
      "outputs": []
    },
    {
      "cell_type": "code",
      "metadata": {
        "id": "SVqg5TSbWPWR",
        "colab_type": "code",
        "colab": {}
      },
      "source": [
        "\n",
        "result = model.predict_classes(arr.reshape(1,64,64,3))\n",
        "\n",
        "print('예측: {}'.format(cls_index[result[0]]))\n",
        "print(\"Label:\" + str(y_test[0]) )\n",
        "print(img)\n",
        "img\n"
      ],
      "execution_count": null,
      "outputs": []
    }
  ]
}
