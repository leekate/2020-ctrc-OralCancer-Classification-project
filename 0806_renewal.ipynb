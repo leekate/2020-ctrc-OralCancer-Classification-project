{
  "nbformat": 4,
  "nbformat_minor": 0,
  "metadata": {
    "kernelspec": {
      "display_name": "Python 3",
      "language": "python",
      "name": "python3"
    },
    "language_info": {
      "codemirror_mode": {
        "name": "ipython",
        "version": 3
      },
      "file_extension": ".py",
      "mimetype": "text/x-python",
      "name": "python",
      "nbconvert_exporter": "python",
      "pygments_lexer": "ipython3",
      "version": "3.6.5"
    },
    "colab": {
      "name": "0806_renewal.ipynb",
      "provenance": [],
      "collapsed_sections": [],
      "toc_visible": true,
      "include_colab_link": true
    },
    "accelerator": "GPU"
  },
  "cells": [
    {
      "cell_type": "markdown",
      "metadata": {
        "id": "view-in-github",
        "colab_type": "text"
      },
      "source": [
        "<a href=\"https://colab.research.google.com/github/leekate/2020ctrc/blob/master/0806_renewal.ipynb\" target=\"_parent\"><img src=\"https://colab.research.google.com/assets/colab-badge.svg\" alt=\"Open In Colab\"/></a>"
      ]
    },
    {
      "cell_type": "markdown",
      "metadata": {
        "id": "kBpq41JKVj6M",
        "colab_type": "text"
      },
      "source": [
        "# **MULTI_IMAGE_CLASSIFICATION**\n",
        "\n",
        "4가지의 이미지 분류\n",
        "\n",
        "기본적인 방법은 단일 이미지 분류와 같다. 대신, 다중 이미지 분류이기 때문에 카테고리의 변화가 있다.\n"
      ]
    },
    {
      "cell_type": "markdown",
      "metadata": {
        "id": "Gyxw6i29yifu",
        "colab_type": "text"
      },
      "source": [
        "## 1번 train"
      ]
    },
    {
      "cell_type": "code",
      "metadata": {
        "id": "Z7raZpBpWzvc",
        "colab_type": "code",
        "colab": {
          "base_uri": "https://localhost:8080/",
          "height": 109
        },
        "outputId": "9af287cb-7220-496f-f8fc-109bf3c74018"
      },
      "source": [
        "from google.colab import drive\n",
        "drive.mount('/content/drive')"
      ],
      "execution_count": null,
      "outputs": [
        {
          "output_type": "stream",
          "text": [
            "Go to this URL in a browser: https://accounts.google.com/o/oauth2/auth?client_id=947318989803-6bn6qk8qdgf4n4g3pfee6491hc0brc4i.apps.googleusercontent.com&redirect_uri=urn%3aietf%3awg%3aoauth%3a2.0%3aoob&response_type=code&scope=email%20https%3a%2f%2fwww.googleapis.com%2fauth%2fdocs.test%20https%3a%2f%2fwww.googleapis.com%2fauth%2fdrive%20https%3a%2f%2fwww.googleapis.com%2fauth%2fdrive.photos.readonly%20https%3a%2f%2fwww.googleapis.com%2fauth%2fpeopleapi.readonly\n",
            "\n",
            "Enter your authorization code:\n",
            "··········\n"
          ],
          "name": "stdout"
        }
      ]
    },
    {
      "cell_type": "markdown",
      "metadata": {
        "id": "D6L9_lOxrLTr",
        "colab_type": "text"
      },
      "source": [
        "### 파일 읽어오기"
      ]
    },
    {
      "cell_type": "markdown",
      "metadata": {
        "id": "3mrA3lsLqGXB",
        "colab_type": "text"
      },
      "source": [
        "#### 코드 확인하기"
      ]
    },
    {
      "cell_type": "code",
      "metadata": {
        "id": "VlpQzeS_9yzx",
        "colab_type": "code",
        "colab": {
          "base_uri": "https://localhost:8080/",
          "height": 1000
        },
        "outputId": "dab2d927-35ca-46d8-f77e-c63d57c47ab6"
      },
      "source": [
        "'''!pip uninstall keras\n",
        "!pip install Keras==2.2.4\n",
        "\n",
        "!pip uninstall tensorflow\n",
        "!pip install tensorflow==1.13.1'''"
      ],
      "execution_count": 6,
      "outputs": [
        {
          "output_type": "stream",
          "text": [
            "Uninstalling Keras-2.4.3:\n",
            "  Would remove:\n",
            "    /usr/local/lib/python3.6/dist-packages/Keras-2.4.3.dist-info/*\n",
            "    /usr/local/lib/python3.6/dist-packages/docs/*\n",
            "    /usr/local/lib/python3.6/dist-packages/keras/*\n",
            "  Would not remove (might be manually added):\n",
            "    /usr/local/lib/python3.6/dist-packages/docs/md_autogen.py\n",
            "    /usr/local/lib/python3.6/dist-packages/docs/update_docs.py\n",
            "Proceed (y/n)? y\n",
            "  Successfully uninstalled Keras-2.4.3\n",
            "Collecting Keras==2.2.4\n",
            "\u001b[?25l  Downloading https://files.pythonhosted.org/packages/5e/10/aa32dad071ce52b5502266b5c659451cfd6ffcbf14e6c8c4f16c0ff5aaab/Keras-2.2.4-py2.py3-none-any.whl (312kB)\n",
            "\u001b[K     |████████████████████████████████| 317kB 3.5MB/s \n",
            "\u001b[?25hRequirement already satisfied: pyyaml in /usr/local/lib/python3.6/dist-packages (from Keras==2.2.4) (3.13)\n",
            "Requirement already satisfied: six>=1.9.0 in /usr/local/lib/python3.6/dist-packages (from Keras==2.2.4) (1.15.0)\n",
            "Requirement already satisfied: h5py in /usr/local/lib/python3.6/dist-packages (from Keras==2.2.4) (2.10.0)\n",
            "Collecting keras-applications>=1.0.6\n",
            "\u001b[?25l  Downloading https://files.pythonhosted.org/packages/71/e3/19762fdfc62877ae9102edf6342d71b28fbfd9dea3d2f96a882ce099b03f/Keras_Applications-1.0.8-py3-none-any.whl (50kB)\n",
            "\u001b[K     |████████████████████████████████| 51kB 4.7MB/s \n",
            "\u001b[?25hRequirement already satisfied: keras-preprocessing>=1.0.5 in /usr/local/lib/python3.6/dist-packages (from Keras==2.2.4) (1.1.2)\n",
            "Requirement already satisfied: numpy>=1.9.1 in /usr/local/lib/python3.6/dist-packages (from Keras==2.2.4) (1.18.5)\n",
            "Requirement already satisfied: scipy>=0.14 in /usr/local/lib/python3.6/dist-packages (from Keras==2.2.4) (1.4.1)\n",
            "Installing collected packages: keras-applications, Keras\n",
            "Successfully installed Keras-2.2.4 keras-applications-1.0.8\n"
          ],
          "name": "stdout"
        },
        {
          "output_type": "display_data",
          "data": {
            "application/vnd.colab-display-data+json": {
              "pip_warning": {
                "packages": [
                  "keras"
                ]
              }
            }
          },
          "metadata": {
            "tags": []
          }
        },
        {
          "output_type": "stream",
          "text": [
            "Uninstalling tensorflow-2.3.0:\n",
            "  Would remove:\n",
            "    /usr/local/bin/estimator_ckpt_converter\n",
            "    /usr/local/bin/saved_model_cli\n",
            "    /usr/local/bin/tensorboard\n",
            "    /usr/local/bin/tf_upgrade_v2\n",
            "    /usr/local/bin/tflite_convert\n",
            "    /usr/local/bin/toco\n",
            "    /usr/local/bin/toco_from_protos\n",
            "    /usr/local/lib/python3.6/dist-packages/tensorflow-2.3.0.dist-info/*\n",
            "    /usr/local/lib/python3.6/dist-packages/tensorflow/*\n",
            "Proceed (y/n)? y\n",
            "  Successfully uninstalled tensorflow-2.3.0\n",
            "Collecting tensorflow==1.13.1\n",
            "\u001b[?25l  Downloading https://files.pythonhosted.org/packages/77/63/a9fa76de8dffe7455304c4ed635be4aa9c0bacef6e0633d87d5f54530c5c/tensorflow-1.13.1-cp36-cp36m-manylinux1_x86_64.whl (92.5MB)\n",
            "\u001b[K     |████████████████████████████████| 92.5MB 33kB/s \n",
            "\u001b[?25hCollecting tensorboard<1.14.0,>=1.13.0\n",
            "\u001b[?25l  Downloading https://files.pythonhosted.org/packages/0f/39/bdd75b08a6fba41f098b6cb091b9e8c7a80e1b4d679a581a0ccd17b10373/tensorboard-1.13.1-py3-none-any.whl (3.2MB)\n",
            "\u001b[K     |████████████████████████████████| 3.2MB 38.6MB/s \n",
            "\u001b[?25hRequirement already satisfied: keras-preprocessing>=1.0.5 in /usr/local/lib/python3.6/dist-packages (from tensorflow==1.13.1) (1.1.2)\n",
            "Requirement already satisfied: numpy>=1.13.3 in /usr/local/lib/python3.6/dist-packages (from tensorflow==1.13.1) (1.18.5)\n",
            "Requirement already satisfied: wheel>=0.26 in /usr/local/lib/python3.6/dist-packages (from tensorflow==1.13.1) (0.34.2)\n",
            "Requirement already satisfied: keras-applications>=1.0.6 in /usr/local/lib/python3.6/dist-packages (from tensorflow==1.13.1) (1.0.8)\n",
            "Requirement already satisfied: termcolor>=1.1.0 in /usr/local/lib/python3.6/dist-packages (from tensorflow==1.13.1) (1.1.0)\n",
            "Requirement already satisfied: protobuf>=3.6.1 in /usr/local/lib/python3.6/dist-packages (from tensorflow==1.13.1) (3.12.4)\n",
            "Requirement already satisfied: grpcio>=1.8.6 in /usr/local/lib/python3.6/dist-packages (from tensorflow==1.13.1) (1.30.0)\n",
            "Collecting tensorflow-estimator<1.14.0rc0,>=1.13.0\n",
            "\u001b[?25l  Downloading https://files.pythonhosted.org/packages/bb/48/13f49fc3fa0fdf916aa1419013bb8f2ad09674c275b4046d5ee669a46873/tensorflow_estimator-1.13.0-py2.py3-none-any.whl (367kB)\n",
            "\u001b[K     |████████████████████████████████| 368kB 40.0MB/s \n",
            "\u001b[?25hRequirement already satisfied: astor>=0.6.0 in /usr/local/lib/python3.6/dist-packages (from tensorflow==1.13.1) (0.8.1)\n",
            "Requirement already satisfied: six>=1.10.0 in /usr/local/lib/python3.6/dist-packages (from tensorflow==1.13.1) (1.15.0)\n",
            "Requirement already satisfied: absl-py>=0.1.6 in /usr/local/lib/python3.6/dist-packages (from tensorflow==1.13.1) (0.9.0)\n",
            "Requirement already satisfied: gast>=0.2.0 in /usr/local/lib/python3.6/dist-packages (from tensorflow==1.13.1) (0.3.3)\n",
            "Requirement already satisfied: werkzeug>=0.11.15 in /usr/local/lib/python3.6/dist-packages (from tensorboard<1.14.0,>=1.13.0->tensorflow==1.13.1) (1.0.1)\n",
            "Requirement already satisfied: markdown>=2.6.8 in /usr/local/lib/python3.6/dist-packages (from tensorboard<1.14.0,>=1.13.0->tensorflow==1.13.1) (3.2.2)\n",
            "Requirement already satisfied: h5py in /usr/local/lib/python3.6/dist-packages (from keras-applications>=1.0.6->tensorflow==1.13.1) (2.10.0)\n",
            "Requirement already satisfied: setuptools in /usr/local/lib/python3.6/dist-packages (from protobuf>=3.6.1->tensorflow==1.13.1) (49.2.0)\n",
            "Collecting mock>=2.0.0\n",
            "  Downloading https://files.pythonhosted.org/packages/cd/74/d72daf8dff5b6566db857cfd088907bb0355f5dd2914c4b3ef065c790735/mock-4.0.2-py3-none-any.whl\n",
            "Requirement already satisfied: importlib-metadata; python_version < \"3.8\" in /usr/local/lib/python3.6/dist-packages (from markdown>=2.6.8->tensorboard<1.14.0,>=1.13.0->tensorflow==1.13.1) (1.7.0)\n",
            "Requirement already satisfied: zipp>=0.5 in /usr/local/lib/python3.6/dist-packages (from importlib-metadata; python_version < \"3.8\"->markdown>=2.6.8->tensorboard<1.14.0,>=1.13.0->tensorflow==1.13.1) (3.1.0)\n",
            "Installing collected packages: tensorboard, mock, tensorflow-estimator, tensorflow\n",
            "  Found existing installation: tensorboard 2.3.0\n",
            "    Uninstalling tensorboard-2.3.0:\n",
            "      Successfully uninstalled tensorboard-2.3.0\n",
            "  Found existing installation: tensorflow-estimator 2.3.0\n",
            "    Uninstalling tensorflow-estimator-2.3.0:\n",
            "      Successfully uninstalled tensorflow-estimator-2.3.0\n",
            "Successfully installed mock-4.0.2 tensorboard-1.13.1 tensorflow-1.13.1 tensorflow-estimator-1.13.0\n"
          ],
          "name": "stdout"
        },
        {
          "output_type": "display_data",
          "data": {
            "application/vnd.colab-display-data+json": {
              "pip_warning": {
                "packages": [
                  "tensorboard",
                  "tensorflow"
                ]
              }
            }
          },
          "metadata": {
            "tags": []
          }
        }
      ]
    },
    {
      "cell_type": "code",
      "metadata": {
        "id": "UYGIEPqlJtcC",
        "colab_type": "code",
        "colab": {}
      },
      "source": [
        "'''[1]*10**10'''"
      ],
      "execution_count": null,
      "outputs": []
    },
    {
      "cell_type": "code",
      "metadata": {
        "id": "CRnXICbbVj6Q",
        "colab_type": "code",
        "colab": {
          "base_uri": "https://localhost:8080/",
          "height": 179
        },
        "outputId": "e8b407fa-91d5-420e-9ee8-69b5407569c2"
      },
      "source": [
        "from PIL import Image\n",
        "import os, glob, numpy as np\n",
        "from sklearn.model_selection import train_test_split\n",
        "\n",
        "caltech_dir = '/content/drive/My Drive/CTRC/train'\n",
        "categories = [\"1. Cancer\",\"2. Precancer\",\"3. Extra\",\"4. Normal\"]\n",
        "nb_classes = len(categories)\n",
        "\n",
        "image_w = 64\n",
        "image_h = 64\n",
        "\n",
        "pixels = image_h * image_w * 3\n",
        "\n",
        "X = []\n",
        "y = []\n",
        "\n",
        "\n",
        "#카테고리별로 돌면서 label 먼저 0으로 초기화\n",
        "#첫번째 idx에 1 넣어주기\n",
        "#1 0 0 0 이면 cancer\n",
        "#0 1 0 0 이면 precancer 이런식\n",
        "\n",
        "\n",
        "for idx, cat in enumerate(categories): #cat은 뭘까 \n",
        "    \n",
        "    #one-hot 돌리기.\n",
        "    label = [0 for i in range(nb_classes)]\n",
        "    label[idx] = 1\n",
        "\n",
        "    image_dir = caltech_dir + \"/\" + cat #cat은 뭘까\n",
        "    files = glob.glob(image_dir+\"/*.jpg\")\n",
        "    print(cat, \" 파일 길이 : \", len(files))\n",
        "    for i, f in enumerate(files):\n",
        "        img = Image.open(f)\n",
        "        img = img.convert(\"RGB\") #이미지 RGB값으로 바꿔주고\n",
        "        img = img.resize((image_w, image_h)) #resize하고\n",
        "        data = np.asarray(img) #그 값을 numpy 라이브러리를 이용해 저장\n",
        "\n",
        "        X.append(data)\n",
        "        y.append(label)\n",
        "\n",
        "        if i % 700 == 0:\n",
        "            print(cat, \" : \", f)\n",
        "\n",
        "X = np.array(X)\n",
        "y = np.array(y)\n",
        "\n",
        "\n",
        "X_train, X_test, y_train, y_test = train_test_split(X, y, test_size=0.3, random_state=321)\n",
        "\n",
        "xy = (X_train, X_test, y_train, y_test)\n",
        "np.save('/content/drive/My Drive/CTRC/train/multi_image_data.npy', xy)\n",
        "\n",
        "print(\"ok\", len(y))\n"
      ],
      "execution_count": 1,
      "outputs": [
        {
          "output_type": "stream",
          "text": [
            "1. Cancer  파일 길이 :  412\n",
            "1. Cancer  :  /content/drive/My Drive/CTRC/train/1. Cancer/can_1.jpg\n",
            "2. Precancer  파일 길이 :  150\n",
            "2. Precancer  :  /content/drive/My Drive/CTRC/train/2. Precancer/precan_1.jpg\n",
            "3. Extra  파일 길이 :  265\n",
            "3. Extra  :  /content/drive/My Drive/CTRC/train/3. Extra/inf_1.jpg\n",
            "4. Normal  파일 길이 :  558\n",
            "4. Normal  :  /content/drive/My Drive/CTRC/train/4. Normal/nor_147.jpg\n",
            "ok 1385\n"
          ],
          "name": "stdout"
        }
      ]
    },
    {
      "cell_type": "markdown",
      "metadata": {
        "id": "XwYkZZtZrSb1",
        "colab_type": "text"
      },
      "source": [
        "### 학습하기"
      ]
    },
    {
      "cell_type": "markdown",
      "metadata": {
        "id": "05dG18BFVj68",
        "colab_type": "text"
      },
      "source": [
        "이제 numpy 데이터를 불러온다. 이거 가지고 학습!"
      ]
    },
    {
      "cell_type": "code",
      "metadata": {
        "id": "cOGSV6XKVj7B",
        "colab_type": "code",
        "colab": {
          "base_uri": "https://localhost:8080/",
          "height": 307
        },
        "outputId": "990d2a29-3fd6-49cc-97b7-258e8bfe83a5"
      },
      "source": [
        "import os, glob, numpy as np\n",
        "\n",
        "from keras.models import Sequential\n",
        "from keras.layers import Conv2D, MaxPooling2D, Dense, Flatten, Dropout\n",
        "from keras.callbacks import EarlyStopping, ModelCheckpoint\n",
        "import matplotlib.pyplot as plt\n",
        "import keras.backend.tensorflow_backend as K\n",
        "\n",
        "\n",
        "import tensorflow as tf\n",
        "config = tf.compat.v1.ConfigProto()\n",
        "config.gpu_options.allow_growth = True\n",
        "session = tf.compat.v1.Session(config=config)\n",
        "\n",
        "X_train, X_test, y_train, y_test = np.load('/content/drive/My Drive/CTRC/train/multi_image_data.npy', allow_pickle=True)\n",
        "print(X_train.shape)\n",
        "print(X_train.shape[0])"
      ],
      "execution_count": 2,
      "outputs": [
        {
          "output_type": "stream",
          "text": [
            "Using TensorFlow backend.\n",
            "/usr/local/lib/python3.6/dist-packages/tensorflow/python/framework/dtypes.py:526: FutureWarning: Passing (type, 1) or '1type' as a synonym of type is deprecated; in a future version of numpy, it will be understood as (type, (1,)) / '(1,)type'.\n",
            "  _np_qint8 = np.dtype([(\"qint8\", np.int8, 1)])\n",
            "/usr/local/lib/python3.6/dist-packages/tensorflow/python/framework/dtypes.py:527: FutureWarning: Passing (type, 1) or '1type' as a synonym of type is deprecated; in a future version of numpy, it will be understood as (type, (1,)) / '(1,)type'.\n",
            "  _np_quint8 = np.dtype([(\"quint8\", np.uint8, 1)])\n",
            "/usr/local/lib/python3.6/dist-packages/tensorflow/python/framework/dtypes.py:528: FutureWarning: Passing (type, 1) or '1type' as a synonym of type is deprecated; in a future version of numpy, it will be understood as (type, (1,)) / '(1,)type'.\n",
            "  _np_qint16 = np.dtype([(\"qint16\", np.int16, 1)])\n",
            "/usr/local/lib/python3.6/dist-packages/tensorflow/python/framework/dtypes.py:529: FutureWarning: Passing (type, 1) or '1type' as a synonym of type is deprecated; in a future version of numpy, it will be understood as (type, (1,)) / '(1,)type'.\n",
            "  _np_quint16 = np.dtype([(\"quint16\", np.uint16, 1)])\n",
            "/usr/local/lib/python3.6/dist-packages/tensorflow/python/framework/dtypes.py:530: FutureWarning: Passing (type, 1) or '1type' as a synonym of type is deprecated; in a future version of numpy, it will be understood as (type, (1,)) / '(1,)type'.\n",
            "  _np_qint32 = np.dtype([(\"qint32\", np.int32, 1)])\n",
            "/usr/local/lib/python3.6/dist-packages/tensorflow/python/framework/dtypes.py:535: FutureWarning: Passing (type, 1) or '1type' as a synonym of type is deprecated; in a future version of numpy, it will be understood as (type, (1,)) / '(1,)type'.\n",
            "  np_resource = np.dtype([(\"resource\", np.ubyte, 1)])\n"
          ],
          "name": "stderr"
        },
        {
          "output_type": "stream",
          "text": [
            "(969, 64, 64, 3)\n",
            "969\n"
          ],
          "name": "stdout"
        }
      ]
    },
    {
      "cell_type": "code",
      "metadata": {
        "id": "b3-RU4OeVj7W",
        "colab_type": "code",
        "colab": {}
      },
      "source": [
        "categories = [\"1. Cancer\",\"2. Precancer\",\"3. Extra\",\"4. Normal\"]\n",
        "nb_classes = len(categories)\n",
        "\n",
        "#일반화\n",
        "X_train = X_train.astype(float) / 255\n",
        "X_test = X_test.astype(float) / 255"
      ],
      "execution_count": 7,
      "outputs": []
    },
    {
      "cell_type": "markdown",
      "metadata": {
        "id": "9352Bt6Inuk7",
        "colab_type": "text"
      },
      "source": [
        "### CNN 모델 만들기 (Conv2D 이용)"
      ]
    },
    {
      "cell_type": "code",
      "metadata": {
        "id": "mhc9w51LVj7s",
        "colab_type": "code",
        "colab": {}
      },
      "source": [
        "\n",
        "\n",
        "with K.tf.device('/device:GPU:0'):\n",
        "    model = Sequential()\n",
        "    model.add(Conv2D(32, (7,7), padding=\"same\", input_shape=X_train.shape[1:], activation='relu'))\n",
        "    model.add(MaxPooling2D(pool_size=(2,2)))\n",
        "    '''model.add(Dropout(0.25))'''\n",
        "    # 3X3 크기의 컨볼루션 레이어를 32개의 필터수를 처음에 생성\n",
        "    # 활성화 함수 relu\n",
        "    # (64,64,3)의 튜플 값 가진다\n",
        "    # Maxpooling2D를 통해 중요 값만 뽑아 작은 출력값 만든다\n",
        "\n",
        "    \n",
        "    model.add(Conv2D(64, (5,5), padding=\"same\", activation='relu'))\n",
        "    model.add(MaxPooling2D(pool_size=(2,2)))\n",
        "    '''model.add(Dropout(0.25))'''\n",
        "\n",
        "    model.add(Conv2D(128, (3,3), padding=\"same\", activation='relu'))\n",
        "    model.add(MaxPooling2D(pool_size=(2,2)))\n",
        "\n",
        "    model.add(Conv2D(256, (3,3), padding=\"same\", activation='relu'))\n",
        "    model.add(MaxPooling2D(pool_size=(2,2)))\n",
        "\n",
        "\n",
        "    model.add(Conv2D(512, (3,3), padding=\"same\", activation='relu'))\n",
        "    model.add(MaxPooling2D(pool_size=(2,2)))\n",
        "\n",
        "\n",
        "    model.add(Flatten()) \n",
        "    #CNN에서 컨볼루션 레이어나 맥스풀링을 거치면 주요 특징만 추출되어 학습됨\n",
        "    \n",
        "    #컨볼루션이나 맥스풀링은 주로 2차원을 다루지만\n",
        "    #전결합층에 전달을 하기 위해서는 1차원으로 바꿔야하는데\n",
        "    #이 때 Flatten사용\n",
        "    model.add(Dense(256, activation='relu'))\n",
        "    model.add(Dense(64, activation='relu'))\n",
        "    model.add(Dense(32, activation='relu'))\n",
        "    model.add(Dense(16, activation='relu'))\n",
        "    #model.add(Dropout(0.5))\n",
        "    model.add(Dense(nb_classes, activation='softmax'))\n",
        "\n",
        "    model.compile(loss='categorical_crossentropy', optimizer='adam', metrics=['accuracy'])\n",
        "    model_dir = './model'\n",
        "    \n",
        "    if not os.path.exists(model_dir):\n",
        "        os.mkdir(model_dir)\n",
        "    \n",
        "    model_path = model_dir + '/multi_img_classification.model'\n",
        "    checkpoint = ModelCheckpoint(filepath=model_path , monitor='val_loss', verbose=1, save_best_only=True)\n",
        "    early_stopping = EarlyStopping(monitor='val_loss', patience=6)\n",
        "    \n",
        "    "
      ],
      "execution_count": 9,
      "outputs": []
    },
    {
      "cell_type": "code",
      "metadata": {
        "id": "LFPqoC_nVj8G",
        "colab_type": "code",
        "colab": {
          "base_uri": "https://localhost:8080/",
          "height": 719
        },
        "outputId": "fa230668-5af9-4c61-ef2e-f08246d67464"
      },
      "source": [
        "model.summary()"
      ],
      "execution_count": 10,
      "outputs": [
        {
          "output_type": "stream",
          "text": [
            "_________________________________________________________________\n",
            "Layer (type)                 Output Shape              Param #   \n",
            "=================================================================\n",
            "conv2d_11 (Conv2D)           (None, 64, 64, 32)        4736      \n",
            "_________________________________________________________________\n",
            "max_pooling2d_11 (MaxPooling (None, 32, 32, 32)        0         \n",
            "_________________________________________________________________\n",
            "conv2d_12 (Conv2D)           (None, 32, 32, 64)        51264     \n",
            "_________________________________________________________________\n",
            "max_pooling2d_12 (MaxPooling (None, 16, 16, 64)        0         \n",
            "_________________________________________________________________\n",
            "conv2d_13 (Conv2D)           (None, 16, 16, 128)       73856     \n",
            "_________________________________________________________________\n",
            "max_pooling2d_13 (MaxPooling (None, 8, 8, 128)         0         \n",
            "_________________________________________________________________\n",
            "conv2d_14 (Conv2D)           (None, 8, 8, 256)         295168    \n",
            "_________________________________________________________________\n",
            "max_pooling2d_14 (MaxPooling (None, 4, 4, 256)         0         \n",
            "_________________________________________________________________\n",
            "conv2d_15 (Conv2D)           (None, 4, 4, 512)         1180160   \n",
            "_________________________________________________________________\n",
            "max_pooling2d_15 (MaxPooling (None, 2, 2, 512)         0         \n",
            "_________________________________________________________________\n",
            "flatten_3 (Flatten)          (None, 2048)              0         \n",
            "_________________________________________________________________\n",
            "dense_11 (Dense)             (None, 256)               524544    \n",
            "_________________________________________________________________\n",
            "dense_12 (Dense)             (None, 64)                16448     \n",
            "_________________________________________________________________\n",
            "dense_13 (Dense)             (None, 32)                2080      \n",
            "_________________________________________________________________\n",
            "dense_14 (Dense)             (None, 16)                528       \n",
            "_________________________________________________________________\n",
            "dense_15 (Dense)             (None, 4)                 68        \n",
            "=================================================================\n",
            "Total params: 2,148,852\n",
            "Trainable params: 2,148,852\n",
            "Non-trainable params: 0\n",
            "_________________________________________________________________\n"
          ],
          "name": "stdout"
        }
      ]
    },
    {
      "cell_type": "code",
      "metadata": {
        "id": "HUTFHQyDVj8f",
        "colab_type": "code",
        "colab": {
          "base_uri": "https://localhost:8080/",
          "height": 1000
        },
        "outputId": "6b008618-c6e4-4b7d-ee6f-de92dfeaa9af"
      },
      "source": [
        "history = model.fit(X_train, y_train, batch_size=16, epochs=40, \n",
        "                    validation_data=(X_test, y_test), callbacks=[checkpoint, early_stopping])"
      ],
      "execution_count": 12,
      "outputs": [
        {
          "output_type": "stream",
          "text": [
            "Train on 969 samples, validate on 416 samples\n",
            "Epoch 1/40\n",
            "969/969 [==============================] - 39s 41ms/step - loss: 1.3108 - acc: 0.4014 - val_loss: 1.2752 - val_acc: 0.3870\n",
            "\n",
            "Epoch 00001: val_loss improved from inf to 1.27515, saving model to ./model/multi_img_classification.model\n",
            "Epoch 2/40\n",
            "969/969 [==============================] - 39s 41ms/step - loss: 1.2542 - acc: 0.4056 - val_loss: 1.2013 - val_acc: 0.3870\n",
            "\n",
            "Epoch 00002: val_loss improved from 1.27515 to 1.20131, saving model to ./model/multi_img_classification.model\n",
            "Epoch 3/40\n",
            "969/969 [==============================] - 39s 41ms/step - loss: 1.2392 - acc: 0.4561 - val_loss: 1.1987 - val_acc: 0.3894\n",
            "\n",
            "Epoch 00003: val_loss improved from 1.20131 to 1.19875, saving model to ./model/multi_img_classification.model\n",
            "Epoch 4/40\n",
            "969/969 [==============================] - 39s 41ms/step - loss: 1.2495 - acc: 0.4530 - val_loss: 1.2834 - val_acc: 0.5024\n",
            "\n",
            "Epoch 00004: val_loss did not improve from 1.19875\n",
            "Epoch 5/40\n",
            "969/969 [==============================] - 39s 41ms/step - loss: 1.2295 - acc: 0.4819 - val_loss: 1.2381 - val_acc: 0.5120\n",
            "\n",
            "Epoch 00005: val_loss did not improve from 1.19875\n",
            "Epoch 6/40\n",
            "969/969 [==============================] - 39s 40ms/step - loss: 1.1910 - acc: 0.5181 - val_loss: 1.1017 - val_acc: 0.5505\n",
            "\n",
            "Epoch 00006: val_loss improved from 1.19875 to 1.10168, saving model to ./model/multi_img_classification.model\n",
            "Epoch 7/40\n",
            "969/969 [==============================] - 39s 40ms/step - loss: 1.1560 - acc: 0.5397 - val_loss: 1.0847 - val_acc: 0.5240\n",
            "\n",
            "Epoch 00007: val_loss improved from 1.10168 to 1.08470, saving model to ./model/multi_img_classification.model\n",
            "Epoch 8/40\n",
            "969/969 [==============================] - 39s 41ms/step - loss: 1.1581 - acc: 0.5315 - val_loss: 1.1077 - val_acc: 0.5553\n",
            "\n",
            "Epoch 00008: val_loss did not improve from 1.08470\n",
            "Epoch 9/40\n",
            "969/969 [==============================] - 39s 41ms/step - loss: 1.1296 - acc: 0.5531 - val_loss: 1.1012 - val_acc: 0.5601\n",
            "\n",
            "Epoch 00009: val_loss did not improve from 1.08470\n",
            "Epoch 10/40\n",
            "969/969 [==============================] - 39s 41ms/step - loss: 1.1137 - acc: 0.5521 - val_loss: 1.0778 - val_acc: 0.5649\n",
            "\n",
            "Epoch 00010: val_loss improved from 1.08470 to 1.07777, saving model to ./model/multi_img_classification.model\n",
            "Epoch 11/40\n",
            "969/969 [==============================] - 39s 40ms/step - loss: 1.1026 - acc: 0.5728 - val_loss: 1.1012 - val_acc: 0.5673\n",
            "\n",
            "Epoch 00011: val_loss did not improve from 1.07777\n",
            "Epoch 12/40\n",
            "969/969 [==============================] - 39s 40ms/step - loss: 1.0975 - acc: 0.5717 - val_loss: 1.0794 - val_acc: 0.5817\n",
            "\n",
            "Epoch 00012: val_loss did not improve from 1.07777\n",
            "Epoch 13/40\n",
            "969/969 [==============================] - 40s 41ms/step - loss: 1.0671 - acc: 0.5913 - val_loss: 1.0480 - val_acc: 0.5889\n",
            "\n",
            "Epoch 00013: val_loss improved from 1.07777 to 1.04802, saving model to ./model/multi_img_classification.model\n",
            "Epoch 14/40\n",
            "969/969 [==============================] - 39s 40ms/step - loss: 1.0262 - acc: 0.5934 - val_loss: 1.0059 - val_acc: 0.6058\n",
            "\n",
            "Epoch 00014: val_loss improved from 1.04802 to 1.00586, saving model to ./model/multi_img_classification.model\n",
            "Epoch 15/40\n",
            "969/969 [==============================] - 39s 40ms/step - loss: 0.9965 - acc: 0.6047 - val_loss: 1.0515 - val_acc: 0.5913\n",
            "\n",
            "Epoch 00015: val_loss did not improve from 1.00586\n",
            "Epoch 16/40\n",
            "969/969 [==============================] - 39s 40ms/step - loss: 0.9897 - acc: 0.6089 - val_loss: 0.9846 - val_acc: 0.6058\n",
            "\n",
            "Epoch 00016: val_loss improved from 1.00586 to 0.98456, saving model to ./model/multi_img_classification.model\n",
            "Epoch 17/40\n",
            "969/969 [==============================] - 40s 41ms/step - loss: 0.9563 - acc: 0.6223 - val_loss: 0.9660 - val_acc: 0.6226\n",
            "\n",
            "Epoch 00017: val_loss improved from 0.98456 to 0.96600, saving model to ./model/multi_img_classification.model\n",
            "Epoch 18/40\n",
            "969/969 [==============================] - 40s 41ms/step - loss: 0.9606 - acc: 0.6140 - val_loss: 1.0787 - val_acc: 0.5721\n",
            "\n",
            "Epoch 00018: val_loss did not improve from 0.96600\n",
            "Epoch 19/40\n",
            "969/969 [==============================] - 39s 40ms/step - loss: 0.9248 - acc: 0.6305 - val_loss: 1.0252 - val_acc: 0.6010\n",
            "\n",
            "Epoch 00019: val_loss did not improve from 0.96600\n",
            "Epoch 20/40\n",
            "969/969 [==============================] - 39s 40ms/step - loss: 0.8973 - acc: 0.6429 - val_loss: 1.0690 - val_acc: 0.6130\n",
            "\n",
            "Epoch 00020: val_loss did not improve from 0.96600\n",
            "Epoch 21/40\n",
            "969/969 [==============================] - 39s 40ms/step - loss: 0.8725 - acc: 0.6460 - val_loss: 0.9760 - val_acc: 0.6154\n",
            "\n",
            "Epoch 00021: val_loss did not improve from 0.96600\n",
            "Epoch 22/40\n",
            "969/969 [==============================] - 39s 40ms/step - loss: 0.8311 - acc: 0.6605 - val_loss: 0.9753 - val_acc: 0.6178\n",
            "\n",
            "Epoch 00022: val_loss did not improve from 0.96600\n",
            "Epoch 23/40\n",
            "969/969 [==============================] - 39s 41ms/step - loss: 0.7987 - acc: 0.6760 - val_loss: 1.1074 - val_acc: 0.5865\n",
            "\n",
            "Epoch 00023: val_loss did not improve from 0.96600\n"
          ],
          "name": "stdout"
        }
      ]
    },
    {
      "cell_type": "code",
      "metadata": {
        "id": "gy1o_QPPVj9w",
        "colab_type": "code",
        "colab": {
          "base_uri": "https://localhost:8080/",
          "height": 279
        },
        "outputId": "e243e0aa-9315-477f-ab7b-07f6b3db4d5e"
      },
      "source": [
        "y_vloss = history.history['val_loss']\n",
        "y_loss = history.history['loss']\n",
        "\n",
        "x_len = np.arange(len(y_loss))\n",
        "\n",
        "plt.plot(x_len, y_vloss, marker='.', c='red', label='val_set_loss')\n",
        "plt.plot(x_len, y_loss, marker='.', c='blue', label='train_set_oss')\n",
        "plt.legend()\n",
        "plt.xlabel('epochs')\n",
        "plt.ylabel('loss')\n",
        "plt.grid()\n",
        "plt.show()"
      ],
      "execution_count": 13,
      "outputs": [
        {
          "output_type": "display_data",
          "data": {
            "image/png": "[encoded data removed]",
            "text/plain": [
              "<Figure size 432x288 with 1 Axes>"
            ]
          },
          "metadata": {
            "tags": [],
            "needs_background": "light"
          }
        }
      ]
    },
    {
      "cell_type": "code",
      "metadata": {
        "id": "1afQMke0m4QJ",
        "colab_type": "code",
        "colab": {
          "base_uri": "https://localhost:8080/",
          "height": 295
        },
        "outputId": "79144710-33f7-4197-b0c3-62eaa132af85"
      },
      "source": [
        "plt.clf() # 그래프를 초기화합니다.\n",
        "acc = history.history['acc']\n",
        "val_acc = history.history['val_acc']\n",
        "\n",
        "plt.plot(x_len, acc, 'bo', label='Training acc')\n",
        "plt.plot(x_len, val_acc, 'b', label='Validation acc')\n",
        "plt.title('Training and validation accuracy')\n",
        "plt.xlabel('Epochs')\n",
        "plt.ylabel('Accuracy')\n",
        "plt.legend()\n",
        "\n",
        "plt.show()"
      ],
      "execution_count": 14,
      "outputs": [
        {
          "output_type": "display_data",
          "data": {
            "image/png": "[encoded data removed]",
            "text/plain": [
              "<Figure size 432x288 with 1 Axes>"
            ]
          },
          "metadata": {
            "tags": [],
            "needs_background": "light"
          }
        }
      ]
    },
    {
      "cell_type": "code",
      "metadata": {
        "id": "6p7M786fVj96",
        "colab_type": "code",
        "colab": {}
      },
      "source": [
        "from PIL import Image\n",
        "import os, glob, numpy as np\n",
        "from keras.models import load_model\n",
        "\n",
        "caltech_dir = \"/content/drive/My Drive/CTRC/train/multi_img_data/imgs_others_test\"\n",
        "image_w = 128\n",
        "image_h = 128\n",
        "\n",
        "pixels = image_h * image_w * 3\n"
      ],
      "execution_count": 19,
      "outputs": []
    },
    {
      "cell_type": "code",
      "metadata": {
        "id": "HwkgwG4ypm69",
        "colab_type": "code",
        "colab": {}
      },
      "source": [
        "X = []\n",
        "'''filenames = []\n",
        "files = glob.glob(caltech_dir+\"/*.*\")\n",
        "for i, f in enumerate(files):\n",
        "    img = Image.open(f)         \n",
        "    img = img.convert(\"RGB\")\n",
        "    img = img.resize((128,128))\n",
        "    data = np.asarray(img)\n",
        "    filenames.append(f)\n",
        "    X.append(data)'''\n",
        "\n",
        "X = np.array(X)\n",
        "X = X.reshape(X.shape[0], 64,64,3)\n",
        "model = load_model( './model/multi_img_classification.model')"
      ],
      "execution_count": 20,
      "outputs": []
    },
    {
      "cell_type": "markdown",
      "metadata": {
        "id": "RgPtq6jUXuqn",
        "colab_type": "text"
      },
      "source": [
        "f는 이미지가 있는 데이터 경로를 뜻합니다. \n",
        "\n",
        "위에서 files = glob.glob(caltech_dir+\"/*.*\")\n",
        "\n",
        "에서 가져오는 데이터를 (이미지 데이터들이 files라는 리스트 변수에 들어갑니다.)\n",
        "\n",
        "open해주는 것이죠.\n",
        "\n",
        " \n",
        "\n",
        "즉, files = glob.glob(caltech_dir+\"/*.*\") 의 경로는 지우님께서 사용하고 있는 local 환경에서\n",
        "\n",
        "image가 있는 경로로 맞춰주시면 됩니다.\n",
        "\n",
        "*github host 이수진"
      ]
    },
    {
      "cell_type": "code",
      "metadata": {
        "id": "jIg3c3a9po5X",
        "colab_type": "code",
        "colab": {
          "base_uri": "https://localhost:8080/",
          "height": 35
        },
        "outputId": "5b01e511-3f2d-46ad-e28e-e1ea87dfa0ef"
      },
      "source": [
        "#해당 이미지 predict\n",
        "prediction = model.predict(X)\n",
        "np.set_printoptions(formatter={'float': lambda x: \"{0:0.3f}\".format(x)})\n",
        "cnt = 0\n",
        "\n",
        "\n",
        "print(X.shape)"
      ],
      "execution_count": 21,
      "outputs": [
        {
          "output_type": "stream",
          "text": [
            "(0, 64, 64, 3)\n"
          ],
          "name": "stdout"
        }
      ]
    },
    {
      "cell_type": "code",
      "metadata": {
        "id": "aWuDDLgsj_a6",
        "colab_type": "code",
        "colab": {
          "base_uri": "https://localhost:8080/",
          "height": 35
        },
        "outputId": "b366c94f-e76e-4233-f9d2-9d79a181a931"
      },
      "source": [
        "'''import tensorflow as tf\n",
        "print(tf.__version__)'''"
      ],
      "execution_count": null,
      "outputs": [
        {
          "output_type": "stream",
          "text": [
            "1.13.1\n"
          ],
          "name": "stdout"
        }
      ]
    },
    {
      "cell_type": "markdown",
      "metadata": {
        "id": "Fgrt_-CQv1vI",
        "colab_type": "text"
      },
      "source": [
        "### 파일 비교해서 결과내기 "
      ]
    },
    {
      "cell_type": "code",
      "metadata": {
        "id": "-DOmJ3CFv3eF",
        "colab_type": "code",
        "colab": {
          "base_uri": "https://localhost:8080/",
          "height": 917
        },
        "outputId": "d37cc7f0-f199-497c-fba5-80a42b03e8da"
      },
      "source": [
        "#훈련된 모델을 이용해 한 이미지에 대한 예측 만들기\n",
        "\n",
        "# 테스트 세트에서 이미지 하나를 선택합니다\n",
        "img = X_test[0]\n",
        "\n",
        "print(img.shape)\n",
        "print(img)"
      ],
      "execution_count": 22,
      "outputs": [
        {
          "output_type": "stream",
          "text": [
            "(64, 64, 3)\n",
            "[[[0.996 0.643 0.627]\n",
            "  [1.000 0.651 0.624]\n",
            "  [0.996 0.690 0.667]\n",
            "  ...\n",
            "  [1.000 0.592 0.525]\n",
            "  [0.996 0.576 0.498]\n",
            "  [0.996 0.561 0.490]]\n",
            "\n",
            " [[0.996 0.624 0.616]\n",
            "  [0.996 0.651 0.627]\n",
            "  [0.996 0.667 0.647]\n",
            "  ...\n",
            "  [0.996 0.604 0.533]\n",
            "  [1.000 0.565 0.486]\n",
            "  [1.000 0.569 0.494]]\n",
            "\n",
            " [[0.996 0.624 0.612]\n",
            "  [0.996 0.651 0.627]\n",
            "  [0.996 0.659 0.631]\n",
            "  ...\n",
            "  [0.996 0.592 0.514]\n",
            "  [0.996 0.576 0.482]\n",
            "  [0.996 0.553 0.475]]\n",
            "\n",
            " ...\n",
            "\n",
            " [[1.000 0.612 0.518]\n",
            "  [1.000 0.604 0.510]\n",
            "  [1.000 0.600 0.502]\n",
            "  ...\n",
            "  [0.835 0.376 0.298]\n",
            "  [0.792 0.376 0.294]\n",
            "  [0.741 0.376 0.302]]\n",
            "\n",
            " [[1.000 0.608 0.522]\n",
            "  [1.000 0.584 0.494]\n",
            "  [1.000 0.569 0.475]\n",
            "  ...\n",
            "  [0.776 0.365 0.282]\n",
            "  [0.741 0.369 0.294]\n",
            "  [0.714 0.369 0.302]]\n",
            "\n",
            " [[0.996 0.588 0.510]\n",
            "  [0.996 0.553 0.467]\n",
            "  [1.000 0.545 0.447]\n",
            "  ...\n",
            "  [0.729 0.357 0.282]\n",
            "  [0.706 0.365 0.302]\n",
            "  [0.690 0.369 0.298]]]\n"
          ],
          "name": "stdout"
        }
      ]
    },
    {
      "cell_type": "code",
      "metadata": {
        "id": "41r0xBMhwE92",
        "colab_type": "code",
        "colab": {
          "base_uri": "https://localhost:8080/",
          "height": 35
        },
        "outputId": "013f3f1a-9823-4db9-ee0c-df8f4703f005"
      },
      "source": [
        "#이 파일의 예측\n",
        "\n",
        "img=np.resize(img,(1,64,64,3))\n",
        "predictions_single = model.predict(img)\n",
        "\n",
        "print(predictions_single)"
      ],
      "execution_count": 23,
      "outputs": [
        {
          "output_type": "stream",
          "text": [
            "[[0.623 0.163 0.154 0.060]]\n"
          ],
          "name": "stdout"
        }
      ]
    },
    {
      "cell_type": "code",
      "metadata": {
        "id": "W7Y70vXr4uHq",
        "colab_type": "code",
        "colab": {}
      },
      "source": [
        "import os\n",
        "from tensorflow.keras.preprocessing.image import ImageDataGenerator\n",
        "\n",
        "\n",
        "imageGenerator = ImageDataGenerator(rescale=1./255,\n",
        "                                    rotation_range=20,\n",
        "                                    width_shift_range=0.1,\n",
        "                                    height_shift_range=0.1,\n",
        "                                    brightness_range=[.2,.2],\n",
        "                                    horizontal_flip=True,\n",
        "                                    validation_split=.1)"
      ],
      "execution_count": 24,
      "outputs": []
    },
    {
      "cell_type": "code",
      "metadata": {
        "id": "nC2ngZOO4Q3a",
        "colab_type": "code",
        "colab": {
          "base_uri": "https://localhost:8080/",
          "height": 53
        },
        "outputId": "b94f3c25-9817-4b27-b1c1-aa4d5ddc3b67"
      },
      "source": [
        "\n",
        "testGenerator = ImageDataGenerator(\n",
        "    rescale=1./255\n",
        ")\n",
        "\n",
        "#데이터가 충분하지 않아서\n",
        "'''\n",
        "testGen = imageGenerator.flow_from_directory('/content/drive/My Drive/CTRC/train', target_size=(64, 64))\n",
        "'''\n",
        "\n",
        "\n",
        "#데이터가 충분하면 나누기\n",
        "trainGen = imageGenerator.flow_from_directory('/content/drive/My Drive/CTRC/train',\n",
        "                                              target_size=(64,64),\n",
        "                                              subset='training')\n",
        "\n",
        "validationGen = imageGenerator.flow_from_directory('/content/drive/My Drive/CTRC/train',\n",
        "                                                  target_size=(64,64),\n",
        "                                                  subset='validation')"
      ],
      "execution_count": 26,
      "outputs": [
        {
          "output_type": "stream",
          "text": [
            "Found 1837 images belonging to 5 classes.\n",
            "Found 203 images belonging to 5 classes.\n"
          ],
          "name": "stdout"
        }
      ]
    },
    {
      "cell_type": "code",
      "metadata": {
        "id": "4OaYbDlE1ujL",
        "colab_type": "code",
        "colab": {}
      },
      "source": [
        "\n",
        "from tensorflow.keras.preprocessing.image import array_to_img\n",
        "import numpy as np\n",
        "\n",
        "cls_index = ['1. Cancer', '2. Precancer','3. Extra','4. Normal']\n",
        "\n",
        "imgs = trainGen.next()\n",
        "arr = imgs[0][0]\n",
        "\n",
        "\n",
        "img = array_to_img(arr).resize((128, 128))"
      ],
      "execution_count": 28,
      "outputs": []
    },
    {
      "cell_type": "markdown",
      "metadata": {
        "id": "hNWwG9IO10hB",
        "colab_type": "text"
      },
      "source": [
        "## 2번 모델 예측하기"
      ]
    },
    {
      "cell_type": "code",
      "metadata": {
        "id": "27a5Kh3eEtY_",
        "colab_type": "code",
        "colab": {
          "base_uri": "https://localhost:8080/",
          "height": 35
        },
        "outputId": "574a2b7f-1e72-4360-fc0f-7bc4ecc13733"
      },
      "source": [
        "print(img)"
      ],
      "execution_count": 29,
      "outputs": [
        {
          "output_type": "stream",
          "text": [
            "<PIL.Image.Image image mode=RGB size=128x128 at 0x7FE5A193BE10>\n"
          ],
          "name": "stdout"
        }
      ]
    },
    {
      "cell_type": "code",
      "metadata": {
        "id": "atilE7sX0yGz",
        "colab_type": "code",
        "colab": {
          "base_uri": "https://localhost:8080/",
          "height": 217
        },
        "outputId": "03f43661-4a1f-477a-d01c-0400ea4afe7b"
      },
      "source": [
        "\n",
        "result = model.predict_classes(arr.reshape(1,64,64,3))\n",
        "\n",
        "print('예측: {}'.format(cls_index[result[0]]))\n",
        "print(\"예측확률: \") \n",
        "print(predictions_single)\n",
        "print(\"Label:\" + str(y_test[0]) )\n",
        "img\n",
        "\n",
        "\n",
        "# np.argmax: 다차원 배열의 경우에 차원에 따라 가장 큰 값의 인덱스들을 반환\n",
        "# format: 문자열에 포함된 대괄호 개수 보다 format안에 들어 있는 값의 수가 적으면 에러"
      ],
      "execution_count": 35,
      "outputs": [
        {
          "output_type": "stream",
          "text": [
            "예측: 4. Normal\n",
            "예측확률: \n",
            "[[0.623 0.163 0.154 0.060]]\n",
            "Label:[1 0 0 0]\n"
          ],
          "name": "stdout"
        },
        {
          "output_type": "execute_result",
          "data": {
            "image/png": "[encoded data removed]",
            "text/plain": [
              "<PIL.Image.Image image mode=RGB size=128x128 at 0x7FE5A193BE10>"
            ]
          },
          "metadata": {
            "tags": []
          },
          "execution_count": 35
        }
      ]
    },
    {
      "cell_type": "markdown",
      "metadata": {
        "id": "BlL_l93Cm1E0",
        "colab_type": "text"
      },
      "source": [
        "### 혼동 행렬"
      ]
    },
    {
      "cell_type": "code",
      "metadata": {
        "id": "vy1TtAzzmvkB",
        "colab_type": "code",
        "colab": {
          "base_uri": "https://localhost:8080/",
          "height": 406
        },
        "outputId": "fafc7ebf-7c65-4c5b-d437-f91dfd6eb647"
      },
      "source": [
        "import matplotlib.pyplot as plt\n",
        "import seaborn as sns\n",
        "import pandas as pd\n",
        "import matplotlib.pyplot as plt\n",
        "'''%matplotlib inlinesns.set(font_scale=2)  # 혼동행렬 폰트 크기! 1이면 너무 작다.'''\n",
        "\n",
        "'''plt.figure(figsize=(10,7))\n",
        "plt.tittle(\"confusion matrix\")\n",
        "sns.heatmap(df_cm,annot=True)\n",
        "'''\n",
        "array = img\n",
        "df_cm= pd.DataFrame(array,index = [ \"1. Cancer\",\"2. Precancer\",\"3. Extra\",\"4. Normal\"],  columns=[\"1. Cancer\",\"2. Precancer\",\"3. Extra\",\"4. Normal\"] )\n",
        "plt.figure(figsize=(10, 7))\n",
        "plt.title('confusion matrix without confusion')\n",
        "conf_ma=sns.heatmap(df_cm, annot=True)\n",
        "\n",
        "print(conf_ma)"
      ],
      "execution_count": 41,
      "outputs": [
        {
          "output_type": "error",
          "ename": "ValueError",
          "evalue": "ignored",
          "traceback": [
            "\u001b[0;31m---------------------------------------------------------------------------\u001b[0m",
            "\u001b[0;31mValueError\u001b[0m                                Traceback (most recent call last)",
            "\u001b[0;32m<ipython-input-41-4c4c5e3c768e>\u001b[0m in \u001b[0;36m<module>\u001b[0;34m()\u001b[0m\n\u001b[1;32m     10\u001b[0m '''\n\u001b[1;32m     11\u001b[0m \u001b[0marray\u001b[0m \u001b[0;34m=\u001b[0m \u001b[0mimg\u001b[0m\u001b[0;34m\u001b[0m\u001b[0;34m\u001b[0m\u001b[0m\n\u001b[0;32m---> 12\u001b[0;31m \u001b[0mdf_cm\u001b[0m\u001b[0;34m=\u001b[0m \u001b[0mpd\u001b[0m\u001b[0;34m.\u001b[0m\u001b[0mDataFrame\u001b[0m\u001b[0;34m(\u001b[0m\u001b[0marray\u001b[0m\u001b[0;34m,\u001b[0m\u001b[0mindex\u001b[0m \u001b[0;34m=\u001b[0m \u001b[0;34m[\u001b[0m \u001b[0;34m\"1. Cancer\"\u001b[0m\u001b[0;34m,\u001b[0m\u001b[0;34m\"2. Precancer\"\u001b[0m\u001b[0;34m,\u001b[0m\u001b[0;34m\"3. Extra\"\u001b[0m\u001b[0;34m,\u001b[0m\u001b[0;34m\"4. Normal\"\u001b[0m\u001b[0;34m]\u001b[0m\u001b[0;34m,\u001b[0m  \u001b[0mcolumns\u001b[0m\u001b[0;34m=\u001b[0m\u001b[0;34m[\u001b[0m\u001b[0;34m\"1. Cancer\"\u001b[0m\u001b[0;34m,\u001b[0m\u001b[0;34m\"2. Precancer\"\u001b[0m\u001b[0;34m,\u001b[0m\u001b[0;34m\"3. Extra\"\u001b[0m\u001b[0;34m,\u001b[0m\u001b[0;34m\"4. Normal\"\u001b[0m\u001b[0;34m]\u001b[0m \u001b[0;34m)\u001b[0m\u001b[0;34m\u001b[0m\u001b[0;34m\u001b[0m\u001b[0m\n\u001b[0m\u001b[1;32m     13\u001b[0m \u001b[0mplt\u001b[0m\u001b[0;34m.\u001b[0m\u001b[0mfigure\u001b[0m\u001b[0;34m(\u001b[0m\u001b[0mfigsize\u001b[0m\u001b[0;34m=\u001b[0m\u001b[0;34m(\u001b[0m\u001b[0;36m10\u001b[0m\u001b[0;34m,\u001b[0m \u001b[0;36m7\u001b[0m\u001b[0;34m)\u001b[0m\u001b[0;34m)\u001b[0m\u001b[0;34m\u001b[0m\u001b[0;34m\u001b[0m\u001b[0m\n\u001b[1;32m     14\u001b[0m \u001b[0mplt\u001b[0m\u001b[0;34m.\u001b[0m\u001b[0mtitle\u001b[0m\u001b[0;34m(\u001b[0m\u001b[0;34m'confusion matrix without confusion'\u001b[0m\u001b[0;34m)\u001b[0m\u001b[0;34m\u001b[0m\u001b[0;34m\u001b[0m\u001b[0m\n",
            "\u001b[0;32m/usr/local/lib/python3.6/dist-packages/pandas/core/frame.py\u001b[0m in \u001b[0;36m__init__\u001b[0;34m(self, data, index, columns, dtype, copy)\u001b[0m\n\u001b[1;32m    507\u001b[0m                 )\n\u001b[1;32m    508\u001b[0m             \u001b[0;32melse\u001b[0m\u001b[0;34m:\u001b[0m\u001b[0;34m\u001b[0m\u001b[0;34m\u001b[0m\u001b[0m\n\u001b[0;32m--> 509\u001b[0;31m                 \u001b[0;32mraise\u001b[0m \u001b[0mValueError\u001b[0m\u001b[0;34m(\u001b[0m\u001b[0;34m\"DataFrame constructor not properly called!\"\u001b[0m\u001b[0;34m)\u001b[0m\u001b[0;34m\u001b[0m\u001b[0;34m\u001b[0m\u001b[0m\n\u001b[0m\u001b[1;32m    510\u001b[0m \u001b[0;34m\u001b[0m\u001b[0m\n\u001b[1;32m    511\u001b[0m         \u001b[0mNDFrame\u001b[0m\u001b[0;34m.\u001b[0m\u001b[0m__init__\u001b[0m\u001b[0;34m(\u001b[0m\u001b[0mself\u001b[0m\u001b[0;34m,\u001b[0m \u001b[0mmgr\u001b[0m\u001b[0;34m,\u001b[0m \u001b[0mfastpath\u001b[0m\u001b[0;34m=\u001b[0m\u001b[0;32mTrue\u001b[0m\u001b[0;34m)\u001b[0m\u001b[0;34m\u001b[0m\u001b[0;34m\u001b[0m\u001b[0m\n",
            "\u001b[0;31mValueError\u001b[0m: DataFrame constructor not properly called!"
          ]
        }
      ]
    },
    {
      "cell_type": "code",
      "metadata": {
        "id": "QjoChHhca6Xn",
        "colab_type": "code",
        "colab": {
          "base_uri": "https://localhost:8080/",
          "height": 53
        },
        "outputId": "fd02b0b8-5607-4349-9026-70e9b91c7b3f"
      },
      "source": [
        "'''if np.max(y_test)==0:\n",
        "  print(cls_index[0])\n",
        "if np.max(y_test)==1:\n",
        "  print(cls_index[1])\n",
        "if np.max(y_test)==2:\n",
        "  print(cls_index[2])\n",
        "else:\n",
        "  print(cls_index[3])'''"
      ],
      "execution_count": null,
      "outputs": [
        {
          "output_type": "execute_result",
          "data": {
            "application/vnd.google.colaboratory.intrinsic+json": {
              "type": "string"
            },
            "text/plain": [
              "'if np.max(y_test)==0:\\n  print(cls_index[0])\\nif np.max(y_test)==1:\\n  print(cls_index[1])\\nif np.max(y_test)==2:\\n  print(cls_index[2])\\nelse:\\n  print(cls_index[3])'"
            ]
          },
          "metadata": {
            "tags": []
          },
          "execution_count": 98
        }
      ]
    },
    {
      "cell_type": "markdown",
      "metadata": {
        "id": "51XEp7KKNoSu",
        "colab_type": "text"
      },
      "source": [
        "## 3번 validation data 예측하기"
      ]
    },
    {
      "cell_type": "markdown",
      "metadata": {
        "id": "AismZKljqMfm",
        "colab_type": "text"
      },
      "source": [
        "### 적용 방법 생각하기"
      ]
    },
    {
      "cell_type": "code",
      "metadata": {
        "id": "8tSrZ3M9NqSX",
        "colab_type": "code",
        "colab": {}
      },
      "source": [
        "caltech_dir = '/content/drive/My Drive/CTRC/test'\n",
        "categories = [\"1. Cancer\",\"2. Precancer\",\"3. Extra\",\"4. Normal\"]\n",
        "\n",
        "test=[]\n",
        "test = np.array(test)\n",
        "\n",
        "model = load_model( './model/multi_img_classification.model')\n",
        "predict = model.predict_classes(test)\n",
        "\n",
        "for i in range(len(test)):\n",
        "    print(name[i] + \" : , Predict : \"+ str(categories[predict[i]]))\n"
      ],
      "execution_count": null,
      "outputs": []
    },
    {
      "cell_type": "code",
      "metadata": {
        "id": "rTsMGuuVV8ca",
        "colab_type": "code",
        "colab": {}
      },
      "source": [
        "\n",
        "from tensorflow.keras.preprocessing.image import array_to_img\n",
        "import numpy as np\n",
        "\n",
        "cls_index = ['1. Cancer', '2. Precancer','3. Extra','4. Normal']\n",
        "\n",
        "val_imgs = validationGen.next()\n",
        "val_arr = val_imgs[0][0]\n",
        "\n",
        "\n",
        "img = array_to_img(arr).resize((128, 128))"
      ],
      "execution_count": null,
      "outputs": []
    },
    {
      "cell_type": "code",
      "metadata": {
        "id": "SVqg5TSbWPWR",
        "colab_type": "code",
        "colab": {}
      },
      "source": [
        "\n",
        "result = model.predict_classes(arr.reshape(1,64,64,3))\n",
        "\n",
        "print('예측: {}'.format(cls_index[result[0]]))\n",
        "print(\"Label:\" + str(y_test[0]) )\n",
        "print(img)\n",
        "img\n"
      ],
      "execution_count": null,
      "outputs": []
    }
  ]
}