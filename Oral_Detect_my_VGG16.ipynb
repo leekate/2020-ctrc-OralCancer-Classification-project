{
  "nbformat": 4,
  "nbformat_minor": 0,
  "metadata": {
    "accelerator": "GPU",
    "colab": {
      "name": "Oral_Detect_my_VGG16",
      "provenance": [],
      "collapsed_sections": [],
      "toc_visible": true,
      "include_colab_link": true
    },
    "kernelspec": {
      "display_name": "Python 3",
      "language": "python",
      "name": "python3"
    },
    "language_info": {
      "codemirror_mode": {
        "name": "ipython",
        "version": 3
      },
      "file_extension": ".py",
      "mimetype": "text/x-python",
      "name": "python",
      "nbconvert_exporter": "python",
      "pygments_lexer": "ipython3",
      "version": "3.8.3"
    }
  },
  "cells": [
    {
      "cell_type": "markdown",
      "metadata": {
        "id": "view-in-github",
        "colab_type": "text"
      },
      "source": [
        "<a href=\"https://colab.research.google.com/github/leekate/2020-ctrc-OralCancer-Classification-project/blob/master/Oral_Detect_my_VGG16.ipynb\" target=\"_parent\"><img src=\"https://colab.research.google.com/assets/colab-badge.svg\" alt=\"Open In Colab\"/></a>"
      ]
    },
    {
      "cell_type": "markdown",
      "metadata": {
        "id": "eaG0rSYYS4Fv",
        "outputId": "ebb04d27-2ce5-4f4c-df7f-d0980f974259"
      },
      "source": [
        "!pip uninstall keras\n",
        "!pip install Keras==2.2.4\n",
        "\n",
        "!pip uninstall tensorflow\n",
        "!pip install tensorflow==1.13.1"
      ]
    },
    {
      "cell_type": "code",
      "metadata": {
        "colab": {
          "base_uri": "https://localhost:8080/"
        },
        "id": "XjZvpxdttb44",
        "outputId": "9b21162d-263f-4c29-edd9-6597355d7f0d"
      },
      "source": [
        "from google.colab import drive\n",
        "drive.mount('/content/drive')"
      ],
      "execution_count": 1,
      "outputs": [
        {
          "output_type": "stream",
          "text": [
            "Mounted at /content/drive\n"
          ],
          "name": "stdout"
        }
      ]
    },
    {
      "cell_type": "markdown",
      "metadata": {
        "id": "qs41ZPr1TMQX"
      },
      "source": [
        "## 원본 데이터 파일 갯수 확인"
      ]
    },
    {
      "cell_type": "code",
      "metadata": {
        "colab": {
          "base_uri": "https://localhost:8080/"
        },
        "id": "bDhNXLavtNVu",
        "outputId": "4d78845a-c630-4784-8298-1733e2145218"
      },
      "source": [
        "import os\n",
        "\n",
        "ori_length1= \"/content/drive/Shareddrives/CTRC/Original/train/1.Cancer\"\n",
        "ori_length2= \"/content/drive/Shareddrives/CTRC/Original/validation/1.Cancer\"\n",
        "ori_plus1= \"/content/drive/Shareddrives/CTRC/Original/test/1.Cancer\"\n",
        "\n",
        "ori_file_list1 = os.listdir(ori_length1)\n",
        "ori_file_list2 = os.listdir(ori_length2)\n",
        "ori_plus_list1 = os.listdir(ori_plus1)\n",
        "\n",
        "print(\"cancer\")\n",
        "print(len(ori_file_list1))\n",
        "print(len(ori_file_list2))\n",
        "print(len(ori_plus_list1))"
      ],
      "execution_count": null,
      "outputs": [
        {
          "output_type": "stream",
          "text": [
            "cancer\n",
            "124\n",
            "143\n",
            "143\n"
          ],
          "name": "stdout"
        }
      ]
    },
    {
      "cell_type": "code",
      "metadata": {
        "colab": {
          "base_uri": "https://localhost:8080/"
        },
        "id": "hn4xCaEUtNV7",
        "outputId": "8dbab3e0-57eb-45e6-b750-fc357f93c4f0"
      },
      "source": [
        "ori_length3= \"/content/drive/Shareddrives/CTRC/Original/train/2.Precancer\"\n",
        "ori_length4= \"/content/drive/Shareddrives/CTRC/Original/validation/2.Precancer\"\n",
        "ori_plus2= \"/content/drive/Shareddrives/CTRC/Original/test/2.Precancer\"\n",
        "\n",
        "ori_file_list3 = os.listdir(ori_length3)\n",
        "ori_file_list4 = os.listdir(ori_length4)\n",
        "ori_plus_list2 = os.listdir(ori_plus2)\n",
        "\n",
        "print(\"precancer\")\n",
        "print(len(ori_file_list3))\n",
        "print(len(ori_file_list4))\n",
        "print(len(ori_plus_list2))"
      ],
      "execution_count": null,
      "outputs": [
        {
          "output_type": "stream",
          "text": [
            "precancer\n",
            "46\n",
            "52\n",
            "52\n"
          ],
          "name": "stdout"
        }
      ]
    },
    {
      "cell_type": "code",
      "metadata": {
        "colab": {
          "base_uri": "https://localhost:8080/"
        },
        "id": "3DPAzN7ttNV9",
        "outputId": "0ae40f72-40da-40f2-8bb6-2af1160f0c2a"
      },
      "source": [
        "ori_length5 = \"/content/drive/Shareddrives/CTRC/Original/train/3.Inflammatory\"\n",
        "ori_length6 = \"/content/drive/Shareddrives/CTRC/Original/validation/3.Inflammatory\"\n",
        "ori_plus3= \"/content/drive/Shareddrives/CTRC/Original/test/3.Inflammatory\"\n",
        "\n",
        "ori_file_list5 = os.listdir(ori_length5)\n",
        "ori_file_list6 = os.listdir(ori_length6)\n",
        "ori_plus_list3 = os.listdir(ori_plus3)\n",
        "\n",
        "print(\"extra\")\n",
        "print(len(ori_file_list5))\n",
        "print(len(ori_file_list6))\n",
        "print(len(ori_plus_list3))"
      ],
      "execution_count": null,
      "outputs": [
        {
          "output_type": "stream",
          "text": [
            "extra\n",
            "79\n",
            "93\n",
            "93\n"
          ],
          "name": "stdout"
        }
      ]
    },
    {
      "cell_type": "code",
      "metadata": {
        "colab": {
          "base_uri": "https://localhost:8080/"
        },
        "id": "Tsu6PdcStNV_",
        "outputId": "bc885040-dbca-47a4-fbaa-a0186fc92b5b"
      },
      "source": [
        "ori_length7 = \"/content/drive/Shareddrives/CTRC/Original/train/4.Normal\"\n",
        "ori_length8 = \"/content/drive/Shareddrives/CTRC/Original/validation/4.Normal\"\n",
        "ori_plus4= \"/content/drive/Shareddrives/CTRC/Original/test/4.Normal\"\n",
        "\n",
        "ori_file_list7 = os.listdir(ori_length7)\n",
        "ori_file_list8 = os.listdir(ori_length8)\n",
        "ori_plus_list4 = os.listdir(ori_plus4)\n",
        "\n",
        "print(\"normal\")\n",
        "print(len(ori_file_list7))\n",
        "print(len(ori_file_list8))\n",
        "print(len(ori_plus_list4))"
      ],
      "execution_count": null,
      "outputs": [
        {
          "output_type": "stream",
          "text": [
            "normal\n",
            "455\n",
            "341\n",
            "341\n"
          ],
          "name": "stdout"
        }
      ]
    },
    {
      "cell_type": "code",
      "metadata": {
        "colab": {
          "base_uri": "https://localhost:8080/",
          "height": 204
        },
        "id": "CnWuxkL3tNWA",
        "outputId": "0d083c4c-ecf0-4d7c-a9c2-823c4a4e38e1"
      },
      "source": [
        "import pandas as pd\n",
        "\n",
        "#df = df_maker(3,4,0)  # 3X3 데이터 프레임 생성 0으로 채움\n",
        "col = [\"Train image\",\"Validation Image\",\"Test Image\",\"Total Image\"]\n",
        "ind = [\"Cancer\",\"Precancer\",\"Extra\",\"Normal\",\"TOTAL\"]\n",
        "#df.columns = col  # 컬럼 col 리스트로 덮어씌움\n",
        "#df.index = ind    # 인덱스 ind 리스트로 덮어씌움\n",
        "\n",
        "\n",
        "con = [\n",
        "       [len(ori_file_list1),len(ori_file_list2),len(ori_plus_list1),len(ori_plus_list1)+len(ori_file_list1)+len(ori_file_list2)], \n",
        "\n",
        "       [len(ori_file_list3),len(ori_file_list4),len(ori_plus_list2),len(ori_plus_list2)+len(ori_file_list3)+len(ori_file_list4)],\n",
        "\n",
        "       [len(ori_file_list5),len(ori_file_list6),len(ori_plus_list3),len(ori_plus_list3)+len(ori_file_list5)+len(ori_file_list6)],\n",
        "\n",
        "       [len(ori_file_list7),len(ori_file_list8),len(ori_plus_list4),len(ori_plus_list4)+len(ori_file_list7)+len(ori_file_list8)],\n",
        "\n",
        "        [len(ori_file_list1)+len(ori_file_list3)+len(ori_file_list5)+len(ori_file_list7),\n",
        "         len(ori_file_list2)+len(ori_file_list4)+len(ori_file_list6)+len(ori_file_list8),\n",
        "         len(ori_plus_list1)+len(ori_plus_list2)+len(ori_plus_list3)+len(ori_plus_list4),\n",
        "        len(ori_file_list1)+len(ori_file_list3)+len(ori_file_list5)+len(ori_file_list7)+len(ori_file_list2)+len(ori_file_list4)+len(ori_file_list6)+len(ori_file_list8)+len(ori_plus_list1)+len(ori_plus_list2)+len(ori_plus_list3)+len(ori_plus_list4)]\n",
        "       ]\n",
        "\n",
        "pd.DataFrame(con,columns=col, index=ind)"
      ],
      "execution_count": null,
      "outputs": [
        {
          "output_type": "execute_result",
          "data": {
            "text/html": [
              "<div>\n",
              "<style scoped>\n",
              "    .dataframe tbody tr th:only-of-type {\n",
              "        vertical-align: middle;\n",
              "    }\n",
              "\n",
              "    .dataframe tbody tr th {\n",
              "        vertical-align: top;\n",
              "    }\n",
              "\n",
              "    .dataframe thead th {\n",
              "        text-align: right;\n",
              "    }\n",
              "</style>\n",
              "<table border=\"1\" class=\"dataframe\">\n",
              "  <thead>\n",
              "    <tr style=\"text-align: right;\">\n",
              "      <th></th>\n",
              "      <th>Train image</th>\n",
              "      <th>Validation Image</th>\n",
              "      <th>Test Image</th>\n",
              "      <th>Total Image</th>\n",
              "    </tr>\n",
              "  </thead>\n",
              "  <tbody>\n",
              "    <tr>\n",
              "      <th>Cancer</th>\n",
              "      <td>124</td>\n",
              "      <td>143</td>\n",
              "      <td>143</td>\n",
              "      <td>410</td>\n",
              "    </tr>\n",
              "    <tr>\n",
              "      <th>Precancer</th>\n",
              "      <td>46</td>\n",
              "      <td>52</td>\n",
              "      <td>52</td>\n",
              "      <td>150</td>\n",
              "    </tr>\n",
              "    <tr>\n",
              "      <th>Extra</th>\n",
              "      <td>79</td>\n",
              "      <td>93</td>\n",
              "      <td>93</td>\n",
              "      <td>265</td>\n",
              "    </tr>\n",
              "    <tr>\n",
              "      <th>Normal</th>\n",
              "      <td>455</td>\n",
              "      <td>341</td>\n",
              "      <td>341</td>\n",
              "      <td>1137</td>\n",
              "    </tr>\n",
              "    <tr>\n",
              "      <th>TOTAL</th>\n",
              "      <td>704</td>\n",
              "      <td>629</td>\n",
              "      <td>629</td>\n",
              "      <td>1962</td>\n",
              "    </tr>\n",
              "  </tbody>\n",
              "</table>\n",
              "</div>"
            ],
            "text/plain": [
              "           Train image  Validation Image  Test Image  Total Image\n",
              "Cancer             124               143         143          410\n",
              "Precancer           46                52          52          150\n",
              "Extra               79                93          93          265\n",
              "Normal             455               341         341         1137\n",
              "TOTAL              704               629         629         1962"
            ]
          },
          "metadata": {
            "tags": []
          },
          "execution_count": 6
        }
      ]
    },
    {
      "cell_type": "markdown",
      "metadata": {
        "id": "iey8Fnt912HF"
      },
      "source": [
        "# 단순 증량 후 최종 파일 갯수 확인"
      ]
    },
    {
      "cell_type": "code",
      "metadata": {
        "colab": {
          "base_uri": "https://localhost:8080/"
        },
        "id": "mCzsyyBF5qxD",
        "outputId": "8604a8eb-7ec7-4b9d-ff34-ba95c4619ce1"
      },
      "source": [
        "length1= \"/content/drive/Shareddrives/CTRC/OriginDataGenerate/train/1.Cancer\"\n",
        "length2= \"/content/drive/Shareddrives/CTRC/OriginDataGenerate/validation/1.Cancer\"\n",
        "plus1= \"/content/drive/Shareddrives/CTRC/OriginDataGenerate/test/1.Cancer\"\n",
        "\n",
        "file_list1 = os.listdir(length1)\n",
        "file_list2 = os.listdir(length2)\n",
        "plus_list1 = os.listdir(plus1)\n",
        "\n",
        "print(\"cancer\")\n",
        "print(len(file_list1))\n",
        "print(len(file_list2))\n",
        "print(len(plus_list1))"
      ],
      "execution_count": null,
      "outputs": [
        {
          "output_type": "stream",
          "text": [
            "cancer\n",
            "496\n",
            "143\n",
            "143\n"
          ],
          "name": "stdout"
        }
      ]
    },
    {
      "cell_type": "code",
      "metadata": {
        "colab": {
          "base_uri": "https://localhost:8080/"
        },
        "id": "vP9b29_351jm",
        "outputId": "2750f902-7fe2-4aee-ebfb-814709f35ea8"
      },
      "source": [
        "length3= \"/content/drive/Shareddrives/CTRC/OriginDataGenerate/train/2.Precancer\"\n",
        "length4= \"/content/drive/Shareddrives/CTRC/OriginDataGenerate/validation/2.Precancer\"\n",
        "plus2= \"/content/drive/Shareddrives/CTRC/OriginDataGenerate/test/2.Precancer\"\n",
        "\n",
        "file_list3 = os.listdir(length3)\n",
        "file_list4 = os.listdir(length4)\n",
        "plus_list2 = os.listdir(plus2)\n",
        "\n",
        "print(\"precancer\")\n",
        "print(len(file_list3))\n",
        "print(len(file_list4))\n",
        "print(len(plus_list2))"
      ],
      "execution_count": null,
      "outputs": [
        {
          "output_type": "stream",
          "text": [
            "precancer\n",
            "184\n",
            "52\n",
            "52\n"
          ],
          "name": "stdout"
        }
      ]
    },
    {
      "cell_type": "code",
      "metadata": {
        "colab": {
          "base_uri": "https://localhost:8080/"
        },
        "id": "_f319fQE5_rT",
        "outputId": "6224b7d8-87f2-46ea-ccef-ca64cdf6b3c1"
      },
      "source": [
        "length5 = \"/content/drive/Shareddrives/CTRC/OriginDataGenerate/train/3.Inflammatory\"\n",
        "length6 = \"/content/drive/Shareddrives/CTRC/OriginDataGenerate/validation/3.Inflammatory\"\n",
        "plus3= \"/content/drive/Shareddrives/CTRC/OriginDataGenerate/test/3.Inflammatory\"\n",
        "\n",
        "file_list5 = os.listdir(length5)\n",
        "file_list6 = os.listdir(length6)\n",
        "plus_list3 = os.listdir(plus3)\n",
        "\n",
        "print(\"extra\")\n",
        "print(len(file_list5))\n",
        "print(len(file_list6))\n",
        "print(len(plus_list3))"
      ],
      "execution_count": null,
      "outputs": [
        {
          "output_type": "stream",
          "text": [
            "extra\n",
            "316\n",
            "93\n",
            "93\n"
          ],
          "name": "stdout"
        }
      ]
    },
    {
      "cell_type": "code",
      "metadata": {
        "colab": {
          "base_uri": "https://localhost:8080/"
        },
        "id": "v7_lH9tm6HUw",
        "outputId": "4e78628f-a4ff-4fc1-e827-6bd6689840fd"
      },
      "source": [
        "length7 = \"/content/drive/Shareddrives/CTRC/OriginDataGenerate/train/4.Normal\"\n",
        "length8 = \"/content/drive/Shareddrives/CTRC/OriginDataGenerate/validation/4.Normal\"\n",
        "plus4= \"/content/drive/Shareddrives/CTRC/OriginDataGenerate/test/4.Normal\"\n",
        "\n",
        "file_list7 = os.listdir(length7)\n",
        "file_list8 = os.listdir(length8)\n",
        "plus_list4 = os.listdir(plus4)\n",
        "\n",
        "print(\"normal\")\n",
        "print(len(file_list7))\n",
        "print(len(file_list8))\n",
        "print(len(plus_list4))"
      ],
      "execution_count": null,
      "outputs": [
        {
          "output_type": "stream",
          "text": [
            "normal\n",
            "1365\n",
            "341\n",
            "341\n"
          ],
          "name": "stdout"
        }
      ]
    },
    {
      "cell_type": "code",
      "metadata": {
        "id": "HFbhCcJZqyYF",
        "colab": {
          "base_uri": "https://localhost:8080/",
          "height": 204
        },
        "outputId": "f22adc69-cde0-4e1b-b59e-f001273a7b3c"
      },
      "source": [
        "import pandas as pd\n",
        "\n",
        "#df = df_maker(3,4,0)  # 3X3 데이터 프레임 생성 0으로 채움\n",
        "col = [\"Train image\",\"Validation Image\",\"Test Image\",\"Total Image\"]\n",
        "ind = [\"Cancer\",\"Precancer\",\"Extra\",\"Normal\",\"TOTAL\"]\n",
        "#df.columns = col  # 컬럼 col 리스트로 덮어씌움\n",
        "#df.index = ind    # 인덱스 ind 리스트로 덮어씌움\n",
        "\n",
        "\n",
        "con = [\n",
        "       [len(file_list1),len(file_list2),len(plus_list1),len(plus_list1)+len(file_list1)+len(file_list7)], \n",
        "       [len(file_list3),len(file_list4),len(plus_list2),len(plus_list2)+len(file_list3)+len(file_list4)],\n",
        "       [len(file_list5),len(file_list6),len(plus_list3),len(plus_list3)+len(file_list5)+len(file_list6)],\n",
        "       [len(file_list7),len(file_list8),len(plus_list4),len(plus_list4)+len(file_list7)+len(file_list8)],\n",
        "        [len(file_list1)+len(file_list3)+len(file_list5)+len(file_list7),\n",
        "         len(file_list2)+len(file_list4)+len(file_list6)+len(file_list8),\n",
        "         len(plus_list1)+len(plus_list2)+len(plus_list3)+len(plus_list4),\n",
        "        len(file_list1)+len(file_list3)+len(file_list5)+len(file_list3)+len(file_list2)+len(file_list4)+len(file_list6)+len(file_list8)+len(plus_list1)+len(plus_list2)+len(plus_list3)+len(plus_list4)]\n",
        "       ]\n",
        "\n",
        "pd.DataFrame(con,columns=col, index=ind)"
      ],
      "execution_count": null,
      "outputs": [
        {
          "output_type": "execute_result",
          "data": {
            "text/html": [
              "<div>\n",
              "<style scoped>\n",
              "    .dataframe tbody tr th:only-of-type {\n",
              "        vertical-align: middle;\n",
              "    }\n",
              "\n",
              "    .dataframe tbody tr th {\n",
              "        vertical-align: top;\n",
              "    }\n",
              "\n",
              "    .dataframe thead th {\n",
              "        text-align: right;\n",
              "    }\n",
              "</style>\n",
              "<table border=\"1\" class=\"dataframe\">\n",
              "  <thead>\n",
              "    <tr style=\"text-align: right;\">\n",
              "      <th></th>\n",
              "      <th>Train image</th>\n",
              "      <th>Validation Image</th>\n",
              "      <th>Test Image</th>\n",
              "      <th>Total Image</th>\n",
              "    </tr>\n",
              "  </thead>\n",
              "  <tbody>\n",
              "    <tr>\n",
              "      <th>Cancer</th>\n",
              "      <td>496</td>\n",
              "      <td>143</td>\n",
              "      <td>143</td>\n",
              "      <td>2004</td>\n",
              "    </tr>\n",
              "    <tr>\n",
              "      <th>Precancer</th>\n",
              "      <td>184</td>\n",
              "      <td>52</td>\n",
              "      <td>52</td>\n",
              "      <td>288</td>\n",
              "    </tr>\n",
              "    <tr>\n",
              "      <th>Extra</th>\n",
              "      <td>316</td>\n",
              "      <td>93</td>\n",
              "      <td>93</td>\n",
              "      <td>502</td>\n",
              "    </tr>\n",
              "    <tr>\n",
              "      <th>Normal</th>\n",
              "      <td>1365</td>\n",
              "      <td>341</td>\n",
              "      <td>341</td>\n",
              "      <td>2047</td>\n",
              "    </tr>\n",
              "    <tr>\n",
              "      <th>TOTAL</th>\n",
              "      <td>2361</td>\n",
              "      <td>629</td>\n",
              "      <td>629</td>\n",
              "      <td>2438</td>\n",
              "    </tr>\n",
              "  </tbody>\n",
              "</table>\n",
              "</div>"
            ],
            "text/plain": [
              "           Train image  Validation Image  Test Image  Total Image\n",
              "Cancer             496               143         143         2004\n",
              "Precancer          184                52          52          288\n",
              "Extra              316                93          93          502\n",
              "Normal            1365               341         341         2047\n",
              "TOTAL             2361               629         629         2438"
            ]
          },
          "metadata": {
            "tags": []
          },
          "execution_count": 11
        }
      ]
    },
    {
      "cell_type": "markdown",
      "metadata": {
        "id": "tyA2NmdWUiNS"
      },
      "source": [
        "# 본격적인 설계 시작\r\n",
        "## VGG Convnet"
      ]
    },
    {
      "cell_type": "code",
      "metadata": {
        "id": "UxP_mlUlUypu",
        "colab": {
          "base_uri": "https://localhost:8080/"
        },
        "outputId": "c267f695-7c2f-4f38-f0d6-592543deaec3"
      },
      "source": [
        "from tensorflow.keras.applications import VGG16\n",
        "\n",
        "conv_base=VGG16(weights='imagenet',\n",
        "                include_top=False,\n",
        "                input_shape=(150,150,3))"
      ],
      "execution_count": 2,
      "outputs": [
        {
          "output_type": "stream",
          "text": [
            "Downloading data from https://storage.googleapis.com/tensorflow/keras-applications/vgg16/vgg16_weights_tf_dim_ordering_tf_kernels_notop.h5\n",
            "58892288/58889256 [==============================] - 4s 0us/step\n"
          ],
          "name": "stdout"
        }
      ]
    },
    {
      "cell_type": "code",
      "metadata": {
        "id": "zUIYq1z97J1x"
      },
      "source": [
        "from tensorflow.keras import layers\n",
        "from tensorflow.keras import models\n",
        "from tensorflow.keras.models import Sequential\n",
        "from tensorflow.keras.layers import Conv2D, MaxPooling2D, Dense, Flatten, Dropout\n",
        "from tensorflow.keras import optimizers, initializers, regularizers, metrics\n",
        "\n",
        "\n",
        "model=models.Sequential()\n",
        "model.add(conv_base)\n",
        "\n",
        "\n",
        "model.add(layers.Dense(2048, kernel_regularizer = regularizers.l2\n",
        "                                  (0.001),activation='relu'))\n",
        "model.add(layers.Dense(2048, kernel_regularizer = regularizers.l2\n",
        "                                  (0.001),activation='relu'))\n",
        "model.add(layers.Dropout(0.25))\n",
        "model.add( MaxPooling2D((2,2), padding='same'))\n",
        "\n",
        "\n",
        "\n",
        "#Layer weight regularizers    #kernel_regularizer: Regularizer to apply a penalty on the layer's kerne \n",
        "#L1: float; L1 regularization factor = 0.001   \n",
        "#L1 regularization : 가중치의 절댓값에 비례하는 비용이 추가됨(가중치의 L1 norm)\n",
        "model.add(layers.Dense(1024, kernel_regularizer = regularizers.l2\n",
        "                                  (0.001),activation='relu'))\n",
        "model.add(layers.Dense(1024, kernel_regularizer = regularizers.l2\n",
        "                                  (0.001),activation='relu'))\n",
        "model.add(layers.Dropout(0.25))\n",
        "model.add( MaxPooling2D((2,2), padding='same'))\n",
        "\n",
        "\n",
        "\n",
        "  \n",
        "#L2: float; L2 regularization factor = 0.001  \n",
        "#L2 regularization(=weight decay) : 가중치의 제곱에 비례하는 비용이 추가됨(가중치의 L2 norm)\n",
        "model.add(layers.Dense(512, kernel_regularizer = regularizers.l2\n",
        "                                  (0.001),activation='relu'))\n",
        "model.add(layers.Dense(512, kernel_regularizer = regularizers.l2\n",
        "                                  (0.001),activation='relu'))\n",
        "model.add(layers.Dense(512, kernel_regularizer = regularizers.l2\n",
        "                                  (0.001),activation='relu'))\n",
        "model.add(layers.Dropout(0.25))\n",
        "model.add( MaxPooling2D((2,2), padding='same'))\n",
        "\n",
        "\n",
        "\n",
        "\n",
        "model.add(layers.Dense(256, kernel_regularizer = regularizers.l2\n",
        "                                  (0.001),activation='relu'))\n",
        "model.add(layers.Dense(256, kernel_regularizer = regularizers.l2\n",
        "                                  (0.001),activation='relu'))\n",
        "model.add(layers.Dense(256, kernel_regularizer = regularizers.l2\n",
        "                                  (0.001),activation='relu'))\n",
        "model.add(layers.Dropout(0.25))\n",
        "model.add( MaxPooling2D((2,2), padding='same'))\n",
        "\n",
        "\n",
        "\n",
        "\n",
        "\n",
        "model.add(layers.Dense(128, kernel_regularizer = regularizers.l2\n",
        "                                  (0.001),activation='relu'))\n",
        "model.add(layers.Dense(128, kernel_regularizer = regularizers.l2\n",
        "                                  (0.001),activation='relu'))\n",
        "model.add(layers.Dense(128, kernel_regularizer = regularizers.l2\n",
        "                                  (0.001),activation='relu'))\n",
        "model.add(layers.Dropout(0.25))\n",
        "model.add( MaxPooling2D((2,2), padding='same'))\n",
        "\n",
        "\n",
        "\n",
        "model.add(Flatten()) \n",
        "model.add(layers.Dense(64,activation='relu'))\n",
        "model.add(layers.Dense(64,activation='relu'))\n",
        "model.add(layers.Dense(4,activation='relu'))\n",
        "\n",
        "\n",
        "\n",
        "model.compile(optimizer='adam',\n",
        "              loss='categorical_crossentropy',\n",
        "              metrics=['accuracy'])"
      ],
      "execution_count": 3,
      "outputs": []
    },
    {
      "cell_type": "code",
      "metadata": {
        "id": "QUoJFTRXVwKq"
      },
      "source": [
        "conv_base.trainable=False\n",
        "#weight가 업데이트되지 않도록"
      ],
      "execution_count": 4,
      "outputs": []
    },
    {
      "cell_type": "code",
      "metadata": {
        "colab": {
          "base_uri": "https://localhost:8080/"
        },
        "id": "rBHDJIbPVzgX",
        "outputId": "a53eab1c-04e1-42d5-b001-37972528c512"
      },
      "source": [
        "model.summary()"
      ],
      "execution_count": 5,
      "outputs": [
        {
          "output_type": "stream",
          "text": [
            "Model: \"sequential\"\n",
            "_________________________________________________________________\n",
            "Layer (type)                 Output Shape              Param #   \n",
            "=================================================================\n",
            "vgg16 (Functional)           (None, 4, 4, 512)         14714688  \n",
            "_________________________________________________________________\n",
            "dense (Dense)                (None, 4, 4, 2048)        1050624   \n",
            "_________________________________________________________________\n",
            "dense_1 (Dense)              (None, 4, 4, 2048)        4196352   \n",
            "_________________________________________________________________\n",
            "dropout (Dropout)            (None, 4, 4, 2048)        0         \n",
            "_________________________________________________________________\n",
            "max_pooling2d (MaxPooling2D) (None, 2, 2, 2048)        0         \n",
            "_________________________________________________________________\n",
            "dense_2 (Dense)              (None, 2, 2, 1024)        2098176   \n",
            "_________________________________________________________________\n",
            "dense_3 (Dense)              (None, 2, 2, 1024)        1049600   \n",
            "_________________________________________________________________\n",
            "dropout_1 (Dropout)          (None, 2, 2, 1024)        0         \n",
            "_________________________________________________________________\n",
            "max_pooling2d_1 (MaxPooling2 (None, 1, 1, 1024)        0         \n",
            "_________________________________________________________________\n",
            "dense_4 (Dense)              (None, 1, 1, 512)         524800    \n",
            "_________________________________________________________________\n",
            "dense_5 (Dense)              (None, 1, 1, 512)         262656    \n",
            "_________________________________________________________________\n",
            "dense_6 (Dense)              (None, 1, 1, 512)         262656    \n",
            "_________________________________________________________________\n",
            "dropout_2 (Dropout)          (None, 1, 1, 512)         0         \n",
            "_________________________________________________________________\n",
            "max_pooling2d_2 (MaxPooling2 (None, 1, 1, 512)         0         \n",
            "_________________________________________________________________\n",
            "dense_7 (Dense)              (None, 1, 1, 256)         131328    \n",
            "_________________________________________________________________\n",
            "dense_8 (Dense)              (None, 1, 1, 256)         65792     \n",
            "_________________________________________________________________\n",
            "dense_9 (Dense)              (None, 1, 1, 256)         65792     \n",
            "_________________________________________________________________\n",
            "dropout_3 (Dropout)          (None, 1, 1, 256)         0         \n",
            "_________________________________________________________________\n",
            "max_pooling2d_3 (MaxPooling2 (None, 1, 1, 256)         0         \n",
            "_________________________________________________________________\n",
            "dense_10 (Dense)             (None, 1, 1, 128)         32896     \n",
            "_________________________________________________________________\n",
            "dense_11 (Dense)             (None, 1, 1, 128)         16512     \n",
            "_________________________________________________________________\n",
            "dense_12 (Dense)             (None, 1, 1, 128)         16512     \n",
            "_________________________________________________________________\n",
            "dropout_4 (Dropout)          (None, 1, 1, 128)         0         \n",
            "_________________________________________________________________\n",
            "max_pooling2d_4 (MaxPooling2 (None, 1, 1, 128)         0         \n",
            "_________________________________________________________________\n",
            "flatten (Flatten)            (None, 128)               0         \n",
            "_________________________________________________________________\n",
            "dense_13 (Dense)             (None, 64)                8256      \n",
            "_________________________________________________________________\n",
            "dense_14 (Dense)             (None, 64)                4160      \n",
            "_________________________________________________________________\n",
            "dense_15 (Dense)             (None, 4)                 260       \n",
            "=================================================================\n",
            "Total params: 24,501,060\n",
            "Trainable params: 9,786,372\n",
            "Non-trainable params: 14,714,688\n",
            "_________________________________________________________________\n"
          ],
          "name": "stdout"
        }
      ]
    },
    {
      "cell_type": "markdown",
      "metadata": {
        "id": "pPdOP7Jgb_L9"
      },
      "source": [
        "## Training"
      ]
    },
    {
      "cell_type": "code",
      "metadata": {
        "id": "eAl8-NfMqyYa"
      },
      "source": [
        "from keras.models import load_model\n",
        "import os\n",
        "\n",
        "# model checkpoint\n",
        "model_sav_path = '/content/drive/Shareddrives/CTRC-OralDetect-Project/jiwoo_model/VGG16'\n",
        "\n",
        "if not os.path.isdir(model_sav_path):\n",
        "    os.mkdir(model_sav_path)\n",
        "    \n",
        "model_path = model_sav_path + 'my_VGG_model.h5'\n"
      ],
      "execution_count": 7,
      "outputs": []
    },
    {
      "cell_type": "code",
      "metadata": {
        "id": "4PwK5pLAqyYb"
      },
      "source": [
        "from tensorflow.keras.callbacks import EarlyStopping\n",
        "import tensorflow.keras\n",
        "early_stopping = EarlyStopping()\n",
        "\n",
        "callbacks=[tensorflow.keras.callbacks.TensorBoard(\n",
        "    log_dir='my_log_dir',\n",
        "    histogram_freq=1,\n",
        "    embeddings_freq=1,),\n",
        "    early_stopping]\n"
      ],
      "execution_count": 8,
      "outputs": []
    },
    {
      "cell_type": "code",
      "metadata": {
        "id": "ZijRt-PLQRLY"
      },
      "source": [
        "train_dir='/content/drive/Shareddrives/CTRC-OralDetect-Project/OriginDataGenerate/train'\r\n",
        "validation_dir='/content/drive/Shareddrives/CTRC-OralDetect-Project/OriginDataGenerate/validation'\r\n",
        "test_dir='/content/drive/Shareddrives/CTRC-OralDetect-Project/OriginDataGenerate/test'"
      ],
      "execution_count": 9,
      "outputs": []
    },
    {
      "cell_type": "code",
      "metadata": {
        "colab": {
          "base_uri": "https://localhost:8080/"
        },
        "id": "CPrY3GdxYo9J",
        "outputId": "87b679fb-effb-4bfb-f6f0-65d1a905469b"
      },
      "source": [
        "import os\r\n",
        "from tensorflow.keras.preprocessing.image import ImageDataGenerator,array_to_img,img_to_array, load_img\r\n",
        "import numpy as np\r\n",
        "\r\n",
        "np.random.seed(3)\r\n",
        "\r\n",
        "imageGenerator = ImageDataGenerator(rescale=1./255)\r\n",
        "trainGen = imageGenerator.flow_from_directory(train_dir,\r\n",
        "                                              target_size=(150,150))\r\n",
        "                                            \r\n",
        "\r\n",
        "validationGen = imageGenerator.flow_from_directory(validation_dir,\r\n",
        "                                              target_size=(150,150))\r\n",
        "                                              \r\n",
        "testGen = imageGenerator.flow_from_directory(test_dir,\r\n",
        "                                              target_size=(150,150))\r\n",
        "                                            \r\n",
        "                                    "
      ],
      "execution_count": 10,
      "outputs": [
        {
          "output_type": "stream",
          "text": [
            "Found 2361 images belonging to 4 classes.\n",
            "Found 629 images belonging to 4 classes.\n",
            "Found 629 images belonging to 4 classes.\n"
          ],
          "name": "stdout"
        }
      ]
    },
    {
      "cell_type": "markdown",
      "metadata": {
        "id": "8YIPH8lv4wpj"
      },
      "source": [
        "* steps_per_epoch : 한 epoch에 사용한 스텝 수를 지정합니다. 총 2361개의 훈련 샘플이 있고 배치사이즈가 32이므로 73 스텝으로 지정합니다.\n",
        "* validation_data : 검증데이터셋을 제공할 제네레이터를 지정합니다. 여기서는 앞서 생성한 validation_generator으로 지정합니다.\n",
        "* validation_steps : 한 epoch 종료 시 마다 검증할 때 사용되는 검증 스텝 수를 지정합니다. 총 629개의 검증 샘플이 있고 배치사이즈가 32이므로 19 스텝으로 지정합니다.\n",
        "* epochs : 전체 훈련 데이터셋에 대해 학습 반복 횟수를 지정합니다. 50번을 반복적으로 학습시켜 보겠습니다.\n"
      ]
    },
    {
      "cell_type": "code",
      "metadata": {
        "id": "bCWTsh08qyYd",
        "colab": {
          "base_uri": "https://localhost:8080/"
        },
        "outputId": "2dbd98a1-2046-49fb-ec37-f2b427308a96"
      },
      "source": [
        "history=model.fit_generator(trainGen,steps_per_epoch=73, epochs=50,\n",
        "                  validation_data=validationGen,validation_steps=19,\n",
        "                           callbacks=callbacks)"
      ],
      "execution_count": 11,
      "outputs": [
        {
          "output_type": "stream",
          "text": [
            "/usr/local/lib/python3.6/dist-packages/tensorflow/python/keras/engine/training.py:1844: UserWarning: `Model.fit_generator` is deprecated and will be removed in a future version. Please use `Model.fit`, which supports generators.\n",
            "  warnings.warn('`Model.fit_generator` is deprecated and '\n"
          ],
          "name": "stderr"
        },
        {
          "output_type": "stream",
          "text": [
            "Epoch 1/50\n",
            "73/73 [==============================] - 2003s 27s/step - loss: nan - accuracy: 0.5609 - val_loss: 5.8107 - val_accuracy: 0.5493\n",
            "Epoch 2/50\n",
            "73/73 [==============================] - 46s 630ms/step - loss: 5.3757 - accuracy: 0.5941 - val_loss: 4.9080 - val_accuracy: 0.5428\n",
            "Epoch 3/50\n",
            "73/73 [==============================] - 46s 629ms/step - loss: 4.7171 - accuracy: 0.5735 - val_loss: 4.4792 - val_accuracy: 0.5444\n",
            "Epoch 4/50\n",
            "73/73 [==============================] - 46s 628ms/step - loss: 3.9788 - accuracy: 0.5864 - val_loss: 4.0963 - val_accuracy: 0.5461\n",
            "Epoch 5/50\n",
            "73/73 [==============================] - 46s 627ms/step - loss: 3.9653 - accuracy: 0.5653 - val_loss: 3.9811 - val_accuracy: 0.5411\n",
            "Epoch 6/50\n",
            "73/73 [==============================] - 46s 628ms/step - loss: 3.7360 - accuracy: 0.5934 - val_loss: 3.8781 - val_accuracy: 0.5444\n",
            "Epoch 7/50\n",
            "73/73 [==============================] - 46s 625ms/step - loss: 3.5650 - accuracy: 0.5794 - val_loss: 3.8469 - val_accuracy: 0.5395\n",
            "Epoch 8/50\n",
            "73/73 [==============================] - 46s 626ms/step - loss: 3.4816 - accuracy: 0.5822 - val_loss: 3.8309 - val_accuracy: 0.5395\n",
            "Epoch 9/50\n",
            "73/73 [==============================] - 46s 625ms/step - loss: 3.5366 - accuracy: 0.5751 - val_loss: 3.6256 - val_accuracy: 0.5444\n",
            "Epoch 10/50\n",
            "73/73 [==============================] - 46s 625ms/step - loss: 3.4936 - accuracy: 0.5739 - val_loss: 3.7113 - val_accuracy: 0.5395\n"
          ],
          "name": "stdout"
        }
      ]
    },
    {
      "cell_type": "code",
      "metadata": {
        "id": "F17NTUPkqyYe"
      },
      "source": [
        ""
      ],
      "execution_count": null,
      "outputs": []
    },
    {
      "cell_type": "code",
      "metadata": {
        "id": "78m69Vn7qyYh"
      },
      "source": [
        "from keras.utils import plot_model\n",
        "from keras.models import load_model\n",
        "model = load_model('/content/drive/Shareddrives/CTRC-OralDetect-Project/jiwoo_model/VGG16/my_VGG_model.h5')\n",
        "plot_model(model,show_shapes=True,to_file='my_VGG_model.png') "
      ],
      "execution_count": 12,
      "outputs": []
    },
    {
      "cell_type": "markdown",
      "metadata": {
        "id": "JpqHfyOzqyYi"
      },
      "source": [
        "# Testing"
      ]
    },
    {
      "cell_type": "code",
      "metadata": {
        "id": "2GYHBjxtqyYj"
      },
      "source": [
        "model= load_model('/content/drive/Shareddrives/CTRC-OralDetect-Project/jiwoo_model/VGG16/my_VGG_model.h5')"
      ],
      "execution_count": null,
      "outputs": []
    },
    {
      "cell_type": "code",
      "metadata": {
        "id": "7NWvZB1SqyYj"
      },
      "source": [
        "import matplotlib.pyplot as plt\n",
        "\n",
        "#predict=model.predict(#validationData의 feature)\n",
        "predict=model.predict(testGen)"
      ],
      "execution_count": null,
      "outputs": []
    },
    {
      "cell_type": "markdown",
      "metadata": {
        "id": "mxRc-iMUcux1"
      },
      "source": [
        "## Result"
      ]
    },
    {
      "cell_type": "code",
      "metadata": {
        "id": "9Ll_P_xdWjzZ"
      },
      "source": [
        ""
      ],
      "execution_count": null,
      "outputs": []
    },
    {
      "cell_type": "markdown",
      "metadata": {
        "id": "XNK3bUu6e-ra"
      },
      "source": [
        "### 정확도 및 손실 그래프"
      ]
    },
    {
      "cell_type": "code",
      "metadata": {
        "id": "oJIZvhqHcvrz"
      },
      "source": [
        "# import matplotlib.pyplot as plt\n",
        "\n",
        "\n",
        "# acc = history.history['accuracy']\n",
        "# val_acc = history.history['val_accuracy']\n",
        "# loss = history.history['loss']\n",
        "# val_loss = history.history['val_loss']\n",
        "\n",
        "# epochs = range(len(acc))\n",
        "\n",
        "# plt.plot(epochs, acc, 'r', label='Training acc')\n",
        "# plt.plot(epochs, val_acc, 'b', label='Validation acc')\n",
        "# plt.title('Training and validation accuracy')\n",
        "# plt.legend()\n",
        "\n",
        "# plt.figure()\n",
        "\n",
        "# plt.plot(epochs, loss, 'r', label='Training loss')\n",
        "# plt.plot(epochs, val_loss, 'b', label='Validation loss')\n",
        "# plt.title('Training and validation loss')\n",
        "# plt.legend()\n",
        "\n",
        "# plt.show()\n",
        "\n",
        "\n",
        "\n",
        "\n",
        "import matplotlib.pyplot as plt\n",
        "\n",
        "\n",
        "acc = history.history['acc']\n",
        "val_acc = history.history['val_acc']\n",
        "loss = history.history['loss']\n",
        "val_loss = history.history['val_loss']\n",
        "\n",
        "epochs = range(len(acc))\n",
        "\n",
        "plt.plot(epochs, acc, 'r', label='Training acc')\n",
        "plt.plot(epochs, val_acc, 'b', label='Validation acc')\n",
        "plt.title('Training and validation accuracy')\n",
        "plt.legend()\n",
        "\n",
        "plt.figure()\n",
        "\n",
        "plt.plot(epochs, loss, 'r', label='Training loss')\n",
        "plt.plot(epochs, val_loss, 'b', label='Validation loss')\n",
        "plt.title('Training and validation loss')\n",
        "plt.legend()\n",
        "\n",
        "plt.show()"
      ],
      "execution_count": null,
      "outputs": []
    },
    {
      "cell_type": "markdown",
      "metadata": {
        "id": "L-UXERAQdgoO"
      },
      "source": [
        "# 알고리즘 CNN\n",
        "* 심층 신경망(DNN, Deep Neural Network)\n",
        "* 합성곱 신경망(CNN, Convoultional Neural Network)\n",
        "* 순환 신경망(RNN, Recurrent Neural Network)\n",
        "* 제한 볼츠만 머신(RBM, Restricted Boltzmann Machine)\n",
        "* 심층 신뢰 신경망(DBN, Deep Belief Network)\n",
        "\n",
        "\n",
        "\n",
        "CNN. 합성곱신경망 [Convolutional Neural Network]\n",
        "\n",
        "CNN은 하나 이상의 합성곱 계층과 그 위에 올려진 일반적인 인공 신경망 계층들로 이루어져 있고, 가중치와 레이어들을 추가로 활용한다. 이러한 구조로 CNN은 2차원 구조의 입력 데이터를 충분히 활용할 수 있다. 다른 딥러닝 구조들과 비교했을 때, CNN은 영상과 음성 분야 모두에서 좋은 성능을 보인다. 또한 표준 역전달을 통해 훈련될 수 있고, 적은 수의 매개변수를 사용한다는 이점이 있다. \n",
        "\n",
        " CNN은 마지막 레이어에 손실 함수를 가지며, 우리가 일반 신경망을 학습시킬 때 사용하던 각종 기법들을 동일하게 적용할 수 있다. CNN은 이미지 및 비디오 인식, 추천 시스템 및 자연 언어 처리 등에 응용된다."
      ]
    },
    {
      "cell_type": "markdown",
      "metadata": {
        "id": "UgWVnWK6zSLI"
      },
      "source": [
        "# 텐서플로우의 시각화 프레임워크"
      ]
    },
    {
      "cell_type": "code",
      "metadata": {
        "id": "Rq9Poa3xzQ_6"
      },
      "source": [
        "from keras.utils import plot_model\n",
        "plot_model(model, to_file='model.png')"
      ],
      "execution_count": null,
      "outputs": []
    },
    {
      "cell_type": "code",
      "metadata": {
        "id": "npCmrBeJLB2G"
      },
      "source": [
        "%load_ext tensorboard\n",
        "%tensorboard --logdir=my_log_dir"
      ],
      "execution_count": null,
      "outputs": []
    },
    {
      "cell_type": "markdown",
      "metadata": {
        "id": "Eqa33Z_PJh3_"
      },
      "source": [
        "# 최대 epoch\n",
        "```\n",
        "early_stopping = EarlyStopping(monitor='val_loss', mode='min', verbose=1, patience=50)\n",
        "```\n",
        "성능이 증가하지 않는다고, 그 순간 바로 멈추는 것은 효과적이지않을 수 있다. patience 는 성능이 증가하지 않는 epoch 을 몇 번이나 허용할 것인가를 정의\n"
      ]
    },
    {
      "cell_type": "markdown",
      "metadata": {
        "id": "AQzEGXRoLcm6"
      },
      "source": [
        "# ROC & 정밀도 및 재현율"
      ]
    },
    {
      "cell_type": "code",
      "metadata": {
        "id": "z9t07olkLdtf"
      },
      "source": [
        "from sklearn.metrics import roc_curve\n",
        "\n",
        "cm = confusion_matrix(validationGen, predict)\n",
        "print(cm)\n",
        "print( \"accuracy : \", accuracy_score( validationGen, predict ) ) # (cm[0][0]+cm[1][1])/(cm[0][0]+cm[1][1]+cm[1][0]+cm[0][1])\n",
        "print( \"recall(detection rate) : \", recall_score( y_test, predict ) )\n",
        "print( \"fallout (false alarm rate) : \",cm[1][0]/(cm[1][0]+cm[1][1]) )\n",
        "print( \"f1_score : \", f1_score(validationGen, predict) )\n",
        "print( \"roc_auc : \", roc_auc_score(validationGen, predict) )\n",
        "\n",
        "fpr, tpr, threshold = roc_curve(validationGen, predict)\n",
        "\n",
        "plt.plot(fpr, tpr, 'o-', label=\"ROC Curve\")\n",
        "plt.plot([0,1],[0,1], 'k--')\n",
        "fallout = cm[1][0]/(cm[1][0]+cm[1][1])\n",
        "plt.plot([fallout], [recall_score( validationGen, predict )], 'ro', ms=10)\n",
        "plt.xlabel(\"fallout\")\n",
        "plt.ylabel(\"recall\")\n",
        "plt.title(\"ROC curve\")\n",
        "plt.show()\n"
      ],
      "execution_count": null,
      "outputs": []
    }
  ]
}