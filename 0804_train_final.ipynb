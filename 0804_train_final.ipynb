{
  "nbformat": 4,
  "nbformat_minor": 0,
  "metadata": {
    "kernelspec": {
      "display_name": "Python 3",
      "language": "python",
      "name": "python3"
    },
    "language_info": {
      "codemirror_mode": {
        "name": "ipython",
        "version": 3
      },
      "file_extension": ".py",
      "mimetype": "text/x-python",
      "name": "python",
      "nbconvert_exporter": "python",
      "pygments_lexer": "ipython3",
      "version": "3.6.5"
    },
    "colab": {
      "name": "0804_train_final.ipynb",
      "provenance": [],
      "collapsed_sections": [
        "YDhYjKMXVj-J"
      ],
      "toc_visible": true
    }
  },
  "cells": [
    {
      "cell_type": "markdown",
      "metadata": {
        "id": "kBpq41JKVj6M",
        "colab_type": "text"
      },
      "source": [
        "# **멀티라벨 분류**\n",
        "\n",
        "4가지의 이미지를 분류해본다\n",
        "\n",
        "기본적인 방법은 단일 이미지 분류와 같다. 대신, 다중 이미지 분류이기 때문에 카테고리의 변화가 있다.\n"
      ]
    },
    {
      "cell_type": "markdown",
      "metadata": {
        "id": "Gyxw6i29yifu",
        "colab_type": "text"
      },
      "source": [
        "## 1번 train"
      ]
    },
    {
      "cell_type": "code",
      "metadata": {
        "id": "Z7raZpBpWzvc",
        "colab_type": "code",
        "colab": {
          "base_uri": "https://localhost:8080/",
          "height": 55
        },
        "outputId": "a08011c0-830a-479b-c52b-6755ec8175ee"
      },
      "source": [
        "from google.colab import drive\n",
        "drive.mount('/content/drive')"
      ],
      "execution_count": null,
      "outputs": [
        {
          "output_type": "stream",
          "text": [
            "Drive already mounted at /content/drive; to attempt to forcibly remount, call drive.mount(\"/content/drive\", force_remount=True).\n"
          ],
          "name": "stdout"
        }
      ]
    },
    {
      "cell_type": "code",
      "metadata": {
        "id": "CRnXICbbVj6Q",
        "colab_type": "code",
        "colab": {
          "base_uri": "https://localhost:8080/",
          "height": 180
        },
        "outputId": "cca93d85-63a9-4d6d-c0ab-f1eb7336b42b"
      },
      "source": [
        "from PIL import Image\n",
        "import os, glob, numpy as np\n",
        "from sklearn.model_selection import train_test_split\n",
        "\n",
        "caltech_dir = '/content/drive/My Drive/CTRC/train'\n",
        "categories = [\"1. Cancer\",\"2. Precancer\",\"3. Extra\",\"4. Normal\"]\n",
        "nb_classes = len(categories)\n",
        "\n",
        "image_w = 64\n",
        "image_h = 64\n",
        "\n",
        "pixels = image_h * image_w * 3\n",
        "\n",
        "X = []\n",
        "y = []\n",
        "\n",
        "for idx, cat in enumerate(categories): #cat은 그냥 \n",
        "    \n",
        "    #one-hot 돌리기.\n",
        "    label = [0 for i in range(nb_classes)]\n",
        "    label[idx] = 1\n",
        "\n",
        "    image_dir = caltech_dir + \"/\" + cat #cat은 그냥\n",
        "    files = glob.glob(image_dir+\"/*.jpg\")\n",
        "    print(cat, \" 파일 길이 : \", len(files))\n",
        "    for i, f in enumerate(files):\n",
        "        img = Image.open(f)\n",
        "        img = img.convert(\"RGB\")\n",
        "        img = img.resize((image_w, image_h))\n",
        "        data = np.asarray(img)\n",
        "\n",
        "        X.append(data)\n",
        "        y.append(label)\n",
        "\n",
        "        if i % 700 == 0:\n",
        "            print(cat, \" : \", f)\n",
        "\n",
        "X = np.array(X)\n",
        "y = np.array(y)\n",
        "#1 0 0 0 이면 airplanes\n",
        "#0 1 0 0 이면 buddha 이런식\n",
        "\n",
        "\n",
        "X_train, X_test, y_train, y_test = train_test_split(X, y)\n",
        "xy = (X_train, X_test, y_train, y_test)\n",
        "np.save('/content/drive/My Drive/CTRC/train/multi_image_data.npy', xy)\n",
        "\n",
        "print(\"ok\", len(y))\n"
      ],
      "execution_count": null,
      "outputs": [
        {
          "output_type": "stream",
          "text": [
            "1. Cancer  파일 길이 :  368\n",
            "1. Cancer  :  /content/drive/My Drive/CTRC/train/1. Cancer/can_40.jpg\n",
            "2. Precancer  파일 길이 :  110\n",
            "2. Precancer  :  /content/drive/My Drive/CTRC/train/2. Precancer/precan_42.jpg\n",
            "3. Extra  파일 길이 :  206\n",
            "3. Extra  :  /content/drive/My Drive/CTRC/train/3. Extra/inf_37.jpg\n",
            "4. Normal  파일 길이 :  398\n",
            "4. Normal  :  /content/drive/My Drive/CTRC/train/4. Normal/nor_153.jpg\n",
            "ok 1082\n"
          ],
          "name": "stdout"
        }
      ]
    },
    {
      "cell_type": "markdown",
      "metadata": {
        "id": "05dG18BFVj68",
        "colab_type": "text"
      },
      "source": [
        "이제 numpy 데이터를 불러온다. 저것을 가지고 학습!"
      ]
    },
    {
      "cell_type": "code",
      "metadata": {
        "id": "cOGSV6XKVj7B",
        "colab_type": "code",
        "colab": {
          "base_uri": "https://localhost:8080/",
          "height": 53
        },
        "outputId": "cc4afa9e-1d1e-4e8e-a4e2-476b2269c5a8"
      },
      "source": [
        "import os, glob, numpy as np\n",
        "\n",
        "from keras.models import Sequential\n",
        "from keras.layers import Conv2D, MaxPooling2D, Dense, Flatten, Dropout\n",
        "from keras.callbacks import EarlyStopping, ModelCheckpoint\n",
        "import matplotlib.pyplot as plt\n",
        "import keras.backend.tensorflow_backend as K\n",
        "\n",
        "\n",
        "import tensorflow as tf\n",
        "config = tf.compat.v1.ConfigProto()\n",
        "config.gpu_options.allow_growth = True\n",
        "session = tf.compat.v1.Session(config=config)\n",
        "\n",
        "X_train, X_test, y_train, y_test = np.load('/content/drive/My Drive/CTRC/train/multi_image_data.npy', allow_pickle=True)\n",
        "print(X_train.shape)\n",
        "print(X_train.shape[0])"
      ],
      "execution_count": null,
      "outputs": [
        {
          "output_type": "stream",
          "text": [
            "(811, 64, 64, 3)\n",
            "811\n"
          ],
          "name": "stdout"
        }
      ]
    },
    {
      "cell_type": "code",
      "metadata": {
        "id": "VlpQzeS_9yzx",
        "colab_type": "code",
        "colab": {
          "base_uri": "https://localhost:8080/",
          "height": 35
        },
        "outputId": "431d7b8e-2319-48ed-ed8b-d20dfb0c775c"
      },
      "source": [
        "'''!pip uninstall keras\n",
        "!pip install Keras==2.2.4'''"
      ],
      "execution_count": null,
      "outputs": [
        {
          "output_type": "execute_result",
          "data": {
            "application/vnd.google.colaboratory.intrinsic+json": {
              "type": "string"
            },
            "text/plain": [
              "'!pip uninstall keras\\n!pip install Keras==2.2.4'"
            ]
          },
          "metadata": {
            "tags": []
          },
          "execution_count": 13
        }
      ]
    },
    {
      "cell_type": "code",
      "metadata": {
        "id": "b3-RU4OeVj7W",
        "colab_type": "code",
        "colab": {}
      },
      "source": [
        "categories = [\"1. Cancer\",\"2. Precancer\",\"3. Extra\",\"4. Normal\"]\n",
        "nb_classes = len(categories)\n",
        "\n",
        "#일반화\n",
        "X_train = X_train.astype(float) / 255\n",
        "X_test = X_test.astype(float) / 255"
      ],
      "execution_count": null,
      "outputs": []
    },
    {
      "cell_type": "code",
      "metadata": {
        "id": "mhc9w51LVj7s",
        "colab_type": "code",
        "colab": {}
      },
      "source": [
        "\n",
        "with K.tf.device('/device:GPU:0'):\n",
        "    model = Sequential()\n",
        "    model.add(Conv2D(32, (3,3), padding=\"same\", input_shape=X_train.shape[1:], activation='relu'))\n",
        "    model.add(MaxPooling2D(pool_size=(2,2)))\n",
        "    model.add(Dropout(0.25))\n",
        "    \n",
        "    model.add(Conv2D(64, (3,3), padding=\"same\", activation='relu'))\n",
        "    model.add(MaxPooling2D(pool_size=(2,2)))\n",
        "    model.add(Dropout(0.25))\n",
        "    \n",
        "    model.add(Flatten()) \n",
        "    #CNN에서 컨볼루션 레이어나 맥스풀링을 거치면 주요 특징만 추출되어 학습됨\n",
        "    model.add(Dense(256, activation='relu'))\n",
        "    model.add(Dropout(0.5))\n",
        "    model.add(Dense(nb_classes, activation='softmax'))\n",
        "    model.compile(loss='categorical_crossentropy', optimizer='adam', metrics=['accuracy'])\n",
        "    model_dir = './model'\n",
        "    \n",
        "    if not os.path.exists(model_dir):\n",
        "        os.mkdir(model_dir)\n",
        "    \n",
        "    model_path = model_dir + '/multi_img_classification.model'\n",
        "    checkpoint = ModelCheckpoint(filepath=model_path , monitor='val_loss', verbose=1, save_best_only=True)\n",
        "    early_stopping = EarlyStopping(monitor='val_loss', patience=6)\n",
        "    \n",
        "    "
      ],
      "execution_count": null,
      "outputs": []
    },
    {
      "cell_type": "code",
      "metadata": {
        "id": "xn6Zl23RpwBS",
        "colab_type": "code",
        "colab": {
          "base_uri": "https://localhost:8080/",
          "height": 35
        },
        "outputId": "608e6753-230a-45f7-8ae9-2543d6239b81"
      },
      "source": [
        "'''!pip uninstall tensorflow\n",
        "!pip install tensorflow==1.13.1'''"
      ],
      "execution_count": null,
      "outputs": [
        {
          "output_type": "execute_result",
          "data": {
            "application/vnd.google.colaboratory.intrinsic+json": {
              "type": "string"
            },
            "text/plain": [
              "'!pip uninstall tensorflow\\n!pip install tensorflow==1.13.1'"
            ]
          },
          "metadata": {
            "tags": []
          },
          "execution_count": 29
        }
      ]
    },
    {
      "cell_type": "code",
      "metadata": {
        "id": "LFPqoC_nVj8G",
        "colab_type": "code",
        "colab": {
          "base_uri": "https://localhost:8080/",
          "height": 503
        },
        "outputId": "08d6a7d6-caf4-4dbb-bbf2-dbe84f36b01a"
      },
      "source": [
        "model.summary()"
      ],
      "execution_count": null,
      "outputs": [
        {
          "output_type": "stream",
          "text": [
            "_________________________________________________________________\n",
            "Layer (type)                 Output Shape              Param #   \n",
            "=================================================================\n",
            "conv2d_1 (Conv2D)            (None, 64, 64, 32)        896       \n",
            "_________________________________________________________________\n",
            "max_pooling2d_1 (MaxPooling2 (None, 32, 32, 32)        0         \n",
            "_________________________________________________________________\n",
            "dropout_1 (Dropout)          (None, 32, 32, 32)        0         \n",
            "_________________________________________________________________\n",
            "conv2d_2 (Conv2D)            (None, 32, 32, 64)        18496     \n",
            "_________________________________________________________________\n",
            "max_pooling2d_2 (MaxPooling2 (None, 16, 16, 64)        0         \n",
            "_________________________________________________________________\n",
            "dropout_2 (Dropout)          (None, 16, 16, 64)        0         \n",
            "_________________________________________________________________\n",
            "flatten_1 (Flatten)          (None, 16384)             0         \n",
            "_________________________________________________________________\n",
            "dense_1 (Dense)              (None, 256)               4194560   \n",
            "_________________________________________________________________\n",
            "dropout_3 (Dropout)          (None, 256)               0         \n",
            "_________________________________________________________________\n",
            "dense_2 (Dense)              (None, 4)                 1028      \n",
            "=================================================================\n",
            "Total params: 4,214,980\n",
            "Trainable params: 4,214,980\n",
            "Non-trainable params: 0\n",
            "_________________________________________________________________\n"
          ],
          "name": "stdout"
        }
      ]
    },
    {
      "cell_type": "code",
      "metadata": {
        "id": "HUTFHQyDVj8f",
        "colab_type": "code",
        "colab": {
          "base_uri": "https://localhost:8080/",
          "height": 1000
        },
        "outputId": "a0d8ff71-7e34-4045-ee98-6c762a0cd555"
      },
      "source": [
        "\n",
        "#데이터셋이 적어서 validation을 그냥 test 데이터로 했습니다. \n",
        "#데이터셋이 충분하시면 이렇게 하시지 마시고 validation_split=0.2 이렇게 하셔서 테스트 셋으로 나누길 권장\n",
        "\n",
        "history = model.fit(X_train, y_train, batch_size=32, epochs=50, \n",
        "                    validation_data=(X_test, y_test), callbacks=[checkpoint, early_stopping])"
      ],
      "execution_count": null,
      "outputs": [
        {
          "output_type": "stream",
          "text": [
            "Train on 811 samples, validate on 271 samples\n",
            "Epoch 1/50\n",
            "811/811 [==============================] - 11s 13ms/step - loss: 1.4712 - acc: 0.4106 - val_loss: 1.1777 - val_acc: 0.6310\n",
            "\n",
            "Epoch 00001: val_loss improved from inf to 1.17767, saving model to ./model/multi_img_classification.model\n",
            "Epoch 2/50\n",
            "811/811 [==============================] - 10s 12ms/step - loss: 1.1889 - acc: 0.5302 - val_loss: 1.1334 - val_acc: 0.6052\n",
            "\n",
            "Epoch 00002: val_loss improved from 1.17767 to 1.13341, saving model to ./model/multi_img_classification.model\n",
            "Epoch 3/50\n",
            "811/811 [==============================] - 10s 12ms/step - loss: 1.1261 - acc: 0.5635 - val_loss: 1.0017 - val_acc: 0.6421\n",
            "\n",
            "Epoch 00003: val_loss improved from 1.13341 to 1.00167, saving model to ./model/multi_img_classification.model\n",
            "Epoch 4/50\n",
            "811/811 [==============================] - 10s 12ms/step - loss: 1.0850 - acc: 0.5635 - val_loss: 0.9772 - val_acc: 0.6494\n",
            "\n",
            "Epoch 00004: val_loss improved from 1.00167 to 0.97718, saving model to ./model/multi_img_classification.model\n",
            "Epoch 5/50\n",
            "811/811 [==============================] - 10s 12ms/step - loss: 1.0405 - acc: 0.5771 - val_loss: 0.9562 - val_acc: 0.6790\n",
            "\n",
            "Epoch 00005: val_loss improved from 0.97718 to 0.95618, saving model to ./model/multi_img_classification.model\n",
            "Epoch 6/50\n",
            "811/811 [==============================] - 10s 12ms/step - loss: 1.0096 - acc: 0.6079 - val_loss: 0.9764 - val_acc: 0.6716\n",
            "\n",
            "Epoch 00006: val_loss did not improve from 0.95618\n",
            "Epoch 7/50\n",
            "811/811 [==============================] - 11s 13ms/step - loss: 1.0032 - acc: 0.6042 - val_loss: 0.8944 - val_acc: 0.6458\n",
            "\n",
            "Epoch 00007: val_loss improved from 0.95618 to 0.89441, saving model to ./model/multi_img_classification.model\n",
            "Epoch 8/50\n",
            "811/811 [==============================] - 10s 13ms/step - loss: 0.9782 - acc: 0.6141 - val_loss: 0.9023 - val_acc: 0.6679\n",
            "\n",
            "Epoch 00008: val_loss did not improve from 0.89441\n",
            "Epoch 9/50\n",
            "811/811 [==============================] - 10s 12ms/step - loss: 0.9761 - acc: 0.6178 - val_loss: 0.9540 - val_acc: 0.6531\n",
            "\n",
            "Epoch 00009: val_loss did not improve from 0.89441\n",
            "Epoch 10/50\n",
            "811/811 [==============================] - 10s 12ms/step - loss: 0.9437 - acc: 0.6313 - val_loss: 0.9024 - val_acc: 0.6531\n",
            "\n",
            "Epoch 00010: val_loss did not improve from 0.89441\n",
            "Epoch 11/50\n",
            "811/811 [==============================] - 10s 12ms/step - loss: 0.9206 - acc: 0.6289 - val_loss: 0.8854 - val_acc: 0.6790\n",
            "\n",
            "Epoch 00011: val_loss improved from 0.89441 to 0.88543, saving model to ./model/multi_img_classification.model\n",
            "Epoch 12/50\n",
            "811/811 [==============================] - 10s 12ms/step - loss: 0.9223 - acc: 0.6400 - val_loss: 0.8921 - val_acc: 0.6937\n",
            "\n",
            "Epoch 00012: val_loss did not improve from 0.88543\n",
            "Epoch 13/50\n",
            "811/811 [==============================] - 10s 12ms/step - loss: 0.8682 - acc: 0.6757 - val_loss: 0.8741 - val_acc: 0.6568\n",
            "\n",
            "Epoch 00013: val_loss improved from 0.88543 to 0.87408, saving model to ./model/multi_img_classification.model\n",
            "Epoch 14/50\n",
            "811/811 [==============================] - 10s 12ms/step - loss: 0.8548 - acc: 0.6646 - val_loss: 0.8722 - val_acc: 0.6827\n",
            "\n",
            "Epoch 00014: val_loss improved from 0.87408 to 0.87220, saving model to ./model/multi_img_classification.model\n",
            "Epoch 15/50\n",
            "811/811 [==============================] - 10s 12ms/step - loss: 0.8329 - acc: 0.6671 - val_loss: 0.8769 - val_acc: 0.6790\n",
            "\n",
            "Epoch 00015: val_loss did not improve from 0.87220\n",
            "Epoch 16/50\n",
            "811/811 [==============================] - 10s 12ms/step - loss: 0.7864 - acc: 0.6868 - val_loss: 0.8554 - val_acc: 0.6863\n",
            "\n",
            "Epoch 00016: val_loss improved from 0.87220 to 0.85535, saving model to ./model/multi_img_classification.model\n",
            "Epoch 17/50\n",
            "811/811 [==============================] - 10s 12ms/step - loss: 0.8253 - acc: 0.6597 - val_loss: 0.8634 - val_acc: 0.6974\n",
            "\n",
            "Epoch 00017: val_loss did not improve from 0.85535\n",
            "Epoch 18/50\n",
            "811/811 [==============================] - 10s 12ms/step - loss: 0.7554 - acc: 0.7065 - val_loss: 0.8458 - val_acc: 0.6753\n",
            "\n",
            "Epoch 00018: val_loss improved from 0.85535 to 0.84584, saving model to ./model/multi_img_classification.model\n",
            "Epoch 19/50\n",
            "811/811 [==============================] - 10s 12ms/step - loss: 0.6983 - acc: 0.7250 - val_loss: 0.8448 - val_acc: 0.6679\n",
            "\n",
            "Epoch 00019: val_loss improved from 0.84584 to 0.84482, saving model to ./model/multi_img_classification.model\n",
            "Epoch 20/50\n",
            "811/811 [==============================] - 10s 12ms/step - loss: 0.7162 - acc: 0.7078 - val_loss: 0.8385 - val_acc: 0.6642\n",
            "\n",
            "Epoch 00020: val_loss improved from 0.84482 to 0.83846, saving model to ./model/multi_img_classification.model\n",
            "Epoch 21/50\n",
            "811/811 [==============================] - 10s 12ms/step - loss: 0.6892 - acc: 0.7238 - val_loss: 0.8796 - val_acc: 0.6790\n",
            "\n",
            "Epoch 00021: val_loss did not improve from 0.83846\n",
            "Epoch 22/50\n",
            "811/811 [==============================] - 10s 12ms/step - loss: 0.6340 - acc: 0.7546 - val_loss: 0.8464 - val_acc: 0.6863\n",
            "\n",
            "Epoch 00022: val_loss did not improve from 0.83846\n",
            "Epoch 23/50\n",
            "811/811 [==============================] - 10s 12ms/step - loss: 0.6146 - acc: 0.7596 - val_loss: 0.9001 - val_acc: 0.6568\n",
            "\n",
            "Epoch 00023: val_loss did not improve from 0.83846\n",
            "Epoch 24/50\n",
            "811/811 [==============================] - 10s 12ms/step - loss: 0.5968 - acc: 0.7793 - val_loss: 0.8597 - val_acc: 0.6568\n",
            "\n",
            "Epoch 00024: val_loss did not improve from 0.83846\n",
            "Epoch 25/50\n",
            "811/811 [==============================] - 10s 12ms/step - loss: 0.5301 - acc: 0.7879 - val_loss: 0.8628 - val_acc: 0.6900\n",
            "\n",
            "Epoch 00025: val_loss did not improve from 0.83846\n",
            "Epoch 26/50\n",
            "811/811 [==============================] - 10s 12ms/step - loss: 0.4763 - acc: 0.8224 - val_loss: 0.8696 - val_acc: 0.6531\n",
            "\n",
            "Epoch 00026: val_loss did not improve from 0.83846\n"
          ],
          "name": "stdout"
        }
      ]
    },
    {
      "cell_type": "code",
      "metadata": {
        "id": "OJ7m1bamVj82",
        "colab_type": "code",
        "colab": {
          "base_uri": "https://localhost:8080/",
          "height": 53
        },
        "outputId": "27bbf6d6-59a1-4cf5-d577-283ec70eaa44"
      },
      "source": [
        "print(\"정확도 : %.4f\" % (model.evaluate(X_test, y_test)[1]))"
      ],
      "execution_count": null,
      "outputs": [
        {
          "output_type": "stream",
          "text": [
            "271/271 [==============================] - 1s 4ms/step\n",
            "정확도 : 0.6531\n"
          ],
          "name": "stdout"
        }
      ]
    },
    {
      "cell_type": "code",
      "metadata": {
        "id": "gy1o_QPPVj9w",
        "colab_type": "code",
        "colab": {
          "base_uri": "https://localhost:8080/",
          "height": 279
        },
        "outputId": "ef107aea-ae13-441d-8fd7-95314b99ebd5"
      },
      "source": [
        "y_vloss = history.history['val_loss']\n",
        "y_loss = history.history['loss']\n",
        "\n",
        "x_len = np.arange(len(y_loss))\n",
        "\n",
        "plt.plot(x_len, y_vloss, marker='.', c='red', label='val_set_loss')\n",
        "plt.plot(x_len, y_loss, marker='.', c='blue', label='train_set_oss')\n",
        "plt.legend()\n",
        "plt.xlabel('epochs')\n",
        "plt.ylabel('loss')\n",
        "plt.grid()\n",
        "plt.show()"
      ],
      "execution_count": null,
      "outputs": [
        {
          "output_type": "display_data",
          "data": {
            "image/png": "[encoded data removed]",
            "text/plain": [
              "<Figure size 432x288 with 1 Axes>"
            ]
          },
          "metadata": {
            "tags": [],
            "needs_background": "light"
          }
        }
      ]
    },
    {
      "cell_type": "code",
      "metadata": {
        "id": "6p7M786fVj96",
        "colab_type": "code",
        "colab": {
          "base_uri": "https://localhost:8080/",
          "height": 35
        },
        "outputId": "d892cd63-1fd6-4fe2-dfc1-1f2f62792e87"
      },
      "source": [
        "from PIL import Image\n",
        "import os, glob, numpy as np\n",
        "from keras.models import load_model\n",
        "\n",
        "caltech_dir = \"/content/drive/My Drive/CTRC/train/multi_img_data/imgs_others_test\"\n",
        "image_w = 64\n",
        "image_h = 64\n",
        "\n",
        "pixels = image_h * image_w * 3\n",
        "\n",
        "\n",
        "#테스트할 이미지를 변환할 소스\n",
        "X = []\n",
        "filenames = []\n",
        "files = glob.glob(caltech_dir+\"/*.*\")\n",
        "for i, f in enumerate(files):\n",
        "    img = image.open(f)         #######################에\n",
        "    img = img.convert(\"RGB\")\n",
        "    img = img.resize((image_w, image_h))\n",
        "    data = np.asarray(img)\n",
        "    filenames.append(f)\n",
        "    X.append(data)\n",
        "\n",
        "X = np.array(X)\n",
        "X = X.reshape(X.shape[0], 64,64,3)\n",
        "model = load_model( './model/multi_img_classification.model')\n",
        "\n",
        "\n",
        "#해당 이미지 predict\n",
        "prediction = model.predict(X)\n",
        "np.set_printoptions(formatter={'float': lambda x: \"{0:0.3f}\".format(x)})\n",
        "cnt = 0\n",
        "\n",
        "\n",
        "print(X.shape)"
      ],
      "execution_count": null,
      "outputs": [
        {
          "output_type": "stream",
          "text": [
            "(0, 64, 64, 3)\n"
          ],
          "name": "stdout"
        }
      ]
    },
    {
      "cell_type": "code",
      "metadata": {
        "id": "aWuDDLgsj_a6",
        "colab_type": "code",
        "colab": {
          "base_uri": "https://localhost:8080/",
          "height": 35
        },
        "outputId": "b366c94f-e76e-4233-f9d2-9d79a181a931"
      },
      "source": [
        "'''import tensorflow as tf\n",
        "print(tf.__version__)'''"
      ],
      "execution_count": null,
      "outputs": [
        {
          "output_type": "stream",
          "text": [
            "1.13.1\n"
          ],
          "name": "stdout"
        }
      ]
    },
    {
      "cell_type": "markdown",
      "metadata": {
        "id": "Fgrt_-CQv1vI",
        "colab_type": "text"
      },
      "source": [
        "이제 파일 비교해서 결과내기 코드"
      ]
    },
    {
      "cell_type": "code",
      "metadata": {
        "id": "-DOmJ3CFv3eF",
        "colab_type": "code",
        "colab": {
          "base_uri": "https://localhost:8080/",
          "height": 923
        },
        "outputId": "4801d42a-7949-4e4f-fb69-3f16409534f9"
      },
      "source": [
        "#훈련된 모델을 이용해 한 이미지에 대한 예측 만들기\n",
        "\n",
        "# 테스트 세트에서 이미지 하나를 선택합니다\n",
        "img = X_test[0]\n",
        "\n",
        "print(img.shape)\n",
        "print(img)"
      ],
      "execution_count": null,
      "outputs": [
        {
          "output_type": "stream",
          "text": [
            "(64, 64, 3)\n",
            "[[[0.278 0.169 0.184]\n",
            "  [0.282 0.161 0.180]\n",
            "  [0.282 0.165 0.180]\n",
            "  ...\n",
            "  [0.498 0.337 0.392]\n",
            "  [0.498 0.337 0.392]\n",
            "  [0.482 0.333 0.384]]\n",
            "\n",
            " [[0.294 0.173 0.196]\n",
            "  [0.298 0.173 0.196]\n",
            "  [0.294 0.173 0.188]\n",
            "  ...\n",
            "  [0.498 0.329 0.384]\n",
            "  [0.494 0.333 0.388]\n",
            "  [0.494 0.341 0.392]]\n",
            "\n",
            " [[0.310 0.180 0.208]\n",
            "  [0.325 0.192 0.220]\n",
            "  [0.322 0.188 0.208]\n",
            "  ...\n",
            "  [0.486 0.322 0.376]\n",
            "  [0.502 0.337 0.396]\n",
            "  [0.510 0.349 0.408]]\n",
            "\n",
            " ...\n",
            "\n",
            " [[0.380 0.180 0.169]\n",
            "  [0.380 0.180 0.169]\n",
            "  [0.380 0.180 0.169]\n",
            "  ...\n",
            "  [0.451 0.251 0.243]\n",
            "  [0.463 0.251 0.251]\n",
            "  [0.459 0.251 0.251]]\n",
            "\n",
            " [[0.373 0.180 0.165]\n",
            "  [0.376 0.180 0.169]\n",
            "  [0.376 0.180 0.173]\n",
            "  ...\n",
            "  [0.459 0.255 0.251]\n",
            "  [0.463 0.263 0.259]\n",
            "  [0.463 0.271 0.267]]\n",
            "\n",
            " [[0.369 0.180 0.169]\n",
            "  [0.369 0.180 0.173]\n",
            "  [0.369 0.176 0.173]\n",
            "  ...\n",
            "  [0.443 0.251 0.247]\n",
            "  [0.451 0.259 0.255]\n",
            "  [0.447 0.263 0.255]]]\n"
          ],
          "name": "stdout"
        }
      ]
    },
    {
      "cell_type": "code",
      "metadata": {
        "id": "41r0xBMhwE92",
        "colab_type": "code",
        "colab": {
          "base_uri": "https://localhost:8080/",
          "height": 35
        },
        "outputId": "5a6b1107-ee84-464c-8e10-e9a50e8b6021"
      },
      "source": [
        "#이 파일의 예측\n",
        "\n",
        "img=np.resize(img,(1,64,64,3))\n",
        "predictions_single = model.predict(img)\n",
        "\n",
        "print(predictions_single)"
      ],
      "execution_count": null,
      "outputs": [
        {
          "output_type": "stream",
          "text": [
            "[[0.004 0.002 0.011 0.983]]\n"
          ],
          "name": "stdout"
        }
      ]
    },
    {
      "cell_type": "code",
      "metadata": {
        "id": "2X4yglUP4aOb",
        "colab_type": "code",
        "colab": {}
      },
      "source": [
        ""
      ],
      "execution_count": null,
      "outputs": []
    },
    {
      "cell_type": "code",
      "metadata": {
        "id": "W7Y70vXr4uHq",
        "colab_type": "code",
        "colab": {}
      },
      "source": [
        "import os\n",
        "from tensorflow.keras.preprocessing.image import ImageDataGenerator\n",
        "\n",
        "\n",
        "imageGenerator = ImageDataGenerator(rescale=1./255,\n",
        "                                    rotation_range=20,\n",
        "                                    width_shift_range=0.1,\n",
        "                                    height_shift_range=0.1,\n",
        "                                    brightness_range=[.2,.2],\n",
        "                                    horizontal_flip=True,\n",
        "                                    validation_split=.1)"
      ],
      "execution_count": null,
      "outputs": []
    },
    {
      "cell_type": "code",
      "metadata": {
        "id": "nC2ngZOO4Q3a",
        "colab_type": "code",
        "colab": {
          "base_uri": "https://localhost:8080/",
          "height": 124
        },
        "outputId": "e2926ac7-5736-4cdb-cfbd-9bda36102911"
      },
      "source": [
        "\n",
        "testGenerator = ImageDataGenerator(\n",
        "    rescale=1./255\n",
        ")\n",
        "\n",
        "#데이터가 충분하지 않아서\n",
        "\n",
        "testGen = imageGenerator.flow_from_directory('/content/drive/My Drive/CTRC/train', target_size=(64, 64))\n",
        "\n",
        "\n",
        "\n",
        "#데이터가 충분하면 나누기\n",
        "'''trainGen = imageGenerator.flow_from_directory('/content/drive/My Drive/CTRC/train'),\n",
        "                                              target_size=(64,64),\n",
        "                                              subset='training')\n",
        "\n",
        "validationGen = imageGenerator.flow_from_directory('/content/drive/My Drive/CTRC/train'),\n",
        "                                                  target_size=(64,64),\n",
        "                                                  subset='validation')'''"
      ],
      "execution_count": null,
      "outputs": [
        {
          "output_type": "stream",
          "text": [
            "Found 1797 images belonging to 4 classes.\n"
          ],
          "name": "stdout"
        },
        {
          "output_type": "execute_result",
          "data": {
            "application/vnd.google.colaboratory.intrinsic+json": {
              "type": "string"
            },
            "text/plain": [
              "\"trainGen = imageGenerator.flow_from_directory('/content/drive/My Drive/CTRC/train'),\\n                                              target_size=(64,64),\\n                                              subset='training')\\n\\nvalidationGen = imageGenerator.flow_from_directory('/content/drive/My Drive/CTRC/train'),\\n                                                  target_size=(64,64),\\n                                                  subset='validation')\""
            ]
          },
          "metadata": {
            "tags": []
          },
          "execution_count": 23
        }
      ]
    },
    {
      "cell_type": "code",
      "metadata": {
        "id": "4OaYbDlE1ujL",
        "colab_type": "code",
        "colab": {
          "base_uri": "https://localhost:8080/",
          "height": 285
        },
        "outputId": "5e65e5e8-74dc-4162-efbf-9f5b176b7579"
      },
      "source": [
        "\n",
        "from tensorflow.keras.preprocessing.image import array_to_img\n",
        "import numpy as np\n",
        "\n",
        "cls_index = ['1. Cancer', '2. Precancer','3. Extra','4. Normal']\n",
        "\n",
        "imgs = testGen.next()\n",
        "arr = imgs[0][0]\n",
        "\n",
        "\n",
        "img = array_to_img(arr).resize((128, 128))\n",
        "plt.imshow(img)\n"
      ],
      "execution_count": null,
      "outputs": [
        {
          "output_type": "execute_result",
          "data": {
            "text/plain": [
              "<matplotlib.image.AxesImage at 0x7f38bc716240>"
            ]
          },
          "metadata": {
            "tags": []
          },
          "execution_count": 24
        },
        {
          "output_type": "display_data",
          "data": {
            "image/png": "[encoded data removed]",
            "text/plain": [
              "<Figure size 432x288 with 1 Axes>"
            ]
          },
          "metadata": {
            "tags": [],
            "needs_background": "light"
          }
        }
      ]
    },
    {
      "cell_type": "markdown",
      "metadata": {
        "id": "hNWwG9IO10hB",
        "colab_type": "text"
      },
      "source": [
        "모델 예측하기"
      ]
    },
    {
      "cell_type": "code",
      "metadata": {
        "id": "27a5Kh3eEtY_",
        "colab_type": "code",
        "colab": {
          "base_uri": "https://localhost:8080/",
          "height": 35
        },
        "outputId": "3ee24154-7eaa-40b2-e447-6fe579b00a00"
      },
      "source": [
        "print(img)"
      ],
      "execution_count": null,
      "outputs": [
        {
          "output_type": "stream",
          "text": [
            "<PIL.Image.Image image mode=RGB size=128x128 at 0x7F38BDDF2F28>\n"
          ],
          "name": "stdout"
        }
      ]
    },
    {
      "cell_type": "code",
      "metadata": {
        "id": "atilE7sX0yGz",
        "colab_type": "code",
        "colab": {
          "base_uri": "https://localhost:8080/",
          "height": 304
        },
        "outputId": "497136a4-9365-4ad1-e5a4-93da54299335"
      },
      "source": [
        "\n",
        "result = model.predict_classes(arr.reshape(1,64,64,3))\n",
        "\n",
        "plt.imshow(img)\n",
        "print('예측: {}'.format(cls_index[result[0]]))\n",
        "print(img)\n",
        "\n",
        "\n",
        "\n",
        "# np.argmax: 다차원 배열의 경우에 차원에 따라 가장 큰 값의 인덱스들을 반환\n",
        "# format: 문자열에 포함된 대괄호 개수 보다 format안에 들어 있는 값의 수가 적으면 에러"
      ],
      "execution_count": null,
      "outputs": [
        {
          "output_type": "stream",
          "text": [
            "예측: 3. Extra\n",
            "<PIL.Image.Image image mode=RGB size=128x128 at 0x7F38BDDF2F28>\n"
          ],
          "name": "stdout"
        },
        {
          "output_type": "display_data",
          "data": {
            "image/png": "[encoded data removed]",
            "text/plain": [
              "<Figure size 432x288 with 1 Axes>"
            ]
          },
          "metadata": {
            "tags": [],
            "needs_background": "light"
          }
        }
      ]
    },
    {
      "cell_type": "markdown",
      "metadata": {
        "id": "2LXW2Qs8PC9I",
        "colab_type": "text"
      },
      "source": [
        "#### 이미지 정답은 어떻게 불러오지\n"
      ]
    },
    {
      "cell_type": "code",
      "metadata": {
        "id": "5AHo0aMwW9D8",
        "colab_type": "code",
        "colab": {
          "base_uri": "https://localhost:8080/",
          "height": 199
        },
        "outputId": "6a51cb60-075e-4e2c-88e6-86214b789f13"
      },
      "source": [
        "print('예측: {}'.format(cls_index[result[0]]))\n",
        "print(\"Label:\" + str(y_test[0]) )\n",
        "print(img)\n",
        "img"
      ],
      "execution_count": null,
      "outputs": [
        {
          "output_type": "stream",
          "text": [
            "예측: 3. Extra\n",
            "Label:[0 0 0 1]\n",
            "<PIL.Image.Image image mode=RGB size=128x128 at 0x7F38BDDF2F28>\n"
          ],
          "name": "stdout"
        },
        {
          "output_type": "execute_result",
          "data": {
            "image/png": "[encoded data removed]",
            "text/plain": [
              "<PIL.Image.Image image mode=RGB size=128x128 at 0x7F38BDDF2F28>"
            ]
          },
          "metadata": {
            "tags": []
          },
          "execution_count": 88
        }
      ]
    },
    {
      "cell_type": "code",
      "metadata": {
        "id": "QjoChHhca6Xn",
        "colab_type": "code",
        "colab": {
          "base_uri": "https://localhost:8080/",
          "height": 53
        },
        "outputId": "fd02b0b8-5607-4349-9026-70e9b91c7b3f"
      },
      "source": [
        "'''if np.max(y_test)==0:\n",
        "  print(cls_index[0])\n",
        "if np.max(y_test)==1:\n",
        "  print(cls_index[1])\n",
        "if np.max(y_test)==2:\n",
        "  print(cls_index[2])\n",
        "else:\n",
        "  print(cls_index[3])'''"
      ],
      "execution_count": null,
      "outputs": [
        {
          "output_type": "execute_result",
          "data": {
            "application/vnd.google.colaboratory.intrinsic+json": {
              "type": "string"
            },
            "text/plain": [
              "'if np.max(y_test)==0:\\n  print(cls_index[0])\\nif np.max(y_test)==1:\\n  print(cls_index[1])\\nif np.max(y_test)==2:\\n  print(cls_index[2])\\nelse:\\n  print(cls_index[3])'"
            ]
          },
          "metadata": {
            "tags": []
          },
          "execution_count": 98
        }
      ]
    },
    {
      "cell_type": "markdown",
      "metadata": {
        "id": "YDhYjKMXVj-J",
        "colab_type": "text"
      },
      "source": [
        "#### **validation data와 test data가 나뉘어져 있지 않음.**\n",
        "\n",
        "\n",
        "데이터가 충분하다면 꼭 나누기"
      ]
    },
    {
      "cell_type": "code",
      "metadata": {
        "id": "UQraGZLX3KMh",
        "colab_type": "code",
        "colab": {}
      },
      "source": [
        "'''trainGen = imageGenerator.flow_from_directory(os.path.join(rootPath,'training_set'),\n",
        "                                              target_size=(64,64),\n",
        "                                              subset='training')\n",
        "\n",
        "validationGen = imageGenerator.flow_from_directory(os.path.join(rootPath,'training_set'),\n",
        "                                                  target_size=(64,64),\n",
        "                                                  subset='validation')'''\n",
        "\n",
        "\n",
        "\n",
        "\n",
        "\n",
        "\n",
        "'''trainGen = imageGenerator.flow_from_directory('/content/drive/My Drive/CTRC/train'),\n",
        "                                              target_size=(64,64),\n",
        "                                              subset='training')\n",
        "\n",
        "validationGen = imageGenerator.flow_from_directory('/content/drive/My Drive/CTRC/train'),\n",
        "                                                  target_size=(64,64),\n",
        "                                                  subset='validation')'''\n",
        "                                              "
      ],
      "execution_count": null,
      "outputs": []
    },
    {
      "cell_type": "markdown",
      "metadata": {
        "id": "51XEp7KKNoSu",
        "colab_type": "text"
      },
      "source": [
        "# 2번 full data test"
      ]
    },
    {
      "cell_type": "code",
      "metadata": {
        "id": "8tSrZ3M9NqSX",
        "colab_type": "code",
        "colab": {}
      },
      "source": [
        "caltech_dir = '/content/drive/My Drive/CTRC/test'\n",
        "categories = [\"1. Cancer\",\"2. Precancer\",\"3. Extra\",\"4. Normal\"]\n",
        "\n",
        "test=[]\n",
        "test = np.array(test)\n",
        "\n",
        "model = load_model( './model/multi_img_classification.model')\n",
        "predict = model.predict_classes(test)\n",
        "\n",
        "for i in range(len(test)):\n",
        "    print(name[i] + \" : , Predict : \"+ str(categories[predict[i]]))\n"
      ],
      "execution_count": null,
      "outputs": []
    }
  ]
}